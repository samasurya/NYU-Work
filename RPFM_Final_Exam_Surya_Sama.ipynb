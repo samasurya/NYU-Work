{
 "cells": [
  {
   "cell_type": "code",
   "execution_count": 1,
   "metadata": {},
   "outputs": [
    {
     "name": "stdout",
     "output_type": "stream",
     "text": [
      "Populating the interactive namespace from numpy and matplotlib\n"
     ]
    }
   ],
   "source": [
    "import pandas as pd\n",
    "import math\n",
    "%pylab inline"
   ]
  },
  {
   "cell_type": "code",
   "execution_count": 2,
   "metadata": {},
   "outputs": [],
   "source": [
    "df = pd.read_csv(r'C:\\Users\\samas\\Downloads\\NYU 2021 returns.csv')"
   ]
  },
  {
   "cell_type": "code",
   "execution_count": 3,
   "metadata": {},
   "outputs": [],
   "source": [
    "df1 = pd.read_csv(r'C:\\Users\\samas\\Downloads\\Final 2021 value signal.csv')"
   ]
  },
  {
   "cell_type": "markdown",
   "metadata": {},
   "source": [
    "## Q1"
   ]
  },
  {
   "cell_type": "markdown",
   "metadata": {},
   "source": [
    "To compute the annualised daily average excess returns, I first computed the average daily excess returns for the dataset and annualised them. If I first annualise the daily returns and compute the average, due to the presence of some outliers, the resulting statistic is affected producing incredible numbers. This is the reason I first computed the average and then annualised the results. "
   ]
  },
  {
   "cell_type": "code",
   "execution_count": 4,
   "metadata": {},
   "outputs": [],
   "source": [
    "excess_rets = pd.DataFrame(columns= ['excess_5Y', 'excess_tips','excess_nasdaq','excess_unemp'])"
   ]
  },
  {
   "cell_type": "code",
   "execution_count": 5,
   "metadata": {},
   "outputs": [],
   "source": [
    "excess_rets['excess_5Y'] = df['5Y'] - df['1M']\n",
    "excess_rets['excess_tips'] = df['5Y TIPS'] - df['1M']\n",
    "excess_rets['excess_nasdaq'] = df['5Y Nasdaq'] - df['1M']\n",
    "excess_rets['excess_unemp'] = df['5Y Unemp'] - df['1M']"
   ]
  },
  {
   "cell_type": "code",
   "execution_count": 6,
   "metadata": {},
   "outputs": [
    {
     "name": "stdout",
     "output_type": "stream",
     "text": [
      "\u001b[1mAnnualised Average Excess Returns\n"
     ]
    },
    {
     "data": {
      "text/plain": [
       "excess_5Y        0.025511\n",
       "excess_tips      0.004473\n",
       "excess_nasdaq    0.112189\n",
       "excess_unemp     0.023199\n",
       "dtype: float64"
      ]
     },
     "execution_count": 6,
     "metadata": {},
     "output_type": "execute_result"
    }
   ],
   "source": [
    "print(\"\\033[1mAnnualised Average Excess Returns\")\n",
    "annualised_means = (1 + excess_rets.mean())**365 -1\n",
    "annualised_means"
   ]
  },
  {
   "cell_type": "code",
   "execution_count": 7,
   "metadata": {},
   "outputs": [
    {
     "name": "stdout",
     "output_type": "stream",
     "text": [
      "\u001b[1mAnnualised Standard Deviation of Excess Returns\n"
     ]
    },
    {
     "data": {
      "text/plain": [
       "excess_5Y        0.050740\n",
       "excess_tips      0.060025\n",
       "excess_nasdaq    0.098448\n",
       "excess_unemp     0.041873\n",
       "dtype: float64"
      ]
     },
     "execution_count": 7,
     "metadata": {},
     "output_type": "execute_result"
    }
   ],
   "source": [
    "print('\\033[1mAnnualised Standard Deviation of Excess Returns')\n",
    "annualised_std = (excess_rets.std())*sqrt(365)\n",
    "annualised_std"
   ]
  },
  {
   "cell_type": "code",
   "execution_count": 8,
   "metadata": {},
   "outputs": [
    {
     "name": "stdout",
     "output_type": "stream",
     "text": [
      "\u001b[1mAnnualised Sharpe Ratios\n"
     ]
    },
    {
     "data": {
      "text/plain": [
       "excess_5Y        0.502776\n",
       "excess_tips      0.074523\n",
       "excess_nasdaq    1.139570\n",
       "excess_unemp     0.554040\n",
       "dtype: float64"
      ]
     },
     "execution_count": 8,
     "metadata": {},
     "output_type": "execute_result"
    }
   ],
   "source": [
    "print('\\033[1mAnnualised Sharpe Ratios')\n",
    "annualised_means/annualised_std"
   ]
  },
  {
   "cell_type": "markdown",
   "metadata": {},
   "source": [
    "## Q2"
   ]
  },
  {
   "cell_type": "markdown",
   "metadata": {},
   "source": [
    "To compute CAGR, I first assumed that that the price is 1 initially, and grew according to the excess returns from 2003 to 2021. And calculated the CAGRs for all securities using that dataframe."
   ]
  },
  {
   "cell_type": "code",
   "execution_count": 9,
   "metadata": {},
   "outputs": [],
   "source": [
    "id_5y_excess = [1]\n",
    "id_tips_excess = [1]\n",
    "id_nasdaq_excess = [1]\n",
    "id_unemp_excess = [1]\n",
    "for index, row in excess_rets.iterrows():\n",
    "    val = (row['excess_5Y'] +1) * id_5y_excess[-1]\n",
    "    val1 = (row['excess_tips'] + 1) * id_tips_excess[-1]\n",
    "    val2 = (row['excess_nasdaq'] + 1) * id_nasdaq_excess[-1]\n",
    "    val3 = (row['excess_unemp'] + 1) * id_unemp_excess[-1]\n",
    "    id_5y_excess.append(val)\n",
    "    id_tips_excess.append(val1)\n",
    "    id_nasdaq_excess.append(val2)\n",
    "    id_unemp_excess.append(val3)"
   ]
  },
  {
   "cell_type": "code",
   "execution_count": 10,
   "metadata": {},
   "outputs": [],
   "source": [
    "indices_excess = pd.DataFrame(list(zip(id_5y_excess,id_tips_excess,id_nasdaq_excess,id_unemp_excess)))\n",
    "indices_excess.columns = ['5Y','tips','nasdaq','unemp']"
   ]
  },
  {
   "cell_type": "code",
   "execution_count": 11,
   "metadata": {},
   "outputs": [
    {
     "data": {
      "text/html": [
       "<div>\n",
       "<style scoped>\n",
       "    .dataframe tbody tr th:only-of-type {\n",
       "        vertical-align: middle;\n",
       "    }\n",
       "\n",
       "    .dataframe tbody tr th {\n",
       "        vertical-align: top;\n",
       "    }\n",
       "\n",
       "    .dataframe thead th {\n",
       "        text-align: right;\n",
       "    }\n",
       "</style>\n",
       "<table border=\"1\" class=\"dataframe\">\n",
       "  <thead>\n",
       "    <tr style=\"text-align: right;\">\n",
       "      <th></th>\n",
       "      <th>5Y</th>\n",
       "      <th>tips</th>\n",
       "      <th>nasdaq</th>\n",
       "      <th>unemp</th>\n",
       "    </tr>\n",
       "  </thead>\n",
       "  <tbody>\n",
       "    <tr>\n",
       "      <th>0</th>\n",
       "      <td>1.000000</td>\n",
       "      <td>1.000000</td>\n",
       "      <td>1.000000</td>\n",
       "      <td>1.000000</td>\n",
       "    </tr>\n",
       "    <tr>\n",
       "      <th>1</th>\n",
       "      <td>1.000973</td>\n",
       "      <td>1.000016</td>\n",
       "      <td>0.996712</td>\n",
       "      <td>1.001395</td>\n",
       "    </tr>\n",
       "    <tr>\n",
       "      <th>2</th>\n",
       "      <td>0.997903</td>\n",
       "      <td>0.998158</td>\n",
       "      <td>0.993371</td>\n",
       "      <td>1.004163</td>\n",
       "    </tr>\n",
       "    <tr>\n",
       "      <th>3</th>\n",
       "      <td>1.000713</td>\n",
       "      <td>0.999603</td>\n",
       "      <td>0.990072</td>\n",
       "      <td>1.004779</td>\n",
       "    </tr>\n",
       "    <tr>\n",
       "      <th>4</th>\n",
       "      <td>1.002148</td>\n",
       "      <td>1.003439</td>\n",
       "      <td>0.997535</td>\n",
       "      <td>1.002405</td>\n",
       "    </tr>\n",
       "    <tr>\n",
       "      <th>...</th>\n",
       "      <td>...</td>\n",
       "      <td>...</td>\n",
       "      <td>...</td>\n",
       "      <td>...</td>\n",
       "    </tr>\n",
       "    <tr>\n",
       "      <th>4581</th>\n",
       "      <td>1.352026</td>\n",
       "      <td>1.029755</td>\n",
       "      <td>3.543196</td>\n",
       "      <td>1.328037</td>\n",
       "    </tr>\n",
       "    <tr>\n",
       "      <th>4582</th>\n",
       "      <td>1.350796</td>\n",
       "      <td>1.030157</td>\n",
       "      <td>3.549493</td>\n",
       "      <td>1.326549</td>\n",
       "    </tr>\n",
       "    <tr>\n",
       "      <th>4583</th>\n",
       "      <td>1.348849</td>\n",
       "      <td>1.030650</td>\n",
       "      <td>3.561912</td>\n",
       "      <td>1.324632</td>\n",
       "    </tr>\n",
       "    <tr>\n",
       "      <th>4584</th>\n",
       "      <td>1.350198</td>\n",
       "      <td>1.033303</td>\n",
       "      <td>3.573286</td>\n",
       "      <td>1.321310</td>\n",
       "    </tr>\n",
       "    <tr>\n",
       "      <th>4585</th>\n",
       "      <td>1.350230</td>\n",
       "      <td>1.034338</td>\n",
       "      <td>3.579916</td>\n",
       "      <td>1.319248</td>\n",
       "    </tr>\n",
       "  </tbody>\n",
       "</table>\n",
       "<p>4586 rows × 4 columns</p>\n",
       "</div>"
      ],
      "text/plain": [
       "            5Y      tips    nasdaq     unemp\n",
       "0     1.000000  1.000000  1.000000  1.000000\n",
       "1     1.000973  1.000016  0.996712  1.001395\n",
       "2     0.997903  0.998158  0.993371  1.004163\n",
       "3     1.000713  0.999603  0.990072  1.004779\n",
       "4     1.002148  1.003439  0.997535  1.002405\n",
       "...        ...       ...       ...       ...\n",
       "4581  1.352026  1.029755  3.543196  1.328037\n",
       "4582  1.350796  1.030157  3.549493  1.326549\n",
       "4583  1.348849  1.030650  3.561912  1.324632\n",
       "4584  1.350198  1.033303  3.573286  1.321310\n",
       "4585  1.350230  1.034338  3.579916  1.319248\n",
       "\n",
       "[4586 rows x 4 columns]"
      ]
     },
     "execution_count": 11,
     "metadata": {},
     "output_type": "execute_result"
    }
   ],
   "source": [
    "indices_excess"
   ]
  },
  {
   "cell_type": "code",
   "execution_count": 12,
   "metadata": {},
   "outputs": [
    {
     "name": "stdout",
     "output_type": "stream",
     "text": [
      "\u001b[1mCompound Average Annual Excess Growth Rates\n"
     ]
    },
    {
     "data": {
      "text/plain": [
       "5Y        0.016535\n",
       "tips      0.001851\n",
       "nasdaq    0.072575\n",
       "unemp     0.015220\n",
       "dtype: float64"
      ]
     },
     "execution_count": 12,
     "metadata": {},
     "output_type": "execute_result"
    }
   ],
   "source": [
    "print(\"\\033[1mCompound Average Annual Excess Growth Rates\")\n",
    "(indices_excess.iloc[-1]/indices_excess.iloc[1])**(1/18.25) - 1"
   ]
  },
  {
   "cell_type": "code",
   "execution_count": 13,
   "metadata": {},
   "outputs": [
    {
     "name": "stdout",
     "output_type": "stream",
     "text": [
      "\u001b[1mAnnualised Average Excess Returns\n"
     ]
    },
    {
     "data": {
      "text/plain": [
       "excess_5Y        0.025511\n",
       "excess_tips      0.004473\n",
       "excess_nasdaq    0.112189\n",
       "excess_unemp     0.023199\n",
       "dtype: float64"
      ]
     },
     "execution_count": 13,
     "metadata": {},
     "output_type": "execute_result"
    }
   ],
   "source": [
    "print(\"\\033[1mAnnualised Average Excess Returns\")\n",
    "annualised_means"
   ]
  },
  {
   "cell_type": "markdown",
   "metadata": {},
   "source": [
    "## The difference between the Annualised Average excess returns and CAGR is plausible. The computation is different for both the measures, and CAGR takes into account only the beginning value and ending value and then computes the average growth thoughout the period. But Average excess returns is average of all the returns over the period which says us the average return from that security, whereas CAGR tells us the average growth in the value of security per year over the period. They basically have different interpretations and different methods of computation."
   ]
  },
  {
   "cell_type": "markdown",
   "metadata": {},
   "source": [
    "## Q3"
   ]
  },
  {
   "cell_type": "code",
   "execution_count": 14,
   "metadata": {},
   "outputs": [
    {
     "name": "stdout",
     "output_type": "stream",
     "text": [
      "\u001b[1mCovariance Matrix\n"
     ]
    },
    {
     "data": {
      "text/html": [
       "<div>\n",
       "<style scoped>\n",
       "    .dataframe tbody tr th:only-of-type {\n",
       "        vertical-align: middle;\n",
       "    }\n",
       "\n",
       "    .dataframe tbody tr th {\n",
       "        vertical-align: top;\n",
       "    }\n",
       "\n",
       "    .dataframe thead th {\n",
       "        text-align: right;\n",
       "    }\n",
       "</style>\n",
       "<table border=\"1\" class=\"dataframe\">\n",
       "  <thead>\n",
       "    <tr style=\"text-align: right;\">\n",
       "      <th></th>\n",
       "      <th>excess_5Y</th>\n",
       "      <th>excess_tips</th>\n",
       "      <th>excess_nasdaq</th>\n",
       "      <th>excess_unemp</th>\n",
       "    </tr>\n",
       "  </thead>\n",
       "  <tbody>\n",
       "    <tr>\n",
       "      <th>excess_5Y</th>\n",
       "      <td>0.000007</td>\n",
       "      <td>0.000005</td>\n",
       "      <td>0.000003</td>\n",
       "      <td>-0.000004</td>\n",
       "    </tr>\n",
       "    <tr>\n",
       "      <th>excess_tips</th>\n",
       "      <td>0.000005</td>\n",
       "      <td>0.000010</td>\n",
       "      <td>0.000002</td>\n",
       "      <td>-0.000004</td>\n",
       "    </tr>\n",
       "    <tr>\n",
       "      <th>excess_nasdaq</th>\n",
       "      <td>0.000003</td>\n",
       "      <td>0.000002</td>\n",
       "      <td>0.000027</td>\n",
       "      <td>-0.000008</td>\n",
       "    </tr>\n",
       "    <tr>\n",
       "      <th>excess_unemp</th>\n",
       "      <td>-0.000004</td>\n",
       "      <td>-0.000004</td>\n",
       "      <td>-0.000008</td>\n",
       "      <td>0.000005</td>\n",
       "    </tr>\n",
       "  </tbody>\n",
       "</table>\n",
       "</div>"
      ],
      "text/plain": [
       "               excess_5Y  excess_tips  excess_nasdaq  excess_unemp\n",
       "excess_5Y       0.000007     0.000005       0.000003     -0.000004\n",
       "excess_tips     0.000005     0.000010       0.000002     -0.000004\n",
       "excess_nasdaq   0.000003     0.000002       0.000027     -0.000008\n",
       "excess_unemp   -0.000004    -0.000004      -0.000008      0.000005"
      ]
     },
     "execution_count": 14,
     "metadata": {},
     "output_type": "execute_result"
    }
   ],
   "source": [
    "print(\"\\033[1mCovariance Matrix\")\n",
    "excess_rets.cov()"
   ]
  },
  {
   "cell_type": "code",
   "execution_count": 15,
   "metadata": {},
   "outputs": [
    {
     "name": "stdout",
     "output_type": "stream",
     "text": [
      "\u001b[1mCorrelation Matrix\n"
     ]
    },
    {
     "data": {
      "text/html": [
       "<div>\n",
       "<style scoped>\n",
       "    .dataframe tbody tr th:only-of-type {\n",
       "        vertical-align: middle;\n",
       "    }\n",
       "\n",
       "    .dataframe tbody tr th {\n",
       "        vertical-align: top;\n",
       "    }\n",
       "\n",
       "    .dataframe thead th {\n",
       "        text-align: right;\n",
       "    }\n",
       "</style>\n",
       "<table border=\"1\" class=\"dataframe\">\n",
       "  <thead>\n",
       "    <tr style=\"text-align: right;\">\n",
       "      <th></th>\n",
       "      <th>excess_5Y</th>\n",
       "      <th>excess_tips</th>\n",
       "      <th>excess_nasdaq</th>\n",
       "      <th>excess_unemp</th>\n",
       "    </tr>\n",
       "  </thead>\n",
       "  <tbody>\n",
       "    <tr>\n",
       "      <th>excess_5Y</th>\n",
       "      <td>1.000000</td>\n",
       "      <td>0.648624</td>\n",
       "      <td>0.248629</td>\n",
       "      <td>-0.665537</td>\n",
       "    </tr>\n",
       "    <tr>\n",
       "      <th>excess_tips</th>\n",
       "      <td>0.648624</td>\n",
       "      <td>1.000000</td>\n",
       "      <td>0.133158</td>\n",
       "      <td>-0.622251</td>\n",
       "    </tr>\n",
       "    <tr>\n",
       "      <th>excess_nasdaq</th>\n",
       "      <td>0.248629</td>\n",
       "      <td>0.133158</td>\n",
       "      <td>1.000000</td>\n",
       "      <td>-0.746471</td>\n",
       "    </tr>\n",
       "    <tr>\n",
       "      <th>excess_unemp</th>\n",
       "      <td>-0.665537</td>\n",
       "      <td>-0.622251</td>\n",
       "      <td>-0.746471</td>\n",
       "      <td>1.000000</td>\n",
       "    </tr>\n",
       "  </tbody>\n",
       "</table>\n",
       "</div>"
      ],
      "text/plain": [
       "               excess_5Y  excess_tips  excess_nasdaq  excess_unemp\n",
       "excess_5Y       1.000000     0.648624       0.248629     -0.665537\n",
       "excess_tips     0.648624     1.000000       0.133158     -0.622251\n",
       "excess_nasdaq   0.248629     0.133158       1.000000     -0.746471\n",
       "excess_unemp   -0.665537    -0.622251      -0.746471      1.000000"
      ]
     },
     "execution_count": 15,
     "metadata": {},
     "output_type": "execute_result"
    }
   ],
   "source": [
    "print('\\033[1mCorrelation Matrix')\n",
    "excess_rets.corr()"
   ]
  },
  {
   "cell_type": "code",
   "execution_count": 16,
   "metadata": {},
   "outputs": [
    {
     "name": "stdout",
     "output_type": "stream",
     "text": [
      "\u001b[1mInverse Covariance Matrix\n"
     ]
    },
    {
     "data": {
      "text/html": [
       "<div>\n",
       "<style scoped>\n",
       "    .dataframe tbody tr th:only-of-type {\n",
       "        vertical-align: middle;\n",
       "    }\n",
       "\n",
       "    .dataframe tbody tr th {\n",
       "        vertical-align: top;\n",
       "    }\n",
       "\n",
       "    .dataframe thead th {\n",
       "        text-align: right;\n",
       "    }\n",
       "</style>\n",
       "<table border=\"1\" class=\"dataframe\">\n",
       "  <thead>\n",
       "    <tr style=\"text-align: right;\">\n",
       "      <th></th>\n",
       "      <th>excess_5Y</th>\n",
       "      <th>excess_tips</th>\n",
       "      <th>excess_nasdaq</th>\n",
       "      <th>excess_unemp</th>\n",
       "    </tr>\n",
       "  </thead>\n",
       "  <tbody>\n",
       "    <tr>\n",
       "      <th>excess_5Y</th>\n",
       "      <td>344583.518688</td>\n",
       "      <td>-38943.919020</td>\n",
       "      <td>81773.495706</td>\n",
       "      <td>3.866752e+05</td>\n",
       "    </tr>\n",
       "    <tr>\n",
       "      <th>excess_tips</th>\n",
       "      <td>-38943.919020</td>\n",
       "      <td>282051.402721</td>\n",
       "      <td>117435.691521</td>\n",
       "      <td>4.262890e+05</td>\n",
       "    </tr>\n",
       "    <tr>\n",
       "      <th>excess_nasdaq</th>\n",
       "      <td>81773.495706</td>\n",
       "      <td>117435.691521</td>\n",
       "      <td>162255.335496</td>\n",
       "      <td>4.554673e+05</td>\n",
       "    </tr>\n",
       "    <tr>\n",
       "      <th>excess_unemp</th>\n",
       "      <td>386675.224866</td>\n",
       "      <td>426289.039002</td>\n",
       "      <td>455467.302633</td>\n",
       "      <td>1.699638e+06</td>\n",
       "    </tr>\n",
       "  </tbody>\n",
       "</table>\n",
       "</div>"
      ],
      "text/plain": [
       "                   excess_5Y    excess_tips  excess_nasdaq  excess_unemp\n",
       "excess_5Y      344583.518688  -38943.919020   81773.495706  3.866752e+05\n",
       "excess_tips    -38943.919020  282051.402721  117435.691521  4.262890e+05\n",
       "excess_nasdaq   81773.495706  117435.691521  162255.335496  4.554673e+05\n",
       "excess_unemp   386675.224866  426289.039002  455467.302633  1.699638e+06"
      ]
     },
     "execution_count": 16,
     "metadata": {},
     "output_type": "execute_result"
    }
   ],
   "source": [
    "print(\"\\033[1mInverse Covariance Matrix\")\n",
    "pd.DataFrame(np.linalg.inv(excess_rets.cov()), excess_rets.columns, columns= ['excess_5Y','excess_tips','excess_nasdaq','excess_unemp'])"
   ]
  },
  {
   "cell_type": "markdown",
   "metadata": {},
   "source": [
    "## Both the correlation and covariance between 5Y Unemp and 5Y TIPS is negative which supports the Philips Curve result of negative relationship between inflation and unemployment. Since the securities 5Y Unemp and 5Y TIPS are like hedge against unemployment and inflation respectively, the performance of the securities is based on unemployment and inflation levels at that point of time and the negative correlation is consistent with the theory of the Philips Curve."
   ]
  },
  {
   "cell_type": "markdown",
   "metadata": {},
   "source": [
    "## Q4"
   ]
  },
  {
   "cell_type": "code",
   "execution_count": 17,
   "metadata": {},
   "outputs": [],
   "source": [
    "sharpe_weights = np.linalg.inv(excess_rets.cov()).dot(excess_rets.mean()) # computing the optimal weights"
   ]
  },
  {
   "cell_type": "code",
   "execution_count": 18,
   "metadata": {},
   "outputs": [],
   "source": [
    "sharpe_weights = sharpe_weights/sum(sharpe_weights)"
   ]
  },
  {
   "cell_type": "code",
   "execution_count": 19,
   "metadata": {},
   "outputs": [
    {
     "name": "stdout",
     "output_type": "stream",
     "text": [
      "\u001b[1mOptimal Sharpe Weights\n"
     ]
    },
    {
     "data": {
      "text/plain": [
       "array([0.1465    , 0.12667589, 0.17017907, 0.55664504])"
      ]
     },
     "execution_count": 19,
     "metadata": {},
     "output_type": "execute_result"
    }
   ],
   "source": [
    "print('\\033[1mOptimal Sharpe Weights')\n",
    "sharpe_weights"
   ]
  },
  {
   "cell_type": "code",
   "execution_count": 20,
   "metadata": {},
   "outputs": [
    {
     "data": {
      "text/plain": [
       "9.621989329719596e-05"
      ]
     },
     "execution_count": 20,
     "metadata": {},
     "output_type": "execute_result"
    }
   ],
   "source": [
    "mean_excess_returns_sharpe = sharpe_weights.dot(excess_rets.mean())\n",
    "mean_excess_returns_sharpe"
   ]
  },
  {
   "cell_type": "code",
   "execution_count": 21,
   "metadata": {},
   "outputs": [
    {
     "data": {
      "text/plain": [
       "0.000444238248663218"
      ]
     },
     "execution_count": 21,
     "metadata": {},
     "output_type": "execute_result"
    }
   ],
   "source": [
    "standard_deviation_excess_rets_sharpe = sqrt(sharpe_weights.dot(excess_rets.cov()).dot(sharpe_weights))\n",
    "standard_deviation_excess_rets_sharpe"
   ]
  },
  {
   "cell_type": "code",
   "execution_count": 22,
   "metadata": {},
   "outputs": [
    {
     "name": "stdout",
     "output_type": "stream",
     "text": [
      "\u001b[1mSharpe ratio of Optimal Sharpe Portfolio \n"
     ]
    },
    {
     "data": {
      "text/plain": [
       "0.21659524722766801"
      ]
     },
     "execution_count": 22,
     "metadata": {},
     "output_type": "execute_result"
    }
   ],
   "source": [
    "print('\\033[1mSharpe ratio of Optimal Sharpe Portfolio ')\n",
    "portfolio_sharpe = mean_excess_returns_sharpe/standard_deviation_excess_rets_sharpe\n",
    "portfolio_sharpe"
   ]
  },
  {
   "cell_type": "code",
   "execution_count": 23,
   "metadata": {},
   "outputs": [
    {
     "name": "stdout",
     "output_type": "stream",
     "text": [
      "\u001b[1mAnnualised Sharpe ratio of Optimal Sharpe Portfolio\n"
     ]
    },
    {
     "data": {
      "text/plain": [
       "4.21136302757986"
      ]
     },
     "execution_count": 23,
     "metadata": {},
     "output_type": "execute_result"
    }
   ],
   "source": [
    "annualised_mean_excess_rets_sharpe = (1 + mean_excess_returns_sharpe)**365 -1\n",
    "annualised_stdev_excess_rets_sharpe = standard_deviation_excess_rets_sharpe * sqrt(365)\n",
    "annualised_portfolio_sharpe = annualised_mean_excess_rets_sharpe/annualised_stdev_excess_rets_sharpe\n",
    "print('\\033[1mAnnualised Sharpe ratio of Optimal Sharpe Portfolio')\n",
    "annualised_portfolio_sharpe"
   ]
  },
  {
   "cell_type": "code",
   "execution_count": 24,
   "metadata": {},
   "outputs": [
    {
     "data": {
      "text/plain": [
       "0.03574251109118265"
      ]
     },
     "execution_count": 24,
     "metadata": {},
     "output_type": "execute_result"
    }
   ],
   "source": [
    "annualised_mean_excess_rets_sharpe"
   ]
  },
  {
   "cell_type": "code",
   "execution_count": 25,
   "metadata": {},
   "outputs": [
    {
     "data": {
      "text/plain": [
       "0.008487159823816653"
      ]
     },
     "execution_count": 25,
     "metadata": {},
     "output_type": "execute_result"
    }
   ],
   "source": [
    "annualised_stdev_excess_rets_sharpe"
   ]
  },
  {
   "cell_type": "markdown",
   "metadata": {},
   "source": [
    "## Q5"
   ]
  },
  {
   "cell_type": "markdown",
   "metadata": {},
   "source": [
    "## Computing Returns of three factor portfolios"
   ]
  },
  {
   "cell_type": "code",
   "execution_count": 26,
   "metadata": {},
   "outputs": [],
   "source": [
    "df['mkt-rf'] = 0.25*df['5Y'] + 0.25*df['5Y TIPS'] + 0.25*df['5Y Nasdaq'] + 0.25*df['5Y Unemp'] - df['1M']"
   ]
  },
  {
   "cell_type": "code",
   "execution_count": 27,
   "metadata": {},
   "outputs": [],
   "source": [
    "momentum = []\n",
    "for index, row in df.loc[1:].iterrows():\n",
    "    weight_5y = df['5Y'][index-1] * 10\n",
    "    weight_tips = df['5Y TIPS'][index-1] * 10\n",
    "    weight_nasdaq = df['5Y Nasdaq'][index-1] * 10\n",
    "    weight_unemp = df['5Y Unemp'][index-1] * 10\n",
    "    total = weight_5y + weight_tips + weight_nasdaq + weight_unemp\n",
    "    weight_1m = -1 * total\n",
    "    rets = weight_5y * row['5Y'] + weight_tips * row['5Y TIPS'] + weight_nasdaq * row['5Y Nasdaq'] + weight_unemp * row['5Y Unemp'] + weight_1m * row['1M']\n",
    "    momentum.append(rets)"
   ]
  },
  {
   "cell_type": "code",
   "execution_count": 28,
   "metadata": {},
   "outputs": [],
   "source": [
    "momentum_pf = pd.DataFrame(columns = ['DATE','Returns'])"
   ]
  },
  {
   "cell_type": "code",
   "execution_count": 29,
   "metadata": {},
   "outputs": [],
   "source": [
    "momentum_pf['DATE'] = df['DATE']"
   ]
  },
  {
   "cell_type": "code",
   "execution_count": 30,
   "metadata": {},
   "outputs": [],
   "source": [
    "momentum_pf.drop(index = 0, inplace = True)"
   ]
  },
  {
   "cell_type": "code",
   "execution_count": 31,
   "metadata": {},
   "outputs": [],
   "source": [
    "momentum_pf['Returns'] = momentum"
   ]
  },
  {
   "cell_type": "code",
   "execution_count": 32,
   "metadata": {},
   "outputs": [],
   "source": [
    "df1['1M'] = -1 * (df1['5Y'] + df1['5Y TIPS'] + df1['5Y Nasdaq'] + df1['5Y Unemp'])"
   ]
  },
  {
   "cell_type": "code",
   "execution_count": 33,
   "metadata": {},
   "outputs": [],
   "source": [
    "value_rets = []\n",
    "for index, row in df.iterrows():\n",
    "    rets = df1['5Y'][index+1] * row['5Y'] + df1['5Y TIPS'][index+1] * row['5Y TIPS'] + df1['5Y Nasdaq'][index+1] * row['5Y Nasdaq'] + df1['5Y Unemp'][index+1] * row['5Y Unemp'] + df1['1M'][index+1] * row['1M']\n",
    "    value_rets.append(rets)"
   ]
  },
  {
   "cell_type": "code",
   "execution_count": 34,
   "metadata": {},
   "outputs": [],
   "source": [
    "df['value'] = value_rets"
   ]
  },
  {
   "cell_type": "code",
   "execution_count": 35,
   "metadata": {},
   "outputs": [],
   "source": [
    "factor_pfs = pd.DataFrame(columns = ['mkt-rf','momentum','value'])"
   ]
  },
  {
   "cell_type": "code",
   "execution_count": 36,
   "metadata": {},
   "outputs": [],
   "source": [
    "factor_pfs['mkt-rf'] = df['mkt-rf'][1:]\n",
    "factor_pfs['value'] = df['value'][1:]\n",
    "factor_pfs['momentum'] = momentum"
   ]
  },
  {
   "cell_type": "code",
   "execution_count": 37,
   "metadata": {},
   "outputs": [
    {
     "name": "stdout",
     "output_type": "stream",
     "text": [
      "\u001b[1mReturns from Three Factor Portfolios\n"
     ]
    },
    {
     "data": {
      "text/html": [
       "<div>\n",
       "<style scoped>\n",
       "    .dataframe tbody tr th:only-of-type {\n",
       "        vertical-align: middle;\n",
       "    }\n",
       "\n",
       "    .dataframe tbody tr th {\n",
       "        vertical-align: top;\n",
       "    }\n",
       "\n",
       "    .dataframe thead th {\n",
       "        text-align: right;\n",
       "    }\n",
       "</style>\n",
       "<table border=\"1\" class=\"dataframe\">\n",
       "  <thead>\n",
       "    <tr style=\"text-align: right;\">\n",
       "      <th></th>\n",
       "      <th>mkt-rf</th>\n",
       "      <th>momentum</th>\n",
       "      <th>value</th>\n",
       "    </tr>\n",
       "  </thead>\n",
       "  <tbody>\n",
       "    <tr>\n",
       "      <th>1</th>\n",
       "      <td>-0.001378</td>\n",
       "      <td>0.000117</td>\n",
       "      <td>0.000555</td>\n",
       "    </tr>\n",
       "    <tr>\n",
       "      <th>2</th>\n",
       "      <td>0.000389</td>\n",
       "      <td>0.000017</td>\n",
       "      <td>0.000627</td>\n",
       "    </tr>\n",
       "    <tr>\n",
       "      <th>3</th>\n",
       "      <td>0.002612</td>\n",
       "      <td>-0.000166</td>\n",
       "      <td>-0.001409</td>\n",
       "    </tr>\n",
       "    <tr>\n",
       "      <th>4</th>\n",
       "      <td>-0.003526</td>\n",
       "      <td>-0.000781</td>\n",
       "      <td>0.000380</td>\n",
       "    </tr>\n",
       "    <tr>\n",
       "      <th>5</th>\n",
       "      <td>0.000039</td>\n",
       "      <td>-0.000036</td>\n",
       "      <td>0.000662</td>\n",
       "    </tr>\n",
       "    <tr>\n",
       "      <th>...</th>\n",
       "      <td>...</td>\n",
       "      <td>...</td>\n",
       "      <td>...</td>\n",
       "    </tr>\n",
       "    <tr>\n",
       "      <th>4580</th>\n",
       "      <td>-0.000058</td>\n",
       "      <td>0.000131</td>\n",
       "      <td>-0.000008</td>\n",
       "    </tr>\n",
       "    <tr>\n",
       "      <th>4581</th>\n",
       "      <td>0.000034</td>\n",
       "      <td>0.000051</td>\n",
       "      <td>0.000002</td>\n",
       "    </tr>\n",
       "    <tr>\n",
       "      <th>4582</th>\n",
       "      <td>0.000273</td>\n",
       "      <td>0.000093</td>\n",
       "      <td>-0.000003</td>\n",
       "    </tr>\n",
       "    <tr>\n",
       "      <th>4583</th>\n",
       "      <td>0.001065</td>\n",
       "      <td>0.000146</td>\n",
       "      <td>-0.000010</td>\n",
       "    </tr>\n",
       "    <tr>\n",
       "      <th>4584</th>\n",
       "      <td>0.000330</td>\n",
       "      <td>0.000124</td>\n",
       "      <td>-0.000024</td>\n",
       "    </tr>\n",
       "  </tbody>\n",
       "</table>\n",
       "<p>4584 rows × 3 columns</p>\n",
       "</div>"
      ],
      "text/plain": [
       "        mkt-rf  momentum     value\n",
       "1    -0.001378  0.000117  0.000555\n",
       "2     0.000389  0.000017  0.000627\n",
       "3     0.002612 -0.000166 -0.001409\n",
       "4    -0.003526 -0.000781  0.000380\n",
       "5     0.000039 -0.000036  0.000662\n",
       "...        ...       ...       ...\n",
       "4580 -0.000058  0.000131 -0.000008\n",
       "4581  0.000034  0.000051  0.000002\n",
       "4582  0.000273  0.000093 -0.000003\n",
       "4583  0.001065  0.000146 -0.000010\n",
       "4584  0.000330  0.000124 -0.000024\n",
       "\n",
       "[4584 rows x 3 columns]"
      ]
     },
     "execution_count": 37,
     "metadata": {},
     "output_type": "execute_result"
    }
   ],
   "source": [
    "print('\\033[1mReturns from Three Factor Portfolios')\n",
    "factor_pfs"
   ]
  },
  {
   "cell_type": "code",
   "execution_count": 38,
   "metadata": {},
   "outputs": [],
   "source": [
    "factor_pfs['rf'] = df['1M'][1:]"
   ]
  },
  {
   "cell_type": "code",
   "execution_count": 39,
   "metadata": {},
   "outputs": [
    {
     "name": "stdout",
     "output_type": "stream",
     "text": [
      "\u001b[1mAnnualised Average Returns of Factor Portfolios\n"
     ]
    },
    {
     "data": {
      "text/plain": [
       "mkt-rf      0.040559\n",
       "momentum    0.038295\n",
       "value       0.001788\n",
       "dtype: float64"
      ]
     },
     "execution_count": 39,
     "metadata": {},
     "output_type": "execute_result"
    }
   ],
   "source": [
    "anuualised_avg_fps_rets = (1 + factor_pfs.mean())**365 - 1\n",
    "print('\\033[1mAnnualised Average Returns of Factor Portfolios')\n",
    "anuualised_avg_fps_rets[:3]"
   ]
  },
  {
   "cell_type": "code",
   "execution_count": 40,
   "metadata": {},
   "outputs": [
    {
     "name": "stdout",
     "output_type": "stream",
     "text": [
      "\u001b[1mAnnualised Standard Deviations of returns from Factor Portfolios\n"
     ]
    },
    {
     "data": {
      "text/plain": [
       "mkt-rf      0.029073\n",
       "momentum    0.009511\n",
       "value       0.002691\n",
       "dtype: float64"
      ]
     },
     "execution_count": 40,
     "metadata": {},
     "output_type": "execute_result"
    }
   ],
   "source": [
    "annualised_std_fps_rets = (factor_pfs.std())*sqrt(365)\n",
    "print('\\033[1mAnnualised Standard Deviations of returns from Factor Portfolios')\n",
    "annualised_std_fps_rets[:3]"
   ]
  },
  {
   "cell_type": "code",
   "execution_count": 41,
   "metadata": {},
   "outputs": [],
   "source": [
    "sharpe_mkt_rf = ((1 + ((factor_pfs['mkt-rf'] - factor_pfs['rf']).mean()))**365 - 1)/(((factor_pfs['mkt-rf'] - factor_pfs['rf']).std())* sqrt(365))\n",
    "sharpe_momentum = ((1 + ((factor_pfs['momentum'] - factor_pfs['rf']).mean()))**365 - 1)/(((factor_pfs['momentum'] - factor_pfs['rf']).std())* sqrt(365))\n",
    "sharpe_value = ((1 + ((factor_pfs['value'] - factor_pfs['rf']).mean()))**365 - 1)/(((factor_pfs['value'] - factor_pfs['rf']).std())* sqrt(365))"
   ]
  },
  {
   "cell_type": "code",
   "execution_count": 42,
   "metadata": {},
   "outputs": [
    {
     "name": "stdout",
     "output_type": "stream",
     "text": [
      "\u001b[1mAnnualised Sharpe ratio of Mkt-Rf portfolio\n"
     ]
    },
    {
     "data": {
      "text/plain": [
       "0.7757616342824938"
      ]
     },
     "execution_count": 42,
     "metadata": {},
     "output_type": "execute_result"
    }
   ],
   "source": [
    "print('\\033[1mAnnualised Sharpe ratio of Mkt-Rf portfolio')\n",
    "sharpe_mkt_rf"
   ]
  },
  {
   "cell_type": "code",
   "execution_count": 43,
   "metadata": {},
   "outputs": [
    {
     "name": "stdout",
     "output_type": "stream",
     "text": [
      "\u001b[1mAnnualised Sharpe ratio of Momentum portfolio\n"
     ]
    },
    {
     "data": {
      "text/plain": [
       "2.1907977137950065"
      ]
     },
     "execution_count": 43,
     "metadata": {},
     "output_type": "execute_result"
    }
   ],
   "source": [
    "print('\\033[1mAnnualised Sharpe ratio of Momentum portfolio')\n",
    "sharpe_momentum"
   ]
  },
  {
   "cell_type": "code",
   "execution_count": 44,
   "metadata": {},
   "outputs": [
    {
     "name": "stdout",
     "output_type": "stream",
     "text": [
      "\u001b[1mAnnualised Sharpe ratio of Value portfolio\n"
     ]
    },
    {
     "data": {
      "text/plain": [
       "-4.9766195821458155"
      ]
     },
     "execution_count": 44,
     "metadata": {},
     "output_type": "execute_result"
    }
   ],
   "source": [
    "print('\\033[1mAnnualised Sharpe ratio of Value portfolio')\n",
    "sharpe_value"
   ]
  },
  {
   "cell_type": "markdown",
   "metadata": {},
   "source": [
    "## Q6"
   ]
  },
  {
   "cell_type": "markdown",
   "metadata": {},
   "source": [
    "## The annualised Sharpe ratio of the Optimal Sharpe portfolio is 4.21136302757986 as computed in Q4. And none of the ratios of three factor portfolios is greater than 4.21136302757986. It is not possible for the factor portfolios computed above to have a higher Sharpe ratio in Q4 because, the optimization in part 4 is done in such a way that maximizes the Sharpe Ratio of the portfolio and thus the weights are derived, so its not possible for the three factor portfolios to have a better sharpe than the one in Q4, but the mean returns are higher for the factor portfolios and the standard deviations are also high with an exception to value portfolio compared to the optimal sharpe portfolio. So we get an optimal sharpe ratio from Q4 but we can create portfolios with higher mean returns with higher risk using different strategies and since the optimisation is done with the objective of maximizing the sharpe ratio in part 4 we get those weights where the sharpe is maximized and those might not produce greater mean returns necessarily. That is the trade off for using optimal sharpe weights."
   ]
  },
  {
   "cell_type": "markdown",
   "metadata": {},
   "source": [
    "## Q7"
   ]
  },
  {
   "cell_type": "code",
   "execution_count": 45,
   "metadata": {},
   "outputs": [],
   "source": [
    "import statsmodels.api as sm"
   ]
  },
  {
   "cell_type": "code",
   "execution_count": 46,
   "metadata": {
    "scrolled": true
   },
   "outputs": [
    {
     "data": {
      "text/html": [
       "<table class=\"simpletable\">\n",
       "<caption>OLS Regression Results</caption>\n",
       "<tr>\n",
       "  <th>Dep. Variable:</th>         <td>mkt-rf</td>      <th>  R-squared:         </th>  <td>   0.004</td> \n",
       "</tr>\n",
       "<tr>\n",
       "  <th>Model:</th>                   <td>OLS</td>       <th>  Adj. R-squared:    </th>  <td>   0.004</td> \n",
       "</tr>\n",
       "<tr>\n",
       "  <th>Method:</th>             <td>Least Squares</td>  <th>  F-statistic:       </th>  <td>   9.604</td> \n",
       "</tr>\n",
       "<tr>\n",
       "  <th>Date:</th>             <td>Wed, 12 May 2021</td> <th>  Prob (F-statistic):</th>  <td>6.89e-05</td> \n",
       "</tr>\n",
       "<tr>\n",
       "  <th>Time:</th>                 <td>18:48:45</td>     <th>  Log-Likelihood:    </th>  <td>  23246.</td> \n",
       "</tr>\n",
       "<tr>\n",
       "  <th>No. Observations:</th>      <td>  4584</td>      <th>  AIC:               </th> <td>-4.649e+04</td>\n",
       "</tr>\n",
       "<tr>\n",
       "  <th>Df Residuals:</th>          <td>  4581</td>      <th>  BIC:               </th> <td>-4.647e+04</td>\n",
       "</tr>\n",
       "<tr>\n",
       "  <th>Df Model:</th>              <td>     2</td>      <th>                     </th>      <td> </td>    \n",
       "</tr>\n",
       "<tr>\n",
       "  <th>Covariance Type:</th>      <td>nonrobust</td>    <th>                     </th>      <td> </td>    \n",
       "</tr>\n",
       "</table>\n",
       "<table class=\"simpletable\">\n",
       "<tr>\n",
       "      <td></td>        <th>coef</th>     <th>std err</th>      <th>t</th>      <th>P>|t|</th>  <th>[0.025</th>    <th>0.975]</th>  \n",
       "</tr>\n",
       "<tr>\n",
       "  <th>const</th>    <td> 8.844e-05</td> <td> 2.29e-05</td> <td>    3.859</td> <td> 0.000</td> <td> 4.35e-05</td> <td>    0.000</td>\n",
       "</tr>\n",
       "<tr>\n",
       "  <th>momentum</th> <td>    0.1943</td> <td>    0.045</td> <td>    4.308</td> <td> 0.000</td> <td>    0.106</td> <td>    0.283</td>\n",
       "</tr>\n",
       "<tr>\n",
       "  <th>value</th>    <td>    0.0976</td> <td>    0.159</td> <td>    0.612</td> <td> 0.540</td> <td>   -0.215</td> <td>    0.410</td>\n",
       "</tr>\n",
       "</table>\n",
       "<table class=\"simpletable\">\n",
       "<tr>\n",
       "  <th>Omnibus:</th>       <td>3388.442</td> <th>  Durbin-Watson:     </th>  <td>   1.807</td> \n",
       "</tr>\n",
       "<tr>\n",
       "  <th>Prob(Omnibus):</th>  <td> 0.000</td>  <th>  Jarque-Bera (JB):  </th> <td>260110.690</td>\n",
       "</tr>\n",
       "<tr>\n",
       "  <th>Skew:</th>           <td> 2.866</td>  <th>  Prob(JB):          </th>  <td>    0.00</td> \n",
       "</tr>\n",
       "<tr>\n",
       "  <th>Kurtosis:</th>       <td>39.455</td>  <th>  Cond. No.          </th>  <td>7.11e+03</td> \n",
       "</tr>\n",
       "</table><br/><br/>Notes:<br/>[1] Standard Errors assume that the covariance matrix of the errors is correctly specified.<br/>[2] The condition number is large, 7.11e+03. This might indicate that there are<br/>strong multicollinearity or other numerical problems."
      ],
      "text/plain": [
       "<class 'statsmodels.iolib.summary.Summary'>\n",
       "\"\"\"\n",
       "                            OLS Regression Results                            \n",
       "==============================================================================\n",
       "Dep. Variable:                 mkt-rf   R-squared:                       0.004\n",
       "Model:                            OLS   Adj. R-squared:                  0.004\n",
       "Method:                 Least Squares   F-statistic:                     9.604\n",
       "Date:                Wed, 12 May 2021   Prob (F-statistic):           6.89e-05\n",
       "Time:                        18:48:45   Log-Likelihood:                 23246.\n",
       "No. Observations:                4584   AIC:                        -4.649e+04\n",
       "Df Residuals:                    4581   BIC:                        -4.647e+04\n",
       "Df Model:                           2                                         \n",
       "Covariance Type:            nonrobust                                         \n",
       "==============================================================================\n",
       "                 coef    std err          t      P>|t|      [0.025      0.975]\n",
       "------------------------------------------------------------------------------\n",
       "const       8.844e-05   2.29e-05      3.859      0.000    4.35e-05       0.000\n",
       "momentum       0.1943      0.045      4.308      0.000       0.106       0.283\n",
       "value          0.0976      0.159      0.612      0.540      -0.215       0.410\n",
       "==============================================================================\n",
       "Omnibus:                     3388.442   Durbin-Watson:                   1.807\n",
       "Prob(Omnibus):                  0.000   Jarque-Bera (JB):           260110.690\n",
       "Skew:                           2.866   Prob(JB):                         0.00\n",
       "Kurtosis:                      39.455   Cond. No.                     7.11e+03\n",
       "==============================================================================\n",
       "\n",
       "Notes:\n",
       "[1] Standard Errors assume that the covariance matrix of the errors is correctly specified.\n",
       "[2] The condition number is large, 7.11e+03. This might indicate that there are\n",
       "strong multicollinearity or other numerical problems.\n",
       "\"\"\""
      ]
     },
     "execution_count": 46,
     "metadata": {},
     "output_type": "execute_result"
    }
   ],
   "source": [
    "Y = factor_pfs['mkt-rf']\n",
    "X = factor_pfs[['momentum','value']]\n",
    "X= sm.add_constant(X)\n",
    "model = sm.OLS(Y,X)\n",
    "model.fit().summary()"
   ]
  },
  {
   "cell_type": "code",
   "execution_count": 47,
   "metadata": {
    "scrolled": true
   },
   "outputs": [
    {
     "data": {
      "text/html": [
       "<table class=\"simpletable\">\n",
       "<caption>OLS Regression Results</caption>\n",
       "<tr>\n",
       "  <th>Dep. Variable:</th>        <td>momentum</td>     <th>  R-squared:         </th>  <td>   0.006</td> \n",
       "</tr>\n",
       "<tr>\n",
       "  <th>Model:</th>                   <td>OLS</td>       <th>  Adj. R-squared:    </th>  <td>   0.006</td> \n",
       "</tr>\n",
       "<tr>\n",
       "  <th>Method:</th>             <td>Least Squares</td>  <th>  F-statistic:       </th>  <td>   13.90</td> \n",
       "</tr>\n",
       "<tr>\n",
       "  <th>Date:</th>             <td>Wed, 12 May 2021</td> <th>  Prob (F-statistic):</th>  <td>9.58e-07</td> \n",
       "</tr>\n",
       "<tr>\n",
       "  <th>Time:</th>                 <td>18:48:45</td>     <th>  Log-Likelihood:    </th>  <td>  28372.</td> \n",
       "</tr>\n",
       "<tr>\n",
       "  <th>No. Observations:</th>      <td>  4584</td>      <th>  AIC:               </th> <td>-5.674e+04</td>\n",
       "</tr>\n",
       "<tr>\n",
       "  <th>Df Residuals:</th>          <td>  4581</td>      <th>  BIC:               </th> <td>-5.672e+04</td>\n",
       "</tr>\n",
       "<tr>\n",
       "  <th>Df Model:</th>              <td>     2</td>      <th>                     </th>      <td> </td>    \n",
       "</tr>\n",
       "<tr>\n",
       "  <th>Covariance Type:</th>      <td>nonrobust</td>    <th>                     </th>      <td> </td>    \n",
       "</tr>\n",
       "</table>\n",
       "<table class=\"simpletable\">\n",
       "<tr>\n",
       "     <td></td>       <th>coef</th>     <th>std err</th>      <th>t</th>      <th>P>|t|</th>  <th>[0.025</th>    <th>0.975]</th>  \n",
       "</tr>\n",
       "<tr>\n",
       "  <th>const</th>  <td> 9.994e-05</td> <td> 7.36e-06</td> <td>   13.587</td> <td> 0.000</td> <td> 8.55e-05</td> <td>    0.000</td>\n",
       "</tr>\n",
       "<tr>\n",
       "  <th>mkt-rf</th> <td>    0.0208</td> <td>    0.005</td> <td>    4.308</td> <td> 0.000</td> <td>    0.011</td> <td>    0.030</td>\n",
       "</tr>\n",
       "<tr>\n",
       "  <th>value</th>  <td>    0.1556</td> <td>    0.052</td> <td>    2.989</td> <td> 0.003</td> <td>    0.054</td> <td>    0.258</td>\n",
       "</tr>\n",
       "</table>\n",
       "<table class=\"simpletable\">\n",
       "<tr>\n",
       "  <th>Omnibus:</th>       <td>7544.119</td> <th>  Durbin-Watson:     </th>   <td>   1.742</td>  \n",
       "</tr>\n",
       "<tr>\n",
       "  <th>Prob(Omnibus):</th>  <td> 0.000</td>  <th>  Jarque-Bera (JB):  </th> <td>13324310.887</td>\n",
       "</tr>\n",
       "<tr>\n",
       "  <th>Skew:</th>           <td>10.496</td>  <th>  Prob(JB):          </th>   <td>    0.00</td>  \n",
       "</tr>\n",
       "<tr>\n",
       "  <th>Kurtosis:</th>       <td>266.287</td> <th>  Cond. No.          </th>   <td>7.10e+03</td>  \n",
       "</tr>\n",
       "</table><br/><br/>Notes:<br/>[1] Standard Errors assume that the covariance matrix of the errors is correctly specified.<br/>[2] The condition number is large, 7.1e+03. This might indicate that there are<br/>strong multicollinearity or other numerical problems."
      ],
      "text/plain": [
       "<class 'statsmodels.iolib.summary.Summary'>\n",
       "\"\"\"\n",
       "                            OLS Regression Results                            \n",
       "==============================================================================\n",
       "Dep. Variable:               momentum   R-squared:                       0.006\n",
       "Model:                            OLS   Adj. R-squared:                  0.006\n",
       "Method:                 Least Squares   F-statistic:                     13.90\n",
       "Date:                Wed, 12 May 2021   Prob (F-statistic):           9.58e-07\n",
       "Time:                        18:48:45   Log-Likelihood:                 28372.\n",
       "No. Observations:                4584   AIC:                        -5.674e+04\n",
       "Df Residuals:                    4581   BIC:                        -5.672e+04\n",
       "Df Model:                           2                                         \n",
       "Covariance Type:            nonrobust                                         \n",
       "==============================================================================\n",
       "                 coef    std err          t      P>|t|      [0.025      0.975]\n",
       "------------------------------------------------------------------------------\n",
       "const       9.994e-05   7.36e-06     13.587      0.000    8.55e-05       0.000\n",
       "mkt-rf         0.0208      0.005      4.308      0.000       0.011       0.030\n",
       "value          0.1556      0.052      2.989      0.003       0.054       0.258\n",
       "==============================================================================\n",
       "Omnibus:                     7544.119   Durbin-Watson:                   1.742\n",
       "Prob(Omnibus):                  0.000   Jarque-Bera (JB):         13324310.887\n",
       "Skew:                          10.496   Prob(JB):                         0.00\n",
       "Kurtosis:                     266.287   Cond. No.                     7.10e+03\n",
       "==============================================================================\n",
       "\n",
       "Notes:\n",
       "[1] Standard Errors assume that the covariance matrix of the errors is correctly specified.\n",
       "[2] The condition number is large, 7.1e+03. This might indicate that there are\n",
       "strong multicollinearity or other numerical problems.\n",
       "\"\"\""
      ]
     },
     "execution_count": 47,
     "metadata": {},
     "output_type": "execute_result"
    }
   ],
   "source": [
    "Y1 = factor_pfs['momentum']\n",
    "X1 = factor_pfs[['mkt-rf','value']]\n",
    "X1= sm.add_constant(X1)\n",
    "model1 = sm.OLS(Y1,X1)\n",
    "model1.fit().summary()"
   ]
  },
  {
   "cell_type": "code",
   "execution_count": 48,
   "metadata": {
    "scrolled": true
   },
   "outputs": [
    {
     "data": {
      "text/html": [
       "<table class=\"simpletable\">\n",
       "<caption>OLS Regression Results</caption>\n",
       "<tr>\n",
       "  <th>Dep. Variable:</th>          <td>value</td>      <th>  R-squared:         </th>  <td>   0.002</td> \n",
       "</tr>\n",
       "<tr>\n",
       "  <th>Model:</th>                   <td>OLS</td>       <th>  Adj. R-squared:    </th>  <td>   0.002</td> \n",
       "</tr>\n",
       "<tr>\n",
       "  <th>Method:</th>             <td>Least Squares</td>  <th>  F-statistic:       </th>  <td>   4.791</td> \n",
       "</tr>\n",
       "<tr>\n",
       "  <th>Date:</th>             <td>Wed, 12 May 2021</td> <th>  Prob (F-statistic):</th>   <td>0.00835</td> \n",
       "</tr>\n",
       "<tr>\n",
       "  <th>Time:</th>                 <td>18:48:45</td>     <th>  Log-Likelihood:    </th>  <td>  34151.</td> \n",
       "</tr>\n",
       "<tr>\n",
       "  <th>No. Observations:</th>      <td>  4584</td>      <th>  AIC:               </th> <td>-6.830e+04</td>\n",
       "</tr>\n",
       "<tr>\n",
       "  <th>Df Residuals:</th>          <td>  4581</td>      <th>  BIC:               </th> <td>-6.828e+04</td>\n",
       "</tr>\n",
       "<tr>\n",
       "  <th>Df Model:</th>              <td>     2</td>      <th>                     </th>      <td> </td>    \n",
       "</tr>\n",
       "<tr>\n",
       "  <th>Covariance Type:</th>      <td>nonrobust</td>    <th>                     </th>      <td> </td>    \n",
       "</tr>\n",
       "</table>\n",
       "<table class=\"simpletable\">\n",
       "<tr>\n",
       "      <td></td>        <th>coef</th>     <th>std err</th>      <th>t</th>      <th>P>|t|</th>  <th>[0.025</th>    <th>0.975]</th>  \n",
       "</tr>\n",
       "<tr>\n",
       "  <th>const</th>    <td> 3.517e-06</td> <td> 2.13e-06</td> <td>    1.654</td> <td> 0.098</td> <td>-6.51e-07</td> <td> 7.68e-06</td>\n",
       "</tr>\n",
       "<tr>\n",
       "  <th>momentum</th> <td>    0.0125</td> <td>    0.004</td> <td>    2.989</td> <td> 0.003</td> <td>    0.004</td> <td>    0.021</td>\n",
       "</tr>\n",
       "<tr>\n",
       "  <th>mkt-rf</th>   <td>    0.0008</td> <td>    0.001</td> <td>    0.612</td> <td> 0.540</td> <td>   -0.002</td> <td>    0.004</td>\n",
       "</tr>\n",
       "</table>\n",
       "<table class=\"simpletable\">\n",
       "<tr>\n",
       "  <th>Omnibus:</th>       <td>4419.521</td> <th>  Durbin-Watson:     </th>  <td>   2.054</td>  \n",
       "</tr>\n",
       "<tr>\n",
       "  <th>Prob(Omnibus):</th>  <td> 0.000</td>  <th>  Jarque-Bera (JB):  </th> <td>4585322.511</td>\n",
       "</tr>\n",
       "<tr>\n",
       "  <th>Skew:</th>           <td> 3.594</td>  <th>  Prob(JB):          </th>  <td>    0.00</td>  \n",
       "</tr>\n",
       "<tr>\n",
       "  <th>Kurtosis:</th>       <td>157.775</td> <th>  Cond. No.          </th>  <td>2.01e+03</td>  \n",
       "</tr>\n",
       "</table><br/><br/>Notes:<br/>[1] Standard Errors assume that the covariance matrix of the errors is correctly specified.<br/>[2] The condition number is large, 2.01e+03. This might indicate that there are<br/>strong multicollinearity or other numerical problems."
      ],
      "text/plain": [
       "<class 'statsmodels.iolib.summary.Summary'>\n",
       "\"\"\"\n",
       "                            OLS Regression Results                            \n",
       "==============================================================================\n",
       "Dep. Variable:                  value   R-squared:                       0.002\n",
       "Model:                            OLS   Adj. R-squared:                  0.002\n",
       "Method:                 Least Squares   F-statistic:                     4.791\n",
       "Date:                Wed, 12 May 2021   Prob (F-statistic):            0.00835\n",
       "Time:                        18:48:45   Log-Likelihood:                 34151.\n",
       "No. Observations:                4584   AIC:                        -6.830e+04\n",
       "Df Residuals:                    4581   BIC:                        -6.828e+04\n",
       "Df Model:                           2                                         \n",
       "Covariance Type:            nonrobust                                         \n",
       "==============================================================================\n",
       "                 coef    std err          t      P>|t|      [0.025      0.975]\n",
       "------------------------------------------------------------------------------\n",
       "const       3.517e-06   2.13e-06      1.654      0.098   -6.51e-07    7.68e-06\n",
       "momentum       0.0125      0.004      2.989      0.003       0.004       0.021\n",
       "mkt-rf         0.0008      0.001      0.612      0.540      -0.002       0.004\n",
       "==============================================================================\n",
       "Omnibus:                     4419.521   Durbin-Watson:                   2.054\n",
       "Prob(Omnibus):                  0.000   Jarque-Bera (JB):          4585322.511\n",
       "Skew:                           3.594   Prob(JB):                         0.00\n",
       "Kurtosis:                     157.775   Cond. No.                     2.01e+03\n",
       "==============================================================================\n",
       "\n",
       "Notes:\n",
       "[1] Standard Errors assume that the covariance matrix of the errors is correctly specified.\n",
       "[2] The condition number is large, 2.01e+03. This might indicate that there are\n",
       "strong multicollinearity or other numerical problems.\n",
       "\"\"\""
      ]
     },
     "execution_count": 48,
     "metadata": {},
     "output_type": "execute_result"
    }
   ],
   "source": [
    "Y2 = factor_pfs['value']\n",
    "X2 = factor_pfs[['momentum','mkt-rf']]\n",
    "X2= sm.add_constant(X2)\n",
    "model2 = sm.OLS(Y2,X2)\n",
    "model2.fit().summary()"
   ]
  },
  {
   "cell_type": "code",
   "execution_count": 49,
   "metadata": {},
   "outputs": [],
   "source": [
    "arrays = [['Mkt-Rf','Mkt-Rf','Momentum','Momentum','Value','Value'],['coeff','t-stat','coeff','t-stat','coeff','t-stat']]"
   ]
  },
  {
   "cell_type": "code",
   "execution_count": 50,
   "metadata": {},
   "outputs": [],
   "source": [
    "regressions = pd.DataFrame(columns = ['Alpha','Mkt-Rf','Momentum','Value','R-squared'],index= arrays)"
   ]
  },
  {
   "cell_type": "code",
   "execution_count": 51,
   "metadata": {},
   "outputs": [],
   "source": [
    "regressions['Alpha'] = [8.844e-05,3.859,9.994e-05,13.587,3.517e-06,1.654]\n",
    "regressions['Mkt-Rf'] = [NaN,NaN,0.0208,4.308,0.0008,0.612]\n",
    "regressions['Momentum'] = [0.1943,4.308,NaN,NaN,0.0125,2.989]\n",
    "regressions['Value'] = [0.0976,0.612,0.1556,2.989,NaN,NaN]\n",
    "regressions['R-squared'] = [0.004,NaN,0.006,NaN,0.002,NaN]"
   ]
  },
  {
   "cell_type": "code",
   "execution_count": 52,
   "metadata": {},
   "outputs": [
    {
     "name": "stdout",
     "output_type": "stream",
     "text": [
      "\u001b[1mRegressions Table\n"
     ]
    },
    {
     "data": {
      "text/html": [
       "<div>\n",
       "<style scoped>\n",
       "    .dataframe tbody tr th:only-of-type {\n",
       "        vertical-align: middle;\n",
       "    }\n",
       "\n",
       "    .dataframe tbody tr th {\n",
       "        vertical-align: top;\n",
       "    }\n",
       "\n",
       "    .dataframe thead th {\n",
       "        text-align: right;\n",
       "    }\n",
       "</style>\n",
       "<table border=\"1\" class=\"dataframe\">\n",
       "  <thead>\n",
       "    <tr style=\"text-align: right;\">\n",
       "      <th></th>\n",
       "      <th></th>\n",
       "      <th>Alpha</th>\n",
       "      <th>Mkt-Rf</th>\n",
       "      <th>Momentum</th>\n",
       "      <th>Value</th>\n",
       "      <th>R-squared</th>\n",
       "    </tr>\n",
       "  </thead>\n",
       "  <tbody>\n",
       "    <tr>\n",
       "      <th rowspan=\"2\" valign=\"top\">Mkt-Rf</th>\n",
       "      <th>coeff</th>\n",
       "      <td>0.000088</td>\n",
       "      <td>NaN</td>\n",
       "      <td>0.1943</td>\n",
       "      <td>0.0976</td>\n",
       "      <td>0.004</td>\n",
       "    </tr>\n",
       "    <tr>\n",
       "      <th>t-stat</th>\n",
       "      <td>3.859000</td>\n",
       "      <td>NaN</td>\n",
       "      <td>4.3080</td>\n",
       "      <td>0.6120</td>\n",
       "      <td>NaN</td>\n",
       "    </tr>\n",
       "    <tr>\n",
       "      <th rowspan=\"2\" valign=\"top\">Momentum</th>\n",
       "      <th>coeff</th>\n",
       "      <td>0.000100</td>\n",
       "      <td>0.0208</td>\n",
       "      <td>NaN</td>\n",
       "      <td>0.1556</td>\n",
       "      <td>0.006</td>\n",
       "    </tr>\n",
       "    <tr>\n",
       "      <th>t-stat</th>\n",
       "      <td>13.587000</td>\n",
       "      <td>4.3080</td>\n",
       "      <td>NaN</td>\n",
       "      <td>2.9890</td>\n",
       "      <td>NaN</td>\n",
       "    </tr>\n",
       "    <tr>\n",
       "      <th rowspan=\"2\" valign=\"top\">Value</th>\n",
       "      <th>coeff</th>\n",
       "      <td>0.000004</td>\n",
       "      <td>0.0008</td>\n",
       "      <td>0.0125</td>\n",
       "      <td>NaN</td>\n",
       "      <td>0.002</td>\n",
       "    </tr>\n",
       "    <tr>\n",
       "      <th>t-stat</th>\n",
       "      <td>1.654000</td>\n",
       "      <td>0.6120</td>\n",
       "      <td>2.9890</td>\n",
       "      <td>NaN</td>\n",
       "      <td>NaN</td>\n",
       "    </tr>\n",
       "  </tbody>\n",
       "</table>\n",
       "</div>"
      ],
      "text/plain": [
       "                     Alpha  Mkt-Rf  Momentum   Value  R-squared\n",
       "Mkt-Rf   coeff    0.000088     NaN    0.1943  0.0976      0.004\n",
       "         t-stat   3.859000     NaN    4.3080  0.6120        NaN\n",
       "Momentum coeff    0.000100  0.0208       NaN  0.1556      0.006\n",
       "         t-stat  13.587000  4.3080       NaN  2.9890        NaN\n",
       "Value    coeff    0.000004  0.0008    0.0125     NaN      0.002\n",
       "         t-stat   1.654000  0.6120    2.9890     NaN        NaN"
      ]
     },
     "execution_count": 52,
     "metadata": {},
     "output_type": "execute_result"
    }
   ],
   "source": [
    "print('\\033[1mRegressions Table')\n",
    "regressions"
   ]
  },
  {
   "cell_type": "markdown",
   "metadata": {},
   "source": [
    "## The results indicate a positive association among all the three portfolios. From the first regression, there is a significant and positive relationship between Mkt-Rf and Momentum portfolios but  not with the value portfolio. In the second regression, we see that the relationship is significant and positive for both Mkt-Rf and Value against Momentum portfolio. In the third regression, we see a significance of relationship between the value and momentum but not the Mkt-Rf. And all the R-squared are low as expected. The Alphas are significant for all the regressions. From the regressions we can say that no strong association exists between Value and Mkt-Rf portfolios.\n"
   ]
  },
  {
   "cell_type": "markdown",
   "metadata": {},
   "source": [
    "## Q8"
   ]
  },
  {
   "cell_type": "code",
   "execution_count": 53,
   "metadata": {},
   "outputs": [],
   "source": [
    "from scipy.stats import norm"
   ]
  },
  {
   "cell_type": "code",
   "execution_count": 54,
   "metadata": {},
   "outputs": [],
   "source": [
    "def bsm_call(sigma, S, K, r, t): #Black Scholes Formula\n",
    "    d1 = (log(S/K) + (r + sigma**2/2)* t)/(sigma * sqrt(t))\n",
    "    d2 = d1- sigma*sqrt(t)\n",
    "    c = norm.cdf(d1) *S - norm.cdf(d2) * K * math.exp(-r * t)\n",
    "    return c"
   ]
  },
  {
   "cell_type": "markdown",
   "metadata": {},
   "source": [
    "## Creating the Indices from the returns"
   ]
  },
  {
   "cell_type": "code",
   "execution_count": 55,
   "metadata": {},
   "outputs": [],
   "source": [
    "id_5y = [1]\n",
    "id_tips = [1]\n",
    "id_nasdaq = [1]\n",
    "id_unemp = [1]\n",
    "for index, row in df.iterrows():\n",
    "    val = (row['5Y'] +1) * id_5y[-1]\n",
    "    val1 = (row['5Y TIPS'] + 1) * id_tips[-1]\n",
    "    val2 = (row['5Y Nasdaq'] + 1) * id_nasdaq[-1]\n",
    "    val3 = (row['5Y Unemp'] + 1) * id_unemp[-1]\n",
    "    id_5y.append(val)\n",
    "    id_tips.append(val1)\n",
    "    id_nasdaq.append(val2)\n",
    "    id_unemp.append(val3)"
   ]
  },
  {
   "cell_type": "code",
   "execution_count": 56,
   "metadata": {},
   "outputs": [],
   "source": [
    "indices = pd.DataFrame(list(zip(id_5y,id_tips,id_nasdaq,id_unemp)))"
   ]
  },
  {
   "cell_type": "code",
   "execution_count": 57,
   "metadata": {},
   "outputs": [],
   "source": [
    "indices.columns = ['5Y','tips','nasdaq','unemp']"
   ]
  },
  {
   "cell_type": "code",
   "execution_count": 58,
   "metadata": {},
   "outputs": [
    {
     "data": {
      "text/html": [
       "<div>\n",
       "<style scoped>\n",
       "    .dataframe tbody tr th:only-of-type {\n",
       "        vertical-align: middle;\n",
       "    }\n",
       "\n",
       "    .dataframe tbody tr th {\n",
       "        vertical-align: top;\n",
       "    }\n",
       "\n",
       "    .dataframe thead th {\n",
       "        text-align: right;\n",
       "    }\n",
       "</style>\n",
       "<table border=\"1\" class=\"dataframe\">\n",
       "  <thead>\n",
       "    <tr style=\"text-align: right;\">\n",
       "      <th></th>\n",
       "      <th>5Y</th>\n",
       "      <th>tips</th>\n",
       "      <th>nasdaq</th>\n",
       "      <th>unemp</th>\n",
       "    </tr>\n",
       "  </thead>\n",
       "  <tbody>\n",
       "    <tr>\n",
       "      <th>0</th>\n",
       "      <td>1.000000</td>\n",
       "      <td>1.000000</td>\n",
       "      <td>1.000000</td>\n",
       "      <td>1.000000</td>\n",
       "    </tr>\n",
       "    <tr>\n",
       "      <th>1</th>\n",
       "      <td>1.001005</td>\n",
       "      <td>1.000048</td>\n",
       "      <td>0.996744</td>\n",
       "      <td>1.001427</td>\n",
       "    </tr>\n",
       "    <tr>\n",
       "      <th>2</th>\n",
       "      <td>0.998032</td>\n",
       "      <td>0.998288</td>\n",
       "      <td>0.993499</td>\n",
       "      <td>1.004292</td>\n",
       "    </tr>\n",
       "    <tr>\n",
       "      <th>3</th>\n",
       "      <td>1.000875</td>\n",
       "      <td>0.999764</td>\n",
       "      <td>0.990232</td>\n",
       "      <td>1.004941</td>\n",
       "    </tr>\n",
       "    <tr>\n",
       "      <th>4</th>\n",
       "      <td>1.002342</td>\n",
       "      <td>1.003633</td>\n",
       "      <td>0.997728</td>\n",
       "      <td>1.002599</td>\n",
       "    </tr>\n",
       "    <tr>\n",
       "      <th>...</th>\n",
       "      <td>...</td>\n",
       "      <td>...</td>\n",
       "      <td>...</td>\n",
       "      <td>...</td>\n",
       "    </tr>\n",
       "    <tr>\n",
       "      <th>4581</th>\n",
       "      <td>1.677056</td>\n",
       "      <td>1.277361</td>\n",
       "      <td>4.398113</td>\n",
       "      <td>1.646897</td>\n",
       "    </tr>\n",
       "    <tr>\n",
       "      <th>4582</th>\n",
       "      <td>1.675532</td>\n",
       "      <td>1.277860</td>\n",
       "      <td>4.405932</td>\n",
       "      <td>1.645052</td>\n",
       "    </tr>\n",
       "    <tr>\n",
       "      <th>4583</th>\n",
       "      <td>1.673118</td>\n",
       "      <td>1.278472</td>\n",
       "      <td>4.421350</td>\n",
       "      <td>1.642676</td>\n",
       "    </tr>\n",
       "    <tr>\n",
       "      <th>4584</th>\n",
       "      <td>1.674792</td>\n",
       "      <td>1.281763</td>\n",
       "      <td>4.435470</td>\n",
       "      <td>1.638557</td>\n",
       "    </tr>\n",
       "    <tr>\n",
       "      <th>4585</th>\n",
       "      <td>1.674832</td>\n",
       "      <td>1.283048</td>\n",
       "      <td>4.443701</td>\n",
       "      <td>1.636001</td>\n",
       "    </tr>\n",
       "  </tbody>\n",
       "</table>\n",
       "<p>4586 rows × 4 columns</p>\n",
       "</div>"
      ],
      "text/plain": [
       "            5Y      tips    nasdaq     unemp\n",
       "0     1.000000  1.000000  1.000000  1.000000\n",
       "1     1.001005  1.000048  0.996744  1.001427\n",
       "2     0.998032  0.998288  0.993499  1.004292\n",
       "3     1.000875  0.999764  0.990232  1.004941\n",
       "4     1.002342  1.003633  0.997728  1.002599\n",
       "...        ...       ...       ...       ...\n",
       "4581  1.677056  1.277361  4.398113  1.646897\n",
       "4582  1.675532  1.277860  4.405932  1.645052\n",
       "4583  1.673118  1.278472  4.421350  1.642676\n",
       "4584  1.674792  1.281763  4.435470  1.638557\n",
       "4585  1.674832  1.283048  4.443701  1.636001\n",
       "\n",
       "[4586 rows x 4 columns]"
      ]
     },
     "execution_count": 58,
     "metadata": {},
     "output_type": "execute_result"
    }
   ],
   "source": [
    "indices"
   ]
  },
  {
   "cell_type": "markdown",
   "metadata": {},
   "source": [
    "## To compute the Call Price, I am using the past 21 days historical standard deviation of returns as the sigma in BSM. Here is the computation of the Standard deviations series"
   ]
  },
  {
   "cell_type": "code",
   "execution_count": 59,
   "metadata": {},
   "outputs": [],
   "source": [
    "import statistics as st\n",
    "std_5y = []\n",
    "std_tips = []\n",
    "std_nasdaq = []\n",
    "std_unemp = []\n",
    "for index, row in df.loc[21:].iterrows():\n",
    "    t = []\n",
    "    tips = []\n",
    "    nasdaq = []\n",
    "    unemp = []\n",
    "    for i in range(index-21,index):\n",
    "        a = df['5Y'][i]\n",
    "        t.append(a)\n",
    "        b = df['5Y TIPS'][i]\n",
    "        tips.append(b)\n",
    "        c = df['5Y Nasdaq'][i]\n",
    "        nasdaq.append(c)\n",
    "        d = df['5Y Unemp'][i]\n",
    "        unemp.append(d)\n",
    " \n",
    "    std1 = st.stdev(t)\n",
    "    std_5y.append(std1)\n",
    "    std2 = st.stdev(tips)\n",
    "    std_tips.append(std2)\n",
    "    std3 = st.stdev(nasdaq)\n",
    "    std_nasdaq.append(std3)\n",
    "    std4 = st.stdev(unemp)\n",
    "    std_unemp.append(std4)"
   ]
  },
  {
   "cell_type": "code",
   "execution_count": 60,
   "metadata": {},
   "outputs": [],
   "source": [
    "date = ['1/2/2003']\n",
    "dates = list(df['DATE'])\n",
    "dates = date + dates"
   ]
  },
  {
   "cell_type": "code",
   "execution_count": 61,
   "metadata": {},
   "outputs": [],
   "source": [
    "indices['DATE'] = dates"
   ]
  },
  {
   "cell_type": "code",
   "execution_count": 62,
   "metadata": {},
   "outputs": [],
   "source": [
    "indices.index -= 1"
   ]
  },
  {
   "cell_type": "code",
   "execution_count": 63,
   "metadata": {},
   "outputs": [],
   "source": [
    "indices['1M'] = df['1M']"
   ]
  },
  {
   "cell_type": "code",
   "execution_count": 64,
   "metadata": {},
   "outputs": [],
   "source": [
    "indices = indices.iloc[22:]"
   ]
  },
  {
   "cell_type": "code",
   "execution_count": 65,
   "metadata": {},
   "outputs": [
    {
     "name": "stderr",
     "output_type": "stream",
     "text": [
      "C:\\ProgramData\\Anaconda3\\lib\\site-packages\\ipykernel_launcher.py:1: SettingWithCopyWarning: \n",
      "A value is trying to be set on a copy of a slice from a DataFrame.\n",
      "Try using .loc[row_indexer,col_indexer] = value instead\n",
      "\n",
      "See the caveats in the documentation: https://pandas.pydata.org/pandas-docs/stable/user_guide/indexing.html#returning-a-view-versus-a-copy\n",
      "  \"\"\"Entry point for launching an IPython kernel.\n",
      "C:\\ProgramData\\Anaconda3\\lib\\site-packages\\ipykernel_launcher.py:2: SettingWithCopyWarning: \n",
      "A value is trying to be set on a copy of a slice from a DataFrame.\n",
      "Try using .loc[row_indexer,col_indexer] = value instead\n",
      "\n",
      "See the caveats in the documentation: https://pandas.pydata.org/pandas-docs/stable/user_guide/indexing.html#returning-a-view-versus-a-copy\n",
      "  \n",
      "C:\\ProgramData\\Anaconda3\\lib\\site-packages\\ipykernel_launcher.py:3: SettingWithCopyWarning: \n",
      "A value is trying to be set on a copy of a slice from a DataFrame.\n",
      "Try using .loc[row_indexer,col_indexer] = value instead\n",
      "\n",
      "See the caveats in the documentation: https://pandas.pydata.org/pandas-docs/stable/user_guide/indexing.html#returning-a-view-versus-a-copy\n",
      "  This is separate from the ipykernel package so we can avoid doing imports until\n",
      "C:\\ProgramData\\Anaconda3\\lib\\site-packages\\ipykernel_launcher.py:4: SettingWithCopyWarning: \n",
      "A value is trying to be set on a copy of a slice from a DataFrame.\n",
      "Try using .loc[row_indexer,col_indexer] = value instead\n",
      "\n",
      "See the caveats in the documentation: https://pandas.pydata.org/pandas-docs/stable/user_guide/indexing.html#returning-a-view-versus-a-copy\n",
      "  after removing the cwd from sys.path.\n"
     ]
    }
   ],
   "source": [
    "indices['5y_std'] = std_5y\n",
    "indices['tips_std'] = std_tips\n",
    "indices['nasdaq_std'] = std_nasdaq\n",
    "indices['unemp_std'] = std_unemp"
   ]
  },
  {
   "cell_type": "code",
   "execution_count": 66,
   "metadata": {},
   "outputs": [
    {
     "data": {
      "text/html": [
       "<div>\n",
       "<style scoped>\n",
       "    .dataframe tbody tr th:only-of-type {\n",
       "        vertical-align: middle;\n",
       "    }\n",
       "\n",
       "    .dataframe tbody tr th {\n",
       "        vertical-align: top;\n",
       "    }\n",
       "\n",
       "    .dataframe thead th {\n",
       "        text-align: right;\n",
       "    }\n",
       "</style>\n",
       "<table border=\"1\" class=\"dataframe\">\n",
       "  <thead>\n",
       "    <tr style=\"text-align: right;\">\n",
       "      <th></th>\n",
       "      <th>5Y</th>\n",
       "      <th>tips</th>\n",
       "      <th>nasdaq</th>\n",
       "      <th>unemp</th>\n",
       "      <th>DATE</th>\n",
       "      <th>1M</th>\n",
       "      <th>5y_std</th>\n",
       "      <th>tips_std</th>\n",
       "      <th>nasdaq_std</th>\n",
       "      <th>unemp_std</th>\n",
       "    </tr>\n",
       "  </thead>\n",
       "  <tbody>\n",
       "    <tr>\n",
       "      <th>21</th>\n",
       "      <td>1.005496</td>\n",
       "      <td>1.015970</td>\n",
       "      <td>1.022678</td>\n",
       "      <td>1.007957</td>\n",
       "      <td>2/4/2003</td>\n",
       "      <td>3.178080e-05</td>\n",
       "      <td>0.003062</td>\n",
       "      <td>0.002524</td>\n",
       "      <td>0.005882</td>\n",
       "      <td>0.002349</td>\n",
       "    </tr>\n",
       "    <tr>\n",
       "      <th>22</th>\n",
       "      <td>1.001876</td>\n",
       "      <td>1.015523</td>\n",
       "      <td>1.021515</td>\n",
       "      <td>1.009985</td>\n",
       "      <td>2/5/2003</td>\n",
       "      <td>3.232880e-05</td>\n",
       "      <td>0.003115</td>\n",
       "      <td>0.002621</td>\n",
       "      <td>0.005832</td>\n",
       "      <td>0.002391</td>\n",
       "    </tr>\n",
       "    <tr>\n",
       "      <th>23</th>\n",
       "      <td>1.004269</td>\n",
       "      <td>1.018496</td>\n",
       "      <td>1.018519</td>\n",
       "      <td>1.010112</td>\n",
       "      <td>2/6/2003</td>\n",
       "      <td>3.232880e-05</td>\n",
       "      <td>0.003150</td>\n",
       "      <td>0.002573</td>\n",
       "      <td>0.005769</td>\n",
       "      <td>0.002352</td>\n",
       "    </tr>\n",
       "    <tr>\n",
       "      <th>24</th>\n",
       "      <td>1.006669</td>\n",
       "      <td>1.020007</td>\n",
       "      <td>1.023230</td>\n",
       "      <td>1.008665</td>\n",
       "      <td>2/7/2003</td>\n",
       "      <td>3.205480e-05</td>\n",
       "      <td>0.003132</td>\n",
       "      <td>0.002611</td>\n",
       "      <td>0.005755</td>\n",
       "      <td>0.002351</td>\n",
       "    </tr>\n",
       "    <tr>\n",
       "      <th>25</th>\n",
       "      <td>1.004132</td>\n",
       "      <td>1.020122</td>\n",
       "      <td>1.020342</td>\n",
       "      <td>1.010650</td>\n",
       "      <td>2/10/2003</td>\n",
       "      <td>9.616440e-05</td>\n",
       "      <td>0.003157</td>\n",
       "      <td>0.002525</td>\n",
       "      <td>0.005630</td>\n",
       "      <td>0.002309</td>\n",
       "    </tr>\n",
       "    <tr>\n",
       "      <th>...</th>\n",
       "      <td>...</td>\n",
       "      <td>...</td>\n",
       "      <td>...</td>\n",
       "      <td>...</td>\n",
       "      <td>...</td>\n",
       "      <td>...</td>\n",
       "      <td>...</td>\n",
       "      <td>...</td>\n",
       "      <td>...</td>\n",
       "      <td>...</td>\n",
       "    </tr>\n",
       "    <tr>\n",
       "      <th>4580</th>\n",
       "      <td>1.677056</td>\n",
       "      <td>1.277361</td>\n",
       "      <td>4.398113</td>\n",
       "      <td>1.646897</td>\n",
       "      <td>4/23/2021</td>\n",
       "      <td>5.479450e-07</td>\n",
       "      <td>0.001630</td>\n",
       "      <td>0.002132</td>\n",
       "      <td>0.001969</td>\n",
       "      <td>0.000818</td>\n",
       "    </tr>\n",
       "    <tr>\n",
       "      <th>4581</th>\n",
       "      <td>1.675532</td>\n",
       "      <td>1.277860</td>\n",
       "      <td>4.405932</td>\n",
       "      <td>1.645052</td>\n",
       "      <td>4/26/2021</td>\n",
       "      <td>8.219180e-07</td>\n",
       "      <td>0.001642</td>\n",
       "      <td>0.002112</td>\n",
       "      <td>0.001972</td>\n",
       "      <td>0.000826</td>\n",
       "    </tr>\n",
       "    <tr>\n",
       "      <th>4582</th>\n",
       "      <td>1.673118</td>\n",
       "      <td>1.278472</td>\n",
       "      <td>4.421350</td>\n",
       "      <td>1.642676</td>\n",
       "      <td>4/27/2021</td>\n",
       "      <td>5.479450e-07</td>\n",
       "      <td>0.001623</td>\n",
       "      <td>0.002117</td>\n",
       "      <td>0.001976</td>\n",
       "      <td>0.000822</td>\n",
       "    </tr>\n",
       "    <tr>\n",
       "      <th>4583</th>\n",
       "      <td>1.674792</td>\n",
       "      <td>1.281763</td>\n",
       "      <td>4.435470</td>\n",
       "      <td>1.638557</td>\n",
       "      <td>4/28/2021</td>\n",
       "      <td>2.739730e-07</td>\n",
       "      <td>0.001599</td>\n",
       "      <td>0.002047</td>\n",
       "      <td>0.001932</td>\n",
       "      <td>0.000811</td>\n",
       "    </tr>\n",
       "    <tr>\n",
       "      <th>4584</th>\n",
       "      <td>1.674832</td>\n",
       "      <td>1.283048</td>\n",
       "      <td>4.443701</td>\n",
       "      <td>1.636001</td>\n",
       "      <td>4/29/2021</td>\n",
       "      <td>2.739730e-07</td>\n",
       "      <td>0.001608</td>\n",
       "      <td>0.002046</td>\n",
       "      <td>0.001928</td>\n",
       "      <td>0.000809</td>\n",
       "    </tr>\n",
       "  </tbody>\n",
       "</table>\n",
       "<p>4564 rows × 10 columns</p>\n",
       "</div>"
      ],
      "text/plain": [
       "            5Y      tips    nasdaq     unemp       DATE            1M  \\\n",
       "21    1.005496  1.015970  1.022678  1.007957   2/4/2003  3.178080e-05   \n",
       "22    1.001876  1.015523  1.021515  1.009985   2/5/2003  3.232880e-05   \n",
       "23    1.004269  1.018496  1.018519  1.010112   2/6/2003  3.232880e-05   \n",
       "24    1.006669  1.020007  1.023230  1.008665   2/7/2003  3.205480e-05   \n",
       "25    1.004132  1.020122  1.020342  1.010650  2/10/2003  9.616440e-05   \n",
       "...        ...       ...       ...       ...        ...           ...   \n",
       "4580  1.677056  1.277361  4.398113  1.646897  4/23/2021  5.479450e-07   \n",
       "4581  1.675532  1.277860  4.405932  1.645052  4/26/2021  8.219180e-07   \n",
       "4582  1.673118  1.278472  4.421350  1.642676  4/27/2021  5.479450e-07   \n",
       "4583  1.674792  1.281763  4.435470  1.638557  4/28/2021  2.739730e-07   \n",
       "4584  1.674832  1.283048  4.443701  1.636001  4/29/2021  2.739730e-07   \n",
       "\n",
       "        5y_std  tips_std  nasdaq_std  unemp_std  \n",
       "21    0.003062  0.002524    0.005882   0.002349  \n",
       "22    0.003115  0.002621    0.005832   0.002391  \n",
       "23    0.003150  0.002573    0.005769   0.002352  \n",
       "24    0.003132  0.002611    0.005755   0.002351  \n",
       "25    0.003157  0.002525    0.005630   0.002309  \n",
       "...        ...       ...         ...        ...  \n",
       "4580  0.001630  0.002132    0.001969   0.000818  \n",
       "4581  0.001642  0.002112    0.001972   0.000826  \n",
       "4582  0.001623  0.002117    0.001976   0.000822  \n",
       "4583  0.001599  0.002047    0.001932   0.000811  \n",
       "4584  0.001608  0.002046    0.001928   0.000809  \n",
       "\n",
       "[4564 rows x 10 columns]"
      ]
     },
     "execution_count": 66,
     "metadata": {},
     "output_type": "execute_result"
    }
   ],
   "source": [
    "indices"
   ]
  },
  {
   "cell_type": "markdown",
   "metadata": {},
   "source": [
    "## Computing the Call Prices\n",
    "I am taking time t as 21 since all data points are on daily basis."
   ]
  },
  {
   "cell_type": "code",
   "execution_count": 67,
   "metadata": {},
   "outputs": [],
   "source": [
    "call_5y = []\n",
    "call_tips = []\n",
    "call_nasdaq = []\n",
    "call_unemp = []\n",
    "for index, row in indices.iterrows():\n",
    "    y5 = bsm_call(row['5y_std'],row['5Y'],row['5Y'],row['1M'],21)\n",
    "    call_5y.append(y5)\n",
    "    tips = bsm_call(row['tips_std'],row['tips'],row['tips'],row['1M'],21)\n",
    "    call_tips.append(tips)\n",
    "    nasdaq = bsm_call(row['nasdaq_std'],row['nasdaq'],row['nasdaq'],row['1M'],21)\n",
    "    call_nasdaq.append(nasdaq)\n",
    "    unemp = bsm_call(row['unemp_std'],row['unemp'],row['unemp'],row['1M'],21)\n",
    "    call_unemp.append(unemp)"
   ]
  },
  {
   "cell_type": "code",
   "execution_count": 68,
   "metadata": {},
   "outputs": [
    {
     "name": "stderr",
     "output_type": "stream",
     "text": [
      "C:\\ProgramData\\Anaconda3\\lib\\site-packages\\ipykernel_launcher.py:1: SettingWithCopyWarning: \n",
      "A value is trying to be set on a copy of a slice from a DataFrame.\n",
      "Try using .loc[row_indexer,col_indexer] = value instead\n",
      "\n",
      "See the caveats in the documentation: https://pandas.pydata.org/pandas-docs/stable/user_guide/indexing.html#returning-a-view-versus-a-copy\n",
      "  \"\"\"Entry point for launching an IPython kernel.\n",
      "C:\\ProgramData\\Anaconda3\\lib\\site-packages\\ipykernel_launcher.py:2: SettingWithCopyWarning: \n",
      "A value is trying to be set on a copy of a slice from a DataFrame.\n",
      "Try using .loc[row_indexer,col_indexer] = value instead\n",
      "\n",
      "See the caveats in the documentation: https://pandas.pydata.org/pandas-docs/stable/user_guide/indexing.html#returning-a-view-versus-a-copy\n",
      "  \n",
      "C:\\ProgramData\\Anaconda3\\lib\\site-packages\\ipykernel_launcher.py:3: SettingWithCopyWarning: \n",
      "A value is trying to be set on a copy of a slice from a DataFrame.\n",
      "Try using .loc[row_indexer,col_indexer] = value instead\n",
      "\n",
      "See the caveats in the documentation: https://pandas.pydata.org/pandas-docs/stable/user_guide/indexing.html#returning-a-view-versus-a-copy\n",
      "  This is separate from the ipykernel package so we can avoid doing imports until\n",
      "C:\\ProgramData\\Anaconda3\\lib\\site-packages\\ipykernel_launcher.py:4: SettingWithCopyWarning: \n",
      "A value is trying to be set on a copy of a slice from a DataFrame.\n",
      "Try using .loc[row_indexer,col_indexer] = value instead\n",
      "\n",
      "See the caveats in the documentation: https://pandas.pydata.org/pandas-docs/stable/user_guide/indexing.html#returning-a-view-versus-a-copy\n",
      "  after removing the cwd from sys.path.\n"
     ]
    }
   ],
   "source": [
    "indices['call_5y'] = call_5y\n",
    "indices['call_tips'] = call_tips\n",
    "indices['call_nasdaq'] = call_nasdaq\n",
    "indices['call_unemp'] = call_unemp"
   ]
  },
  {
   "cell_type": "code",
   "execution_count": 69,
   "metadata": {},
   "outputs": [
    {
     "data": {
      "text/html": [
       "<div>\n",
       "<style scoped>\n",
       "    .dataframe tbody tr th:only-of-type {\n",
       "        vertical-align: middle;\n",
       "    }\n",
       "\n",
       "    .dataframe tbody tr th {\n",
       "        vertical-align: top;\n",
       "    }\n",
       "\n",
       "    .dataframe thead th {\n",
       "        text-align: right;\n",
       "    }\n",
       "</style>\n",
       "<table border=\"1\" class=\"dataframe\">\n",
       "  <thead>\n",
       "    <tr style=\"text-align: right;\">\n",
       "      <th></th>\n",
       "      <th>5Y</th>\n",
       "      <th>tips</th>\n",
       "      <th>nasdaq</th>\n",
       "      <th>unemp</th>\n",
       "      <th>DATE</th>\n",
       "      <th>1M</th>\n",
       "      <th>5y_std</th>\n",
       "      <th>tips_std</th>\n",
       "      <th>nasdaq_std</th>\n",
       "      <th>unemp_std</th>\n",
       "      <th>call_5y</th>\n",
       "      <th>call_tips</th>\n",
       "      <th>call_nasdaq</th>\n",
       "      <th>call_unemp</th>\n",
       "    </tr>\n",
       "  </thead>\n",
       "  <tbody>\n",
       "    <tr>\n",
       "      <th>21</th>\n",
       "      <td>1.005496</td>\n",
       "      <td>1.015970</td>\n",
       "      <td>1.022678</td>\n",
       "      <td>1.007957</td>\n",
       "      <td>2/4/2003</td>\n",
       "      <td>3.178080e-05</td>\n",
       "      <td>0.003062</td>\n",
       "      <td>0.002524</td>\n",
       "      <td>0.005882</td>\n",
       "      <td>0.002349</td>\n",
       "      <td>0.005969</td>\n",
       "      <td>0.005033</td>\n",
       "      <td>0.011338</td>\n",
       "      <td>0.004671</td>\n",
       "    </tr>\n",
       "    <tr>\n",
       "      <th>22</th>\n",
       "      <td>1.001876</td>\n",
       "      <td>1.015523</td>\n",
       "      <td>1.021515</td>\n",
       "      <td>1.009985</td>\n",
       "      <td>2/5/2003</td>\n",
       "      <td>3.232880e-05</td>\n",
       "      <td>0.003115</td>\n",
       "      <td>0.002621</td>\n",
       "      <td>0.005832</td>\n",
       "      <td>0.002391</td>\n",
       "      <td>0.006049</td>\n",
       "      <td>0.005217</td>\n",
       "      <td>0.011238</td>\n",
       "      <td>0.004764</td>\n",
       "    </tr>\n",
       "    <tr>\n",
       "      <th>23</th>\n",
       "      <td>1.004269</td>\n",
       "      <td>1.018496</td>\n",
       "      <td>1.018519</td>\n",
       "      <td>1.010112</td>\n",
       "      <td>2/6/2003</td>\n",
       "      <td>3.232880e-05</td>\n",
       "      <td>0.003150</td>\n",
       "      <td>0.002573</td>\n",
       "      <td>0.005769</td>\n",
       "      <td>0.002352</td>\n",
       "      <td>0.006128</td>\n",
       "      <td>0.005143</td>\n",
       "      <td>0.011087</td>\n",
       "      <td>0.004694</td>\n",
       "    </tr>\n",
       "    <tr>\n",
       "      <th>24</th>\n",
       "      <td>1.006669</td>\n",
       "      <td>1.020007</td>\n",
       "      <td>1.023230</td>\n",
       "      <td>1.008665</td>\n",
       "      <td>2/7/2003</td>\n",
       "      <td>3.205480e-05</td>\n",
       "      <td>0.003132</td>\n",
       "      <td>0.002611</td>\n",
       "      <td>0.005755</td>\n",
       "      <td>0.002351</td>\n",
       "      <td>0.006107</td>\n",
       "      <td>0.005218</td>\n",
       "      <td>0.011109</td>\n",
       "      <td>0.004682</td>\n",
       "    </tr>\n",
       "    <tr>\n",
       "      <th>25</th>\n",
       "      <td>1.004132</td>\n",
       "      <td>1.020122</td>\n",
       "      <td>1.020342</td>\n",
       "      <td>1.010650</td>\n",
       "      <td>2/10/2003</td>\n",
       "      <td>9.616440e-05</td>\n",
       "      <td>0.003157</td>\n",
       "      <td>0.002525</td>\n",
       "      <td>0.005630</td>\n",
       "      <td>0.002309</td>\n",
       "      <td>0.006859</td>\n",
       "      <td>0.005805</td>\n",
       "      <td>0.011553</td>\n",
       "      <td>0.005360</td>\n",
       "    </tr>\n",
       "    <tr>\n",
       "      <th>...</th>\n",
       "      <td>...</td>\n",
       "      <td>...</td>\n",
       "      <td>...</td>\n",
       "      <td>...</td>\n",
       "      <td>...</td>\n",
       "      <td>...</td>\n",
       "      <td>...</td>\n",
       "      <td>...</td>\n",
       "      <td>...</td>\n",
       "      <td>...</td>\n",
       "      <td>...</td>\n",
       "      <td>...</td>\n",
       "      <td>...</td>\n",
       "      <td>...</td>\n",
       "    </tr>\n",
       "    <tr>\n",
       "      <th>4580</th>\n",
       "      <td>1.677056</td>\n",
       "      <td>1.277361</td>\n",
       "      <td>4.398113</td>\n",
       "      <td>1.646897</td>\n",
       "      <td>4/23/2021</td>\n",
       "      <td>5.479450e-07</td>\n",
       "      <td>0.001630</td>\n",
       "      <td>0.002132</td>\n",
       "      <td>0.001969</td>\n",
       "      <td>0.000818</td>\n",
       "      <td>0.005009</td>\n",
       "      <td>0.004985</td>\n",
       "      <td>0.015857</td>\n",
       "      <td>0.002473</td>\n",
       "    </tr>\n",
       "    <tr>\n",
       "      <th>4581</th>\n",
       "      <td>1.675532</td>\n",
       "      <td>1.277860</td>\n",
       "      <td>4.405932</td>\n",
       "      <td>1.645052</td>\n",
       "      <td>4/26/2021</td>\n",
       "      <td>8.219180e-07</td>\n",
       "      <td>0.001642</td>\n",
       "      <td>0.002112</td>\n",
       "      <td>0.001972</td>\n",
       "      <td>0.000826</td>\n",
       "      <td>0.005046</td>\n",
       "      <td>0.004945</td>\n",
       "      <td>0.015923</td>\n",
       "      <td>0.002499</td>\n",
       "    </tr>\n",
       "    <tr>\n",
       "      <th>4582</th>\n",
       "      <td>1.673118</td>\n",
       "      <td>1.278472</td>\n",
       "      <td>4.421350</td>\n",
       "      <td>1.642676</td>\n",
       "      <td>4/27/2021</td>\n",
       "      <td>5.479450e-07</td>\n",
       "      <td>0.001623</td>\n",
       "      <td>0.002117</td>\n",
       "      <td>0.001976</td>\n",
       "      <td>0.000822</td>\n",
       "      <td>0.004973</td>\n",
       "      <td>0.004956</td>\n",
       "      <td>0.015994</td>\n",
       "      <td>0.002477</td>\n",
       "    </tr>\n",
       "    <tr>\n",
       "      <th>4583</th>\n",
       "      <td>1.674792</td>\n",
       "      <td>1.281763</td>\n",
       "      <td>4.435470</td>\n",
       "      <td>1.638557</td>\n",
       "      <td>4/28/2021</td>\n",
       "      <td>2.739730e-07</td>\n",
       "      <td>0.001599</td>\n",
       "      <td>0.002047</td>\n",
       "      <td>0.001932</td>\n",
       "      <td>0.000811</td>\n",
       "      <td>0.004902</td>\n",
       "      <td>0.004801</td>\n",
       "      <td>0.015680</td>\n",
       "      <td>0.002433</td>\n",
       "    </tr>\n",
       "    <tr>\n",
       "      <th>4584</th>\n",
       "      <td>1.674832</td>\n",
       "      <td>1.283048</td>\n",
       "      <td>4.443701</td>\n",
       "      <td>1.636001</td>\n",
       "      <td>4/29/2021</td>\n",
       "      <td>2.739730e-07</td>\n",
       "      <td>0.001608</td>\n",
       "      <td>0.002046</td>\n",
       "      <td>0.001928</td>\n",
       "      <td>0.000809</td>\n",
       "      <td>0.004927</td>\n",
       "      <td>0.004804</td>\n",
       "      <td>0.015674</td>\n",
       "      <td>0.002424</td>\n",
       "    </tr>\n",
       "  </tbody>\n",
       "</table>\n",
       "<p>4564 rows × 14 columns</p>\n",
       "</div>"
      ],
      "text/plain": [
       "            5Y      tips    nasdaq     unemp       DATE            1M  \\\n",
       "21    1.005496  1.015970  1.022678  1.007957   2/4/2003  3.178080e-05   \n",
       "22    1.001876  1.015523  1.021515  1.009985   2/5/2003  3.232880e-05   \n",
       "23    1.004269  1.018496  1.018519  1.010112   2/6/2003  3.232880e-05   \n",
       "24    1.006669  1.020007  1.023230  1.008665   2/7/2003  3.205480e-05   \n",
       "25    1.004132  1.020122  1.020342  1.010650  2/10/2003  9.616440e-05   \n",
       "...        ...       ...       ...       ...        ...           ...   \n",
       "4580  1.677056  1.277361  4.398113  1.646897  4/23/2021  5.479450e-07   \n",
       "4581  1.675532  1.277860  4.405932  1.645052  4/26/2021  8.219180e-07   \n",
       "4582  1.673118  1.278472  4.421350  1.642676  4/27/2021  5.479450e-07   \n",
       "4583  1.674792  1.281763  4.435470  1.638557  4/28/2021  2.739730e-07   \n",
       "4584  1.674832  1.283048  4.443701  1.636001  4/29/2021  2.739730e-07   \n",
       "\n",
       "        5y_std  tips_std  nasdaq_std  unemp_std   call_5y  call_tips  \\\n",
       "21    0.003062  0.002524    0.005882   0.002349  0.005969   0.005033   \n",
       "22    0.003115  0.002621    0.005832   0.002391  0.006049   0.005217   \n",
       "23    0.003150  0.002573    0.005769   0.002352  0.006128   0.005143   \n",
       "24    0.003132  0.002611    0.005755   0.002351  0.006107   0.005218   \n",
       "25    0.003157  0.002525    0.005630   0.002309  0.006859   0.005805   \n",
       "...        ...       ...         ...        ...       ...        ...   \n",
       "4580  0.001630  0.002132    0.001969   0.000818  0.005009   0.004985   \n",
       "4581  0.001642  0.002112    0.001972   0.000826  0.005046   0.004945   \n",
       "4582  0.001623  0.002117    0.001976   0.000822  0.004973   0.004956   \n",
       "4583  0.001599  0.002047    0.001932   0.000811  0.004902   0.004801   \n",
       "4584  0.001608  0.002046    0.001928   0.000809  0.004927   0.004804   \n",
       "\n",
       "      call_nasdaq  call_unemp  \n",
       "21       0.011338    0.004671  \n",
       "22       0.011238    0.004764  \n",
       "23       0.011087    0.004694  \n",
       "24       0.011109    0.004682  \n",
       "25       0.011553    0.005360  \n",
       "...           ...         ...  \n",
       "4580     0.015857    0.002473  \n",
       "4581     0.015923    0.002499  \n",
       "4582     0.015994    0.002477  \n",
       "4583     0.015680    0.002433  \n",
       "4584     0.015674    0.002424  \n",
       "\n",
       "[4564 rows x 14 columns]"
      ]
     },
     "execution_count": 69,
     "metadata": {},
     "output_type": "execute_result"
    }
   ],
   "source": [
    "indices"
   ]
  },
  {
   "cell_type": "markdown",
   "metadata": {},
   "source": [
    "## Computing Discounted Values at expiry as maximum of 0 or difference between the Index value at Expiry and the Strike Price of Call and discounted at 1M rate at the expiry of call. \n",
    "## I cannot compute the discounted value at expiry for the last 21 days, so I am excluding those."
   ]
  },
  {
   "cell_type": "code",
   "execution_count": 70,
   "metadata": {
    "scrolled": true
   },
   "outputs": [],
   "source": [
    "indices.index -= 21\n",
    "value_5y = []\n",
    "value_tips = []\n",
    "value_nasdaq = []\n",
    "value_unemp = []\n",
    "for index, row in indices.loc[21:].iterrows():\n",
    "    val = max(row['5Y'] - indices['5Y'][index-21], 0)\n",
    "    val = math.exp(-1 * row['1M'] * 21)*val\n",
    "    val1 = max(row['tips'] - indices['tips'][index-21], 0)\n",
    "    val1 = math.exp(-1 * row['1M'] * 21)*val1\n",
    "    val2 = max(row['nasdaq'] - indices['nasdaq'][index-21], 0)\n",
    "    val2 = math.exp(-1 * row['1M'] * 21)*val2\n",
    "    val3 = max(row['unemp'] - indices['unemp'][index-21], 0)\n",
    "    val3 = math.exp(-1 * row['1M'] * 21)*val3\n",
    "    value_5y.append(val)\n",
    "    value_tips.append(val1)\n",
    "    value_nasdaq.append(val2)\n",
    "    value_unemp.append(val3)"
   ]
  },
  {
   "cell_type": "code",
   "execution_count": 71,
   "metadata": {},
   "outputs": [],
   "source": [
    "disc_values_at_exp = pd.DataFrame(list(zip(value_5y,value_tips,value_nasdaq,value_unemp)),columns=['5Y','tips','nasdaq','unemp'])"
   ]
  },
  {
   "cell_type": "code",
   "execution_count": 72,
   "metadata": {},
   "outputs": [
    {
     "data": {
      "text/html": [
       "<div>\n",
       "<style scoped>\n",
       "    .dataframe tbody tr th:only-of-type {\n",
       "        vertical-align: middle;\n",
       "    }\n",
       "\n",
       "    .dataframe tbody tr th {\n",
       "        vertical-align: top;\n",
       "    }\n",
       "\n",
       "    .dataframe thead th {\n",
       "        text-align: right;\n",
       "    }\n",
       "</style>\n",
       "<table border=\"1\" class=\"dataframe\">\n",
       "  <thead>\n",
       "    <tr style=\"text-align: right;\">\n",
       "      <th></th>\n",
       "      <th>5Y</th>\n",
       "      <th>tips</th>\n",
       "      <th>nasdaq</th>\n",
       "      <th>unemp</th>\n",
       "    </tr>\n",
       "  </thead>\n",
       "  <tbody>\n",
       "    <tr>\n",
       "      <th>0</th>\n",
       "      <td>0.019279</td>\n",
       "      <td>0.028406</td>\n",
       "      <td>0.002204</td>\n",
       "      <td>0.0</td>\n",
       "    </tr>\n",
       "    <tr>\n",
       "      <th>1</th>\n",
       "      <td>0.026314</td>\n",
       "      <td>0.032961</td>\n",
       "      <td>0.000977</td>\n",
       "      <td>0.0</td>\n",
       "    </tr>\n",
       "    <tr>\n",
       "      <th>2</th>\n",
       "      <td>0.026505</td>\n",
       "      <td>0.031556</td>\n",
       "      <td>0.012409</td>\n",
       "      <td>0.0</td>\n",
       "    </tr>\n",
       "    <tr>\n",
       "      <th>3</th>\n",
       "      <td>0.022770</td>\n",
       "      <td>0.030624</td>\n",
       "      <td>0.008312</td>\n",
       "      <td>0.0</td>\n",
       "    </tr>\n",
       "    <tr>\n",
       "      <th>4</th>\n",
       "      <td>0.023937</td>\n",
       "      <td>0.030531</td>\n",
       "      <td>0.008987</td>\n",
       "      <td>0.0</td>\n",
       "    </tr>\n",
       "    <tr>\n",
       "      <th>...</th>\n",
       "      <td>...</td>\n",
       "      <td>...</td>\n",
       "      <td>...</td>\n",
       "      <td>...</td>\n",
       "    </tr>\n",
       "    <tr>\n",
       "      <th>4538</th>\n",
       "      <td>0.000321</td>\n",
       "      <td>0.000000</td>\n",
       "      <td>0.271618</td>\n",
       "      <td>0.0</td>\n",
       "    </tr>\n",
       "    <tr>\n",
       "      <th>4539</th>\n",
       "      <td>0.001216</td>\n",
       "      <td>0.000000</td>\n",
       "      <td>0.271641</td>\n",
       "      <td>0.0</td>\n",
       "    </tr>\n",
       "    <tr>\n",
       "      <th>4540</th>\n",
       "      <td>0.001953</td>\n",
       "      <td>0.000000</td>\n",
       "      <td>0.266755</td>\n",
       "      <td>0.0</td>\n",
       "    </tr>\n",
       "    <tr>\n",
       "      <th>4541</th>\n",
       "      <td>0.004402</td>\n",
       "      <td>0.002312</td>\n",
       "      <td>0.270990</td>\n",
       "      <td>0.0</td>\n",
       "    </tr>\n",
       "    <tr>\n",
       "      <th>4542</th>\n",
       "      <td>0.006029</td>\n",
       "      <td>0.003654</td>\n",
       "      <td>0.271771</td>\n",
       "      <td>0.0</td>\n",
       "    </tr>\n",
       "  </tbody>\n",
       "</table>\n",
       "<p>4543 rows × 4 columns</p>\n",
       "</div>"
      ],
      "text/plain": [
       "            5Y      tips    nasdaq  unemp\n",
       "0     0.019279  0.028406  0.002204    0.0\n",
       "1     0.026314  0.032961  0.000977    0.0\n",
       "2     0.026505  0.031556  0.012409    0.0\n",
       "3     0.022770  0.030624  0.008312    0.0\n",
       "4     0.023937  0.030531  0.008987    0.0\n",
       "...        ...       ...       ...    ...\n",
       "4538  0.000321  0.000000  0.271618    0.0\n",
       "4539  0.001216  0.000000  0.271641    0.0\n",
       "4540  0.001953  0.000000  0.266755    0.0\n",
       "4541  0.004402  0.002312  0.270990    0.0\n",
       "4542  0.006029  0.003654  0.271771    0.0\n",
       "\n",
       "[4543 rows x 4 columns]"
      ]
     },
     "execution_count": 72,
     "metadata": {},
     "output_type": "execute_result"
    }
   ],
   "source": [
    "disc_values_at_exp"
   ]
  },
  {
   "cell_type": "code",
   "execution_count": 73,
   "metadata": {},
   "outputs": [
    {
     "name": "stdout",
     "output_type": "stream",
     "text": [
      "\u001b[1mAverage Call Option Prices excluding last 21 days\n"
     ]
    },
    {
     "data": {
      "text/plain": [
       "call_5y        0.006549\n",
       "call_tips      0.006012\n",
       "call_nasdaq    0.005381\n",
       "call_unemp     0.013221\n",
       "dtype: float64"
      ]
     },
     "execution_count": 73,
     "metadata": {},
     "output_type": "execute_result"
    }
   ],
   "source": [
    "print('\\033[1mAverage Call Option Prices excluding last 21 days')\n",
    "indices[['call_5y','call_tips','call_nasdaq','call_unemp']][:-21].mean()"
   ]
  },
  {
   "cell_type": "markdown",
   "metadata": {},
   "source": [
    "## For value at expiry, we do not have the values for last 21 days"
   ]
  },
  {
   "cell_type": "code",
   "execution_count": 74,
   "metadata": {},
   "outputs": [
    {
     "name": "stdout",
     "output_type": "stream",
     "text": [
      "\u001b[1mAverage Discounted Value at Expiry\n"
     ]
    },
    {
     "data": {
      "text/plain": [
       "5Y        0.007443\n",
       "tips      0.005997\n",
       "nasdaq    0.024952\n",
       "unemp     0.034829\n",
       "dtype: float64"
      ]
     },
     "execution_count": 74,
     "metadata": {},
     "output_type": "execute_result"
    }
   ],
   "source": [
    "print('\\033[1mAverage Discounted Value at Expiry')\n",
    "disc_values_at_exp.mean()"
   ]
  },
  {
   "cell_type": "markdown",
   "metadata": {},
   "source": [
    "## The Values are quite different except for TIPS and treasury compared to the average call option prices. The difference in the values can be explained by the drawbacks of Black-Scholes model:\n",
    "\n",
    "##  1. The model assumes constant Volatility of the underlying which is not the case in the real world.\n",
    "##  2. The model assumes the normality of the returns distribution but the real world returns are often distributed with fatter tails.\n",
    "## So these assumptions of BSM might not depict the reality which is causing the discrepancy between Average Discounted Value at Expiry and Average Call Option Price which are supposed to be similar if the pricing is done right."
   ]
  },
  {
   "cell_type": "markdown",
   "metadata": {},
   "source": [
    "## Q9"
   ]
  },
  {
   "cell_type": "markdown",
   "metadata": {},
   "source": [
    "## To modify the BSM to improve the match between average value at expiry and average call option prices, I think using power law distribution with different parameters for each type of security instead of normal distribution would better describe the way returns are distributed and will improve the match.\n",
    "## This makes sense economically, since we are not assuming all the financial data to be normal and most of the financial data fits this distribution and hence gives us better results."
   ]
  },
  {
   "cell_type": "code",
   "execution_count": 75,
   "metadata": {},
   "outputs": [
    {
     "name": "stdout",
     "output_type": "stream",
     "text": [
      "\u001b[1mAverage Discounted Value at Expiry\n"
     ]
    },
    {
     "data": {
      "text/plain": [
       "5Y        0.007443\n",
       "tips      0.005997\n",
       "nasdaq    0.024952\n",
       "unemp     0.034829\n",
       "dtype: float64"
      ]
     },
     "execution_count": 75,
     "metadata": {},
     "output_type": "execute_result"
    }
   ],
   "source": [
    "print('\\033[1mAverage Discounted Value at Expiry')\n",
    "disc_values_at_exp.mean()"
   ]
  },
  {
   "cell_type": "code",
   "execution_count": 76,
   "metadata": {},
   "outputs": [],
   "source": [
    "from scipy.stats import powerlaw"
   ]
  },
  {
   "cell_type": "code",
   "execution_count": 77,
   "metadata": {},
   "outputs": [],
   "source": [
    "def bsm_call_nasdaq(sigma, S, K, r, t): #Black Scholes Formula\n",
    "    d1 = (log(S/K) + (r + sigma**2/2)* t)/(sigma * sqrt(t))\n",
    "    d2 = d1- sigma*sqrt(t)\n",
    "    c = powerlaw.cdf(d1,0.725) *S - powerlaw.cdf(d2,0.725) * K * math.exp(-r * t)\n",
    "    return c"
   ]
  },
  {
   "cell_type": "code",
   "execution_count": 89,
   "metadata": {},
   "outputs": [
    {
     "name": "stdout",
     "output_type": "stream",
     "text": [
      "\u001b[1mAverage Option Price of Nasdaq Call using powerlaw distribution with parameter 0.725 excluding last 21 days\n"
     ]
    },
    {
     "data": {
      "text/plain": [
       "0.023244367643561855"
      ]
     },
     "execution_count": 89,
     "metadata": {},
     "output_type": "execute_result"
    }
   ],
   "source": [
    "call_nasdaq = []\n",
    "for index, row in indices.iterrows():\n",
    "    nasdaq = bsm_call_nasdaq(row['nasdaq_std'],row['nasdaq'],row['nasdaq'],row['1M'],21)\n",
    "    call_nasdaq.append(nasdaq)\n",
    "print('\\033[1mAverage Option Price of Nasdaq Call using powerlaw distribution with parameter 0.725 excluding last 21 days')\n",
    "st.mean(call_nasdaq[:-21])    "
   ]
  },
  {
   "cell_type": "code",
   "execution_count": 79,
   "metadata": {},
   "outputs": [],
   "source": [
    "def bsm_call_unemp(sigma, S, K, r, t): #Black Scholes Formula\n",
    "    d1 = (log(S/K) + (r + sigma**2/2)* t)/(sigma * sqrt(t))\n",
    "    d2 = d1- sigma*sqrt(t)\n",
    "    c = powerlaw.cdf(d1,0.9) *S - powerlaw.cdf(d2,0.9) * K * math.exp(-r * t)\n",
    "    return c"
   ]
  },
  {
   "cell_type": "code",
   "execution_count": 88,
   "metadata": {},
   "outputs": [
    {
     "name": "stdout",
     "output_type": "stream",
     "text": [
      "\u001b[1mAverage Option Price of Unemployment Call using powerlaw distribution with parameter 0.9 excluding last 21 days\n"
     ]
    },
    {
     "data": {
      "text/plain": [
       "0.035057008358676464"
      ]
     },
     "execution_count": 88,
     "metadata": {},
     "output_type": "execute_result"
    }
   ],
   "source": [
    "call_unemp = []\n",
    "for index, row in indices.iterrows():\n",
    "    unemp = bsm_call_unemp(row['unemp_std'],row['unemp'],row['unemp'],row['1M'],21)\n",
    "    call_unemp.append(unemp)\n",
    "print('\\033[1mAverage Option Price of Unemployment Call using powerlaw distribution with parameter 0.9 excluding last 21 days')\n",
    "st.mean(call_unemp[:-21])    "
   ]
  },
  {
   "cell_type": "code",
   "execution_count": 81,
   "metadata": {},
   "outputs": [],
   "source": [
    "def bsm_call_5y(sigma, S, K, r, t): #Black Scholes Formula\n",
    "    d1 = (log(S/K) + (r + sigma**2/2)* t)/(sigma * sqrt(t))\n",
    "    d2 = d1- sigma*sqrt(t)\n",
    "    c = powerlaw.cdf(d1,1.25) *S - powerlaw.cdf(d2,1.25) * K * math.exp(-r * t)\n",
    "    return c"
   ]
  },
  {
   "cell_type": "code",
   "execution_count": 86,
   "metadata": {},
   "outputs": [
    {
     "name": "stdout",
     "output_type": "stream",
     "text": [
      "\u001b[1mAverage Option Price of Treasury Call using powerlaw distribution with parameter 1.25 excluding last 21 days\n"
     ]
    },
    {
     "data": {
      "text/plain": [
       "0.00737024262566779"
      ]
     },
     "execution_count": 86,
     "metadata": {},
     "output_type": "execute_result"
    }
   ],
   "source": [
    "call_5y = []\n",
    "for index, row in indices.iterrows():\n",
    "    val = bsm_call_5y(row['5y_std'],row['5Y'],row['5Y'],row['1M'],21)\n",
    "    call_5y.append(val)\n",
    "print('\\033[1mAverage Option Price of Treasury Call using powerlaw distribution with parameter 1.25 excluding last 21 days')\n",
    "st.mean(call_5y[:-21])    "
   ]
  },
  {
   "cell_type": "code",
   "execution_count": 83,
   "metadata": {},
   "outputs": [],
   "source": [
    "def bsm_call_tips(sigma, S, K, r, t): #Black Scholes Formula\n",
    "    d1 = (log(S/K) + (r + sigma**2/2)* t)/(sigma * sqrt(t))\n",
    "    d2 = d1- sigma*sqrt(t)\n",
    "    c = powerlaw.cdf(d1,1.3) *S - powerlaw.cdf(d2,1.3) * K * math.exp(-r * t)\n",
    "    return c"
   ]
  },
  {
   "cell_type": "code",
   "execution_count": 87,
   "metadata": {},
   "outputs": [
    {
     "name": "stdout",
     "output_type": "stream",
     "text": [
      "\u001b[1mAverage Option Price of TIPS Call using powerlaw distribution with parameter 1.3 excluding last 21 days\n"
     ]
    },
    {
     "data": {
      "text/plain": [
       "0.0060200874003258084"
      ]
     },
     "execution_count": 87,
     "metadata": {},
     "output_type": "execute_result"
    }
   ],
   "source": [
    "call_tips = []\n",
    "for index, row in indices.iterrows():\n",
    "    val = bsm_call_tips(row['tips_std'],row['tips'],row['tips'],row['1M'],21)\n",
    "    call_tips.append(val)\n",
    "print('\\033[1mAverage Option Price of TIPS Call using powerlaw distribution with parameter 1.3 excluding last 21 days')\n",
    "st.mean(call_tips[:-21]) "
   ]
  },
  {
   "cell_type": "markdown",
   "metadata": {},
   "source": [
    "## Usually the financial data fits te power law distribution with parameter in the range of 0 to 3, so I used the parameters in those range to improve the match and included those which had the best match. \n",
    "## We can see that using Powerlaw distributions for underlying returns with different parameters, the BSM is producing better prices on average than the normal distribution. And the average option prices are almost equal to average value at expiry. \n",
    "## Since most of the financial data can be fit using powerlaw distributions, using those would be appropriate economically."
   ]
  }
 ],
 "metadata": {
  "kernelspec": {
   "display_name": "Python 3",
   "language": "python",
   "name": "python3"
  },
  "language_info": {
   "codemirror_mode": {
    "name": "ipython",
    "version": 3
   },
   "file_extension": ".py",
   "mimetype": "text/x-python",
   "name": "python",
   "nbconvert_exporter": "python",
   "pygments_lexer": "ipython3",
   "version": "3.7.3"
  }
 },
 "nbformat": 4,
 "nbformat_minor": 2
}
