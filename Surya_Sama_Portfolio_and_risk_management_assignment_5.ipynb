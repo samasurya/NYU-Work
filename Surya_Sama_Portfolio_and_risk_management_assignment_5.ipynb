{
 "cells": [
  {
   "cell_type": "code",
   "execution_count": 26,
   "metadata": {},
   "outputs": [],
   "source": [
    "import pandas as pd\n",
    "import numpy as np\n",
    "from scipy import linalg"
   ]
  },
  {
   "cell_type": "markdown",
   "metadata": {},
   "source": [
    "## Creatng 56X7 matrix of all returns for all quarters."
   ]
  },
  {
   "cell_type": "code",
   "execution_count": 27,
   "metadata": {},
   "outputs": [],
   "source": [
    "df1 = pd.ExcelFile(r'C:\\Users\\samas\\Downloads\\NYU Spring 2021-4 data.xlsx')\n",
    "df2 = pd.read_excel(df1, 'VBTLX', header= 1)\n",
    "df2.set_index(\"Unnamed: 0\", inplace = True)\n",
    "df2.dropna(axis = 1, inplace = True)\n",
    "\n",
    "l = []\n",
    "for index, row in df2.iterrows():\n",
    "    current_row = row.values\n",
    "    l.append(current_row)\n",
    "l = np.array(l)\n",
    "l = np.concatenate(l)\n",
    "df3 = pd.read_excel(df1, 'VWILX', header = 1)\n",
    "df3.set_index(\"Unnamed: 0\", inplace = True)\n",
    "df3.dropna(axis = 1, inplace = True)\n",
    "\n",
    "m = []\n",
    "for index, row in df3.iterrows():\n",
    "    current_row = row.values\n",
    "    m.append(current_row)\n",
    "m = np.array(m)\n",
    "m = np.concatenate(m)\n",
    "df4 = pd.read_excel(df1, 'VGPMX', header = 1)\n",
    "df4.set_index(\"Unnamed: 0\", inplace = True)\n",
    "df4.dropna(axis = 1, inplace = True)\n",
    "\n",
    "n = []\n",
    "for index, row in df4.iterrows():\n",
    "    current_row = row.values\n",
    "    n.append(current_row)\n",
    "n = np.array(n)\n",
    "n = np.concatenate(n)\n",
    "df5 = pd.read_excel(df1, 'VTSAX', header = 1)\n",
    "df5.set_index(\"Unnamed: 0\", inplace = True)\n",
    "df5.dropna(axis = 1, inplace = True)\n",
    "\n",
    "o = []\n",
    "for index, row in df5.iterrows():\n",
    "    current_row = row.values\n",
    "    o.append(current_row)\n",
    "o = np.array(o)\n",
    "o = np.concatenate(o)\n",
    "df6 = pd.read_excel(df1, 'VTRIX', header = 1)\n",
    "\n",
    "df6.set_index(\"Unnamed: 0\", inplace = True)\n",
    "df6.dropna(axis = 1, inplace = True)\n",
    "\n",
    "p = []\n",
    "for index, row in df6.iterrows():\n",
    "    current_row = row.values\n",
    "    p.append(current_row)\n",
    "p = np.array(p)\n",
    "p = np.concatenate(p)\n",
    "df7 = pd.read_excel(df1, 'VGSLX', header = 1)\n",
    "df7.set_index(\"Unnamed: 0\", inplace = True)\n",
    "df7.dropna(axis = 1, inplace = True)\n",
    "\n",
    "q = []\n",
    "for index, row in df7.iterrows():\n",
    "    current_row = row.values\n",
    "    q.append(current_row)\n",
    "q = np.array(q)\n",
    "q = np.concatenate(q)\n",
    "df8 = pd.read_excel(df1, 'VMRXX', header = 1)\n",
    "df8.set_index(\"Unnamed: 0\", inplace = True)\n",
    "df8.dropna(axis = 1, inplace = True)\n",
    "\n",
    "r = []\n",
    "for index, row in df8.iterrows():\n",
    "    current_row = row.values\n",
    "    r.append(current_row)\n",
    "r = np.array(r)\n",
    "r = np.concatenate(r)\n",
    "\n",
    "all_rets = pd.DataFrame(np.column_stack([l,m,n,o,p,q,r]), columns = ['VBTLX', 'VWILX', 'VGPMX', 'VTSAX', 'VTRIX', 'VGSLX', 'VMRXX'])"
   ]
  },
  {
   "cell_type": "code",
   "execution_count": 28,
   "metadata": {
    "scrolled": true
   },
   "outputs": [
    {
     "data": {
      "text/html": [
       "<div>\n",
       "<style scoped>\n",
       "    .dataframe tbody tr th:only-of-type {\n",
       "        vertical-align: middle;\n",
       "    }\n",
       "\n",
       "    .dataframe tbody tr th {\n",
       "        vertical-align: top;\n",
       "    }\n",
       "\n",
       "    .dataframe thead th {\n",
       "        text-align: right;\n",
       "    }\n",
       "</style>\n",
       "<table border=\"1\" class=\"dataframe\">\n",
       "  <thead>\n",
       "    <tr style=\"text-align: right;\">\n",
       "      <th></th>\n",
       "      <th>VBTLX</th>\n",
       "      <th>VWILX</th>\n",
       "      <th>VGPMX</th>\n",
       "      <th>VTSAX</th>\n",
       "      <th>VTRIX</th>\n",
       "      <th>VGSLX</th>\n",
       "      <th>VMRXX</th>\n",
       "    </tr>\n",
       "  </thead>\n",
       "  <tbody>\n",
       "    <tr>\n",
       "      <th>0</th>\n",
       "      <td>0.0327</td>\n",
       "      <td>-0.1552</td>\n",
       "      <td>-0.2528</td>\n",
       "      <td>-0.2087</td>\n",
       "      <td>-0.2630</td>\n",
       "      <td>-0.2410</td>\n",
       "      <td>0.0040</td>\n",
       "    </tr>\n",
       "    <tr>\n",
       "      <th>1</th>\n",
       "      <td>0.0298</td>\n",
       "      <td>0.3301</td>\n",
       "      <td>0.2319</td>\n",
       "      <td>0.2208</td>\n",
       "      <td>0.1508</td>\n",
       "      <td>0.1346</td>\n",
       "      <td>0.0013</td>\n",
       "    </tr>\n",
       "    <tr>\n",
       "      <th>2</th>\n",
       "      <td>0.0061</td>\n",
       "      <td>0.1627</td>\n",
       "      <td>0.0928</td>\n",
       "      <td>0.0920</td>\n",
       "      <td>0.0399</td>\n",
       "      <td>0.0133</td>\n",
       "      <td>0.0003</td>\n",
       "    </tr>\n",
       "    <tr>\n",
       "      <th>3</th>\n",
       "      <td>0.0067</td>\n",
       "      <td>0.2226</td>\n",
       "      <td>0.1653</td>\n",
       "      <td>0.1469</td>\n",
       "      <td>0.2357</td>\n",
       "      <td>0.0926</td>\n",
       "      <td>0.0001</td>\n",
       "    </tr>\n",
       "    <tr>\n",
       "      <th>4</th>\n",
       "      <td>0.0294</td>\n",
       "      <td>0.1492</td>\n",
       "      <td>0.1004</td>\n",
       "      <td>0.1404</td>\n",
       "      <td>0.0944</td>\n",
       "      <td>0.1728</td>\n",
       "      <td>0.0062</td>\n",
       "    </tr>\n",
       "    <tr>\n",
       "      <th>5</th>\n",
       "      <td>0.0307</td>\n",
       "      <td>0.0323</td>\n",
       "      <td>0.0321</td>\n",
       "      <td>0.0409</td>\n",
       "      <td>0.0242</td>\n",
       "      <td>0.0173</td>\n",
       "      <td>0.0062</td>\n",
       "    </tr>\n",
       "    <tr>\n",
       "      <th>6</th>\n",
       "      <td>0.0243</td>\n",
       "      <td>-0.0302</td>\n",
       "      <td>-0.0075</td>\n",
       "      <td>0.0109</td>\n",
       "      <td>-0.0125</td>\n",
       "      <td>0.0740</td>\n",
       "      <td>0.0056</td>\n",
       "    </tr>\n",
       "    <tr>\n",
       "      <th>7</th>\n",
       "      <td>0.0003</td>\n",
       "      <td>0.1429</td>\n",
       "      <td>0.0703</td>\n",
       "      <td>0.0901</td>\n",
       "      <td>0.0877</td>\n",
       "      <td>0.0062</td>\n",
       "      <td>0.0047</td>\n",
       "    </tr>\n",
       "    <tr>\n",
       "      <th>8</th>\n",
       "      <td>-0.0147</td>\n",
       "      <td>0.0339</td>\n",
       "      <td>-0.0930</td>\n",
       "      <td>-0.0060</td>\n",
       "      <td>-0.0063</td>\n",
       "      <td>-0.0811</td>\n",
       "      <td>0.0039</td>\n",
       "    </tr>\n",
       "    <tr>\n",
       "      <th>9</th>\n",
       "      <td>-0.0017</td>\n",
       "      <td>0.0071</td>\n",
       "      <td>0.0115</td>\n",
       "      <td>0.0391</td>\n",
       "      <td>-0.0320</td>\n",
       "      <td>0.0883</td>\n",
       "      <td>0.0048</td>\n",
       "    </tr>\n",
       "    <tr>\n",
       "      <th>10</th>\n",
       "      <td>0.0003</td>\n",
       "      <td>-0.0151</td>\n",
       "      <td>-0.1469</td>\n",
       "      <td>0.0709</td>\n",
       "      <td>0.0099</td>\n",
       "      <td>0.0052</td>\n",
       "      <td>0.0054</td>\n",
       "    </tr>\n",
       "    <tr>\n",
       "      <th>11</th>\n",
       "      <td>0.0161</td>\n",
       "      <td>-0.1476</td>\n",
       "      <td>-0.1346</td>\n",
       "      <td>-0.1426</td>\n",
       "      <td>-0.1201</td>\n",
       "      <td>-0.0644</td>\n",
       "      <td>0.0059</td>\n",
       "    </tr>\n",
       "    <tr>\n",
       "      <th>12</th>\n",
       "      <td>0.0091</td>\n",
       "      <td>0.1267</td>\n",
       "      <td>0.1056</td>\n",
       "      <td>0.0579</td>\n",
       "      <td>0.0806</td>\n",
       "      <td>0.0096</td>\n",
       "      <td>0.0021</td>\n",
       "    </tr>\n",
       "    <tr>\n",
       "      <th>13</th>\n",
       "      <td>0.0148</td>\n",
       "      <td>0.1026</td>\n",
       "      <td>-0.0183</td>\n",
       "      <td>0.0303</td>\n",
       "      <td>0.0577</td>\n",
       "      <td>0.0161</td>\n",
       "      <td>0.0026</td>\n",
       "    </tr>\n",
       "    <tr>\n",
       "      <th>14</th>\n",
       "      <td>0.0073</td>\n",
       "      <td>0.1068</td>\n",
       "      <td>0.0216</td>\n",
       "      <td>0.0454</td>\n",
       "      <td>0.0672</td>\n",
       "      <td>0.0089</td>\n",
       "      <td>0.0029</td>\n",
       "    </tr>\n",
       "    <tr>\n",
       "      <th>15</th>\n",
       "      <td>0.0040</td>\n",
       "      <td>0.0413</td>\n",
       "      <td>0.0259</td>\n",
       "      <td>0.0634</td>\n",
       "      <td>0.0490</td>\n",
       "      <td>0.0139</td>\n",
       "      <td>0.0032</td>\n",
       "    </tr>\n",
       "    <tr>\n",
       "      <th>16</th>\n",
       "      <td>0.0309</td>\n",
       "      <td>-0.0201</td>\n",
       "      <td>0.3157</td>\n",
       "      <td>0.0094</td>\n",
       "      <td>-0.0051</td>\n",
       "      <td>0.0627</td>\n",
       "      <td>0.0011</td>\n",
       "    </tr>\n",
       "    <tr>\n",
       "      <th>17</th>\n",
       "      <td>0.0236</td>\n",
       "      <td>0.0052</td>\n",
       "      <td>0.3484</td>\n",
       "      <td>0.0269</td>\n",
       "      <td>0.0013</td>\n",
       "      <td>0.0680</td>\n",
       "      <td>0.0013</td>\n",
       "    </tr>\n",
       "    <tr>\n",
       "      <th>18</th>\n",
       "      <td>0.0041</td>\n",
       "      <td>0.1083</td>\n",
       "      <td>0.0145</td>\n",
       "      <td>0.0440</td>\n",
       "      <td>0.0604</td>\n",
       "      <td>-0.0147</td>\n",
       "      <td>0.0014</td>\n",
       "    </tr>\n",
       "    <tr>\n",
       "      <th>19</th>\n",
       "      <td>-0.0317</td>\n",
       "      <td>-0.0670</td>\n",
       "      <td>-0.1630</td>\n",
       "      <td>0.0412</td>\n",
       "      <td>-0.0111</td>\n",
       "      <td>-0.0297</td>\n",
       "      <td>0.0017</td>\n",
       "    </tr>\n",
       "    <tr>\n",
       "      <th>20</th>\n",
       "      <td>0.0165</td>\n",
       "      <td>0.0549</td>\n",
       "      <td>-0.0368</td>\n",
       "      <td>0.0179</td>\n",
       "      <td>0.0418</td>\n",
       "      <td>0.0472</td>\n",
       "      <td>0.0002</td>\n",
       "    </tr>\n",
       "    <tr>\n",
       "      <th>21</th>\n",
       "      <td>-0.0179</td>\n",
       "      <td>0.0118</td>\n",
       "      <td>-0.0058</td>\n",
       "      <td>0.0008</td>\n",
       "      <td>0.0122</td>\n",
       "      <td>-0.1046</td>\n",
       "      <td>0.0002</td>\n",
       "    </tr>\n",
       "    <tr>\n",
       "      <th>22</th>\n",
       "      <td>0.0118</td>\n",
       "      <td>-0.1299</td>\n",
       "      <td>-0.2190</td>\n",
       "      <td>-0.0727</td>\n",
       "      <td>-0.1341</td>\n",
       "      <td>0.0201</td>\n",
       "      <td>0.0003</td>\n",
       "    </tr>\n",
       "    <tr>\n",
       "      <th>23</th>\n",
       "      <td>-0.0060</td>\n",
       "      <td>0.0709</td>\n",
       "      <td>-0.0564</td>\n",
       "      <td>0.0626</td>\n",
       "      <td>0.0246</td>\n",
       "      <td>0.0704</td>\n",
       "      <td>0.0005</td>\n",
       "    </tr>\n",
       "    <tr>\n",
       "      <th>24</th>\n",
       "      <td>0.0191</td>\n",
       "      <td>-0.0074</td>\n",
       "      <td>0.0716</td>\n",
       "      <td>0.0203</td>\n",
       "      <td>-0.0008</td>\n",
       "      <td>0.0998</td>\n",
       "      <td>0.0001</td>\n",
       "    </tr>\n",
       "    <tr>\n",
       "      <th>25</th>\n",
       "      <td>0.0197</td>\n",
       "      <td>0.0314</td>\n",
       "      <td>0.0532</td>\n",
       "      <td>0.0486</td>\n",
       "      <td>0.0503</td>\n",
       "      <td>0.0702</td>\n",
       "      <td>0.0001</td>\n",
       "    </tr>\n",
       "    <tr>\n",
       "      <th>26</th>\n",
       "      <td>0.0017</td>\n",
       "      <td>-0.0491</td>\n",
       "      <td>-0.1345</td>\n",
       "      <td>-0.0003</td>\n",
       "      <td>-0.0574</td>\n",
       "      <td>-0.0313</td>\n",
       "      <td>0.0001</td>\n",
       "    </tr>\n",
       "    <tr>\n",
       "      <th>27</th>\n",
       "      <td>0.0172</td>\n",
       "      <td>-0.0293</td>\n",
       "      <td>-0.0931</td>\n",
       "      <td>0.0524</td>\n",
       "      <td>-0.0568</td>\n",
       "      <td>0.1430</td>\n",
       "      <td>0.0001</td>\n",
       "    </tr>\n",
       "    <tr>\n",
       "      <th>28</th>\n",
       "      <td>-0.0006</td>\n",
       "      <td>0.0312</td>\n",
       "      <td>-0.1544</td>\n",
       "      <td>0.1102</td>\n",
       "      <td>0.0215</td>\n",
       "      <td>0.0807</td>\n",
       "      <td>0.0002</td>\n",
       "    </tr>\n",
       "    <tr>\n",
       "      <th>29</th>\n",
       "      <td>-0.0242</td>\n",
       "      <td>-0.0215</td>\n",
       "      <td>-0.2300</td>\n",
       "      <td>0.0279</td>\n",
       "      <td>-0.0003</td>\n",
       "      <td>-0.0161</td>\n",
       "      <td>0.0001</td>\n",
       "    </tr>\n",
       "    <tr>\n",
       "      <th>30</th>\n",
       "      <td>0.0054</td>\n",
       "      <td>0.1368</td>\n",
       "      <td>0.0299</td>\n",
       "      <td>0.0627</td>\n",
       "      <td>0.1181</td>\n",
       "      <td>-0.0300</td>\n",
       "      <td>0.0002</td>\n",
       "    </tr>\n",
       "    <tr>\n",
       "      <th>31</th>\n",
       "      <td>-0.0019</td>\n",
       "      <td>0.0733</td>\n",
       "      <td>-0.0327</td>\n",
       "      <td>0.1010</td>\n",
       "      <td>0.0698</td>\n",
       "      <td>-0.0071</td>\n",
       "      <td>0.0001</td>\n",
       "    </tr>\n",
       "    <tr>\n",
       "      <th>32</th>\n",
       "      <td>0.0027</td>\n",
       "      <td>0.1396</td>\n",
       "      <td>0.0254</td>\n",
       "      <td>0.1291</td>\n",
       "      <td>0.1224</td>\n",
       "      <td>0.1072</td>\n",
       "      <td>0.0003</td>\n",
       "    </tr>\n",
       "    <tr>\n",
       "      <th>33</th>\n",
       "      <td>0.0216</td>\n",
       "      <td>-0.0780</td>\n",
       "      <td>-0.1930</td>\n",
       "      <td>-0.0315</td>\n",
       "      <td>-0.0780</td>\n",
       "      <td>0.0373</td>\n",
       "      <td>0.0003</td>\n",
       "    </tr>\n",
       "    <tr>\n",
       "      <th>34</th>\n",
       "      <td>0.0155</td>\n",
       "      <td>0.0707</td>\n",
       "      <td>0.1222</td>\n",
       "      <td>0.0624</td>\n",
       "      <td>0.0722</td>\n",
       "      <td>-0.0002</td>\n",
       "      <td>0.0003</td>\n",
       "    </tr>\n",
       "    <tr>\n",
       "      <th>35</th>\n",
       "      <td>0.0013</td>\n",
       "      <td>0.0682</td>\n",
       "      <td>-0.0629</td>\n",
       "      <td>0.0018</td>\n",
       "      <td>0.0830</td>\n",
       "      <td>0.0249</td>\n",
       "      <td>0.0003</td>\n",
       "    </tr>\n",
       "    <tr>\n",
       "      <th>36</th>\n",
       "      <td>0.0027</td>\n",
       "      <td>0.0327</td>\n",
       "      <td>0.0029</td>\n",
       "      <td>0.0636</td>\n",
       "      <td>0.0187</td>\n",
       "      <td>0.0649</td>\n",
       "      <td>0.0005</td>\n",
       "    </tr>\n",
       "    <tr>\n",
       "      <th>37</th>\n",
       "      <td>0.0227</td>\n",
       "      <td>0.0162</td>\n",
       "      <td>-0.0512</td>\n",
       "      <td>-0.0002</td>\n",
       "      <td>0.0070</td>\n",
       "      <td>0.0358</td>\n",
       "      <td>0.0004</td>\n",
       "    </tr>\n",
       "    <tr>\n",
       "      <th>38</th>\n",
       "      <td>0.0401</td>\n",
       "      <td>-0.2230</td>\n",
       "      <td>-0.1764</td>\n",
       "      <td>-0.1523</td>\n",
       "      <td>-0.2073</td>\n",
       "      <td>-0.1455</td>\n",
       "      <td>0.0003</td>\n",
       "    </tr>\n",
       "    <tr>\n",
       "      <th>39</th>\n",
       "      <td>0.0097</td>\n",
       "      <td>0.0599</td>\n",
       "      <td>-0.0009</td>\n",
       "      <td>0.1214</td>\n",
       "      <td>0.0505</td>\n",
       "      <td>0.1524</td>\n",
       "      <td>0.0003</td>\n",
       "    </tr>\n",
       "    <tr>\n",
       "      <th>40</th>\n",
       "      <td>0.0172</td>\n",
       "      <td>0.0255</td>\n",
       "      <td>0.0397</td>\n",
       "      <td>0.0603</td>\n",
       "      <td>0.0150</td>\n",
       "      <td>0.1007</td>\n",
       "      <td>0.0004</td>\n",
       "    </tr>\n",
       "    <tr>\n",
       "      <th>41</th>\n",
       "      <td>0.0361</td>\n",
       "      <td>-0.1216</td>\n",
       "      <td>-0.1130</td>\n",
       "      <td>-0.1130</td>\n",
       "      <td>-0.1596</td>\n",
       "      <td>-0.0398</td>\n",
       "      <td>0.0004</td>\n",
       "    </tr>\n",
       "    <tr>\n",
       "      <th>42</th>\n",
       "      <td>0.0245</td>\n",
       "      <td>0.1986</td>\n",
       "      <td>0.2325</td>\n",
       "      <td>0.1164</td>\n",
       "      <td>0.1800</td>\n",
       "      <td>0.1315</td>\n",
       "      <td>0.0006</td>\n",
       "    </tr>\n",
       "    <tr>\n",
       "      <th>43</th>\n",
       "      <td>-0.0133</td>\n",
       "      <td>0.0725</td>\n",
       "      <td>0.2093</td>\n",
       "      <td>0.1168</td>\n",
       "      <td>0.0661</td>\n",
       "      <td>0.0744</td>\n",
       "      <td>0.0005</td>\n",
       "    </tr>\n",
       "    <tr>\n",
       "      <th>44</th>\n",
       "      <td>0.0036</td>\n",
       "      <td>-0.1023</td>\n",
       "      <td>0.0211</td>\n",
       "      <td>-0.1067</td>\n",
       "      <td>-0.1289</td>\n",
       "      <td>-0.3203</td>\n",
       "      <td>0.0037</td>\n",
       "    </tr>\n",
       "    <tr>\n",
       "      <th>45</th>\n",
       "      <td>0.0178</td>\n",
       "      <td>0.2711</td>\n",
       "      <td>0.2621</td>\n",
       "      <td>0.1692</td>\n",
       "      <td>0.2494</td>\n",
       "      <td>0.2996</td>\n",
       "      <td>0.0015</td>\n",
       "    </tr>\n",
       "    <tr>\n",
       "      <th>46</th>\n",
       "      <td>0.0370</td>\n",
       "      <td>0.1925</td>\n",
       "      <td>0.2409</td>\n",
       "      <td>0.1653</td>\n",
       "      <td>0.2075</td>\n",
       "      <td>0.3463</td>\n",
       "      <td>0.0009</td>\n",
       "    </tr>\n",
       "    <tr>\n",
       "      <th>47</th>\n",
       "      <td>0.0010</td>\n",
       "      <td>0.0427</td>\n",
       "      <td>0.1034</td>\n",
       "      <td>0.0584</td>\n",
       "      <td>0.0179</td>\n",
       "      <td>0.0911</td>\n",
       "      <td>0.0007</td>\n",
       "    </tr>\n",
       "    <tr>\n",
       "      <th>48</th>\n",
       "      <td>0.0221</td>\n",
       "      <td>-0.0903</td>\n",
       "      <td>0.0846</td>\n",
       "      <td>-0.0948</td>\n",
       "      <td>-0.0829</td>\n",
       "      <td>0.0214</td>\n",
       "      <td>0.0100</td>\n",
       "    </tr>\n",
       "    <tr>\n",
       "      <th>49</th>\n",
       "      <td>-0.0107</td>\n",
       "      <td>-0.0166</td>\n",
       "      <td>0.1147</td>\n",
       "      <td>-0.0154</td>\n",
       "      <td>-0.0151</td>\n",
       "      <td>-0.0533</td>\n",
       "      <td>0.0062</td>\n",
       "    </tr>\n",
       "    <tr>\n",
       "      <th>50</th>\n",
       "      <td>-0.0039</td>\n",
       "      <td>-0.1974</td>\n",
       "      <td>-0.4256</td>\n",
       "      <td>-0.0852</td>\n",
       "      <td>-0.1886</td>\n",
       "      <td>0.0536</td>\n",
       "      <td>0.0059</td>\n",
       "    </tr>\n",
       "    <tr>\n",
       "      <th>51</th>\n",
       "      <td>0.0440</td>\n",
       "      <td>-0.2316</td>\n",
       "      <td>-0.3666</td>\n",
       "      <td>-0.2272</td>\n",
       "      <td>-0.2051</td>\n",
       "      <td>-0.3815</td>\n",
       "      <td>0.0068</td>\n",
       "    </tr>\n",
       "    <tr>\n",
       "      <th>52</th>\n",
       "      <td>0.0147</td>\n",
       "      <td>0.0296</td>\n",
       "      <td>0.0885</td>\n",
       "      <td>0.0136</td>\n",
       "      <td>0.0325</td>\n",
       "      <td>0.0339</td>\n",
       "      <td>0.0130</td>\n",
       "    </tr>\n",
       "    <tr>\n",
       "      <th>53</th>\n",
       "      <td>-0.0063</td>\n",
       "      <td>0.0888</td>\n",
       "      <td>0.1322</td>\n",
       "      <td>0.0607</td>\n",
       "      <td>0.0833</td>\n",
       "      <td>-0.0935</td>\n",
       "      <td>0.0131</td>\n",
       "    </tr>\n",
       "    <tr>\n",
       "      <th>54</th>\n",
       "      <td>0.0295</td>\n",
       "      <td>0.0408</td>\n",
       "      <td>0.0717</td>\n",
       "      <td>0.0156</td>\n",
       "      <td>0.0270</td>\n",
       "      <td>0.0240</td>\n",
       "      <td>0.0133</td>\n",
       "    </tr>\n",
       "    <tr>\n",
       "      <th>55</th>\n",
       "      <td>0.0310</td>\n",
       "      <td>-0.0037</td>\n",
       "      <td>0.0307</td>\n",
       "      <td>-0.0332</td>\n",
       "      <td>-0.0193</td>\n",
       "      <td>-0.1288</td>\n",
       "      <td>0.0125</td>\n",
       "    </tr>\n",
       "  </tbody>\n",
       "</table>\n",
       "</div>"
      ],
      "text/plain": [
       "     VBTLX   VWILX   VGPMX   VTSAX   VTRIX   VGSLX   VMRXX\n",
       "0   0.0327 -0.1552 -0.2528 -0.2087 -0.2630 -0.2410  0.0040\n",
       "1   0.0298  0.3301  0.2319  0.2208  0.1508  0.1346  0.0013\n",
       "2   0.0061  0.1627  0.0928  0.0920  0.0399  0.0133  0.0003\n",
       "3   0.0067  0.2226  0.1653  0.1469  0.2357  0.0926  0.0001\n",
       "4   0.0294  0.1492  0.1004  0.1404  0.0944  0.1728  0.0062\n",
       "5   0.0307  0.0323  0.0321  0.0409  0.0242  0.0173  0.0062\n",
       "6   0.0243 -0.0302 -0.0075  0.0109 -0.0125  0.0740  0.0056\n",
       "7   0.0003  0.1429  0.0703  0.0901  0.0877  0.0062  0.0047\n",
       "8  -0.0147  0.0339 -0.0930 -0.0060 -0.0063 -0.0811  0.0039\n",
       "9  -0.0017  0.0071  0.0115  0.0391 -0.0320  0.0883  0.0048\n",
       "10  0.0003 -0.0151 -0.1469  0.0709  0.0099  0.0052  0.0054\n",
       "11  0.0161 -0.1476 -0.1346 -0.1426 -0.1201 -0.0644  0.0059\n",
       "12  0.0091  0.1267  0.1056  0.0579  0.0806  0.0096  0.0021\n",
       "13  0.0148  0.1026 -0.0183  0.0303  0.0577  0.0161  0.0026\n",
       "14  0.0073  0.1068  0.0216  0.0454  0.0672  0.0089  0.0029\n",
       "15  0.0040  0.0413  0.0259  0.0634  0.0490  0.0139  0.0032\n",
       "16  0.0309 -0.0201  0.3157  0.0094 -0.0051  0.0627  0.0011\n",
       "17  0.0236  0.0052  0.3484  0.0269  0.0013  0.0680  0.0013\n",
       "18  0.0041  0.1083  0.0145  0.0440  0.0604 -0.0147  0.0014\n",
       "19 -0.0317 -0.0670 -0.1630  0.0412 -0.0111 -0.0297  0.0017\n",
       "20  0.0165  0.0549 -0.0368  0.0179  0.0418  0.0472  0.0002\n",
       "21 -0.0179  0.0118 -0.0058  0.0008  0.0122 -0.1046  0.0002\n",
       "22  0.0118 -0.1299 -0.2190 -0.0727 -0.1341  0.0201  0.0003\n",
       "23 -0.0060  0.0709 -0.0564  0.0626  0.0246  0.0704  0.0005\n",
       "24  0.0191 -0.0074  0.0716  0.0203 -0.0008  0.0998  0.0001\n",
       "25  0.0197  0.0314  0.0532  0.0486  0.0503  0.0702  0.0001\n",
       "26  0.0017 -0.0491 -0.1345 -0.0003 -0.0574 -0.0313  0.0001\n",
       "27  0.0172 -0.0293 -0.0931  0.0524 -0.0568  0.1430  0.0001\n",
       "28 -0.0006  0.0312 -0.1544  0.1102  0.0215  0.0807  0.0002\n",
       "29 -0.0242 -0.0215 -0.2300  0.0279 -0.0003 -0.0161  0.0001\n",
       "30  0.0054  0.1368  0.0299  0.0627  0.1181 -0.0300  0.0002\n",
       "31 -0.0019  0.0733 -0.0327  0.1010  0.0698 -0.0071  0.0001\n",
       "32  0.0027  0.1396  0.0254  0.1291  0.1224  0.1072  0.0003\n",
       "33  0.0216 -0.0780 -0.1930 -0.0315 -0.0780  0.0373  0.0003\n",
       "34  0.0155  0.0707  0.1222  0.0624  0.0722 -0.0002  0.0003\n",
       "35  0.0013  0.0682 -0.0629  0.0018  0.0830  0.0249  0.0003\n",
       "36  0.0027  0.0327  0.0029  0.0636  0.0187  0.0649  0.0005\n",
       "37  0.0227  0.0162 -0.0512 -0.0002  0.0070  0.0358  0.0004\n",
       "38  0.0401 -0.2230 -0.1764 -0.1523 -0.2073 -0.1455  0.0003\n",
       "39  0.0097  0.0599 -0.0009  0.1214  0.0505  0.1524  0.0003\n",
       "40  0.0172  0.0255  0.0397  0.0603  0.0150  0.1007  0.0004\n",
       "41  0.0361 -0.1216 -0.1130 -0.1130 -0.1596 -0.0398  0.0004\n",
       "42  0.0245  0.1986  0.2325  0.1164  0.1800  0.1315  0.0006\n",
       "43 -0.0133  0.0725  0.2093  0.1168  0.0661  0.0744  0.0005\n",
       "44  0.0036 -0.1023  0.0211 -0.1067 -0.1289 -0.3203  0.0037\n",
       "45  0.0178  0.2711  0.2621  0.1692  0.2494  0.2996  0.0015\n",
       "46  0.0370  0.1925  0.2409  0.1653  0.2075  0.3463  0.0009\n",
       "47  0.0010  0.0427  0.1034  0.0584  0.0179  0.0911  0.0007\n",
       "48  0.0221 -0.0903  0.0846 -0.0948 -0.0829  0.0214  0.0100\n",
       "49 -0.0107 -0.0166  0.1147 -0.0154 -0.0151 -0.0533  0.0062\n",
       "50 -0.0039 -0.1974 -0.4256 -0.0852 -0.1886  0.0536  0.0059\n",
       "51  0.0440 -0.2316 -0.3666 -0.2272 -0.2051 -0.3815  0.0068\n",
       "52  0.0147  0.0296  0.0885  0.0136  0.0325  0.0339  0.0130\n",
       "53 -0.0063  0.0888  0.1322  0.0607  0.0833 -0.0935  0.0131\n",
       "54  0.0295  0.0408  0.0717  0.0156  0.0270  0.0240  0.0133\n",
       "55  0.0310 -0.0037  0.0307 -0.0332 -0.0193 -0.1288  0.0125"
      ]
     },
     "execution_count": 28,
     "metadata": {},
     "output_type": "execute_result"
    }
   ],
   "source": [
    "all_rets"
   ]
  },
  {
   "cell_type": "markdown",
   "metadata": {},
   "source": [
    "## Assuming the market capitalisation as market weights for each fund\n"
   ]
  },
  {
   "cell_type": "code",
   "execution_count": 29,
   "metadata": {},
   "outputs": [],
   "source": [
    "market_cap = np.array([302.9, 71.18, 1.25, 1111, 13.03, 63.89, 40])\n",
    "market_cap_weights = []\n",
    "for i in market_cap:\n",
    "    i = i/sum(market_cap)\n",
    "    market_cap_weights.append(i)"
   ]
  },
  {
   "cell_type": "code",
   "execution_count": 32,
   "metadata": {},
   "outputs": [
    {
     "data": {
      "text/plain": [
       "array([0.18892874, 0.04439732, 0.00077967, 0.69296741, 0.00812724,\n",
       "       0.0398503 , 0.02494932])"
      ]
     },
     "execution_count": 32,
     "metadata": {},
     "output_type": "execute_result"
    }
   ],
   "source": [
    "market_cap_weights = np.array(market_cap_weights)\n",
    "market_cap_weights"
   ]
  },
  {
   "cell_type": "markdown",
   "metadata": {},
   "source": [
    "## Assuming the risk free rate as 0.0020"
   ]
  },
  {
   "cell_type": "code",
   "execution_count": 42,
   "metadata": {},
   "outputs": [],
   "source": [
    "excess_rets = all_rets - 0.0020"
   ]
  },
  {
   "cell_type": "code",
   "execution_count": 43,
   "metadata": {},
   "outputs": [
    {
     "data": {
      "text/plain": [
       "array([0.00913393, 0.02647321, 0.00343214, 0.02549464, 0.01130893,\n",
       "       0.01819643, 0.00084107])"
      ]
     },
     "execution_count": 43,
     "metadata": {},
     "output_type": "execute_result"
    }
   ],
   "source": [
    "mean_rets = np.array(excess_rets.mean())\n",
    "mean_rets"
   ]
  },
  {
   "cell_type": "code",
   "execution_count": 44,
   "metadata": {
    "scrolled": true
   },
   "outputs": [],
   "source": [
    "rets = excess_rets - excess_rets.mean() # demeaned excess returns"
   ]
  },
  {
   "cell_type": "code",
   "execution_count": 45,
   "metadata": {
    "scrolled": true
   },
   "outputs": [],
   "source": [
    "cov = rets.cov()"
   ]
  },
  {
   "cell_type": "code",
   "execution_count": 46,
   "metadata": {},
   "outputs": [
    {
     "data": {
      "text/html": [
       "<div>\n",
       "<style scoped>\n",
       "    .dataframe tbody tr th:only-of-type {\n",
       "        vertical-align: middle;\n",
       "    }\n",
       "\n",
       "    .dataframe tbody tr th {\n",
       "        vertical-align: top;\n",
       "    }\n",
       "\n",
       "    .dataframe thead th {\n",
       "        text-align: right;\n",
       "    }\n",
       "</style>\n",
       "<table border=\"1\" class=\"dataframe\">\n",
       "  <thead>\n",
       "    <tr style=\"text-align: right;\">\n",
       "      <th></th>\n",
       "      <th>VBTLX</th>\n",
       "      <th>VWILX</th>\n",
       "      <th>VGPMX</th>\n",
       "      <th>VTSAX</th>\n",
       "      <th>VTRIX</th>\n",
       "      <th>VGSLX</th>\n",
       "      <th>VMRXX</th>\n",
       "    </tr>\n",
       "  </thead>\n",
       "  <tbody>\n",
       "    <tr>\n",
       "      <th>VBTLX</th>\n",
       "      <td>0.000272</td>\n",
       "      <td>-0.000182</td>\n",
       "      <td>3.667894e-04</td>\n",
       "      <td>-0.000360</td>\n",
       "      <td>-0.000274</td>\n",
       "      <td>0.000075</td>\n",
       "      <td>9.357854e-06</td>\n",
       "    </tr>\n",
       "    <tr>\n",
       "      <th>VWILX</th>\n",
       "      <td>-0.000182</td>\n",
       "      <td>0.013219</td>\n",
       "      <td>1.264802e-02</td>\n",
       "      <td>0.009245</td>\n",
       "      <td>0.011334</td>\n",
       "      <td>0.008395</td>\n",
       "      <td>-7.431670e-05</td>\n",
       "    </tr>\n",
       "    <tr>\n",
       "      <th>VGPMX</th>\n",
       "      <td>0.000367</td>\n",
       "      <td>0.012648</td>\n",
       "      <td>2.455993e-02</td>\n",
       "      <td>0.008690</td>\n",
       "      <td>0.011490</td>\n",
       "      <td>0.009223</td>\n",
       "      <td>5.099286e-07</td>\n",
       "    </tr>\n",
       "    <tr>\n",
       "      <th>VTSAX</th>\n",
       "      <td>-0.000360</td>\n",
       "      <td>0.009245</td>\n",
       "      <td>8.689501e-03</td>\n",
       "      <td>0.008085</td>\n",
       "      <td>0.008468</td>\n",
       "      <td>0.008159</td>\n",
       "      <td>-8.873996e-05</td>\n",
       "    </tr>\n",
       "    <tr>\n",
       "      <th>VTRIX</th>\n",
       "      <td>-0.000274</td>\n",
       "      <td>0.011334</td>\n",
       "      <td>1.148989e-02</td>\n",
       "      <td>0.008468</td>\n",
       "      <td>0.010891</td>\n",
       "      <td>0.008195</td>\n",
       "      <td>-6.442674e-05</td>\n",
       "    </tr>\n",
       "    <tr>\n",
       "      <th>VGSLX</th>\n",
       "      <td>0.000075</td>\n",
       "      <td>0.008395</td>\n",
       "      <td>9.222506e-03</td>\n",
       "      <td>0.008159</td>\n",
       "      <td>0.008195</td>\n",
       "      <td>0.014299</td>\n",
       "      <td>-1.257531e-04</td>\n",
       "    </tr>\n",
       "    <tr>\n",
       "      <th>VMRXX</th>\n",
       "      <td>0.000009</td>\n",
       "      <td>-0.000074</td>\n",
       "      <td>5.099286e-07</td>\n",
       "      <td>-0.000089</td>\n",
       "      <td>-0.000064</td>\n",
       "      <td>-0.000126</td>\n",
       "      <td>1.361483e-05</td>\n",
       "    </tr>\n",
       "  </tbody>\n",
       "</table>\n",
       "</div>"
      ],
      "text/plain": [
       "          VBTLX     VWILX         VGPMX     VTSAX     VTRIX     VGSLX  \\\n",
       "VBTLX  0.000272 -0.000182  3.667894e-04 -0.000360 -0.000274  0.000075   \n",
       "VWILX -0.000182  0.013219  1.264802e-02  0.009245  0.011334  0.008395   \n",
       "VGPMX  0.000367  0.012648  2.455993e-02  0.008690  0.011490  0.009223   \n",
       "VTSAX -0.000360  0.009245  8.689501e-03  0.008085  0.008468  0.008159   \n",
       "VTRIX -0.000274  0.011334  1.148989e-02  0.008468  0.010891  0.008195   \n",
       "VGSLX  0.000075  0.008395  9.222506e-03  0.008159  0.008195  0.014299   \n",
       "VMRXX  0.000009 -0.000074  5.099286e-07 -0.000089 -0.000064 -0.000126   \n",
       "\n",
       "              VMRXX  \n",
       "VBTLX  9.357854e-06  \n",
       "VWILX -7.431670e-05  \n",
       "VGPMX  5.099286e-07  \n",
       "VTSAX -8.873996e-05  \n",
       "VTRIX -6.442674e-05  \n",
       "VGSLX -1.257531e-04  \n",
       "VMRXX  1.361483e-05  "
      ]
     },
     "execution_count": 46,
     "metadata": {},
     "output_type": "execute_result"
    }
   ],
   "source": [
    "cov"
   ]
  },
  {
   "cell_type": "markdown",
   "metadata": {
    "scrolled": true
   },
   "source": [
    "## Calculating $$\\lambda = \\frac{E(r) - rf}{\\sigma^2}$$\n",
    "Asuming rf = 2%"
   ]
  },
  {
   "cell_type": "code",
   "execution_count": 47,
   "metadata": {},
   "outputs": [],
   "source": [
    "expected_mkt_rets = market_cap_weights.dot(mean_rets)"
   ]
  },
  {
   "cell_type": "code",
   "execution_count": 48,
   "metadata": {},
   "outputs": [
    {
     "data": {
      "text/plain": [
       "0.021408661635962667"
      ]
     },
     "execution_count": 48,
     "metadata": {},
     "output_type": "execute_result"
    }
   ],
   "source": [
    "expected_mkt_rets"
   ]
  },
  {
   "cell_type": "code",
   "execution_count": 49,
   "metadata": {},
   "outputs": [],
   "source": [
    "market_cap_var = market_cap_weights.dot(cov).dot(market_cap_weights)"
   ]
  },
  {
   "cell_type": "code",
   "execution_count": 50,
   "metadata": {},
   "outputs": [
    {
     "data": {
      "text/plain": [
       "0.005010371810343145"
      ]
     },
     "execution_count": 50,
     "metadata": {},
     "output_type": "execute_result"
    }
   ],
   "source": [
    "market_cap_var"
   ]
  },
  {
   "cell_type": "code",
   "execution_count": 53,
   "metadata": {},
   "outputs": [],
   "source": [
    "lbd = (expected_mkt_rets - 0.002)/market_cap_var"
   ]
  },
  {
   "cell_type": "code",
   "execution_count": 54,
   "metadata": {},
   "outputs": [
    {
     "data": {
      "text/plain": [
       "3.873696877324844"
      ]
     },
     "execution_count": 54,
     "metadata": {},
     "output_type": "execute_result"
    }
   ],
   "source": [
    "lbd"
   ]
  },
  {
   "cell_type": "code",
   "execution_count": 55,
   "metadata": {},
   "outputs": [],
   "source": [
    "implied_market_rets = lbd*cov.dot(market_cap_weights)"
   ]
  },
  {
   "cell_type": "code",
   "execution_count": 56,
   "metadata": {},
   "outputs": [
    {
     "data": {
      "text/plain": [
       "VBTLX   -0.000792\n",
       "VWILX    0.028641\n",
       "VGPMX    0.027629\n",
       "VTSAX    0.024573\n",
       "VTRIX    0.026116\n",
       "VGSLX    0.025882\n",
       "VMRXX   -0.000264\n",
       "dtype: float64"
      ]
     },
     "execution_count": 56,
     "metadata": {},
     "output_type": "execute_result"
    }
   ],
   "source": [
    "implied_market_rets"
   ]
  },
  {
   "cell_type": "markdown",
   "metadata": {},
   "source": [
    "## Views:\n",
    "1. VTSAX will have an expected return of 3.5%. \n",
    "2. VWILX will outperform VTRIX by 50bps. \n",
    "3. VGSLX will outperform VGPMX by 20bps. \n",
    "4. Stocks (VWILX, VTSAX) will outperform bonds (VBTLX, VMRXX) by 1.5%. "
   ]
  },
  {
   "cell_type": "code",
   "execution_count": 127,
   "metadata": {},
   "outputs": [],
   "source": [
    "stock_weights = np.array([71.18/(71.18+1111), 1111/(71.18+1111)])\n",
    "bond_weights = np.array([302.9/(302.9+40), 40/(302.9+40)])\n",
    "stock_rets = stock_weights.dot(np.array([0.028641, 0.024573]))\n",
    "bond_rets = bond_weights.dot(np.array([-0.000792, -0.000264]))"
   ]
  },
  {
   "cell_type": "code",
   "execution_count": 128,
   "metadata": {},
   "outputs": [
    {
     "data": {
      "text/plain": [
       "array([0.0602108, 0.9397892])"
      ]
     },
     "execution_count": 128,
     "metadata": {},
     "output_type": "execute_result"
    }
   ],
   "source": [
    "stock_weights"
   ]
  },
  {
   "cell_type": "code",
   "execution_count": 129,
   "metadata": {},
   "outputs": [
    {
     "data": {
      "text/plain": [
       "array([0.88334791, 0.11665209])"
      ]
     },
     "execution_count": 129,
     "metadata": {},
     "output_type": "execute_result"
    }
   ],
   "source": [
    "bond_weights"
   ]
  },
  {
   "cell_type": "code",
   "execution_count": 153,
   "metadata": {},
   "outputs": [
    {
     "data": {
      "text/plain": [
       "0.02554834522124236"
      ]
     },
     "execution_count": 153,
     "metadata": {},
     "output_type": "execute_result"
    }
   ],
   "source": [
    "stock_rets- bond_rets"
   ]
  },
  {
   "cell_type": "markdown",
   "metadata": {},
   "source": [
    "So we are expecting that stocks will outperform by less amount compared to implied market expectations. So this must relatively increase the weights of bonds."
   ]
  },
  {
   "cell_type": "code",
   "execution_count": 130,
   "metadata": {},
   "outputs": [],
   "source": [
    "p_mat = np.array([[0,0,0,1,0,0,0], [0,1,0,0,-1,0,0], [0,0,-1,0,0,1,0], [-0.88, 0.06, 0,0.94,0,0,-0.12]])\n",
    "q_mat = np.array([3.5, 0.5,0.2, 1.5])\n"
   ]
  },
  {
   "cell_type": "code",
   "execution_count": 131,
   "metadata": {},
   "outputs": [],
   "source": [
    "var_view_pf = p_mat.dot(cov).dot(p_mat.T)"
   ]
  },
  {
   "cell_type": "code",
   "execution_count": 138,
   "metadata": {},
   "outputs": [],
   "source": [
    "a = np.zeros((4,4))\n",
    "np.fill_diagonal(a, np.diag(var_view_pf))"
   ]
  },
  {
   "cell_type": "code",
   "execution_count": 139,
   "metadata": {},
   "outputs": [
    {
     "data": {
      "text/plain": [
       "array([[0.00808473, 0.        , 0.        , 0.        ],\n",
       "       [0.        , 0.0014435 , 0.        , 0.        ],\n",
       "       [0.        , 0.        , 0.02041431, 0.        ],\n",
       "       [0.        , 0.        , 0.        , 0.00908223]])"
      ]
     },
     "execution_count": 139,
     "metadata": {},
     "output_type": "execute_result"
    }
   ],
   "source": [
    "a"
   ]
  },
  {
   "cell_type": "markdown",
   "metadata": {},
   "source": [
    "## Assuming $\\tau$ = 0.05"
   ]
  },
  {
   "cell_type": "code",
   "execution_count": 140,
   "metadata": {},
   "outputs": [],
   "source": [
    "cov_error = a*0.05"
   ]
  },
  {
   "cell_type": "code",
   "execution_count": 141,
   "metadata": {},
   "outputs": [
    {
     "data": {
      "text/plain": [
       "array([[4.04236262e-04, 0.00000000e+00, 0.00000000e+00, 0.00000000e+00],\n",
       "       [0.00000000e+00, 7.21748805e-05, 0.00000000e+00, 0.00000000e+00],\n",
       "       [0.00000000e+00, 0.00000000e+00, 1.02071532e-03, 0.00000000e+00],\n",
       "       [0.00000000e+00, 0.00000000e+00, 0.00000000e+00, 4.54111724e-04]])"
      ]
     },
     "execution_count": 141,
     "metadata": {},
     "output_type": "execute_result"
    }
   ],
   "source": [
    "cov_error"
   ]
  },
  {
   "cell_type": "markdown",
   "metadata": {},
   "source": [
    "## Computing Expected Returns Using Black-Litterman Formula"
   ]
  },
  {
   "cell_type": "markdown",
   "metadata": {},
   "source": [
    " $$p_1 = {[({\\tau\\Sigma})^{-1} + P\\Omega^{-1} P]}^{-1}$$"
   ]
  },
  {
   "cell_type": "code",
   "execution_count": 142,
   "metadata": {},
   "outputs": [],
   "source": [
    "p1 = np.linalg.inv(0.05*cov) + p_mat.T.dot(np.linalg.inv(cov_error)).dot(p_mat)"
   ]
  },
  {
   "cell_type": "code",
   "execution_count": 143,
   "metadata": {},
   "outputs": [],
   "source": [
    "p1 = np.linalg.inv(p1)"
   ]
  },
  {
   "cell_type": "code",
   "execution_count": 144,
   "metadata": {
    "scrolled": true
   },
   "outputs": [
    {
     "data": {
      "text/plain": [
       "array([[ 1.22837571e-05,  4.25613653e-06,  2.76316738e-05,\n",
       "        -3.41253745e-06,  1.37256371e-06,  2.08044892e-05,\n",
       "         2.59522480e-07],\n",
       "       [ 4.25613653e-06,  2.67350592e-04,  2.35457960e-04,\n",
       "         1.49939167e-04,  2.35894966e-04,  1.48551054e-04,\n",
       "        -7.41957664e-07],\n",
       "       [ 2.76316738e-05,  2.35457960e-04,  6.57877683e-04,\n",
       "         1.49536680e-04,  2.27909158e-04,  2.85301898e-04,\n",
       "         8.16233269e-07],\n",
       "       [-3.41253745e-06,  1.49939167e-04,  1.49536680e-04,\n",
       "         1.35180448e-04,  1.42928982e-04,  1.46727391e-04,\n",
       "        -1.42406618e-06],\n",
       "       [ 1.37256371e-06,  2.35894966e-04,  2.27909158e-04,\n",
       "         1.42928982e-04,  2.39660751e-04,  1.52870917e-04,\n",
       "        -5.56471826e-07],\n",
       "       [ 2.08044892e-05,  1.48551054e-04,  2.85301898e-04,\n",
       "         1.46727391e-04,  1.52870917e-04,  4.19016678e-04,\n",
       "        -2.49325623e-06],\n",
       "       [ 2.59522480e-07, -7.41957664e-07,  8.16233269e-07,\n",
       "        -1.42406618e-06, -5.56471826e-07, -2.49325623e-06,\n",
       "         6.25219719e-07]])"
      ]
     },
     "execution_count": 144,
     "metadata": {},
     "output_type": "execute_result"
    }
   ],
   "source": [
    "p1"
   ]
  },
  {
   "cell_type": "markdown",
   "metadata": {},
   "source": [
    "$$p_2 = {[({\\tau\\Sigma})^{-1}\\pi + P\\Omega^{-1}Q]}$$"
   ]
  },
  {
   "cell_type": "code",
   "execution_count": 145,
   "metadata": {},
   "outputs": [],
   "source": [
    "p_2 = np.linalg.inv(0.05*cov).dot(np.array(implied_market_rets)) + p_mat.T.dot(np.linalg.inv(cov_error)).dot(q_mat) "
   ]
  },
  {
   "cell_type": "code",
   "execution_count": 146,
   "metadata": {},
   "outputs": [
    {
     "data": {
      "text/plain": [
       "array([-2892.13661015,  7129.24672858,  -195.88061587, 11816.95258803,\n",
       "       -6926.98833072,   199.02837966,  -394.44530464])"
      ]
     },
     "execution_count": 146,
     "metadata": {},
     "output_type": "execute_result"
    }
   ],
   "source": [
    "p_2"
   ]
  },
  {
   "cell_type": "markdown",
   "metadata": {},
   "source": [
    "## Expected Returns from portfolio computed using Black Litterman model"
   ]
  },
  {
   "cell_type": "code",
   "execution_count": 147,
   "metadata": {},
   "outputs": [],
   "source": [
    "expected_BL_rets = p1.dot(p_2)"
   ]
  },
  {
   "cell_type": "code",
   "execution_count": 148,
   "metadata": {},
   "outputs": [
    {
     "data": {
      "text/plain": [
       "array([-0.05639098,  2.01521823,  1.71466282,  1.68664969,  1.69264371,\n",
       "        1.70231781, -0.01991635])"
      ]
     },
     "execution_count": 148,
     "metadata": {},
     "output_type": "execute_result"
    }
   ],
   "source": [
    "expected_BL_rets"
   ]
  },
  {
   "cell_type": "code",
   "execution_count": 149,
   "metadata": {},
   "outputs": [],
   "source": [
    "new_weights = np.linalg.inv(lbd*cov).dot(expected_BL_rets)"
   ]
  },
  {
   "cell_type": "code",
   "execution_count": 150,
   "metadata": {},
   "outputs": [
    {
     "data": {
      "text/plain": [
       "array([  6.65171149,  31.33405943,  -2.68445224,  51.69117348,\n",
       "       -31.72217915,   2.72508221,   0.90623788])"
      ]
     },
     "execution_count": 150,
     "metadata": {},
     "output_type": "execute_result"
    }
   ],
   "source": [
    "new_weights"
   ]
  },
  {
   "cell_type": "code",
   "execution_count": 151,
   "metadata": {},
   "outputs": [],
   "source": [
    "normalized_new_weights = []\n",
    "for i in new_weights:\n",
    "    i = i/sum(new_weights)\n",
    "    normalized_new_weights.append(i)"
   ]
  },
  {
   "cell_type": "code",
   "execution_count": 152,
   "metadata": {},
   "outputs": [
    {
     "data": {
      "text/html": [
       "<div>\n",
       "<style scoped>\n",
       "    .dataframe tbody tr th:only-of-type {\n",
       "        vertical-align: middle;\n",
       "    }\n",
       "\n",
       "    .dataframe tbody tr th {\n",
       "        vertical-align: top;\n",
       "    }\n",
       "\n",
       "    .dataframe thead th {\n",
       "        text-align: right;\n",
       "    }\n",
       "</style>\n",
       "<table border=\"1\" class=\"dataframe\">\n",
       "  <thead>\n",
       "    <tr style=\"text-align: right;\">\n",
       "      <th></th>\n",
       "      <th>Ticks</th>\n",
       "      <th>Black-Litterman_Weights</th>\n",
       "      <th>Market_Weights</th>\n",
       "    </tr>\n",
       "  </thead>\n",
       "  <tbody>\n",
       "    <tr>\n",
       "      <th>0</th>\n",
       "      <td>VBTLX</td>\n",
       "      <td>0.112929</td>\n",
       "      <td>0.188929</td>\n",
       "    </tr>\n",
       "    <tr>\n",
       "      <th>1</th>\n",
       "      <td>VWILX</td>\n",
       "      <td>0.531973</td>\n",
       "      <td>0.044397</td>\n",
       "    </tr>\n",
       "    <tr>\n",
       "      <th>2</th>\n",
       "      <td>VGPMX</td>\n",
       "      <td>-0.045575</td>\n",
       "      <td>0.000780</td>\n",
       "    </tr>\n",
       "    <tr>\n",
       "      <th>3</th>\n",
       "      <td>VTSAX</td>\n",
       "      <td>0.877585</td>\n",
       "      <td>0.692967</td>\n",
       "    </tr>\n",
       "    <tr>\n",
       "      <th>4</th>\n",
       "      <td>VTRIX</td>\n",
       "      <td>-0.538562</td>\n",
       "      <td>0.008127</td>\n",
       "    </tr>\n",
       "    <tr>\n",
       "      <th>5</th>\n",
       "      <td>VGSLX</td>\n",
       "      <td>0.046265</td>\n",
       "      <td>0.039850</td>\n",
       "    </tr>\n",
       "    <tr>\n",
       "      <th>6</th>\n",
       "      <td>VMRXX</td>\n",
       "      <td>0.015386</td>\n",
       "      <td>0.024949</td>\n",
       "    </tr>\n",
       "  </tbody>\n",
       "</table>\n",
       "</div>"
      ],
      "text/plain": [
       "   Ticks  Black-Litterman_Weights  Market_Weights\n",
       "0  VBTLX                 0.112929        0.188929\n",
       "1  VWILX                 0.531973        0.044397\n",
       "2  VGPMX                -0.045575        0.000780\n",
       "3  VTSAX                 0.877585        0.692967\n",
       "4  VTRIX                -0.538562        0.008127\n",
       "5  VGSLX                 0.046265        0.039850\n",
       "6  VMRXX                 0.015386        0.024949"
      ]
     },
     "execution_count": 152,
     "metadata": {},
     "output_type": "execute_result"
    }
   ],
   "source": [
    "b = all_rets.columns\n",
    "d1 = pd.DataFrame(zip(b, normalized_new_weights, market_cap_weights), columns = ['Ticks', 'Black-Litterman_Weights','Market_Weights'])\n",
    "d1"
   ]
  },
  {
   "cell_type": "markdown",
   "metadata": {},
   "source": [
    "## The portfolio given by the black litterman model has more weightage to my views. That is the reason most of the weight is given to VTSAX which I expect would give me 3.5%. And as per my other two views the model allocated less to VGPMX and VTRIX  and more to VWILX and VGSLX compared to the market cap weights. And the bonds VBTLX and VMRXX are allocated decent amount of weights since the stocks are expected to outperform by a less amount as per my view."
   ]
  },
  {
   "cell_type": "markdown",
   "metadata": {},
   "source": [
    "## The Black Litterman model is helpful in combining the investors personal views and taking into consideration, the market implied returns which resuls in a more balanced and reliable portfolio compared to mean-variance optimization."
   ]
  }
 ],
 "metadata": {
  "kernelspec": {
   "display_name": "Python 3",
   "language": "python",
   "name": "python3"
  },
  "language_info": {
   "codemirror_mode": {
    "name": "ipython",
    "version": 3
   },
   "file_extension": ".py",
   "mimetype": "text/x-python",
   "name": "python",
   "nbconvert_exporter": "python",
   "pygments_lexer": "ipython3",
   "version": "3.7.3"
  }
 },
 "nbformat": 4,
 "nbformat_minor": 2
}
