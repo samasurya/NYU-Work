{
 "cells": [
  {
   "cell_type": "code",
   "execution_count": 344,
   "metadata": {},
   "outputs": [
    {
     "name": "stdout",
     "output_type": "stream",
     "text": [
      "Populating the interactive namespace from numpy and matplotlib\n"
     ]
    },
    {
     "name": "stderr",
     "output_type": "stream",
     "text": [
      "C:\\ProgramData\\Anaconda3\\lib\\site-packages\\IPython\\core\\magics\\pylab.py:160: UserWarning: pylab import has clobbered these variables: ['f', 'e', 'cov', 'zeros']\n",
      "`%matplotlib` prevents importing * from pylab and numpy\n",
      "  \"\\n`%matplotlib` prevents importing * from pylab and numpy\"\n"
     ]
    }
   ],
   "source": [
    "import pandas as pd\n",
    "%pylab inline"
   ]
  },
  {
   "cell_type": "code",
   "execution_count": 345,
   "metadata": {},
   "outputs": [],
   "source": [
    "df = pd.read_csv(r'C:\\Users\\samas\\Downloads\\NYU Spring 2021 - Assignment 8 data.csv')"
   ]
  },
  {
   "cell_type": "code",
   "execution_count": 346,
   "metadata": {},
   "outputs": [],
   "source": [
    "df['CPI_lag'] = df.CPI.shift(-1)"
   ]
  },
  {
   "cell_type": "code",
   "execution_count": 347,
   "metadata": {},
   "outputs": [],
   "source": [
    "df['S&P500_infl_adj'] = df.CPI_lag/df.CPI * df['S&P500']"
   ]
  },
  {
   "cell_type": "code",
   "execution_count": 348,
   "metadata": {},
   "outputs": [],
   "source": [
    "df['S&P500_infl_adj'] = df['S&P500_infl_adj'].shift(1)"
   ]
  },
  {
   "cell_type": "code",
   "execution_count": 349,
   "metadata": {},
   "outputs": [
    {
     "data": {
      "text/html": [
       "<div>\n",
       "<style scoped>\n",
       "    .dataframe tbody tr th:only-of-type {\n",
       "        vertical-align: middle;\n",
       "    }\n",
       "\n",
       "    .dataframe tbody tr th {\n",
       "        vertical-align: top;\n",
       "    }\n",
       "\n",
       "    .dataframe thead th {\n",
       "        text-align: right;\n",
       "    }\n",
       "</style>\n",
       "<table border=\"1\" class=\"dataframe\">\n",
       "  <thead>\n",
       "    <tr style=\"text-align: right;\">\n",
       "      <th></th>\n",
       "      <th>Year</th>\n",
       "      <th>Month</th>\n",
       "      <th>CPI</th>\n",
       "      <th>S&amp;P500</th>\n",
       "      <th>Earnings</th>\n",
       "      <th>Dividends</th>\n",
       "      <th>10Y treasury</th>\n",
       "      <th>Gold</th>\n",
       "      <th>CPI_lag</th>\n",
       "      <th>S&amp;P500_infl_adj</th>\n",
       "    </tr>\n",
       "  </thead>\n",
       "  <tbody>\n",
       "    <tr>\n",
       "      <th>0</th>\n",
       "      <td>1871</td>\n",
       "      <td>1</td>\n",
       "      <td>12.464</td>\n",
       "      <td>4.440000</td>\n",
       "      <td>0.0333</td>\n",
       "      <td>0.0217</td>\n",
       "      <td>0.053200</td>\n",
       "      <td>20.63</td>\n",
       "      <td>12.845</td>\n",
       "      <td>NaN</td>\n",
       "    </tr>\n",
       "    <tr>\n",
       "      <th>1</th>\n",
       "      <td>1871</td>\n",
       "      <td>2</td>\n",
       "      <td>12.845</td>\n",
       "      <td>4.500000</td>\n",
       "      <td>0.0333</td>\n",
       "      <td>0.0217</td>\n",
       "      <td>0.053233</td>\n",
       "      <td>20.77</td>\n",
       "      <td>13.035</td>\n",
       "      <td>4.575722</td>\n",
       "    </tr>\n",
       "    <tr>\n",
       "      <th>2</th>\n",
       "      <td>1871</td>\n",
       "      <td>3</td>\n",
       "      <td>13.035</td>\n",
       "      <td>4.610000</td>\n",
       "      <td>0.0333</td>\n",
       "      <td>0.0217</td>\n",
       "      <td>0.053267</td>\n",
       "      <td>21.10</td>\n",
       "      <td>12.559</td>\n",
       "      <td>4.566563</td>\n",
       "    </tr>\n",
       "    <tr>\n",
       "      <th>3</th>\n",
       "      <td>1871</td>\n",
       "      <td>4</td>\n",
       "      <td>12.559</td>\n",
       "      <td>4.740000</td>\n",
       "      <td>0.0333</td>\n",
       "      <td>0.0217</td>\n",
       "      <td>0.053300</td>\n",
       "      <td>21.28</td>\n",
       "      <td>12.274</td>\n",
       "      <td>4.441656</td>\n",
       "    </tr>\n",
       "    <tr>\n",
       "      <th>4</th>\n",
       "      <td>1871</td>\n",
       "      <td>5</td>\n",
       "      <td>12.274</td>\n",
       "      <td>4.860000</td>\n",
       "      <td>0.0333</td>\n",
       "      <td>0.0217</td>\n",
       "      <td>0.053333</td>\n",
       "      <td>21.17</td>\n",
       "      <td>12.083</td>\n",
       "      <td>4.632436</td>\n",
       "    </tr>\n",
       "    <tr>\n",
       "      <th>...</th>\n",
       "      <td>...</td>\n",
       "      <td>...</td>\n",
       "      <td>...</td>\n",
       "      <td>...</td>\n",
       "      <td>...</td>\n",
       "      <td>...</td>\n",
       "      <td>...</td>\n",
       "      <td>...</td>\n",
       "      <td>...</td>\n",
       "      <td>...</td>\n",
       "    </tr>\n",
       "    <tr>\n",
       "      <th>1797</th>\n",
       "      <td>2020</td>\n",
       "      <td>10</td>\n",
       "      <td>260.388</td>\n",
       "      <td>3418.701364</td>\n",
       "      <td>7.9173</td>\n",
       "      <td>4.8883</td>\n",
       "      <td>0.007900</td>\n",
       "      <td>1902.53</td>\n",
       "      <td>260.229</td>\n",
       "      <td>3366.913147</td>\n",
       "    </tr>\n",
       "    <tr>\n",
       "      <th>1798</th>\n",
       "      <td>2020</td>\n",
       "      <td>11</td>\n",
       "      <td>260.229</td>\n",
       "      <td>3548.992500</td>\n",
       "      <td>7.7694</td>\n",
       "      <td>4.8724</td>\n",
       "      <td>0.008700</td>\n",
       "      <td>1869.50</td>\n",
       "      <td>260.474</td>\n",
       "      <td>3416.613812</td>\n",
       "    </tr>\n",
       "    <tr>\n",
       "      <th>1799</th>\n",
       "      <td>2020</td>\n",
       "      <td>12</td>\n",
       "      <td>260.474</td>\n",
       "      <td>3695.310000</td>\n",
       "      <td>7.5617</td>\n",
       "      <td>4.8566</td>\n",
       "      <td>0.009300</td>\n",
       "      <td>1853.80</td>\n",
       "      <td>261.582</td>\n",
       "      <td>3552.333800</td>\n",
       "    </tr>\n",
       "    <tr>\n",
       "      <th>1800</th>\n",
       "      <td>2021</td>\n",
       "      <td>1</td>\n",
       "      <td>261.582</td>\n",
       "      <td>3793.748421</td>\n",
       "      <td>7.3594</td>\n",
       "      <td>4.8408</td>\n",
       "      <td>0.010800</td>\n",
       "      <td>1869.68</td>\n",
       "      <td>262.136</td>\n",
       "      <td>3711.029049</td>\n",
       "    </tr>\n",
       "    <tr>\n",
       "      <th>1801</th>\n",
       "      <td>2021</td>\n",
       "      <td>2</td>\n",
       "      <td>262.136</td>\n",
       "      <td>3883.432105</td>\n",
       "      <td>7.1626</td>\n",
       "      <td>4.8250</td>\n",
       "      <td>0.012600</td>\n",
       "      <td>1814.01</td>\n",
       "      <td>NaN</td>\n",
       "      <td>3801.783135</td>\n",
       "    </tr>\n",
       "  </tbody>\n",
       "</table>\n",
       "<p>1802 rows × 10 columns</p>\n",
       "</div>"
      ],
      "text/plain": [
       "      Year  Month      CPI       S&P500  Earnings  Dividends  10Y treasury  \\\n",
       "0     1871      1   12.464     4.440000    0.0333     0.0217      0.053200   \n",
       "1     1871      2   12.845     4.500000    0.0333     0.0217      0.053233   \n",
       "2     1871      3   13.035     4.610000    0.0333     0.0217      0.053267   \n",
       "3     1871      4   12.559     4.740000    0.0333     0.0217      0.053300   \n",
       "4     1871      5   12.274     4.860000    0.0333     0.0217      0.053333   \n",
       "...    ...    ...      ...          ...       ...        ...           ...   \n",
       "1797  2020     10  260.388  3418.701364    7.9173     4.8883      0.007900   \n",
       "1798  2020     11  260.229  3548.992500    7.7694     4.8724      0.008700   \n",
       "1799  2020     12  260.474  3695.310000    7.5617     4.8566      0.009300   \n",
       "1800  2021      1  261.582  3793.748421    7.3594     4.8408      0.010800   \n",
       "1801  2021      2  262.136  3883.432105    7.1626     4.8250      0.012600   \n",
       "\n",
       "         Gold  CPI_lag  S&P500_infl_adj  \n",
       "0       20.63   12.845              NaN  \n",
       "1       20.77   13.035         4.575722  \n",
       "2       21.10   12.559         4.566563  \n",
       "3       21.28   12.274         4.441656  \n",
       "4       21.17   12.083         4.632436  \n",
       "...       ...      ...              ...  \n",
       "1797  1902.53  260.229      3366.913147  \n",
       "1798  1869.50  260.474      3416.613812  \n",
       "1799  1853.80  261.582      3552.333800  \n",
       "1800  1869.68  262.136      3711.029049  \n",
       "1801  1814.01      NaN      3801.783135  \n",
       "\n",
       "[1802 rows x 10 columns]"
      ]
     },
     "execution_count": 349,
     "metadata": {},
     "output_type": "execute_result"
    }
   ],
   "source": [
    "df"
   ]
  },
  {
   "cell_type": "code",
   "execution_count": 350,
   "metadata": {},
   "outputs": [],
   "source": [
    "df['S&P500_returns'] = ((df['S&P500'] + df.Dividends)/df['S&P500_infl_adj']) - 1"
   ]
  },
  {
   "cell_type": "code",
   "execution_count": 351,
   "metadata": {},
   "outputs": [],
   "source": [
    "df['Gold_adj_infl'] = df.CPI_lag/df.CPI * df.Gold"
   ]
  },
  {
   "cell_type": "code",
   "execution_count": 352,
   "metadata": {},
   "outputs": [],
   "source": [
    "df['Gold_adj_infl'] = df.Gold_adj_infl.shift(1)"
   ]
  },
  {
   "cell_type": "code",
   "execution_count": 353,
   "metadata": {},
   "outputs": [],
   "source": [
    "df['Gold_returns'] = df['Gold']/df['Gold_adj_infl'] - 1"
   ]
  },
  {
   "cell_type": "code",
   "execution_count": 354,
   "metadata": {},
   "outputs": [],
   "source": [
    "df['yield_lag'] = df['10Y treasury'].shift(1)"
   ]
  },
  {
   "cell_type": "code",
   "execution_count": 355,
   "metadata": {},
   "outputs": [],
   "source": [
    "df['c/r'] = df['yield_lag']/df['10Y treasury']"
   ]
  },
  {
   "cell_type": "code",
   "execution_count": 356,
   "metadata": {},
   "outputs": [],
   "source": [
    "df['c/r+'] = (1-df['c/r'])*(1+(df['10Y treasury']/2))**(-20) + df['yield_lag']/12"
   ]
  },
  {
   "cell_type": "code",
   "execution_count": 357,
   "metadata": {},
   "outputs": [],
   "source": [
    "df['bond_price'] = df['c/r'] + df['c/r+']"
   ]
  },
  {
   "cell_type": "code",
   "execution_count": 358,
   "metadata": {},
   "outputs": [],
   "source": [
    "df['infl'] = df['CPI_lag']/df['CPI']"
   ]
  },
  {
   "cell_type": "code",
   "execution_count": 359,
   "metadata": {},
   "outputs": [],
   "source": [
    "df['infl'] = df['infl'].shift(1)\n"
   ]
  },
  {
   "cell_type": "code",
   "execution_count": 360,
   "metadata": {},
   "outputs": [],
   "source": [
    "df['bond_returns'] = df['bond_price']/df['infl'] - 1"
   ]
  },
  {
   "cell_type": "code",
   "execution_count": 361,
   "metadata": {},
   "outputs": [],
   "source": [
    "rets = df[['Year','Month','S&P500_returns','Gold_returns','bond_returns']]"
   ]
  },
  {
   "cell_type": "code",
   "execution_count": 362,
   "metadata": {
    "scrolled": false
   },
   "outputs": [
    {
     "data": {
      "text/html": [
       "<div>\n",
       "<style scoped>\n",
       "    .dataframe tbody tr th:only-of-type {\n",
       "        vertical-align: middle;\n",
       "    }\n",
       "\n",
       "    .dataframe tbody tr th {\n",
       "        vertical-align: top;\n",
       "    }\n",
       "\n",
       "    .dataframe thead th {\n",
       "        text-align: right;\n",
       "    }\n",
       "</style>\n",
       "<table border=\"1\" class=\"dataframe\">\n",
       "  <thead>\n",
       "    <tr style=\"text-align: right;\">\n",
       "      <th></th>\n",
       "      <th>Year</th>\n",
       "      <th>Month</th>\n",
       "      <th>S&amp;P500_returns</th>\n",
       "      <th>Gold_returns</th>\n",
       "      <th>bond_returns</th>\n",
       "    </tr>\n",
       "  </thead>\n",
       "  <tbody>\n",
       "    <tr>\n",
       "      <th>0</th>\n",
       "      <td>1871</td>\n",
       "      <td>1</td>\n",
       "      <td>NaN</td>\n",
       "      <td>NaN</td>\n",
       "      <td>NaN</td>\n",
       "    </tr>\n",
       "    <tr>\n",
       "      <th>1</th>\n",
       "      <td>1871</td>\n",
       "      <td>2</td>\n",
       "      <td>-0.011806</td>\n",
       "      <td>-0.023076</td>\n",
       "      <td>-0.025605</td>\n",
       "    </tr>\n",
       "    <tr>\n",
       "      <th>2</th>\n",
       "      <td>1871</td>\n",
       "      <td>3</td>\n",
       "      <td>0.014264</td>\n",
       "      <td>0.001081</td>\n",
       "      <td>-0.010462</td>\n",
       "    </tr>\n",
       "    <tr>\n",
       "      <th>3</th>\n",
       "      <td>1871</td>\n",
       "      <td>4</td>\n",
       "      <td>0.072055</td>\n",
       "      <td>0.046755</td>\n",
       "      <td>0.042245</td>\n",
       "    </tr>\n",
       "    <tr>\n",
       "      <th>4</th>\n",
       "      <td>1871</td>\n",
       "      <td>5</td>\n",
       "      <td>0.053808</td>\n",
       "      <td>0.017931</td>\n",
       "      <td>0.027506</td>\n",
       "    </tr>\n",
       "    <tr>\n",
       "      <th>...</th>\n",
       "      <td>...</td>\n",
       "      <td>...</td>\n",
       "      <td>...</td>\n",
       "      <td>...</td>\n",
       "      <td>...</td>\n",
       "    </tr>\n",
       "    <tr>\n",
       "      <th>1797</th>\n",
       "      <td>2020</td>\n",
       "      <td>10</td>\n",
       "      <td>0.016833</td>\n",
       "      <td>-0.011302</td>\n",
       "      <td>-0.010401</td>\n",
       "    </tr>\n",
       "    <tr>\n",
       "      <th>1798</th>\n",
       "      <td>2020</td>\n",
       "      <td>11</td>\n",
       "      <td>0.040172</td>\n",
       "      <td>-0.016761</td>\n",
       "      <td>-0.006381</td>\n",
       "    </tr>\n",
       "    <tr>\n",
       "      <th>1799</th>\n",
       "      <td>2020</td>\n",
       "      <td>12</td>\n",
       "      <td>0.041616</td>\n",
       "      <td>-0.009331</td>\n",
       "      <td>-0.005928</td>\n",
       "    </tr>\n",
       "    <tr>\n",
       "      <th>1800</th>\n",
       "      <td>2021</td>\n",
       "      <td>1</td>\n",
       "      <td>0.023595</td>\n",
       "      <td>0.004294</td>\n",
       "      <td>-0.017586</td>\n",
       "    </tr>\n",
       "    <tr>\n",
       "      <th>1801</th>\n",
       "      <td>2021</td>\n",
       "      <td>2</td>\n",
       "      <td>0.022746</td>\n",
       "      <td>-0.031826</td>\n",
       "      <td>-0.018042</td>\n",
       "    </tr>\n",
       "  </tbody>\n",
       "</table>\n",
       "<p>1802 rows × 5 columns</p>\n",
       "</div>"
      ],
      "text/plain": [
       "      Year  Month  S&P500_returns  Gold_returns  bond_returns\n",
       "0     1871      1             NaN           NaN           NaN\n",
       "1     1871      2       -0.011806     -0.023076     -0.025605\n",
       "2     1871      3        0.014264      0.001081     -0.010462\n",
       "3     1871      4        0.072055      0.046755      0.042245\n",
       "4     1871      5        0.053808      0.017931      0.027506\n",
       "...    ...    ...             ...           ...           ...\n",
       "1797  2020     10        0.016833     -0.011302     -0.010401\n",
       "1798  2020     11        0.040172     -0.016761     -0.006381\n",
       "1799  2020     12        0.041616     -0.009331     -0.005928\n",
       "1800  2021      1        0.023595      0.004294     -0.017586\n",
       "1801  2021      2        0.022746     -0.031826     -0.018042\n",
       "\n",
       "[1802 rows x 5 columns]"
      ]
     },
     "execution_count": 362,
     "metadata": {},
     "output_type": "execute_result"
    }
   ],
   "source": [
    "rets"
   ]
  },
  {
   "cell_type": "markdown",
   "metadata": {},
   "source": [
    "## Q1"
   ]
  },
  {
   "cell_type": "code",
   "execution_count": 363,
   "metadata": {},
   "outputs": [],
   "source": [
    "mask = (rets.Year <= 1999)"
   ]
  },
  {
   "cell_type": "code",
   "execution_count": 364,
   "metadata": {},
   "outputs": [],
   "source": [
    "rets_99 = rets.loc[mask]"
   ]
  },
  {
   "cell_type": "code",
   "execution_count": 365,
   "metadata": {},
   "outputs": [],
   "source": [
    "cov = rets_99[['S&P500_returns','Gold_returns', 'bond_returns' ]].cov()"
   ]
  },
  {
   "cell_type": "code",
   "execution_count": 366,
   "metadata": {},
   "outputs": [
    {
     "data": {
      "text/html": [
       "<div>\n",
       "<style scoped>\n",
       "    .dataframe tbody tr th:only-of-type {\n",
       "        vertical-align: middle;\n",
       "    }\n",
       "\n",
       "    .dataframe tbody tr th {\n",
       "        vertical-align: top;\n",
       "    }\n",
       "\n",
       "    .dataframe thead th {\n",
       "        text-align: right;\n",
       "    }\n",
       "</style>\n",
       "<table border=\"1\" class=\"dataframe\">\n",
       "  <thead>\n",
       "    <tr style=\"text-align: right;\">\n",
       "      <th></th>\n",
       "      <th>S&amp;P500_returns</th>\n",
       "      <th>Gold_returns</th>\n",
       "      <th>bond_returns</th>\n",
       "    </tr>\n",
       "  </thead>\n",
       "  <tbody>\n",
       "    <tr>\n",
       "      <th>S&amp;P500_returns</th>\n",
       "      <td>0.001721</td>\n",
       "      <td>0.000102</td>\n",
       "      <td>0.000134</td>\n",
       "    </tr>\n",
       "    <tr>\n",
       "      <th>Gold_returns</th>\n",
       "      <td>0.000102</td>\n",
       "      <td>0.001167</td>\n",
       "      <td>0.000101</td>\n",
       "    </tr>\n",
       "    <tr>\n",
       "      <th>bond_returns</th>\n",
       "      <td>0.000134</td>\n",
       "      <td>0.000101</td>\n",
       "      <td>0.000258</td>\n",
       "    </tr>\n",
       "  </tbody>\n",
       "</table>\n",
       "</div>"
      ],
      "text/plain": [
       "                S&P500_returns  Gold_returns  bond_returns\n",
       "S&P500_returns        0.001721      0.000102      0.000134\n",
       "Gold_returns          0.000102      0.001167      0.000101\n",
       "bond_returns          0.000134      0.000101      0.000258"
      ]
     },
     "execution_count": 366,
     "metadata": {},
     "output_type": "execute_result"
    }
   ],
   "source": [
    "cov"
   ]
  },
  {
   "cell_type": "code",
   "execution_count": 367,
   "metadata": {},
   "outputs": [],
   "source": [
    "mean_excess_rets = np.array(rets_99.mean())"
   ]
  },
  {
   "cell_type": "code",
   "execution_count": 368,
   "metadata": {},
   "outputs": [],
   "source": [
    "mean_excess_rets = mean_excess_rets[2:]"
   ]
  },
  {
   "cell_type": "code",
   "execution_count": 369,
   "metadata": {},
   "outputs": [
    {
     "data": {
      "text/plain": [
       "array([0.00682765, 0.00056208, 0.00230286])"
      ]
     },
     "execution_count": 369,
     "metadata": {},
     "output_type": "execute_result"
    }
   ],
   "source": [
    "mean_excess_rets"
   ]
  },
  {
   "cell_type": "code",
   "execution_count": 370,
   "metadata": {},
   "outputs": [],
   "source": [
    "sharpe_weights = mean_excess_rets.dot(np.linalg.inv(cov))"
   ]
  },
  {
   "cell_type": "code",
   "execution_count": 371,
   "metadata": {},
   "outputs": [],
   "source": [
    "sharpe_weights = sharpe_weights/sum(sharpe_weights)"
   ]
  },
  {
   "cell_type": "markdown",
   "metadata": {},
   "source": [
    "## Optimal Sharpe Portfolio Weights"
   ]
  },
  {
   "cell_type": "code",
   "execution_count": 372,
   "metadata": {},
   "outputs": [
    {
     "data": {
      "text/plain": [
       "array([ 0.33194785, -0.04392734,  0.71197948])"
      ]
     },
     "execution_count": 372,
     "metadata": {},
     "output_type": "execute_result"
    }
   ],
   "source": [
    "sharpe_weights"
   ]
  },
  {
   "cell_type": "code",
   "execution_count": 373,
   "metadata": {},
   "outputs": [
    {
     "name": "stderr",
     "output_type": "stream",
     "text": [
      "C:\\ProgramData\\Anaconda3\\lib\\site-packages\\ipykernel_launcher.py:1: SettingWithCopyWarning: \n",
      "A value is trying to be set on a copy of a slice from a DataFrame.\n",
      "Try using .loc[row_indexer,col_indexer] = value instead\n",
      "\n",
      "See the caveats in the documentation: https://pandas.pydata.org/pandas-docs/stable/user_guide/indexing.html#returning-a-view-versus-a-copy\n",
      "  \"\"\"Entry point for launching an IPython kernel.\n"
     ]
    }
   ],
   "source": [
    "rets_99['optimal_pf_rets'] = (0.33194785*rets_99['S&P500_returns'])+(-0.04392734*rets_99['Gold_returns']) + ( 0.71197948*rets_99['bond_returns'])"
   ]
  },
  {
   "cell_type": "code",
   "execution_count": 374,
   "metadata": {},
   "outputs": [
    {
     "data": {
      "text/html": [
       "<div>\n",
       "<style scoped>\n",
       "    .dataframe tbody tr th:only-of-type {\n",
       "        vertical-align: middle;\n",
       "    }\n",
       "\n",
       "    .dataframe tbody tr th {\n",
       "        vertical-align: top;\n",
       "    }\n",
       "\n",
       "    .dataframe thead th {\n",
       "        text-align: right;\n",
       "    }\n",
       "</style>\n",
       "<table border=\"1\" class=\"dataframe\">\n",
       "  <thead>\n",
       "    <tr style=\"text-align: right;\">\n",
       "      <th></th>\n",
       "      <th>Year</th>\n",
       "      <th>Month</th>\n",
       "      <th>S&amp;P500_returns</th>\n",
       "      <th>Gold_returns</th>\n",
       "      <th>bond_returns</th>\n",
       "      <th>optimal_pf_rets</th>\n",
       "    </tr>\n",
       "  </thead>\n",
       "  <tbody>\n",
       "    <tr>\n",
       "      <th>0</th>\n",
       "      <td>1871</td>\n",
       "      <td>1</td>\n",
       "      <td>NaN</td>\n",
       "      <td>NaN</td>\n",
       "      <td>NaN</td>\n",
       "      <td>NaN</td>\n",
       "    </tr>\n",
       "    <tr>\n",
       "      <th>1</th>\n",
       "      <td>1871</td>\n",
       "      <td>2</td>\n",
       "      <td>-0.011806</td>\n",
       "      <td>-0.023076</td>\n",
       "      <td>-0.025605</td>\n",
       "      <td>-0.021136</td>\n",
       "    </tr>\n",
       "    <tr>\n",
       "      <th>2</th>\n",
       "      <td>1871</td>\n",
       "      <td>3</td>\n",
       "      <td>0.014264</td>\n",
       "      <td>0.001081</td>\n",
       "      <td>-0.010462</td>\n",
       "      <td>-0.002761</td>\n",
       "    </tr>\n",
       "    <tr>\n",
       "      <th>3</th>\n",
       "      <td>1871</td>\n",
       "      <td>4</td>\n",
       "      <td>0.072055</td>\n",
       "      <td>0.046755</td>\n",
       "      <td>0.042245</td>\n",
       "      <td>0.051943</td>\n",
       "    </tr>\n",
       "    <tr>\n",
       "      <th>4</th>\n",
       "      <td>1871</td>\n",
       "      <td>5</td>\n",
       "      <td>0.053808</td>\n",
       "      <td>0.017931</td>\n",
       "      <td>0.027506</td>\n",
       "      <td>0.036657</td>\n",
       "    </tr>\n",
       "  </tbody>\n",
       "</table>\n",
       "</div>"
      ],
      "text/plain": [
       "   Year  Month  S&P500_returns  Gold_returns  bond_returns  optimal_pf_rets\n",
       "0  1871      1             NaN           NaN           NaN              NaN\n",
       "1  1871      2       -0.011806     -0.023076     -0.025605        -0.021136\n",
       "2  1871      3        0.014264      0.001081     -0.010462        -0.002761\n",
       "3  1871      4        0.072055      0.046755      0.042245         0.051943\n",
       "4  1871      5        0.053808      0.017931      0.027506         0.036657"
      ]
     },
     "execution_count": 374,
     "metadata": {},
     "output_type": "execute_result"
    }
   ],
   "source": [
    "rets_99.head()"
   ]
  },
  {
   "cell_type": "markdown",
   "metadata": {},
   "source": [
    "## Q2"
   ]
  },
  {
   "cell_type": "code",
   "execution_count": 375,
   "metadata": {},
   "outputs": [
    {
     "data": {
      "text/plain": [
       "S&P500_returns     0.006828\n",
       "Gold_returns       0.000562\n",
       "bond_returns       0.002303\n",
       "optimal_pf_rets    0.003881\n",
       "dtype: float64"
      ]
     },
     "execution_count": 375,
     "metadata": {},
     "output_type": "execute_result"
    }
   ],
   "source": [
    "means_monthly = rets_99[['S&P500_returns','Gold_returns','bond_returns','optimal_pf_rets']].mean()\n",
    "means_monthly"
   ]
  },
  {
   "cell_type": "code",
   "execution_count": 376,
   "metadata": {},
   "outputs": [
    {
     "data": {
      "text/plain": [
       "S&P500_returns     0.041489\n",
       "Gold_returns       0.034159\n",
       "bond_returns       0.016048\n",
       "optimal_pf_rets    0.019399\n",
       "dtype: float64"
      ]
     },
     "execution_count": 376,
     "metadata": {},
     "output_type": "execute_result"
    }
   ],
   "source": [
    "std_monthly = rets_99[['S&P500_returns','Gold_returns','bond_returns','optimal_pf_rets']].std()\n",
    "std_monthly"
   ]
  },
  {
   "cell_type": "code",
   "execution_count": 377,
   "metadata": {},
   "outputs": [
    {
     "data": {
      "text/plain": [
       "S&P500_returns     0.164567\n",
       "Gold_returns       0.016455\n",
       "bond_returns       0.143497\n",
       "optimal_pf_rets    0.200082\n",
       "dtype: float64"
      ]
     },
     "execution_count": 377,
     "metadata": {},
     "output_type": "execute_result"
    }
   ],
   "source": [
    "sharpe_monthly = means_monthly/std_monthly\n",
    "sharpe_monthly"
   ]
  },
  {
   "cell_type": "markdown",
   "metadata": {},
   "source": [
    "## Q3 converting the returns to overlapping returns"
   ]
  },
  {
   "cell_type": "code",
   "execution_count": 378,
   "metadata": {},
   "outputs": [],
   "source": [
    "mask1 = (df.Year <= 1999 )"
   ]
  },
  {
   "cell_type": "code",
   "execution_count": 379,
   "metadata": {},
   "outputs": [],
   "source": [
    "df1 = df.loc[mask1]"
   ]
  },
  {
   "cell_type": "code",
   "execution_count": 380,
   "metadata": {},
   "outputs": [
    {
     "data": {
      "text/html": [
       "<div>\n",
       "<style scoped>\n",
       "    .dataframe tbody tr th:only-of-type {\n",
       "        vertical-align: middle;\n",
       "    }\n",
       "\n",
       "    .dataframe tbody tr th {\n",
       "        vertical-align: top;\n",
       "    }\n",
       "\n",
       "    .dataframe thead th {\n",
       "        text-align: right;\n",
       "    }\n",
       "</style>\n",
       "<table border=\"1\" class=\"dataframe\">\n",
       "  <thead>\n",
       "    <tr style=\"text-align: right;\">\n",
       "      <th></th>\n",
       "      <th>Year</th>\n",
       "      <th>Month</th>\n",
       "      <th>CPI</th>\n",
       "      <th>S&amp;P500</th>\n",
       "      <th>Earnings</th>\n",
       "      <th>Dividends</th>\n",
       "      <th>10Y treasury</th>\n",
       "      <th>Gold</th>\n",
       "      <th>CPI_lag</th>\n",
       "      <th>S&amp;P500_infl_adj</th>\n",
       "      <th>S&amp;P500_returns</th>\n",
       "      <th>Gold_adj_infl</th>\n",
       "      <th>Gold_returns</th>\n",
       "      <th>yield_lag</th>\n",
       "      <th>c/r</th>\n",
       "      <th>c/r+</th>\n",
       "      <th>bond_price</th>\n",
       "      <th>infl</th>\n",
       "      <th>bond_returns</th>\n",
       "    </tr>\n",
       "  </thead>\n",
       "  <tbody>\n",
       "    <tr>\n",
       "      <th>0</th>\n",
       "      <td>1871</td>\n",
       "      <td>1</td>\n",
       "      <td>12.464</td>\n",
       "      <td>4.44</td>\n",
       "      <td>0.0333</td>\n",
       "      <td>0.0217</td>\n",
       "      <td>0.053200</td>\n",
       "      <td>20.63</td>\n",
       "      <td>12.845</td>\n",
       "      <td>NaN</td>\n",
       "      <td>NaN</td>\n",
       "      <td>NaN</td>\n",
       "      <td>NaN</td>\n",
       "      <td>NaN</td>\n",
       "      <td>NaN</td>\n",
       "      <td>NaN</td>\n",
       "      <td>NaN</td>\n",
       "      <td>NaN</td>\n",
       "      <td>NaN</td>\n",
       "    </tr>\n",
       "    <tr>\n",
       "      <th>1</th>\n",
       "      <td>1871</td>\n",
       "      <td>2</td>\n",
       "      <td>12.845</td>\n",
       "      <td>4.50</td>\n",
       "      <td>0.0333</td>\n",
       "      <td>0.0217</td>\n",
       "      <td>0.053233</td>\n",
       "      <td>20.77</td>\n",
       "      <td>13.035</td>\n",
       "      <td>4.575722</td>\n",
       "      <td>-0.011806</td>\n",
       "      <td>21.260619</td>\n",
       "      <td>-0.023076</td>\n",
       "      <td>0.053200</td>\n",
       "      <td>0.999380</td>\n",
       "      <td>0.004800</td>\n",
       "      <td>1.004180</td>\n",
       "      <td>1.030568</td>\n",
       "      <td>-0.025605</td>\n",
       "    </tr>\n",
       "    <tr>\n",
       "      <th>2</th>\n",
       "      <td>1871</td>\n",
       "      <td>3</td>\n",
       "      <td>13.035</td>\n",
       "      <td>4.61</td>\n",
       "      <td>0.0333</td>\n",
       "      <td>0.0217</td>\n",
       "      <td>0.053267</td>\n",
       "      <td>21.10</td>\n",
       "      <td>12.559</td>\n",
       "      <td>4.566563</td>\n",
       "      <td>0.014264</td>\n",
       "      <td>21.077225</td>\n",
       "      <td>0.001081</td>\n",
       "      <td>0.053233</td>\n",
       "      <td>0.999362</td>\n",
       "      <td>0.004813</td>\n",
       "      <td>1.004175</td>\n",
       "      <td>1.014792</td>\n",
       "      <td>-0.010462</td>\n",
       "    </tr>\n",
       "    <tr>\n",
       "      <th>3</th>\n",
       "      <td>1871</td>\n",
       "      <td>4</td>\n",
       "      <td>12.559</td>\n",
       "      <td>4.74</td>\n",
       "      <td>0.0333</td>\n",
       "      <td>0.0217</td>\n",
       "      <td>0.053300</td>\n",
       "      <td>21.28</td>\n",
       "      <td>12.274</td>\n",
       "      <td>4.441656</td>\n",
       "      <td>0.072055</td>\n",
       "      <td>20.329490</td>\n",
       "      <td>0.046755</td>\n",
       "      <td>0.053267</td>\n",
       "      <td>0.999381</td>\n",
       "      <td>0.004805</td>\n",
       "      <td>1.004186</td>\n",
       "      <td>0.963483</td>\n",
       "      <td>0.042245</td>\n",
       "    </tr>\n",
       "    <tr>\n",
       "      <th>4</th>\n",
       "      <td>1871</td>\n",
       "      <td>5</td>\n",
       "      <td>12.274</td>\n",
       "      <td>4.86</td>\n",
       "      <td>0.0333</td>\n",
       "      <td>0.0217</td>\n",
       "      <td>0.053333</td>\n",
       "      <td>21.17</td>\n",
       "      <td>12.083</td>\n",
       "      <td>4.632436</td>\n",
       "      <td>0.053808</td>\n",
       "      <td>20.797095</td>\n",
       "      <td>0.017931</td>\n",
       "      <td>0.053300</td>\n",
       "      <td>0.999381</td>\n",
       "      <td>0.004807</td>\n",
       "      <td>1.004188</td>\n",
       "      <td>0.977307</td>\n",
       "      <td>0.027506</td>\n",
       "    </tr>\n",
       "  </tbody>\n",
       "</table>\n",
       "</div>"
      ],
      "text/plain": [
       "   Year  Month     CPI  S&P500  Earnings  Dividends  10Y treasury   Gold  \\\n",
       "0  1871      1  12.464    4.44    0.0333     0.0217      0.053200  20.63   \n",
       "1  1871      2  12.845    4.50    0.0333     0.0217      0.053233  20.77   \n",
       "2  1871      3  13.035    4.61    0.0333     0.0217      0.053267  21.10   \n",
       "3  1871      4  12.559    4.74    0.0333     0.0217      0.053300  21.28   \n",
       "4  1871      5  12.274    4.86    0.0333     0.0217      0.053333  21.17   \n",
       "\n",
       "   CPI_lag  S&P500_infl_adj  S&P500_returns  Gold_adj_infl  Gold_returns  \\\n",
       "0   12.845              NaN             NaN            NaN           NaN   \n",
       "1   13.035         4.575722       -0.011806      21.260619     -0.023076   \n",
       "2   12.559         4.566563        0.014264      21.077225      0.001081   \n",
       "3   12.274         4.441656        0.072055      20.329490      0.046755   \n",
       "4   12.083         4.632436        0.053808      20.797095      0.017931   \n",
       "\n",
       "   yield_lag       c/r      c/r+  bond_price      infl  bond_returns  \n",
       "0        NaN       NaN       NaN         NaN       NaN           NaN  \n",
       "1   0.053200  0.999380  0.004800    1.004180  1.030568     -0.025605  \n",
       "2   0.053233  0.999362  0.004813    1.004175  1.014792     -0.010462  \n",
       "3   0.053267  0.999381  0.004805    1.004186  0.963483      0.042245  \n",
       "4   0.053300  0.999381  0.004807    1.004188  0.977307      0.027506  "
      ]
     },
     "execution_count": 380,
     "metadata": {},
     "output_type": "execute_result"
    }
   ],
   "source": [
    "df1.head()"
   ]
  },
  {
   "cell_type": "code",
   "execution_count": 381,
   "metadata": {},
   "outputs": [],
   "source": [
    "r = []\n",
    "for index, row in df1.iterrows():\n",
    "    current_row = row['S&P500']\n",
    "    b = df['S&P500'][index+11]\n",
    "    x = (b/current_row) - 1\n",
    "    r.append(x)\n",
    "    "
   ]
  },
  {
   "cell_type": "code",
   "execution_count": 382,
   "metadata": {},
   "outputs": [
    {
     "name": "stderr",
     "output_type": "stream",
     "text": [
      "C:\\ProgramData\\Anaconda3\\lib\\site-packages\\ipykernel_launcher.py:1: SettingWithCopyWarning: \n",
      "A value is trying to be set on a copy of a slice from a DataFrame.\n",
      "Try using .loc[row_indexer,col_indexer] = value instead\n",
      "\n",
      "See the caveats in the documentation: https://pandas.pydata.org/pandas-docs/stable/user_guide/indexing.html#returning-a-view-versus-a-copy\n",
      "  \"\"\"Entry point for launching an IPython kernel.\n"
     ]
    }
   ],
   "source": [
    "df1['overlapping_S&P_rets'] = r"
   ]
  },
  {
   "cell_type": "code",
   "execution_count": 383,
   "metadata": {},
   "outputs": [],
   "source": [
    "s = []\n",
    "for index, row in df1.iterrows():\n",
    "    current_row = row['Gold']\n",
    "    b = df['Gold'][index+11]\n",
    "    x = (b/current_row) - 1\n",
    "    s.append(x)\n",
    "    "
   ]
  },
  {
   "cell_type": "code",
   "execution_count": 384,
   "metadata": {},
   "outputs": [
    {
     "name": "stderr",
     "output_type": "stream",
     "text": [
      "C:\\ProgramData\\Anaconda3\\lib\\site-packages\\ipykernel_launcher.py:1: SettingWithCopyWarning: \n",
      "A value is trying to be set on a copy of a slice from a DataFrame.\n",
      "Try using .loc[row_indexer,col_indexer] = value instead\n",
      "\n",
      "See the caveats in the documentation: https://pandas.pydata.org/pandas-docs/stable/user_guide/indexing.html#returning-a-view-versus-a-copy\n",
      "  \"\"\"Entry point for launching an IPython kernel.\n"
     ]
    }
   ],
   "source": [
    "df1['overlapping_Gold_rets'] = s"
   ]
  },
  {
   "cell_type": "code",
   "execution_count": 385,
   "metadata": {},
   "outputs": [],
   "source": [
    "t = []\n",
    "for index, row in df1.iterrows():\n",
    "    current_row = row['bond_price']\n",
    "    b = df['bond_price'][index+11]\n",
    "    x = (b/current_row) - 1\n",
    "    t.append(x)"
   ]
  },
  {
   "cell_type": "code",
   "execution_count": 386,
   "metadata": {},
   "outputs": [
    {
     "name": "stderr",
     "output_type": "stream",
     "text": [
      "C:\\ProgramData\\Anaconda3\\lib\\site-packages\\ipykernel_launcher.py:1: SettingWithCopyWarning: \n",
      "A value is trying to be set on a copy of a slice from a DataFrame.\n",
      "Try using .loc[row_indexer,col_indexer] = value instead\n",
      "\n",
      "See the caveats in the documentation: https://pandas.pydata.org/pandas-docs/stable/user_guide/indexing.html#returning-a-view-versus-a-copy\n",
      "  \"\"\"Entry point for launching an IPython kernel.\n"
     ]
    }
   ],
   "source": [
    "df1['overlapping_bond_rets'] = t"
   ]
  },
  {
   "cell_type": "code",
   "execution_count": 387,
   "metadata": {
    "scrolled": true
   },
   "outputs": [
    {
     "data": {
      "text/html": [
       "<div>\n",
       "<style scoped>\n",
       "    .dataframe tbody tr th:only-of-type {\n",
       "        vertical-align: middle;\n",
       "    }\n",
       "\n",
       "    .dataframe tbody tr th {\n",
       "        vertical-align: top;\n",
       "    }\n",
       "\n",
       "    .dataframe thead th {\n",
       "        text-align: right;\n",
       "    }\n",
       "</style>\n",
       "<table border=\"1\" class=\"dataframe\">\n",
       "  <thead>\n",
       "    <tr style=\"text-align: right;\">\n",
       "      <th></th>\n",
       "      <th>Year</th>\n",
       "      <th>Month</th>\n",
       "      <th>CPI</th>\n",
       "      <th>S&amp;P500</th>\n",
       "      <th>Earnings</th>\n",
       "      <th>Dividends</th>\n",
       "      <th>10Y treasury</th>\n",
       "      <th>Gold</th>\n",
       "      <th>CPI_lag</th>\n",
       "      <th>S&amp;P500_infl_adj</th>\n",
       "      <th>...</th>\n",
       "      <th>Gold_returns</th>\n",
       "      <th>yield_lag</th>\n",
       "      <th>c/r</th>\n",
       "      <th>c/r+</th>\n",
       "      <th>bond_price</th>\n",
       "      <th>infl</th>\n",
       "      <th>bond_returns</th>\n",
       "      <th>overlapping_S&amp;P_rets</th>\n",
       "      <th>overlapping_Gold_rets</th>\n",
       "      <th>overlapping_bond_rets</th>\n",
       "    </tr>\n",
       "  </thead>\n",
       "  <tbody>\n",
       "    <tr>\n",
       "      <th>0</th>\n",
       "      <td>1871</td>\n",
       "      <td>1</td>\n",
       "      <td>12.464</td>\n",
       "      <td>4.44</td>\n",
       "      <td>0.0333</td>\n",
       "      <td>0.0217</td>\n",
       "      <td>0.053200</td>\n",
       "      <td>20.63</td>\n",
       "      <td>12.845</td>\n",
       "      <td>NaN</td>\n",
       "      <td>...</td>\n",
       "      <td>NaN</td>\n",
       "      <td>NaN</td>\n",
       "      <td>NaN</td>\n",
       "      <td>NaN</td>\n",
       "      <td>NaN</td>\n",
       "      <td>NaN</td>\n",
       "      <td>NaN</td>\n",
       "      <td>0.067568</td>\n",
       "      <td>0.000000</td>\n",
       "      <td>NaN</td>\n",
       "    </tr>\n",
       "    <tr>\n",
       "      <th>1</th>\n",
       "      <td>1871</td>\n",
       "      <td>2</td>\n",
       "      <td>12.845</td>\n",
       "      <td>4.50</td>\n",
       "      <td>0.0333</td>\n",
       "      <td>0.0217</td>\n",
       "      <td>0.053233</td>\n",
       "      <td>20.77</td>\n",
       "      <td>13.035</td>\n",
       "      <td>4.575722</td>\n",
       "      <td>...</td>\n",
       "      <td>-0.023076</td>\n",
       "      <td>0.053200</td>\n",
       "      <td>0.999380</td>\n",
       "      <td>0.004800</td>\n",
       "      <td>1.004180</td>\n",
       "      <td>1.030568</td>\n",
       "      <td>-0.025605</td>\n",
       "      <td>0.080000</td>\n",
       "      <td>0.008666</td>\n",
       "      <td>0.000031</td>\n",
       "    </tr>\n",
       "    <tr>\n",
       "      <th>2</th>\n",
       "      <td>1871</td>\n",
       "      <td>3</td>\n",
       "      <td>13.035</td>\n",
       "      <td>4.61</td>\n",
       "      <td>0.0333</td>\n",
       "      <td>0.0217</td>\n",
       "      <td>0.053267</td>\n",
       "      <td>21.10</td>\n",
       "      <td>12.559</td>\n",
       "      <td>4.566563</td>\n",
       "      <td>...</td>\n",
       "      <td>0.001081</td>\n",
       "      <td>0.053233</td>\n",
       "      <td>0.999362</td>\n",
       "      <td>0.004813</td>\n",
       "      <td>1.004175</td>\n",
       "      <td>1.014792</td>\n",
       "      <td>-0.010462</td>\n",
       "      <td>0.058568</td>\n",
       "      <td>-0.014218</td>\n",
       "      <td>-0.001105</td>\n",
       "    </tr>\n",
       "    <tr>\n",
       "      <th>3</th>\n",
       "      <td>1871</td>\n",
       "      <td>4</td>\n",
       "      <td>12.559</td>\n",
       "      <td>4.74</td>\n",
       "      <td>0.0333</td>\n",
       "      <td>0.0217</td>\n",
       "      <td>0.053300</td>\n",
       "      <td>21.28</td>\n",
       "      <td>12.274</td>\n",
       "      <td>4.441656</td>\n",
       "      <td>...</td>\n",
       "      <td>0.046755</td>\n",
       "      <td>0.053267</td>\n",
       "      <td>0.999381</td>\n",
       "      <td>0.004805</td>\n",
       "      <td>1.004186</td>\n",
       "      <td>0.963483</td>\n",
       "      <td>0.042245</td>\n",
       "      <td>0.063291</td>\n",
       "      <td>-0.030545</td>\n",
       "      <td>-0.001107</td>\n",
       "    </tr>\n",
       "    <tr>\n",
       "      <th>4</th>\n",
       "      <td>1871</td>\n",
       "      <td>5</td>\n",
       "      <td>12.274</td>\n",
       "      <td>4.86</td>\n",
       "      <td>0.0333</td>\n",
       "      <td>0.0217</td>\n",
       "      <td>0.053333</td>\n",
       "      <td>21.17</td>\n",
       "      <td>12.083</td>\n",
       "      <td>4.632436</td>\n",
       "      <td>...</td>\n",
       "      <td>0.017931</td>\n",
       "      <td>0.053300</td>\n",
       "      <td>0.999381</td>\n",
       "      <td>0.004807</td>\n",
       "      <td>1.004188</td>\n",
       "      <td>0.977307</td>\n",
       "      <td>0.027506</td>\n",
       "      <td>0.065844</td>\n",
       "      <td>-0.023146</td>\n",
       "      <td>-0.001085</td>\n",
       "    </tr>\n",
       "    <tr>\n",
       "      <th>...</th>\n",
       "      <td>...</td>\n",
       "      <td>...</td>\n",
       "      <td>...</td>\n",
       "      <td>...</td>\n",
       "      <td>...</td>\n",
       "      <td>...</td>\n",
       "      <td>...</td>\n",
       "      <td>...</td>\n",
       "      <td>...</td>\n",
       "      <td>...</td>\n",
       "      <td>...</td>\n",
       "      <td>...</td>\n",
       "      <td>...</td>\n",
       "      <td>...</td>\n",
       "      <td>...</td>\n",
       "      <td>...</td>\n",
       "      <td>...</td>\n",
       "      <td>...</td>\n",
       "      <td>...</td>\n",
       "      <td>...</td>\n",
       "      <td>...</td>\n",
       "    </tr>\n",
       "    <tr>\n",
       "      <th>1543</th>\n",
       "      <td>1999</td>\n",
       "      <td>8</td>\n",
       "      <td>167.100</td>\n",
       "      <td>1327.49</td>\n",
       "      <td>3.5817</td>\n",
       "      <td>1.3814</td>\n",
       "      <td>0.059400</td>\n",
       "      <td>256.94</td>\n",
       "      <td>167.900</td>\n",
       "      <td>1384.303713</td>\n",
       "      <td>...</td>\n",
       "      <td>0.000488</td>\n",
       "      <td>0.057900</td>\n",
       "      <td>0.974747</td>\n",
       "      <td>0.018888</td>\n",
       "      <td>0.993636</td>\n",
       "      <td>1.002400</td>\n",
       "      <td>-0.008743</td>\n",
       "      <td>0.109613</td>\n",
       "      <td>0.098116</td>\n",
       "      <td>0.015255</td>\n",
       "    </tr>\n",
       "    <tr>\n",
       "      <th>1544</th>\n",
       "      <td>1999</td>\n",
       "      <td>9</td>\n",
       "      <td>167.900</td>\n",
       "      <td>1318.17</td>\n",
       "      <td>3.6633</td>\n",
       "      <td>1.3867</td>\n",
       "      <td>0.059200</td>\n",
       "      <td>264.47</td>\n",
       "      <td>168.200</td>\n",
       "      <td>1333.845428</td>\n",
       "      <td>...</td>\n",
       "      <td>0.024402</td>\n",
       "      <td>0.059400</td>\n",
       "      <td>1.003378</td>\n",
       "      <td>0.003065</td>\n",
       "      <td>1.006443</td>\n",
       "      <td>1.004788</td>\n",
       "      <td>0.001648</td>\n",
       "      <td>0.126911</td>\n",
       "      <td>0.038001</td>\n",
       "      <td>0.014996</td>\n",
       "    </tr>\n",
       "    <tr>\n",
       "      <th>1545</th>\n",
       "      <td>1999</td>\n",
       "      <td>10</td>\n",
       "      <td>168.200</td>\n",
       "      <td>1300.01</td>\n",
       "      <td>3.7803</td>\n",
       "      <td>1.3881</td>\n",
       "      <td>0.061100</td>\n",
       "      <td>311.56</td>\n",
       "      <td>168.300</td>\n",
       "      <td>1320.525277</td>\n",
       "      <td>...</td>\n",
       "      <td>0.175953</td>\n",
       "      <td>0.059200</td>\n",
       "      <td>0.968903</td>\n",
       "      <td>0.021968</td>\n",
       "      <td>0.990871</td>\n",
       "      <td>1.001787</td>\n",
       "      <td>-0.010896</td>\n",
       "      <td>0.129261</td>\n",
       "      <td>-0.121582</td>\n",
       "      <td>0.016389</td>\n",
       "    </tr>\n",
       "    <tr>\n",
       "      <th>1546</th>\n",
       "      <td>1999</td>\n",
       "      <td>11</td>\n",
       "      <td>168.300</td>\n",
       "      <td>1391.00</td>\n",
       "      <td>3.8972</td>\n",
       "      <td>1.3894</td>\n",
       "      <td>0.060300</td>\n",
       "      <td>293.65</td>\n",
       "      <td>168.300</td>\n",
       "      <td>1300.782895</td>\n",
       "      <td>...</td>\n",
       "      <td>-0.058045</td>\n",
       "      <td>0.061100</td>\n",
       "      <td>1.013267</td>\n",
       "      <td>-0.002233</td>\n",
       "      <td>1.011034</td>\n",
       "      <td>1.000595</td>\n",
       "      <td>0.010434</td>\n",
       "      <td>-0.000618</td>\n",
       "      <td>-0.079176</td>\n",
       "      <td>-0.001665</td>\n",
       "    </tr>\n",
       "    <tr>\n",
       "      <th>1547</th>\n",
       "      <td>1999</td>\n",
       "      <td>12</td>\n",
       "      <td>168.300</td>\n",
       "      <td>1428.68</td>\n",
       "      <td>4.0142</td>\n",
       "      <td>1.3908</td>\n",
       "      <td>0.062800</td>\n",
       "      <td>283.74</td>\n",
       "      <td>168.800</td>\n",
       "      <td>1391.000000</td>\n",
       "      <td>...</td>\n",
       "      <td>-0.033748</td>\n",
       "      <td>0.060300</td>\n",
       "      <td>0.960191</td>\n",
       "      <td>0.026476</td>\n",
       "      <td>0.986667</td>\n",
       "      <td>1.000000</td>\n",
       "      <td>-0.013333</td>\n",
       "      <td>-0.035445</td>\n",
       "      <td>-0.062557</td>\n",
       "      <td>0.019889</td>\n",
       "    </tr>\n",
       "  </tbody>\n",
       "</table>\n",
       "<p>1548 rows × 22 columns</p>\n",
       "</div>"
      ],
      "text/plain": [
       "      Year  Month      CPI   S&P500  Earnings  Dividends  10Y treasury  \\\n",
       "0     1871      1   12.464     4.44    0.0333     0.0217      0.053200   \n",
       "1     1871      2   12.845     4.50    0.0333     0.0217      0.053233   \n",
       "2     1871      3   13.035     4.61    0.0333     0.0217      0.053267   \n",
       "3     1871      4   12.559     4.74    0.0333     0.0217      0.053300   \n",
       "4     1871      5   12.274     4.86    0.0333     0.0217      0.053333   \n",
       "...    ...    ...      ...      ...       ...        ...           ...   \n",
       "1543  1999      8  167.100  1327.49    3.5817     1.3814      0.059400   \n",
       "1544  1999      9  167.900  1318.17    3.6633     1.3867      0.059200   \n",
       "1545  1999     10  168.200  1300.01    3.7803     1.3881      0.061100   \n",
       "1546  1999     11  168.300  1391.00    3.8972     1.3894      0.060300   \n",
       "1547  1999     12  168.300  1428.68    4.0142     1.3908      0.062800   \n",
       "\n",
       "        Gold  CPI_lag  S&P500_infl_adj  ...  Gold_returns  yield_lag  \\\n",
       "0      20.63   12.845              NaN  ...           NaN        NaN   \n",
       "1      20.77   13.035         4.575722  ...     -0.023076   0.053200   \n",
       "2      21.10   12.559         4.566563  ...      0.001081   0.053233   \n",
       "3      21.28   12.274         4.441656  ...      0.046755   0.053267   \n",
       "4      21.17   12.083         4.632436  ...      0.017931   0.053300   \n",
       "...      ...      ...              ...  ...           ...        ...   \n",
       "1543  256.94  167.900      1384.303713  ...      0.000488   0.057900   \n",
       "1544  264.47  168.200      1333.845428  ...      0.024402   0.059400   \n",
       "1545  311.56  168.300      1320.525277  ...      0.175953   0.059200   \n",
       "1546  293.65  168.300      1300.782895  ...     -0.058045   0.061100   \n",
       "1547  283.74  168.800      1391.000000  ...     -0.033748   0.060300   \n",
       "\n",
       "           c/r      c/r+  bond_price      infl  bond_returns  \\\n",
       "0          NaN       NaN         NaN       NaN           NaN   \n",
       "1     0.999380  0.004800    1.004180  1.030568     -0.025605   \n",
       "2     0.999362  0.004813    1.004175  1.014792     -0.010462   \n",
       "3     0.999381  0.004805    1.004186  0.963483      0.042245   \n",
       "4     0.999381  0.004807    1.004188  0.977307      0.027506   \n",
       "...        ...       ...         ...       ...           ...   \n",
       "1543  0.974747  0.018888    0.993636  1.002400     -0.008743   \n",
       "1544  1.003378  0.003065    1.006443  1.004788      0.001648   \n",
       "1545  0.968903  0.021968    0.990871  1.001787     -0.010896   \n",
       "1546  1.013267 -0.002233    1.011034  1.000595      0.010434   \n",
       "1547  0.960191  0.026476    0.986667  1.000000     -0.013333   \n",
       "\n",
       "      overlapping_S&P_rets  overlapping_Gold_rets  overlapping_bond_rets  \n",
       "0                 0.067568               0.000000                    NaN  \n",
       "1                 0.080000               0.008666               0.000031  \n",
       "2                 0.058568              -0.014218              -0.001105  \n",
       "3                 0.063291              -0.030545              -0.001107  \n",
       "4                 0.065844              -0.023146              -0.001085  \n",
       "...                    ...                    ...                    ...  \n",
       "1543              0.109613               0.098116               0.015255  \n",
       "1544              0.126911               0.038001               0.014996  \n",
       "1545              0.129261              -0.121582               0.016389  \n",
       "1546             -0.000618              -0.079176              -0.001665  \n",
       "1547             -0.035445              -0.062557               0.019889  \n",
       "\n",
       "[1548 rows x 22 columns]"
      ]
     },
     "execution_count": 387,
     "metadata": {},
     "output_type": "execute_result"
    }
   ],
   "source": [
    "df1"
   ]
  },
  {
   "cell_type": "code",
   "execution_count": 388,
   "metadata": {},
   "outputs": [
    {
     "name": "stderr",
     "output_type": "stream",
     "text": [
      "C:\\ProgramData\\Anaconda3\\lib\\site-packages\\ipykernel_launcher.py:1: SettingWithCopyWarning: \n",
      "A value is trying to be set on a copy of a slice from a DataFrame.\n",
      "Try using .loc[row_indexer,col_indexer] = value instead\n",
      "\n",
      "See the caveats in the documentation: https://pandas.pydata.org/pandas-docs/stable/user_guide/indexing.html#returning-a-view-versus-a-copy\n",
      "  \"\"\"Entry point for launching an IPython kernel.\n"
     ]
    }
   ],
   "source": [
    "df1['overlapping_optimal_sharpe_rets'] = (0.33194785*df1['overlapping_S&P_rets'])+(-0.04392734*df1['overlapping_Gold_rets']) + ( 0.71197948*df1['overlapping_bond_rets'])"
   ]
  },
  {
   "cell_type": "code",
   "execution_count": 389,
   "metadata": {},
   "outputs": [],
   "source": [
    "means_overlapping = df1[['overlapping_S&P_rets','overlapping_Gold_rets','overlapping_bond_rets','overlapping_optimal_sharpe_rets']].mean()"
   ]
  },
  {
   "cell_type": "code",
   "execution_count": 390,
   "metadata": {},
   "outputs": [],
   "source": [
    "std_overlapping = df1[['overlapping_S&P_rets','overlapping_Gold_rets','overlapping_bond_rets','overlapping_optimal_sharpe_rets']].std()"
   ]
  },
  {
   "cell_type": "code",
   "execution_count": 391,
   "metadata": {},
   "outputs": [],
   "source": [
    "sharpe_overlapping = means_overlapping/std_overlapping"
   ]
  },
  {
   "cell_type": "markdown",
   "metadata": {},
   "source": [
    "## Mean, SD and Sharpe for overlapping returns"
   ]
  },
  {
   "cell_type": "code",
   "execution_count": 392,
   "metadata": {},
   "outputs": [
    {
     "data": {
      "text/plain": [
       "overlapping_S&P_rets               0.056982\n",
       "overlapping_Gold_rets              0.027817\n",
       "overlapping_bond_rets              0.000144\n",
       "overlapping_optimal_sharpe_rets    0.017792\n",
       "dtype: float64"
      ]
     },
     "execution_count": 392,
     "metadata": {},
     "output_type": "execute_result"
    }
   ],
   "source": [
    "means_overlapping"
   ]
  },
  {
   "cell_type": "code",
   "execution_count": 393,
   "metadata": {},
   "outputs": [
    {
     "data": {
      "text/plain": [
       "overlapping_S&P_rets               0.176537\n",
       "overlapping_Gold_rets              0.158154\n",
       "overlapping_bond_rets              0.014921\n",
       "overlapping_optimal_sharpe_rets    0.058862\n",
       "dtype: float64"
      ]
     },
     "execution_count": 393,
     "metadata": {},
     "output_type": "execute_result"
    }
   ],
   "source": [
    "std_overlapping"
   ]
  },
  {
   "cell_type": "code",
   "execution_count": 394,
   "metadata": {},
   "outputs": [
    {
     "data": {
      "text/plain": [
       "overlapping_S&P_rets               0.322774\n",
       "overlapping_Gold_rets              0.175886\n",
       "overlapping_bond_rets              0.009646\n",
       "overlapping_optimal_sharpe_rets    0.302274\n",
       "dtype: float64"
      ]
     },
     "execution_count": 394,
     "metadata": {},
     "output_type": "execute_result"
    }
   ],
   "source": [
    "sharpe_overlapping"
   ]
  },
  {
   "cell_type": "markdown",
   "metadata": {},
   "source": [
    "## Annualised monthly statistics"
   ]
  },
  {
   "cell_type": "code",
   "execution_count": 395,
   "metadata": {},
   "outputs": [
    {
     "data": {
      "text/plain": [
       "S&P500_returns     0.085080\n",
       "Gold_returns       0.006766\n",
       "bond_returns       0.027987\n",
       "optimal_pf_rets    0.047583\n",
       "dtype: float64"
      ]
     },
     "execution_count": 395,
     "metadata": {},
     "output_type": "execute_result"
    }
   ],
   "source": [
    "mean_annualised = (means_monthly + 1)**(12) - 1\n",
    "mean_annualised"
   ]
  },
  {
   "cell_type": "code",
   "execution_count": 396,
   "metadata": {},
   "outputs": [
    {
     "data": {
      "text/plain": [
       "S&P500_returns     0.143721\n",
       "Gold_returns       0.118331\n",
       "bond_returns       0.055592\n",
       "optimal_pf_rets    0.067199\n",
       "dtype: float64"
      ]
     },
     "execution_count": 396,
     "metadata": {},
     "output_type": "execute_result"
    }
   ],
   "source": [
    "std_annualised = std_monthly*np.sqrt(12)\n",
    "std_annualised"
   ]
  },
  {
   "cell_type": "code",
   "execution_count": 397,
   "metadata": {},
   "outputs": [
    {
     "data": {
      "text/plain": [
       "S&P500_returns     0.591979\n",
       "Gold_returns       0.057177\n",
       "bond_returns       0.503434\n",
       "optimal_pf_rets    0.708094\n",
       "dtype: float64"
      ]
     },
     "execution_count": 397,
     "metadata": {},
     "output_type": "execute_result"
    }
   ],
   "source": [
    "sharpe_annualised = mean_annualised/std_annualised\n",
    "sharpe_annualised"
   ]
  },
  {
   "cell_type": "markdown",
   "metadata": {},
   "source": [
    "## The results are quite different since the methodologies are different for computing these stats."
   ]
  },
  {
   "cell_type": "markdown",
   "metadata": {},
   "source": [
    "## Q4 Converting to 10Y overlapping returns"
   ]
  },
  {
   "cell_type": "code",
   "execution_count": 398,
   "metadata": {},
   "outputs": [],
   "source": [
    "i = []\n",
    "for index, row in df1.iterrows():\n",
    "    current_row = row['S&P500']\n",
    "    b = df['S&P500'][index+120]\n",
    "    x = (b/current_row) - 1\n",
    "    i.append(x)\n",
    "    "
   ]
  },
  {
   "cell_type": "code",
   "execution_count": 399,
   "metadata": {},
   "outputs": [],
   "source": [
    "j = []\n",
    "for index, row in df1.iterrows():\n",
    "    current_row = row['Gold']\n",
    "    b = df['Gold'][index+120]\n",
    "    x = (b/current_row) - 1\n",
    "    j.append(x)"
   ]
  },
  {
   "cell_type": "code",
   "execution_count": 400,
   "metadata": {},
   "outputs": [],
   "source": [
    "k = []\n",
    "for index, row in df1.iterrows():\n",
    "    current_row = row['bond_price']\n",
    "    b = df['bond_price'][index+120]\n",
    "    x = (b/current_row) - 1\n",
    "    k.append(x)"
   ]
  },
  {
   "cell_type": "code",
   "execution_count": 401,
   "metadata": {},
   "outputs": [
    {
     "name": "stderr",
     "output_type": "stream",
     "text": [
      "C:\\ProgramData\\Anaconda3\\lib\\site-packages\\ipykernel_launcher.py:1: SettingWithCopyWarning: \n",
      "A value is trying to be set on a copy of a slice from a DataFrame.\n",
      "Try using .loc[row_indexer,col_indexer] = value instead\n",
      "\n",
      "See the caveats in the documentation: https://pandas.pydata.org/pandas-docs/stable/user_guide/indexing.html#returning-a-view-versus-a-copy\n",
      "  \"\"\"Entry point for launching an IPython kernel.\n",
      "C:\\ProgramData\\Anaconda3\\lib\\site-packages\\ipykernel_launcher.py:2: SettingWithCopyWarning: \n",
      "A value is trying to be set on a copy of a slice from a DataFrame.\n",
      "Try using .loc[row_indexer,col_indexer] = value instead\n",
      "\n",
      "See the caveats in the documentation: https://pandas.pydata.org/pandas-docs/stable/user_guide/indexing.html#returning-a-view-versus-a-copy\n",
      "  \n",
      "C:\\ProgramData\\Anaconda3\\lib\\site-packages\\ipykernel_launcher.py:3: SettingWithCopyWarning: \n",
      "A value is trying to be set on a copy of a slice from a DataFrame.\n",
      "Try using .loc[row_indexer,col_indexer] = value instead\n",
      "\n",
      "See the caveats in the documentation: https://pandas.pydata.org/pandas-docs/stable/user_guide/indexing.html#returning-a-view-versus-a-copy\n",
      "  This is separate from the ipykernel package so we can avoid doing imports until\n"
     ]
    }
   ],
   "source": [
    "df1['overlapping_S&P_10Y'] = i\n",
    "df1['overlapping_Gold_10Y'] = j\n",
    "df1['overlapping_bond_10Y'] = k"
   ]
  },
  {
   "cell_type": "code",
   "execution_count": 402,
   "metadata": {},
   "outputs": [
    {
     "name": "stderr",
     "output_type": "stream",
     "text": [
      "C:\\ProgramData\\Anaconda3\\lib\\site-packages\\ipykernel_launcher.py:1: SettingWithCopyWarning: \n",
      "A value is trying to be set on a copy of a slice from a DataFrame.\n",
      "Try using .loc[row_indexer,col_indexer] = value instead\n",
      "\n",
      "See the caveats in the documentation: https://pandas.pydata.org/pandas-docs/stable/user_guide/indexing.html#returning-a-view-versus-a-copy\n",
      "  \"\"\"Entry point for launching an IPython kernel.\n"
     ]
    }
   ],
   "source": [
    "df1['overlapping_optimal_sharpe_10Y'] = (0.33194785*df1['overlapping_S&P_10Y'])+(-0.04392734*df1['overlapping_Gold_10Y']) + ( 0.71197948*df1['overlapping_bond_10Y'])"
   ]
  },
  {
   "cell_type": "markdown",
   "metadata": {},
   "source": [
    "## 10Y overlapped Stats"
   ]
  },
  {
   "cell_type": "code",
   "execution_count": 403,
   "metadata": {},
   "outputs": [
    {
     "data": {
      "text/plain": [
       "overlapping_S&P_10Y               0.740184\n",
       "overlapping_Gold_10Y              0.626743\n",
       "overlapping_bond_10Y              0.000157\n",
       "overlapping_optimal_sharpe_10Y    0.218340\n",
       "dtype: float64"
      ]
     },
     "execution_count": 403,
     "metadata": {},
     "output_type": "execute_result"
    }
   ],
   "source": [
    "mean_10Y = df1[['overlapping_S&P_10Y','overlapping_Gold_10Y','overlapping_bond_10Y','overlapping_optimal_sharpe_10Y']].mean()\n",
    "mean_10Y"
   ]
  },
  {
   "cell_type": "code",
   "execution_count": 404,
   "metadata": {},
   "outputs": [
    {
     "data": {
      "text/plain": [
       "overlapping_S&P_10Y               0.864476\n",
       "overlapping_Gold_10Y              1.979493\n",
       "overlapping_bond_10Y              0.016101\n",
       "overlapping_optimal_sharpe_10Y    0.313361\n",
       "dtype: float64"
      ]
     },
     "execution_count": 404,
     "metadata": {},
     "output_type": "execute_result"
    }
   ],
   "source": [
    "std_10Y = df1[['overlapping_S&P_10Y','overlapping_Gold_10Y','overlapping_bond_10Y','overlapping_optimal_sharpe_10Y']].std()\n",
    "std_10Y"
   ]
  },
  {
   "cell_type": "code",
   "execution_count": 405,
   "metadata": {},
   "outputs": [
    {
     "data": {
      "text/plain": [
       "overlapping_S&P_10Y               0.856222\n",
       "overlapping_Gold_10Y              0.316618\n",
       "overlapping_bond_10Y              0.009768\n",
       "overlapping_optimal_sharpe_10Y    0.696769\n",
       "dtype: float64"
      ]
     },
     "execution_count": 405,
     "metadata": {},
     "output_type": "execute_result"
    }
   ],
   "source": [
    "sharpe_10Y = mean_10Y/std_10Y\n",
    "sharpe_10Y"
   ]
  },
  {
   "cell_type": "markdown",
   "metadata": {},
   "source": [
    "## Annualising 10Y overlapped data"
   ]
  },
  {
   "cell_type": "code",
   "execution_count": 406,
   "metadata": {},
   "outputs": [
    {
     "data": {
      "text/plain": [
       "overlapping_S&P_10Y               0.056962\n",
       "overlapping_Gold_10Y              0.049861\n",
       "overlapping_bond_10Y              0.000016\n",
       "overlapping_optimal_sharpe_10Y    0.019945\n",
       "dtype: float64"
      ]
     },
     "execution_count": 406,
     "metadata": {},
     "output_type": "execute_result"
    }
   ],
   "source": [
    "mean_10Y_to_annual = (mean_10Y + 1)**(1/10) -1\n",
    "mean_10Y_to_annual"
   ]
  },
  {
   "cell_type": "code",
   "execution_count": 407,
   "metadata": {},
   "outputs": [
    {
     "data": {
      "text/plain": [
       "overlapping_S&P_10Y               0.273371\n",
       "overlapping_Gold_10Y              0.625971\n",
       "overlapping_bond_10Y              0.005092\n",
       "overlapping_optimal_sharpe_10Y    0.099093\n",
       "dtype: float64"
      ]
     },
     "execution_count": 407,
     "metadata": {},
     "output_type": "execute_result"
    }
   ],
   "source": [
    "std_10Y_to_annual = std_10Y*np.sqrt(1/10)\n",
    "std_10Y_to_annual"
   ]
  },
  {
   "cell_type": "code",
   "execution_count": 408,
   "metadata": {},
   "outputs": [
    {
     "data": {
      "text/plain": [
       "overlapping_S&P_10Y               0.208370\n",
       "overlapping_Gold_10Y              0.079654\n",
       "overlapping_bond_10Y              0.003089\n",
       "overlapping_optimal_sharpe_10Y    0.201277\n",
       "dtype: float64"
      ]
     },
     "execution_count": 408,
     "metadata": {},
     "output_type": "execute_result"
    }
   ],
   "source": [
    "sharpe_10Y_to_annual = mean_10Y_to_annual/std_10Y_to_annual\n",
    "sharpe_10Y_to_annual"
   ]
  },
  {
   "cell_type": "code",
   "execution_count": null,
   "metadata": {},
   "outputs": [],
   "source": []
  },
  {
   "cell_type": "markdown",
   "metadata": {},
   "source": [
    "## These Stats are much similar to monthly data."
   ]
  },
  {
   "cell_type": "markdown",
   "metadata": {},
   "source": [
    "## Q5. "
   ]
  },
  {
   "cell_type": "code",
   "execution_count": 409,
   "metadata": {
    "scrolled": false
   },
   "outputs": [
    {
     "data": {
      "image/png": "[encoded data removed]",
      "text/plain": [
       "<Figure size 432x288 with 1 Axes>"
      ]
     },
     "execution_count": 409,
     "metadata": {},
     "output_type": "execute_result"
    },
    {
     "data": {
      "image/png": "[encoded data removed]",
      "text/plain": [
       "<Figure size 432x288 with 1 Axes>"
      ]
     },
     "metadata": {
      "needs_background": "light"
     },
     "output_type": "display_data"
    },
    {
     "data": {
      "image/png": "[encoded data removed]",
      "text/plain": [
       "<Figure size 432x288 with 1 Axes>"
      ]
     },
     "metadata": {
      "needs_background": "light"
     },
     "output_type": "display_data"
    },
    {
     "data": {
      "image/png": "[encoded data removed]",
      "text/plain": [
       "<Figure size 432x288 with 1 Axes>"
      ]
     },
     "metadata": {
      "needs_background": "light"
     },
     "output_type": "display_data"
    },
    {
     "data": {
      "image/png": "[encoded data removed]",
      "text/plain": [
       "<Figure size 432x288 with 1 Axes>"
      ]
     },
     "metadata": {
      "needs_background": "light"
     },
     "output_type": "display_data"
    }
   ],
   "source": [
    "from statsmodels.graphics.tsaplots import plot_pacf, plot_acf\n",
    "plot_pacf(df1.bond_returns[1:], lags= 24)\n",
    "plot_pacf(df1['S&P500_returns'][1:], lags= 24)\n",
    "plot_pacf(df1.Gold_returns[1:], lags= 24)\n",
    "plot_pacf(rets_99.optimal_pf_rets[1:], lags= 24)"
   ]
  },
  {
   "cell_type": "markdown",
   "metadata": {},
   "source": [
    "## This plot suggests that most of the varainace of current period return can be explained by first two lags and the remaining lags have a fading affect on the value of current period, So its better to use autoregressive model with two lags to predict the next periods return."
   ]
  },
  {
   "cell_type": "code",
   "execution_count": 410,
   "metadata": {},
   "outputs": [
    {
     "data": {
      "text/html": [
       "<div>\n",
       "<style scoped>\n",
       "    .dataframe tbody tr th:only-of-type {\n",
       "        vertical-align: middle;\n",
       "    }\n",
       "\n",
       "    .dataframe tbody tr th {\n",
       "        vertical-align: top;\n",
       "    }\n",
       "\n",
       "    .dataframe thead th {\n",
       "        text-align: right;\n",
       "    }\n",
       "</style>\n",
       "<table border=\"1\" class=\"dataframe\">\n",
       "  <thead>\n",
       "    <tr style=\"text-align: right;\">\n",
       "      <th></th>\n",
       "      <th>Year</th>\n",
       "      <th>Month</th>\n",
       "      <th>S&amp;P500_returns</th>\n",
       "      <th>Gold_returns</th>\n",
       "      <th>bond_returns</th>\n",
       "      <th>optimal_pf_rets</th>\n",
       "    </tr>\n",
       "  </thead>\n",
       "  <tbody>\n",
       "    <tr>\n",
       "      <th>0</th>\n",
       "      <td>1871</td>\n",
       "      <td>1</td>\n",
       "      <td>NaN</td>\n",
       "      <td>NaN</td>\n",
       "      <td>NaN</td>\n",
       "      <td>NaN</td>\n",
       "    </tr>\n",
       "    <tr>\n",
       "      <th>1</th>\n",
       "      <td>1871</td>\n",
       "      <td>2</td>\n",
       "      <td>-0.011806</td>\n",
       "      <td>-0.023076</td>\n",
       "      <td>-0.025605</td>\n",
       "      <td>-0.021136</td>\n",
       "    </tr>\n",
       "    <tr>\n",
       "      <th>2</th>\n",
       "      <td>1871</td>\n",
       "      <td>3</td>\n",
       "      <td>0.014264</td>\n",
       "      <td>0.001081</td>\n",
       "      <td>-0.010462</td>\n",
       "      <td>-0.002761</td>\n",
       "    </tr>\n",
       "    <tr>\n",
       "      <th>3</th>\n",
       "      <td>1871</td>\n",
       "      <td>4</td>\n",
       "      <td>0.072055</td>\n",
       "      <td>0.046755</td>\n",
       "      <td>0.042245</td>\n",
       "      <td>0.051943</td>\n",
       "    </tr>\n",
       "    <tr>\n",
       "      <th>4</th>\n",
       "      <td>1871</td>\n",
       "      <td>5</td>\n",
       "      <td>0.053808</td>\n",
       "      <td>0.017931</td>\n",
       "      <td>0.027506</td>\n",
       "      <td>0.036657</td>\n",
       "    </tr>\n",
       "    <tr>\n",
       "      <th>...</th>\n",
       "      <td>...</td>\n",
       "      <td>...</td>\n",
       "      <td>...</td>\n",
       "      <td>...</td>\n",
       "      <td>...</td>\n",
       "      <td>...</td>\n",
       "    </tr>\n",
       "    <tr>\n",
       "      <th>1543</th>\n",
       "      <td>1999</td>\n",
       "      <td>8</td>\n",
       "      <td>-0.040043</td>\n",
       "      <td>0.000488</td>\n",
       "      <td>-0.008743</td>\n",
       "      <td>-0.019538</td>\n",
       "    </tr>\n",
       "    <tr>\n",
       "      <th>1544</th>\n",
       "      <td>1999</td>\n",
       "      <td>9</td>\n",
       "      <td>-0.010712</td>\n",
       "      <td>0.024402</td>\n",
       "      <td>0.001648</td>\n",
       "      <td>-0.003455</td>\n",
       "    </tr>\n",
       "    <tr>\n",
       "      <th>1545</th>\n",
       "      <td>1999</td>\n",
       "      <td>10</td>\n",
       "      <td>-0.014485</td>\n",
       "      <td>0.175953</td>\n",
       "      <td>-0.010896</td>\n",
       "      <td>-0.020295</td>\n",
       "    </tr>\n",
       "    <tr>\n",
       "      <th>1546</th>\n",
       "      <td>1999</td>\n",
       "      <td>11</td>\n",
       "      <td>0.070424</td>\n",
       "      <td>-0.058045</td>\n",
       "      <td>0.010434</td>\n",
       "      <td>0.033355</td>\n",
       "    </tr>\n",
       "    <tr>\n",
       "      <th>1547</th>\n",
       "      <td>1999</td>\n",
       "      <td>12</td>\n",
       "      <td>0.028088</td>\n",
       "      <td>-0.033748</td>\n",
       "      <td>-0.013333</td>\n",
       "      <td>0.001313</td>\n",
       "    </tr>\n",
       "  </tbody>\n",
       "</table>\n",
       "<p>1548 rows × 6 columns</p>\n",
       "</div>"
      ],
      "text/plain": [
       "      Year  Month  S&P500_returns  Gold_returns  bond_returns  optimal_pf_rets\n",
       "0     1871      1             NaN           NaN           NaN              NaN\n",
       "1     1871      2       -0.011806     -0.023076     -0.025605        -0.021136\n",
       "2     1871      3        0.014264      0.001081     -0.010462        -0.002761\n",
       "3     1871      4        0.072055      0.046755      0.042245         0.051943\n",
       "4     1871      5        0.053808      0.017931      0.027506         0.036657\n",
       "...    ...    ...             ...           ...           ...              ...\n",
       "1543  1999      8       -0.040043      0.000488     -0.008743        -0.019538\n",
       "1544  1999      9       -0.010712      0.024402      0.001648        -0.003455\n",
       "1545  1999     10       -0.014485      0.175953     -0.010896        -0.020295\n",
       "1546  1999     11        0.070424     -0.058045      0.010434         0.033355\n",
       "1547  1999     12        0.028088     -0.033748     -0.013333         0.001313\n",
       "\n",
       "[1548 rows x 6 columns]"
      ]
     },
     "execution_count": 410,
     "metadata": {},
     "output_type": "execute_result"
    }
   ],
   "source": [
    "rets_99"
   ]
  },
  {
   "cell_type": "code",
   "execution_count": 411,
   "metadata": {},
   "outputs": [],
   "source": [
    "ls = []\n",
    "for index, row in df.loc[12:].iterrows():\n",
    "    a = df['S&P500'][index-12]\n",
    "    b = df['S&P500'][index-3]\n",
    "    c = a/b -1\n",
    "    ls.append(c)"
   ]
  },
  {
   "cell_type": "code",
   "execution_count": 412,
   "metadata": {},
   "outputs": [],
   "source": [
    "zeros = ['NaN','NaN','NaN','NaN','NaN','NaN','NaN','NaN','NaN','NaN','NaN','NaN']\n",
    "ret_10mths = zeros + ls"
   ]
  },
  {
   "cell_type": "code",
   "execution_count": 413,
   "metadata": {
    "scrolled": false
   },
   "outputs": [],
   "source": [
    "df['t-12_to_t-3_sp'] = ret_10mths"
   ]
  },
  {
   "cell_type": "code",
   "execution_count": 414,
   "metadata": {},
   "outputs": [
    {
     "data": {
      "text/html": [
       "<div>\n",
       "<style scoped>\n",
       "    .dataframe tbody tr th:only-of-type {\n",
       "        vertical-align: middle;\n",
       "    }\n",
       "\n",
       "    .dataframe tbody tr th {\n",
       "        vertical-align: top;\n",
       "    }\n",
       "\n",
       "    .dataframe thead th {\n",
       "        text-align: right;\n",
       "    }\n",
       "</style>\n",
       "<table border=\"1\" class=\"dataframe\">\n",
       "  <thead>\n",
       "    <tr style=\"text-align: right;\">\n",
       "      <th></th>\n",
       "      <th>Year</th>\n",
       "      <th>Month</th>\n",
       "      <th>CPI</th>\n",
       "      <th>S&amp;P500</th>\n",
       "      <th>Earnings</th>\n",
       "      <th>Dividends</th>\n",
       "      <th>10Y treasury</th>\n",
       "      <th>Gold</th>\n",
       "      <th>CPI_lag</th>\n",
       "      <th>S&amp;P500_infl_adj</th>\n",
       "      <th>S&amp;P500_returns</th>\n",
       "      <th>Gold_adj_infl</th>\n",
       "      <th>Gold_returns</th>\n",
       "      <th>yield_lag</th>\n",
       "      <th>c/r</th>\n",
       "      <th>c/r+</th>\n",
       "      <th>bond_price</th>\n",
       "      <th>infl</th>\n",
       "      <th>bond_returns</th>\n",
       "      <th>t-12_to_t-3_sp</th>\n",
       "    </tr>\n",
       "  </thead>\n",
       "  <tbody>\n",
       "    <tr>\n",
       "      <th>0</th>\n",
       "      <td>1871</td>\n",
       "      <td>1</td>\n",
       "      <td>12.464</td>\n",
       "      <td>4.440000</td>\n",
       "      <td>0.0333</td>\n",
       "      <td>0.0217</td>\n",
       "      <td>0.053200</td>\n",
       "      <td>20.63</td>\n",
       "      <td>12.845</td>\n",
       "      <td>NaN</td>\n",
       "      <td>NaN</td>\n",
       "      <td>NaN</td>\n",
       "      <td>NaN</td>\n",
       "      <td>NaN</td>\n",
       "      <td>NaN</td>\n",
       "      <td>NaN</td>\n",
       "      <td>NaN</td>\n",
       "      <td>NaN</td>\n",
       "      <td>NaN</td>\n",
       "      <td>NaN</td>\n",
       "    </tr>\n",
       "    <tr>\n",
       "      <th>1</th>\n",
       "      <td>1871</td>\n",
       "      <td>2</td>\n",
       "      <td>12.845</td>\n",
       "      <td>4.500000</td>\n",
       "      <td>0.0333</td>\n",
       "      <td>0.0217</td>\n",
       "      <td>0.053233</td>\n",
       "      <td>20.77</td>\n",
       "      <td>13.035</td>\n",
       "      <td>4.575722</td>\n",
       "      <td>-0.011806</td>\n",
       "      <td>21.260619</td>\n",
       "      <td>-0.023076</td>\n",
       "      <td>0.053200</td>\n",
       "      <td>0.999380</td>\n",
       "      <td>0.004800</td>\n",
       "      <td>1.004180</td>\n",
       "      <td>1.030568</td>\n",
       "      <td>-0.025605</td>\n",
       "      <td>NaN</td>\n",
       "    </tr>\n",
       "    <tr>\n",
       "      <th>2</th>\n",
       "      <td>1871</td>\n",
       "      <td>3</td>\n",
       "      <td>13.035</td>\n",
       "      <td>4.610000</td>\n",
       "      <td>0.0333</td>\n",
       "      <td>0.0217</td>\n",
       "      <td>0.053267</td>\n",
       "      <td>21.10</td>\n",
       "      <td>12.559</td>\n",
       "      <td>4.566563</td>\n",
       "      <td>0.014264</td>\n",
       "      <td>21.077225</td>\n",
       "      <td>0.001081</td>\n",
       "      <td>0.053233</td>\n",
       "      <td>0.999362</td>\n",
       "      <td>0.004813</td>\n",
       "      <td>1.004175</td>\n",
       "      <td>1.014792</td>\n",
       "      <td>-0.010462</td>\n",
       "      <td>NaN</td>\n",
       "    </tr>\n",
       "    <tr>\n",
       "      <th>3</th>\n",
       "      <td>1871</td>\n",
       "      <td>4</td>\n",
       "      <td>12.559</td>\n",
       "      <td>4.740000</td>\n",
       "      <td>0.0333</td>\n",
       "      <td>0.0217</td>\n",
       "      <td>0.053300</td>\n",
       "      <td>21.28</td>\n",
       "      <td>12.274</td>\n",
       "      <td>4.441656</td>\n",
       "      <td>0.072055</td>\n",
       "      <td>20.329490</td>\n",
       "      <td>0.046755</td>\n",
       "      <td>0.053267</td>\n",
       "      <td>0.999381</td>\n",
       "      <td>0.004805</td>\n",
       "      <td>1.004186</td>\n",
       "      <td>0.963483</td>\n",
       "      <td>0.042245</td>\n",
       "      <td>NaN</td>\n",
       "    </tr>\n",
       "    <tr>\n",
       "      <th>4</th>\n",
       "      <td>1871</td>\n",
       "      <td>5</td>\n",
       "      <td>12.274</td>\n",
       "      <td>4.860000</td>\n",
       "      <td>0.0333</td>\n",
       "      <td>0.0217</td>\n",
       "      <td>0.053333</td>\n",
       "      <td>21.17</td>\n",
       "      <td>12.083</td>\n",
       "      <td>4.632436</td>\n",
       "      <td>0.053808</td>\n",
       "      <td>20.797095</td>\n",
       "      <td>0.017931</td>\n",
       "      <td>0.053300</td>\n",
       "      <td>0.999381</td>\n",
       "      <td>0.004807</td>\n",
       "      <td>1.004188</td>\n",
       "      <td>0.977307</td>\n",
       "      <td>0.027506</td>\n",
       "      <td>NaN</td>\n",
       "    </tr>\n",
       "    <tr>\n",
       "      <th>...</th>\n",
       "      <td>...</td>\n",
       "      <td>...</td>\n",
       "      <td>...</td>\n",
       "      <td>...</td>\n",
       "      <td>...</td>\n",
       "      <td>...</td>\n",
       "      <td>...</td>\n",
       "      <td>...</td>\n",
       "      <td>...</td>\n",
       "      <td>...</td>\n",
       "      <td>...</td>\n",
       "      <td>...</td>\n",
       "      <td>...</td>\n",
       "      <td>...</td>\n",
       "      <td>...</td>\n",
       "      <td>...</td>\n",
       "      <td>...</td>\n",
       "      <td>...</td>\n",
       "      <td>...</td>\n",
       "      <td>...</td>\n",
       "    </tr>\n",
       "    <tr>\n",
       "      <th>1797</th>\n",
       "      <td>2020</td>\n",
       "      <td>10</td>\n",
       "      <td>260.388</td>\n",
       "      <td>3418.701364</td>\n",
       "      <td>7.9173</td>\n",
       "      <td>4.8883</td>\n",
       "      <td>0.007900</td>\n",
       "      <td>1902.53</td>\n",
       "      <td>260.229</td>\n",
       "      <td>3366.913147</td>\n",
       "      <td>0.016833</td>\n",
       "      <td>1924.278124</td>\n",
       "      <td>-0.011302</td>\n",
       "      <td>0.006800</td>\n",
       "      <td>0.860759</td>\n",
       "      <td>0.129250</td>\n",
       "      <td>0.990010</td>\n",
       "      <td>1.000415</td>\n",
       "      <td>-0.010401</td>\n",
       "      <td>-0.071685</td>\n",
       "    </tr>\n",
       "    <tr>\n",
       "      <th>1798</th>\n",
       "      <td>2020</td>\n",
       "      <td>11</td>\n",
       "      <td>260.229</td>\n",
       "      <td>3548.992500</td>\n",
       "      <td>7.7694</td>\n",
       "      <td>4.8724</td>\n",
       "      <td>0.008700</td>\n",
       "      <td>1869.50</td>\n",
       "      <td>260.474</td>\n",
       "      <td>3416.613812</td>\n",
       "      <td>0.040172</td>\n",
       "      <td>1901.368263</td>\n",
       "      <td>-0.016761</td>\n",
       "      <td>0.007900</td>\n",
       "      <td>0.908046</td>\n",
       "      <td>0.084966</td>\n",
       "      <td>0.993012</td>\n",
       "      <td>0.999389</td>\n",
       "      <td>-0.006381</td>\n",
       "      <td>-0.084561</td>\n",
       "    </tr>\n",
       "    <tr>\n",
       "      <th>1799</th>\n",
       "      <td>2020</td>\n",
       "      <td>12</td>\n",
       "      <td>260.474</td>\n",
       "      <td>3695.310000</td>\n",
       "      <td>7.5617</td>\n",
       "      <td>4.8566</td>\n",
       "      <td>0.009300</td>\n",
       "      <td>1853.80</td>\n",
       "      <td>261.582</td>\n",
       "      <td>3552.333800</td>\n",
       "      <td>0.041616</td>\n",
       "      <td>1871.260094</td>\n",
       "      <td>-0.009331</td>\n",
       "      <td>0.008700</td>\n",
       "      <td>0.935484</td>\n",
       "      <td>0.059524</td>\n",
       "      <td>0.995008</td>\n",
       "      <td>1.000941</td>\n",
       "      <td>-0.005928</td>\n",
       "      <td>-0.056089</td>\n",
       "    </tr>\n",
       "    <tr>\n",
       "      <th>1800</th>\n",
       "      <td>2021</td>\n",
       "      <td>1</td>\n",
       "      <td>261.582</td>\n",
       "      <td>3793.748421</td>\n",
       "      <td>7.3594</td>\n",
       "      <td>4.8408</td>\n",
       "      <td>0.010800</td>\n",
       "      <td>1869.68</td>\n",
       "      <td>262.136</td>\n",
       "      <td>3711.029049</td>\n",
       "      <td>0.023595</td>\n",
       "      <td>1861.685664</td>\n",
       "      <td>0.004294</td>\n",
       "      <td>0.009300</td>\n",
       "      <td>0.861111</td>\n",
       "      <td>0.125482</td>\n",
       "      <td>0.986593</td>\n",
       "      <td>1.004254</td>\n",
       "      <td>-0.017586</td>\n",
       "      <td>-0.041097</td>\n",
       "    </tr>\n",
       "    <tr>\n",
       "      <th>1801</th>\n",
       "      <td>2021</td>\n",
       "      <td>2</td>\n",
       "      <td>262.136</td>\n",
       "      <td>3883.432105</td>\n",
       "      <td>7.1626</td>\n",
       "      <td>4.8250</td>\n",
       "      <td>0.012600</td>\n",
       "      <td>1814.01</td>\n",
       "      <td>NaN</td>\n",
       "      <td>3801.783135</td>\n",
       "      <td>0.022746</td>\n",
       "      <td>1873.639763</td>\n",
       "      <td>-0.031826</td>\n",
       "      <td>0.010800</td>\n",
       "      <td>0.857143</td>\n",
       "      <td>0.126895</td>\n",
       "      <td>0.984038</td>\n",
       "      <td>1.002118</td>\n",
       "      <td>-0.018042</td>\n",
       "      <td>-0.076551</td>\n",
       "    </tr>\n",
       "  </tbody>\n",
       "</table>\n",
       "<p>1802 rows × 20 columns</p>\n",
       "</div>"
      ],
      "text/plain": [
       "      Year  Month      CPI       S&P500  Earnings  Dividends  10Y treasury  \\\n",
       "0     1871      1   12.464     4.440000    0.0333     0.0217      0.053200   \n",
       "1     1871      2   12.845     4.500000    0.0333     0.0217      0.053233   \n",
       "2     1871      3   13.035     4.610000    0.0333     0.0217      0.053267   \n",
       "3     1871      4   12.559     4.740000    0.0333     0.0217      0.053300   \n",
       "4     1871      5   12.274     4.860000    0.0333     0.0217      0.053333   \n",
       "...    ...    ...      ...          ...       ...        ...           ...   \n",
       "1797  2020     10  260.388  3418.701364    7.9173     4.8883      0.007900   \n",
       "1798  2020     11  260.229  3548.992500    7.7694     4.8724      0.008700   \n",
       "1799  2020     12  260.474  3695.310000    7.5617     4.8566      0.009300   \n",
       "1800  2021      1  261.582  3793.748421    7.3594     4.8408      0.010800   \n",
       "1801  2021      2  262.136  3883.432105    7.1626     4.8250      0.012600   \n",
       "\n",
       "         Gold  CPI_lag  S&P500_infl_adj  S&P500_returns  Gold_adj_infl  \\\n",
       "0       20.63   12.845              NaN             NaN            NaN   \n",
       "1       20.77   13.035         4.575722       -0.011806      21.260619   \n",
       "2       21.10   12.559         4.566563        0.014264      21.077225   \n",
       "3       21.28   12.274         4.441656        0.072055      20.329490   \n",
       "4       21.17   12.083         4.632436        0.053808      20.797095   \n",
       "...       ...      ...              ...             ...            ...   \n",
       "1797  1902.53  260.229      3366.913147        0.016833    1924.278124   \n",
       "1798  1869.50  260.474      3416.613812        0.040172    1901.368263   \n",
       "1799  1853.80  261.582      3552.333800        0.041616    1871.260094   \n",
       "1800  1869.68  262.136      3711.029049        0.023595    1861.685664   \n",
       "1801  1814.01      NaN      3801.783135        0.022746    1873.639763   \n",
       "\n",
       "      Gold_returns  yield_lag       c/r      c/r+  bond_price      infl  \\\n",
       "0              NaN        NaN       NaN       NaN         NaN       NaN   \n",
       "1        -0.023076   0.053200  0.999380  0.004800    1.004180  1.030568   \n",
       "2         0.001081   0.053233  0.999362  0.004813    1.004175  1.014792   \n",
       "3         0.046755   0.053267  0.999381  0.004805    1.004186  0.963483   \n",
       "4         0.017931   0.053300  0.999381  0.004807    1.004188  0.977307   \n",
       "...            ...        ...       ...       ...         ...       ...   \n",
       "1797     -0.011302   0.006800  0.860759  0.129250    0.990010  1.000415   \n",
       "1798     -0.016761   0.007900  0.908046  0.084966    0.993012  0.999389   \n",
       "1799     -0.009331   0.008700  0.935484  0.059524    0.995008  1.000941   \n",
       "1800      0.004294   0.009300  0.861111  0.125482    0.986593  1.004254   \n",
       "1801     -0.031826   0.010800  0.857143  0.126895    0.984038  1.002118   \n",
       "\n",
       "      bond_returns t-12_to_t-3_sp  \n",
       "0              NaN            NaN  \n",
       "1        -0.025605            NaN  \n",
       "2        -0.010462            NaN  \n",
       "3         0.042245            NaN  \n",
       "4         0.027506            NaN  \n",
       "...            ...            ...  \n",
       "1797     -0.010401      -0.071685  \n",
       "1798     -0.006381      -0.084561  \n",
       "1799     -0.005928      -0.056089  \n",
       "1800     -0.017586      -0.041097  \n",
       "1801     -0.018042      -0.076551  \n",
       "\n",
       "[1802 rows x 20 columns]"
      ]
     },
     "execution_count": 414,
     "metadata": {},
     "output_type": "execute_result"
    }
   ],
   "source": [
    "df"
   ]
  },
  {
   "cell_type": "code",
   "execution_count": 415,
   "metadata": {},
   "outputs": [],
   "source": [
    "lg = []\n",
    "for index, row in df.loc[12:].iterrows():\n",
    "    a = df['Gold'][index-12]\n",
    "    b = df['Gold'][index-3]\n",
    "    c = a/b -1\n",
    "    lg.append(c)"
   ]
  },
  {
   "cell_type": "code",
   "execution_count": 416,
   "metadata": {},
   "outputs": [],
   "source": [
    "ret_10_g = zeros + lg"
   ]
  },
  {
   "cell_type": "code",
   "execution_count": 417,
   "metadata": {},
   "outputs": [],
   "source": [
    "df['t-12_to_t-3_gold'] = ret_10_g"
   ]
  },
  {
   "cell_type": "code",
   "execution_count": 418,
   "metadata": {},
   "outputs": [],
   "source": [
    "lb = []\n",
    "for index, row in df.loc[13:].iterrows():\n",
    "    a = df['bond_price'][index-12]\n",
    "    b = df['bond_price'][index-3]\n",
    "    c = a/b -1\n",
    "    lb.append(c)"
   ]
  },
  {
   "cell_type": "code",
   "execution_count": 419,
   "metadata": {},
   "outputs": [],
   "source": [
    "zeros1 = ['NaN','NaN','NaN','NaN','NaN','NaN','NaN','NaN','NaN','NaN','NaN','NaN','NaN']\n",
    "ret_10m_b = zeros1 + lb"
   ]
  },
  {
   "cell_type": "code",
   "execution_count": 420,
   "metadata": {},
   "outputs": [],
   "source": [
    "df['t-12_to_t-3_bonds'] = ret_10m_b"
   ]
  },
  {
   "cell_type": "code",
   "execution_count": 421,
   "metadata": {},
   "outputs": [],
   "source": [
    "df['S&P500_returns_t-1'] = df['S&P500_returns'].shift(1)"
   ]
  },
  {
   "cell_type": "code",
   "execution_count": 422,
   "metadata": {},
   "outputs": [],
   "source": [
    "df['Gold_returns_t-1'] = df['Gold_returns'].shift(1)\n",
    "df['bond_returns_t-1'] = df['bond_returns'].shift(1)\n",
    "df['S&P500_returns_t-2'] = df['S&P500_returns'].shift(2)\n",
    "df['Gold_returns_t-2'] = df['Gold_returns'].shift(2)\n",
    "df['bond_returns_t-2'] = df['bond_returns'].shift(2)\n"
   ]
  },
  {
   "cell_type": "code",
   "execution_count": 423,
   "metadata": {},
   "outputs": [
    {
     "data": {
      "text/html": [
       "<div>\n",
       "<style scoped>\n",
       "    .dataframe tbody tr th:only-of-type {\n",
       "        vertical-align: middle;\n",
       "    }\n",
       "\n",
       "    .dataframe tbody tr th {\n",
       "        vertical-align: top;\n",
       "    }\n",
       "\n",
       "    .dataframe thead th {\n",
       "        text-align: right;\n",
       "    }\n",
       "</style>\n",
       "<table border=\"1\" class=\"dataframe\">\n",
       "  <thead>\n",
       "    <tr style=\"text-align: right;\">\n",
       "      <th></th>\n",
       "      <th>Year</th>\n",
       "      <th>Month</th>\n",
       "      <th>CPI</th>\n",
       "      <th>S&amp;P500</th>\n",
       "      <th>Earnings</th>\n",
       "      <th>Dividends</th>\n",
       "      <th>10Y treasury</th>\n",
       "      <th>Gold</th>\n",
       "      <th>CPI_lag</th>\n",
       "      <th>S&amp;P500_infl_adj</th>\n",
       "      <th>...</th>\n",
       "      <th>bond_returns</th>\n",
       "      <th>t-12_to_t-3_sp</th>\n",
       "      <th>t-12_to_t-3_gold</th>\n",
       "      <th>t-12_to_t-3_bonds</th>\n",
       "      <th>S&amp;P500_returns_t-1</th>\n",
       "      <th>Gold_returns_t-1</th>\n",
       "      <th>bond_returns_t-1</th>\n",
       "      <th>S&amp;P500_returns_t-2</th>\n",
       "      <th>Gold_returns_t-2</th>\n",
       "      <th>bond_returns_t-2</th>\n",
       "    </tr>\n",
       "  </thead>\n",
       "  <tbody>\n",
       "    <tr>\n",
       "      <th>0</th>\n",
       "      <td>1871</td>\n",
       "      <td>1</td>\n",
       "      <td>12.464</td>\n",
       "      <td>4.440000</td>\n",
       "      <td>0.0333</td>\n",
       "      <td>0.0217</td>\n",
       "      <td>0.053200</td>\n",
       "      <td>20.63</td>\n",
       "      <td>12.845</td>\n",
       "      <td>NaN</td>\n",
       "      <td>...</td>\n",
       "      <td>NaN</td>\n",
       "      <td>NaN</td>\n",
       "      <td>NaN</td>\n",
       "      <td>NaN</td>\n",
       "      <td>NaN</td>\n",
       "      <td>NaN</td>\n",
       "      <td>NaN</td>\n",
       "      <td>NaN</td>\n",
       "      <td>NaN</td>\n",
       "      <td>NaN</td>\n",
       "    </tr>\n",
       "    <tr>\n",
       "      <th>1</th>\n",
       "      <td>1871</td>\n",
       "      <td>2</td>\n",
       "      <td>12.845</td>\n",
       "      <td>4.500000</td>\n",
       "      <td>0.0333</td>\n",
       "      <td>0.0217</td>\n",
       "      <td>0.053233</td>\n",
       "      <td>20.77</td>\n",
       "      <td>13.035</td>\n",
       "      <td>4.575722</td>\n",
       "      <td>...</td>\n",
       "      <td>-0.025605</td>\n",
       "      <td>NaN</td>\n",
       "      <td>NaN</td>\n",
       "      <td>NaN</td>\n",
       "      <td>NaN</td>\n",
       "      <td>NaN</td>\n",
       "      <td>NaN</td>\n",
       "      <td>NaN</td>\n",
       "      <td>NaN</td>\n",
       "      <td>NaN</td>\n",
       "    </tr>\n",
       "    <tr>\n",
       "      <th>2</th>\n",
       "      <td>1871</td>\n",
       "      <td>3</td>\n",
       "      <td>13.035</td>\n",
       "      <td>4.610000</td>\n",
       "      <td>0.0333</td>\n",
       "      <td>0.0217</td>\n",
       "      <td>0.053267</td>\n",
       "      <td>21.10</td>\n",
       "      <td>12.559</td>\n",
       "      <td>4.566563</td>\n",
       "      <td>...</td>\n",
       "      <td>-0.010462</td>\n",
       "      <td>NaN</td>\n",
       "      <td>NaN</td>\n",
       "      <td>NaN</td>\n",
       "      <td>-0.011806</td>\n",
       "      <td>-0.023076</td>\n",
       "      <td>-0.025605</td>\n",
       "      <td>NaN</td>\n",
       "      <td>NaN</td>\n",
       "      <td>NaN</td>\n",
       "    </tr>\n",
       "    <tr>\n",
       "      <th>3</th>\n",
       "      <td>1871</td>\n",
       "      <td>4</td>\n",
       "      <td>12.559</td>\n",
       "      <td>4.740000</td>\n",
       "      <td>0.0333</td>\n",
       "      <td>0.0217</td>\n",
       "      <td>0.053300</td>\n",
       "      <td>21.28</td>\n",
       "      <td>12.274</td>\n",
       "      <td>4.441656</td>\n",
       "      <td>...</td>\n",
       "      <td>0.042245</td>\n",
       "      <td>NaN</td>\n",
       "      <td>NaN</td>\n",
       "      <td>NaN</td>\n",
       "      <td>0.014264</td>\n",
       "      <td>0.001081</td>\n",
       "      <td>-0.010462</td>\n",
       "      <td>-0.011806</td>\n",
       "      <td>-0.023076</td>\n",
       "      <td>-0.025605</td>\n",
       "    </tr>\n",
       "    <tr>\n",
       "      <th>4</th>\n",
       "      <td>1871</td>\n",
       "      <td>5</td>\n",
       "      <td>12.274</td>\n",
       "      <td>4.860000</td>\n",
       "      <td>0.0333</td>\n",
       "      <td>0.0217</td>\n",
       "      <td>0.053333</td>\n",
       "      <td>21.17</td>\n",
       "      <td>12.083</td>\n",
       "      <td>4.632436</td>\n",
       "      <td>...</td>\n",
       "      <td>0.027506</td>\n",
       "      <td>NaN</td>\n",
       "      <td>NaN</td>\n",
       "      <td>NaN</td>\n",
       "      <td>0.072055</td>\n",
       "      <td>0.046755</td>\n",
       "      <td>0.042245</td>\n",
       "      <td>0.014264</td>\n",
       "      <td>0.001081</td>\n",
       "      <td>-0.010462</td>\n",
       "    </tr>\n",
       "    <tr>\n",
       "      <th>...</th>\n",
       "      <td>...</td>\n",
       "      <td>...</td>\n",
       "      <td>...</td>\n",
       "      <td>...</td>\n",
       "      <td>...</td>\n",
       "      <td>...</td>\n",
       "      <td>...</td>\n",
       "      <td>...</td>\n",
       "      <td>...</td>\n",
       "      <td>...</td>\n",
       "      <td>...</td>\n",
       "      <td>...</td>\n",
       "      <td>...</td>\n",
       "      <td>...</td>\n",
       "      <td>...</td>\n",
       "      <td>...</td>\n",
       "      <td>...</td>\n",
       "      <td>...</td>\n",
       "      <td>...</td>\n",
       "      <td>...</td>\n",
       "      <td>...</td>\n",
       "    </tr>\n",
       "    <tr>\n",
       "      <th>1797</th>\n",
       "      <td>2020</td>\n",
       "      <td>10</td>\n",
       "      <td>260.388</td>\n",
       "      <td>3418.701364</td>\n",
       "      <td>7.9173</td>\n",
       "      <td>4.8883</td>\n",
       "      <td>0.007900</td>\n",
       "      <td>1902.53</td>\n",
       "      <td>260.229</td>\n",
       "      <td>3366.913147</td>\n",
       "      <td>...</td>\n",
       "      <td>-0.010401</td>\n",
       "      <td>-0.071685</td>\n",
       "      <td>-0.187803</td>\n",
       "      <td>-0.010637</td>\n",
       "      <td>-0.007659</td>\n",
       "      <td>-0.025551</td>\n",
       "      <td>-0.003741</td>\n",
       "      <td>0.055599</td>\n",
       "      <td>0.067451</td>\n",
       "      <td>-0.005519</td>\n",
       "    </tr>\n",
       "    <tr>\n",
       "      <th>1798</th>\n",
       "      <td>2020</td>\n",
       "      <td>11</td>\n",
       "      <td>260.229</td>\n",
       "      <td>3548.992500</td>\n",
       "      <td>7.7694</td>\n",
       "      <td>4.8724</td>\n",
       "      <td>0.008700</td>\n",
       "      <td>1869.50</td>\n",
       "      <td>260.474</td>\n",
       "      <td>3416.613812</td>\n",
       "      <td>...</td>\n",
       "      <td>-0.006381</td>\n",
       "      <td>-0.084561</td>\n",
       "      <td>-0.253276</td>\n",
       "      <td>-0.005314</td>\n",
       "      <td>0.016833</td>\n",
       "      <td>-0.011302</td>\n",
       "      <td>-0.010401</td>\n",
       "      <td>-0.007659</td>\n",
       "      <td>-0.025551</td>\n",
       "      <td>-0.003741</td>\n",
       "    </tr>\n",
       "    <tr>\n",
       "      <th>1799</th>\n",
       "      <td>2020</td>\n",
       "      <td>12</td>\n",
       "      <td>260.474</td>\n",
       "      <td>3695.310000</td>\n",
       "      <td>7.5617</td>\n",
       "      <td>4.8566</td>\n",
       "      <td>0.009300</td>\n",
       "      <td>1853.80</td>\n",
       "      <td>261.582</td>\n",
       "      <td>3552.333800</td>\n",
       "      <td>...</td>\n",
       "      <td>-0.005928</td>\n",
       "      <td>-0.056089</td>\n",
       "      <td>-0.230546</td>\n",
       "      <td>-0.000683</td>\n",
       "      <td>0.040172</td>\n",
       "      <td>-0.016761</td>\n",
       "      <td>-0.006381</td>\n",
       "      <td>0.016833</td>\n",
       "      <td>-0.011302</td>\n",
       "      <td>-0.010401</td>\n",
       "    </tr>\n",
       "    <tr>\n",
       "      <th>1800</th>\n",
       "      <td>2021</td>\n",
       "      <td>1</td>\n",
       "      <td>261.582</td>\n",
       "      <td>3793.748421</td>\n",
       "      <td>7.3594</td>\n",
       "      <td>4.8408</td>\n",
       "      <td>0.010800</td>\n",
       "      <td>1869.68</td>\n",
       "      <td>262.136</td>\n",
       "      <td>3711.029049</td>\n",
       "      <td>...</td>\n",
       "      <td>-0.017586</td>\n",
       "      <td>-0.041097</td>\n",
       "      <td>-0.179687</td>\n",
       "      <td>0.020881</td>\n",
       "      <td>0.041616</td>\n",
       "      <td>-0.009331</td>\n",
       "      <td>-0.005928</td>\n",
       "      <td>0.040172</td>\n",
       "      <td>-0.016761</td>\n",
       "      <td>-0.006381</td>\n",
       "    </tr>\n",
       "    <tr>\n",
       "      <th>1801</th>\n",
       "      <td>2021</td>\n",
       "      <td>2</td>\n",
       "      <td>262.136</td>\n",
       "      <td>3883.432105</td>\n",
       "      <td>7.1626</td>\n",
       "      <td>4.8250</td>\n",
       "      <td>0.012600</td>\n",
       "      <td>1814.01</td>\n",
       "      <td>NaN</td>\n",
       "      <td>3801.783135</td>\n",
       "      <td>...</td>\n",
       "      <td>-0.018042</td>\n",
       "      <td>-0.076551</td>\n",
       "      <td>-0.143932</td>\n",
       "      <td>0.032744</td>\n",
       "      <td>0.023595</td>\n",
       "      <td>0.004294</td>\n",
       "      <td>-0.017586</td>\n",
       "      <td>0.041616</td>\n",
       "      <td>-0.009331</td>\n",
       "      <td>-0.005928</td>\n",
       "    </tr>\n",
       "  </tbody>\n",
       "</table>\n",
       "<p>1802 rows × 28 columns</p>\n",
       "</div>"
      ],
      "text/plain": [
       "      Year  Month      CPI       S&P500  Earnings  Dividends  10Y treasury  \\\n",
       "0     1871      1   12.464     4.440000    0.0333     0.0217      0.053200   \n",
       "1     1871      2   12.845     4.500000    0.0333     0.0217      0.053233   \n",
       "2     1871      3   13.035     4.610000    0.0333     0.0217      0.053267   \n",
       "3     1871      4   12.559     4.740000    0.0333     0.0217      0.053300   \n",
       "4     1871      5   12.274     4.860000    0.0333     0.0217      0.053333   \n",
       "...    ...    ...      ...          ...       ...        ...           ...   \n",
       "1797  2020     10  260.388  3418.701364    7.9173     4.8883      0.007900   \n",
       "1798  2020     11  260.229  3548.992500    7.7694     4.8724      0.008700   \n",
       "1799  2020     12  260.474  3695.310000    7.5617     4.8566      0.009300   \n",
       "1800  2021      1  261.582  3793.748421    7.3594     4.8408      0.010800   \n",
       "1801  2021      2  262.136  3883.432105    7.1626     4.8250      0.012600   \n",
       "\n",
       "         Gold  CPI_lag  S&P500_infl_adj  ...  bond_returns  t-12_to_t-3_sp  \\\n",
       "0       20.63   12.845              NaN  ...           NaN             NaN   \n",
       "1       20.77   13.035         4.575722  ...     -0.025605             NaN   \n",
       "2       21.10   12.559         4.566563  ...     -0.010462             NaN   \n",
       "3       21.28   12.274         4.441656  ...      0.042245             NaN   \n",
       "4       21.17   12.083         4.632436  ...      0.027506             NaN   \n",
       "...       ...      ...              ...  ...           ...             ...   \n",
       "1797  1902.53  260.229      3366.913147  ...     -0.010401       -0.071685   \n",
       "1798  1869.50  260.474      3416.613812  ...     -0.006381       -0.084561   \n",
       "1799  1853.80  261.582      3552.333800  ...     -0.005928       -0.056089   \n",
       "1800  1869.68  262.136      3711.029049  ...     -0.017586       -0.041097   \n",
       "1801  1814.01      NaN      3801.783135  ...     -0.018042       -0.076551   \n",
       "\n",
       "      t-12_to_t-3_gold  t-12_to_t-3_bonds  S&P500_returns_t-1  \\\n",
       "0                  NaN                NaN                 NaN   \n",
       "1                  NaN                NaN                 NaN   \n",
       "2                  NaN                NaN           -0.011806   \n",
       "3                  NaN                NaN            0.014264   \n",
       "4                  NaN                NaN            0.072055   \n",
       "...                ...                ...                 ...   \n",
       "1797         -0.187803          -0.010637           -0.007659   \n",
       "1798         -0.253276          -0.005314            0.016833   \n",
       "1799         -0.230546          -0.000683            0.040172   \n",
       "1800         -0.179687           0.020881            0.041616   \n",
       "1801         -0.143932           0.032744            0.023595   \n",
       "\n",
       "      Gold_returns_t-1  bond_returns_t-1  S&P500_returns_t-2  \\\n",
       "0                  NaN               NaN                 NaN   \n",
       "1                  NaN               NaN                 NaN   \n",
       "2            -0.023076         -0.025605                 NaN   \n",
       "3             0.001081         -0.010462           -0.011806   \n",
       "4             0.046755          0.042245            0.014264   \n",
       "...                ...               ...                 ...   \n",
       "1797         -0.025551         -0.003741            0.055599   \n",
       "1798         -0.011302         -0.010401           -0.007659   \n",
       "1799         -0.016761         -0.006381            0.016833   \n",
       "1800         -0.009331         -0.005928            0.040172   \n",
       "1801          0.004294         -0.017586            0.041616   \n",
       "\n",
       "      Gold_returns_t-2 bond_returns_t-2  \n",
       "0                  NaN              NaN  \n",
       "1                  NaN              NaN  \n",
       "2                  NaN              NaN  \n",
       "3            -0.023076        -0.025605  \n",
       "4             0.001081        -0.010462  \n",
       "...                ...              ...  \n",
       "1797          0.067451        -0.005519  \n",
       "1798         -0.025551        -0.003741  \n",
       "1799         -0.011302        -0.010401  \n",
       "1800         -0.016761        -0.006381  \n",
       "1801         -0.009331        -0.005928  \n",
       "\n",
       "[1802 rows x 28 columns]"
      ]
     },
     "execution_count": 423,
     "metadata": {},
     "output_type": "execute_result"
    }
   ],
   "source": [
    "df"
   ]
  },
  {
   "cell_type": "code",
   "execution_count": 424,
   "metadata": {},
   "outputs": [],
   "source": [
    "df2 = df.loc[mask1]"
   ]
  },
  {
   "cell_type": "code",
   "execution_count": 425,
   "metadata": {},
   "outputs": [],
   "source": [
    "df2 = df2.loc[13:]"
   ]
  },
  {
   "cell_type": "code",
   "execution_count": 426,
   "metadata": {},
   "outputs": [],
   "source": [
    "df2 = df2.apply(pd.to_numeric)"
   ]
  },
  {
   "cell_type": "markdown",
   "metadata": {},
   "source": [
    "## Q6."
   ]
  },
  {
   "cell_type": "code",
   "execution_count": 427,
   "metadata": {},
   "outputs": [
    {
     "data": {
      "text/html": [
       "<table class=\"simpletable\">\n",
       "<caption>Generalized Linear Model Regression Results</caption>\n",
       "<tr>\n",
       "  <th>Dep. Variable:</th>    <td>S&P500_returns</td>  <th>  No. Observations:  </th>  <td>  1535</td>  \n",
       "</tr>\n",
       "<tr>\n",
       "  <th>Model:</th>                  <td>GLM</td>       <th>  Df Residuals:      </th>  <td>  1532</td>  \n",
       "</tr>\n",
       "<tr>\n",
       "  <th>Model Family:</th>        <td>Gaussian</td>     <th>  Df Model:          </th>  <td>     2</td>  \n",
       "</tr>\n",
       "<tr>\n",
       "  <th>Link Function:</th>       <td>identity</td>     <th>  Scale:             </th> <td>0.0016167</td>\n",
       "</tr>\n",
       "<tr>\n",
       "  <th>Method:</th>                <td>IRLS</td>       <th>  Log-Likelihood:    </th> <td>  2756.4</td> \n",
       "</tr>\n",
       "<tr>\n",
       "  <th>Date:</th>            <td>Wed, 31 Mar 2021</td> <th>  Deviance:          </th> <td>  2.4768</td> \n",
       "</tr>\n",
       "<tr>\n",
       "  <th>Time:</th>                <td>15:34:12</td>     <th>  Pearson chi2:      </th>  <td>  2.48</td>  \n",
       "</tr>\n",
       "<tr>\n",
       "  <th>No. Iterations:</th>          <td>3</td>        <th>                     </th>     <td> </td>    \n",
       "</tr>\n",
       "<tr>\n",
       "  <th>Covariance Type:</th>     <td>nonrobust</td>    <th>                     </th>     <td> </td>    \n",
       "</tr>\n",
       "</table>\n",
       "<table class=\"simpletable\">\n",
       "<tr>\n",
       "           <td></td>             <th>coef</th>     <th>std err</th>      <th>z</th>      <th>P>|z|</th>  <th>[0.025</th>    <th>0.975]</th>  \n",
       "</tr>\n",
       "<tr>\n",
       "  <th>S&P500_returns_t-1</th> <td>    0.3103</td> <td>    0.026</td> <td>   12.167</td> <td> 0.000</td> <td>    0.260</td> <td>    0.360</td>\n",
       "</tr>\n",
       "<tr>\n",
       "  <th>S&P500_returns_t-2</th> <td>   -0.0628</td> <td>    0.026</td> <td>   -2.454</td> <td> 0.014</td> <td>   -0.113</td> <td>   -0.013</td>\n",
       "</tr>\n",
       "<tr>\n",
       "  <th>t-12_to_t-3_sp</th>     <td>   -0.0014</td> <td>    0.006</td> <td>   -0.229</td> <td> 0.819</td> <td>   -0.013</td> <td>    0.010</td>\n",
       "</tr>\n",
       "</table>"
      ],
      "text/plain": [
       "<class 'statsmodels.iolib.summary.Summary'>\n",
       "\"\"\"\n",
       "                 Generalized Linear Model Regression Results                  \n",
       "==============================================================================\n",
       "Dep. Variable:         S&P500_returns   No. Observations:                 1535\n",
       "Model:                            GLM   Df Residuals:                     1532\n",
       "Model Family:                Gaussian   Df Model:                            2\n",
       "Link Function:               identity   Scale:                       0.0016167\n",
       "Method:                          IRLS   Log-Likelihood:                 2756.4\n",
       "Date:                Wed, 31 Mar 2021   Deviance:                       2.4768\n",
       "Time:                        15:34:12   Pearson chi2:                     2.48\n",
       "No. Iterations:                     3                                         \n",
       "Covariance Type:            nonrobust                                         \n",
       "======================================================================================\n",
       "                         coef    std err          z      P>|z|      [0.025      0.975]\n",
       "--------------------------------------------------------------------------------------\n",
       "S&P500_returns_t-1     0.3103      0.026     12.167      0.000       0.260       0.360\n",
       "S&P500_returns_t-2    -0.0628      0.026     -2.454      0.014      -0.113      -0.013\n",
       "t-12_to_t-3_sp        -0.0014      0.006     -0.229      0.819      -0.013       0.010\n",
       "======================================================================================\n",
       "\"\"\""
      ]
     },
     "execution_count": 427,
     "metadata": {},
     "output_type": "execute_result"
    }
   ],
   "source": [
    "import statsmodels.api as sm\n",
    "Y = df2['S&P500_returns']\n",
    "X = df2[['S&P500_returns_t-1','S&P500_returns_t-2','t-12_to_t-3_sp']]\n",
    "model = sm.GLM(Y,X)\n",
    "res = model.fit()\n",
    "res.summary()"
   ]
  },
  {
   "cell_type": "code",
   "execution_count": 428,
   "metadata": {},
   "outputs": [
    {
     "data": {
      "text/html": [
       "<table class=\"simpletable\">\n",
       "<caption>Generalized Linear Model Regression Results</caption>\n",
       "<tr>\n",
       "  <th>Dep. Variable:</th>     <td>bond_returns</td>   <th>  No. Observations:  </th>   <td>  1535</td>  \n",
       "</tr>\n",
       "<tr>\n",
       "  <th>Model:</th>                  <td>GLM</td>       <th>  Df Residuals:      </th>   <td>  1532</td>  \n",
       "</tr>\n",
       "<tr>\n",
       "  <th>Model Family:</th>        <td>Gaussian</td>     <th>  Df Model:          </th>   <td>     2</td>  \n",
       "</tr>\n",
       "<tr>\n",
       "  <th>Link Function:</th>       <td>identity</td>     <th>  Scale:             </th> <td>0.00022875</td>\n",
       "</tr>\n",
       "<tr>\n",
       "  <th>Method:</th>                <td>IRLS</td>       <th>  Log-Likelihood:    </th>  <td>  4257.3</td> \n",
       "</tr>\n",
       "<tr>\n",
       "  <th>Date:</th>            <td>Wed, 31 Mar 2021</td> <th>  Deviance:          </th>  <td> 0.35044</td> \n",
       "</tr>\n",
       "<tr>\n",
       "  <th>Time:</th>                <td>15:34:13</td>     <th>  Pearson chi2:      </th>   <td> 0.350</td>  \n",
       "</tr>\n",
       "<tr>\n",
       "  <th>No. Iterations:</th>          <td>3</td>        <th>                     </th>      <td> </td>    \n",
       "</tr>\n",
       "<tr>\n",
       "  <th>Covariance Type:</th>     <td>nonrobust</td>    <th>                     </th>      <td> </td>    \n",
       "</tr>\n",
       "</table>\n",
       "<table class=\"simpletable\">\n",
       "<tr>\n",
       "          <td></td>             <th>coef</th>     <th>std err</th>      <th>z</th>      <th>P>|z|</th>  <th>[0.025</th>    <th>0.975]</th>  \n",
       "</tr>\n",
       "<tr>\n",
       "  <th>bond_returns_t-1</th>  <td>    0.3662</td> <td>    0.026</td> <td>   14.209</td> <td> 0.000</td> <td>    0.316</td> <td>    0.417</td>\n",
       "</tr>\n",
       "<tr>\n",
       "  <th>bond_returns_t-2</th>  <td>   -0.0281</td> <td>    0.026</td> <td>   -1.080</td> <td> 0.280</td> <td>   -0.079</td> <td>    0.023</td>\n",
       "</tr>\n",
       "<tr>\n",
       "  <th>t-12_to_t-3_bonds</th> <td>   -0.0498</td> <td>    0.026</td> <td>   -1.921</td> <td> 0.055</td> <td>   -0.101</td> <td>    0.001</td>\n",
       "</tr>\n",
       "</table>"
      ],
      "text/plain": [
       "<class 'statsmodels.iolib.summary.Summary'>\n",
       "\"\"\"\n",
       "                 Generalized Linear Model Regression Results                  \n",
       "==============================================================================\n",
       "Dep. Variable:           bond_returns   No. Observations:                 1535\n",
       "Model:                            GLM   Df Residuals:                     1532\n",
       "Model Family:                Gaussian   Df Model:                            2\n",
       "Link Function:               identity   Scale:                      0.00022875\n",
       "Method:                          IRLS   Log-Likelihood:                 4257.3\n",
       "Date:                Wed, 31 Mar 2021   Deviance:                      0.35044\n",
       "Time:                        15:34:13   Pearson chi2:                    0.350\n",
       "No. Iterations:                     3                                         \n",
       "Covariance Type:            nonrobust                                         \n",
       "=====================================================================================\n",
       "                        coef    std err          z      P>|z|      [0.025      0.975]\n",
       "-------------------------------------------------------------------------------------\n",
       "bond_returns_t-1      0.3662      0.026     14.209      0.000       0.316       0.417\n",
       "bond_returns_t-2     -0.0281      0.026     -1.080      0.280      -0.079       0.023\n",
       "t-12_to_t-3_bonds    -0.0498      0.026     -1.921      0.055      -0.101       0.001\n",
       "=====================================================================================\n",
       "\"\"\""
      ]
     },
     "execution_count": 428,
     "metadata": {},
     "output_type": "execute_result"
    }
   ],
   "source": [
    "Y1 = df2['bond_returns']\n",
    "X1 = df2[['bond_returns_t-1','bond_returns_t-2','t-12_to_t-3_bonds']]\n",
    "model1 = sm.GLM(Y1,X1)\n",
    "res1 = model1.fit()\n",
    "res1.summary()"
   ]
  },
  {
   "cell_type": "code",
   "execution_count": 429,
   "metadata": {},
   "outputs": [
    {
     "data": {
      "text/html": [
       "<table class=\"simpletable\">\n",
       "<caption>Generalized Linear Model Regression Results</caption>\n",
       "<tr>\n",
       "  <th>Dep. Variable:</th>     <td>Gold_returns</td>   <th>  No. Observations:  </th>  <td>  1535</td>  \n",
       "</tr>\n",
       "<tr>\n",
       "  <th>Model:</th>                  <td>GLM</td>       <th>  Df Residuals:      </th>  <td>  1532</td>  \n",
       "</tr>\n",
       "<tr>\n",
       "  <th>Model Family:</th>        <td>Gaussian</td>     <th>  Df Model:          </th>  <td>     2</td>  \n",
       "</tr>\n",
       "<tr>\n",
       "  <th>Link Function:</th>       <td>identity</td>     <th>  Scale:             </th> <td>0.0011100</td>\n",
       "</tr>\n",
       "<tr>\n",
       "  <th>Method:</th>                <td>IRLS</td>       <th>  Log-Likelihood:    </th> <td>  3045.1</td> \n",
       "</tr>\n",
       "<tr>\n",
       "  <th>Date:</th>            <td>Wed, 31 Mar 2021</td> <th>  Deviance:          </th> <td>  1.7005</td> \n",
       "</tr>\n",
       "<tr>\n",
       "  <th>Time:</th>                <td>15:34:13</td>     <th>  Pearson chi2:      </th>  <td>  1.70</td>  \n",
       "</tr>\n",
       "<tr>\n",
       "  <th>No. Iterations:</th>          <td>3</td>        <th>                     </th>     <td> </td>    \n",
       "</tr>\n",
       "<tr>\n",
       "  <th>Covariance Type:</th>     <td>nonrobust</td>    <th>                     </th>     <td> </td>    \n",
       "</tr>\n",
       "</table>\n",
       "<table class=\"simpletable\">\n",
       "<tr>\n",
       "          <td></td>            <th>coef</th>     <th>std err</th>      <th>z</th>      <th>P>|z|</th>  <th>[0.025</th>    <th>0.975]</th>  \n",
       "</tr>\n",
       "<tr>\n",
       "  <th>Gold_returns_t-1</th> <td>    0.1969</td> <td>    0.025</td> <td>    7.752</td> <td> 0.000</td> <td>    0.147</td> <td>    0.247</td>\n",
       "</tr>\n",
       "<tr>\n",
       "  <th>Gold_returns_t-2</th> <td>   -0.0700</td> <td>    0.025</td> <td>   -2.744</td> <td> 0.006</td> <td>   -0.120</td> <td>   -0.020</td>\n",
       "</tr>\n",
       "<tr>\n",
       "  <th>t-12_to_t-3_gold</th> <td>   -0.0404</td> <td>    0.009</td> <td>   -4.662</td> <td> 0.000</td> <td>   -0.057</td> <td>   -0.023</td>\n",
       "</tr>\n",
       "</table>"
      ],
      "text/plain": [
       "<class 'statsmodels.iolib.summary.Summary'>\n",
       "\"\"\"\n",
       "                 Generalized Linear Model Regression Results                  \n",
       "==============================================================================\n",
       "Dep. Variable:           Gold_returns   No. Observations:                 1535\n",
       "Model:                            GLM   Df Residuals:                     1532\n",
       "Model Family:                Gaussian   Df Model:                            2\n",
       "Link Function:               identity   Scale:                       0.0011100\n",
       "Method:                          IRLS   Log-Likelihood:                 3045.1\n",
       "Date:                Wed, 31 Mar 2021   Deviance:                       1.7005\n",
       "Time:                        15:34:13   Pearson chi2:                     1.70\n",
       "No. Iterations:                     3                                         \n",
       "Covariance Type:            nonrobust                                         \n",
       "====================================================================================\n",
       "                       coef    std err          z      P>|z|      [0.025      0.975]\n",
       "------------------------------------------------------------------------------------\n",
       "Gold_returns_t-1     0.1969      0.025      7.752      0.000       0.147       0.247\n",
       "Gold_returns_t-2    -0.0700      0.025     -2.744      0.006      -0.120      -0.020\n",
       "t-12_to_t-3_gold    -0.0404      0.009     -4.662      0.000      -0.057      -0.023\n",
       "====================================================================================\n",
       "\"\"\""
      ]
     },
     "execution_count": 429,
     "metadata": {},
     "output_type": "execute_result"
    }
   ],
   "source": [
    "Y2 = df2['Gold_returns']\n",
    "X2 = df2[['Gold_returns_t-1','Gold_returns_t-2','t-12_to_t-3_gold']]\n",
    "model2 = sm.GLM(Y2,X2)\n",
    "res2 = model2.fit()\n",
    "res2.summary()"
   ]
  },
  {
   "cell_type": "markdown",
   "metadata": {},
   "source": [
    "## Q7"
   ]
  },
  {
   "cell_type": "code",
   "execution_count": 430,
   "metadata": {},
   "outputs": [],
   "source": [
    "mask2 = (df.Year >= 2000)"
   ]
  },
  {
   "cell_type": "code",
   "execution_count": 431,
   "metadata": {},
   "outputs": [],
   "source": [
    "df3 = df.loc[mask2]"
   ]
  },
  {
   "cell_type": "code",
   "execution_count": 432,
   "metadata": {},
   "outputs": [],
   "source": [
    "df3 = df3.apply(pd.to_numeric)"
   ]
  },
  {
   "cell_type": "code",
   "execution_count": 433,
   "metadata": {},
   "outputs": [],
   "source": [
    "X01 = df3[['S&P500_returns_t-1','S&P500_returns_t-2','t-12_to_t-3_sp']]\n",
    "X11 = df3[['bond_returns_t-1','bond_returns_t-2','t-12_to_t-3_bonds']]\n",
    "X21 = df3[['Gold_returns_t-1','Gold_returns_t-2','t-12_to_t-3_gold']]"
   ]
  },
  {
   "cell_type": "code",
   "execution_count": 434,
   "metadata": {},
   "outputs": [],
   "source": [
    "df3['predicted_sp'] = res.predict(X01)"
   ]
  },
  {
   "cell_type": "code",
   "execution_count": 435,
   "metadata": {},
   "outputs": [],
   "source": [
    "df3['predicted_bond'] = res1.predict(X11)"
   ]
  },
  {
   "cell_type": "code",
   "execution_count": 437,
   "metadata": {},
   "outputs": [],
   "source": [
    "df3['predicted_gold'] = res2.predict(X21)"
   ]
  },
  {
   "cell_type": "code",
   "execution_count": 438,
   "metadata": {},
   "outputs": [
    {
     "data": {
      "text/html": [
       "<div>\n",
       "<style scoped>\n",
       "    .dataframe tbody tr th:only-of-type {\n",
       "        vertical-align: middle;\n",
       "    }\n",
       "\n",
       "    .dataframe tbody tr th {\n",
       "        vertical-align: top;\n",
       "    }\n",
       "\n",
       "    .dataframe thead th {\n",
       "        text-align: right;\n",
       "    }\n",
       "</style>\n",
       "<table border=\"1\" class=\"dataframe\">\n",
       "  <thead>\n",
       "    <tr style=\"text-align: right;\">\n",
       "      <th></th>\n",
       "      <th>Year</th>\n",
       "      <th>Month</th>\n",
       "      <th>predicted_sp</th>\n",
       "      <th>predicted_gold</th>\n",
       "      <th>predicted_bond</th>\n",
       "    </tr>\n",
       "  </thead>\n",
       "  <tbody>\n",
       "    <tr>\n",
       "      <th>1548</th>\n",
       "      <td>2000</td>\n",
       "      <td>1</td>\n",
       "      <td>0.004348</td>\n",
       "      <td>0.000559</td>\n",
       "      <td>-0.005551</td>\n",
       "    </tr>\n",
       "    <tr>\n",
       "      <th>1549</th>\n",
       "      <td>2000</td>\n",
       "      <td>2</td>\n",
       "      <td>-0.002906</td>\n",
       "      <td>0.003212</td>\n",
       "      <td>-0.007387</td>\n",
       "    </tr>\n",
       "    <tr>\n",
       "      <th>1550</th>\n",
       "      <td>2000</td>\n",
       "      <td>3</td>\n",
       "      <td>-0.009068</td>\n",
       "      <td>0.009667</td>\n",
       "      <td>0.004282</td>\n",
       "    </tr>\n",
       "    <tr>\n",
       "      <th>1551</th>\n",
       "      <td>2000</td>\n",
       "      <td>4</td>\n",
       "      <td>0.011597</td>\n",
       "      <td>-0.014078</td>\n",
       "      <td>0.004097</td>\n",
       "    </tr>\n",
       "    <tr>\n",
       "      <th>1552</th>\n",
       "      <td>2000</td>\n",
       "      <td>5</td>\n",
       "      <td>0.002352</td>\n",
       "      <td>0.002308</td>\n",
       "      <td>0.010495</td>\n",
       "    </tr>\n",
       "    <tr>\n",
       "      <th>...</th>\n",
       "      <td>...</td>\n",
       "      <td>...</td>\n",
       "      <td>...</td>\n",
       "      <td>...</td>\n",
       "      <td>...</td>\n",
       "    </tr>\n",
       "    <tr>\n",
       "      <th>1797</th>\n",
       "      <td>2020</td>\n",
       "      <td>10</td>\n",
       "      <td>-0.005769</td>\n",
       "      <td>-0.002159</td>\n",
       "      <td>-0.000685</td>\n",
       "    </tr>\n",
       "    <tr>\n",
       "      <th>1798</th>\n",
       "      <td>2020</td>\n",
       "      <td>11</td>\n",
       "      <td>0.005822</td>\n",
       "      <td>0.009799</td>\n",
       "      <td>-0.003439</td>\n",
       "    </tr>\n",
       "    <tr>\n",
       "      <th>1799</th>\n",
       "      <td>2020</td>\n",
       "      <td>12</td>\n",
       "      <td>0.011486</td>\n",
       "      <td>0.006809</td>\n",
       "      <td>-0.002010</td>\n",
       "    </tr>\n",
       "    <tr>\n",
       "      <th>1800</th>\n",
       "      <td>2021</td>\n",
       "      <td>1</td>\n",
       "      <td>0.010448</td>\n",
       "      <td>0.006598</td>\n",
       "      <td>-0.003031</td>\n",
       "    </tr>\n",
       "    <tr>\n",
       "      <th>1801</th>\n",
       "      <td>2021</td>\n",
       "      <td>2</td>\n",
       "      <td>0.004814</td>\n",
       "      <td>0.007316</td>\n",
       "      <td>-0.007903</td>\n",
       "    </tr>\n",
       "  </tbody>\n",
       "</table>\n",
       "<p>254 rows × 5 columns</p>\n",
       "</div>"
      ],
      "text/plain": [
       "      Year  Month  predicted_sp  predicted_gold  predicted_bond\n",
       "1548  2000      1      0.004348        0.000559       -0.005551\n",
       "1549  2000      2     -0.002906        0.003212       -0.007387\n",
       "1550  2000      3     -0.009068        0.009667        0.004282\n",
       "1551  2000      4      0.011597       -0.014078        0.004097\n",
       "1552  2000      5      0.002352        0.002308        0.010495\n",
       "...    ...    ...           ...             ...             ...\n",
       "1797  2020     10     -0.005769       -0.002159       -0.000685\n",
       "1798  2020     11      0.005822        0.009799       -0.003439\n",
       "1799  2020     12      0.011486        0.006809       -0.002010\n",
       "1800  2021      1      0.010448        0.006598       -0.003031\n",
       "1801  2021      2      0.004814        0.007316       -0.007903\n",
       "\n",
       "[254 rows x 5 columns]"
      ]
     },
     "execution_count": 438,
     "metadata": {},
     "output_type": "execute_result"
    }
   ],
   "source": [
    "df4 = df3[['Year','Month','predicted_sp','predicted_gold','predicted_bond']]\n",
    "df4"
   ]
  },
  {
   "cell_type": "markdown",
   "metadata": {},
   "source": [
    "## Computing new prtfolio weights each month and then multiplying with the actual returns returns to get the performance"
   ]
  },
  {
   "cell_type": "code",
   "execution_count": 439,
   "metadata": {},
   "outputs": [],
   "source": [
    "x = []\n",
    "z = []\n",
    "for index, rows in df4.iterrows():\n",
    "    c = rows['predicted_sp']\n",
    "    d = rows['predicted_gold']\n",
    "    e = rows['predicted_bond']\n",
    "    f = np.array([c,d,e])\n",
    "    g = f.dot(np.linalg.inv(cov))\n",
    "    g = g/sum(g)\n",
    "    h = df['S&P500_returns'][index]\n",
    "    i = df['Gold_returns'][index]\n",
    "    j = df['bond_returns'][index]\n",
    "    k = np.array([h,i,j])\n",
    "    l = g.dot(k)\n",
    "    x.append(l)\n",
    "    z.append(g)"
   ]
  },
  {
   "cell_type": "code",
   "execution_count": 440,
   "metadata": {},
   "outputs": [
    {
     "name": "stderr",
     "output_type": "stream",
     "text": [
      "C:\\ProgramData\\Anaconda3\\lib\\site-packages\\ipykernel_launcher.py:1: SettingWithCopyWarning: \n",
      "A value is trying to be set on a copy of a slice from a DataFrame.\n",
      "Try using .loc[row_indexer,col_indexer] = value instead\n",
      "\n",
      "See the caveats in the documentation: https://pandas.pydata.org/pandas-docs/stable/user_guide/indexing.html#returning-a-view-versus-a-copy\n",
      "  \"\"\"Entry point for launching an IPython kernel.\n"
     ]
    }
   ],
   "source": [
    "df4['optimal_portfolio_rets'] = x"
   ]
  },
  {
   "cell_type": "code",
   "execution_count": 441,
   "metadata": {},
   "outputs": [
    {
     "data": {
      "text/plain": [
       "0.01746243480271769"
      ]
     },
     "execution_count": 441,
     "metadata": {},
     "output_type": "execute_result"
    }
   ],
   "source": [
    "df4.optimal_portfolio_rets.mean()/df4.optimal_portfolio_rets.std()"
   ]
  },
  {
   "cell_type": "markdown",
   "metadata": {},
   "source": [
    "## We can see that the Sharpe is very low and the performance is not that great based on optimal porfolio using the predicted values. "
   ]
  },
  {
   "cell_type": "markdown",
   "metadata": {},
   "source": [
    "## Q8"
   ]
  },
  {
   "cell_type": "code",
   "execution_count": 254,
   "metadata": {},
   "outputs": [],
   "source": [
    "df['Earnings_Infl_adj'] = df['Earnings'] * df['infl']"
   ]
  },
  {
   "cell_type": "code",
   "execution_count": 255,
   "metadata": {},
   "outputs": [],
   "source": [
    "ey = []\n",
    "for index, rows in df.loc[12:].iterrows():\n",
    "    currentrow = rows['Earnings']\n",
    "    ei = []\n",
    "    for i in range(index-12, index-1):\n",
    "        i = df['Earnings_Infl_adj'][i]\n",
    "        ei.append(i)\n",
    "    val1 = currentrow/sum(ei)     \n",
    "    ey.append(val1)"
   ]
  },
  {
   "cell_type": "code",
   "execution_count": 256,
   "metadata": {},
   "outputs": [
    {
     "data": {
      "text/plain": [
       "1790"
      ]
     },
     "execution_count": 256,
     "metadata": {},
     "output_type": "execute_result"
    }
   ],
   "source": [
    "len(ey)\n"
   ]
  },
  {
   "cell_type": "code",
   "execution_count": 257,
   "metadata": {},
   "outputs": [],
   "source": [
    "val_measure_1 = zeros + ey "
   ]
  },
  {
   "cell_type": "code",
   "execution_count": 258,
   "metadata": {},
   "outputs": [],
   "source": [
    "df['Val_measure_1'] = val_measure_1"
   ]
  },
  {
   "cell_type": "code",
   "execution_count": 259,
   "metadata": {},
   "outputs": [],
   "source": [
    "by = []\n",
    "for index, row in df.loc[12:].iterrows():\n",
    "    currentrow = row['10Y treasury']\n",
    "    inf1 = df['CPI'][index-1]\n",
    "    infl2 = df['CPI'][index-12]\n",
    "    infl = (inf1/infl2) - 1\n",
    "    x = currentrow - infl\n",
    "    by.append(x)"
   ]
  },
  {
   "cell_type": "code",
   "execution_count": 260,
   "metadata": {},
   "outputs": [],
   "source": [
    "val_measure_2 = zeros + by"
   ]
  },
  {
   "cell_type": "code",
   "execution_count": 261,
   "metadata": {},
   "outputs": [],
   "source": [
    "df['Val_measure_2'] = val_measure_2"
   ]
  },
  {
   "cell_type": "code",
   "execution_count": 262,
   "metadata": {},
   "outputs": [],
   "source": [
    "gy = []\n",
    "for index, row in df.loc[12:].iterrows():\n",
    "    currentrow = row['Gold']\n",
    "    gi = []\n",
    "    for i in range(index-12, index-1):\n",
    "        i = df['Gold'][i]\n",
    "        gi.append(i)\n",
    "    val2 = sum(gi)/len(gi)\n",
    "    val2_ = currentrow/val2\n",
    "    gy.append(val2_)"
   ]
  },
  {
   "cell_type": "code",
   "execution_count": 263,
   "metadata": {},
   "outputs": [],
   "source": [
    "val_measure_3 = zeros + gy"
   ]
  },
  {
   "cell_type": "code",
   "execution_count": 264,
   "metadata": {},
   "outputs": [],
   "source": [
    "df['Val_measure_3'] = val_measure_3"
   ]
  },
  {
   "cell_type": "code",
   "execution_count": 265,
   "metadata": {},
   "outputs": [],
   "source": [
    "df88 = df.loc[13:]"
   ]
  },
  {
   "cell_type": "code",
   "execution_count": 266,
   "metadata": {},
   "outputs": [
    {
     "data": {
      "text/html": [
       "<div>\n",
       "<style scoped>\n",
       "    .dataframe tbody tr th:only-of-type {\n",
       "        vertical-align: middle;\n",
       "    }\n",
       "\n",
       "    .dataframe tbody tr th {\n",
       "        vertical-align: top;\n",
       "    }\n",
       "\n",
       "    .dataframe thead th {\n",
       "        text-align: right;\n",
       "    }\n",
       "</style>\n",
       "<table border=\"1\" class=\"dataframe\">\n",
       "  <thead>\n",
       "    <tr style=\"text-align: right;\">\n",
       "      <th></th>\n",
       "      <th>Year</th>\n",
       "      <th>Month</th>\n",
       "      <th>CPI</th>\n",
       "      <th>S&amp;P500</th>\n",
       "      <th>Earnings</th>\n",
       "      <th>Dividends</th>\n",
       "      <th>10Y treasury</th>\n",
       "      <th>Gold</th>\n",
       "      <th>CPI_lag</th>\n",
       "      <th>S&amp;P500_infl_adj</th>\n",
       "      <th>...</th>\n",
       "      <th>S&amp;P500_returns_t-1</th>\n",
       "      <th>Gold_returns_t-1</th>\n",
       "      <th>bond_returns_t-1</th>\n",
       "      <th>S&amp;P500_returns_t-2</th>\n",
       "      <th>Gold_returns_t-2</th>\n",
       "      <th>bond_returns_t-2</th>\n",
       "      <th>Earnings_Infl_adj</th>\n",
       "      <th>Val_measure_1</th>\n",
       "      <th>Val_measure_2</th>\n",
       "      <th>Val_measure_3</th>\n",
       "    </tr>\n",
       "  </thead>\n",
       "  <tbody>\n",
       "    <tr>\n",
       "      <th>13</th>\n",
       "      <td>1872</td>\n",
       "      <td>2</td>\n",
       "      <td>12.654</td>\n",
       "      <td>4.880000</td>\n",
       "      <td>0.0338</td>\n",
       "      <td>0.0222</td>\n",
       "      <td>0.053783</td>\n",
       "      <td>20.80</td>\n",
       "      <td>12.845</td>\n",
       "      <td>4.860000</td>\n",
       "      <td>...</td>\n",
       "      <td>0.029937</td>\n",
       "      <td>0.015511</td>\n",
       "      <td>0.004211</td>\n",
       "      <td>0.003115</td>\n",
       "      <td>-0.034688</td>\n",
       "      <td>-0.018417</td>\n",
       "      <td>0.033800</td>\n",
       "      <td>0.092127</td>\n",
       "      <td>0.068653</td>\n",
       "      <td>0.997211</td>\n",
       "    </tr>\n",
       "    <tr>\n",
       "      <th>14</th>\n",
       "      <td>1872</td>\n",
       "      <td>3</td>\n",
       "      <td>12.845</td>\n",
       "      <td>5.040000</td>\n",
       "      <td>0.0340</td>\n",
       "      <td>0.0225</td>\n",
       "      <td>0.053967</td>\n",
       "      <td>20.63</td>\n",
       "      <td>13.130</td>\n",
       "      <td>4.953659</td>\n",
       "      <td>...</td>\n",
       "      <td>0.008683</td>\n",
       "      <td>-0.007160</td>\n",
       "      <td>0.003065</td>\n",
       "      <td>0.029937</td>\n",
       "      <td>0.015511</td>\n",
       "      <td>0.004211</td>\n",
       "      <td>0.034513</td>\n",
       "      <td>0.092879</td>\n",
       "      <td>0.083196</td>\n",
       "      <td>0.988285</td>\n",
       "    </tr>\n",
       "    <tr>\n",
       "      <th>15</th>\n",
       "      <td>1872</td>\n",
       "      <td>4</td>\n",
       "      <td>13.130</td>\n",
       "      <td>5.180000</td>\n",
       "      <td>0.0342</td>\n",
       "      <td>0.0228</td>\n",
       "      <td>0.054150</td>\n",
       "      <td>20.68</td>\n",
       "      <td>13.130</td>\n",
       "      <td>5.151826</td>\n",
       "      <td>...</td>\n",
       "      <td>0.021972</td>\n",
       "      <td>-0.022921</td>\n",
       "      <td>-0.011841</td>\n",
       "      <td>0.008683</td>\n",
       "      <td>-0.007160</td>\n",
       "      <td>0.003065</td>\n",
       "      <td>0.034959</td>\n",
       "      <td>0.093424</td>\n",
       "      <td>0.031377</td>\n",
       "      <td>0.991976</td>\n",
       "    </tr>\n",
       "    <tr>\n",
       "      <th>16</th>\n",
       "      <td>1872</td>\n",
       "      <td>5</td>\n",
       "      <td>13.130</td>\n",
       "      <td>5.180000</td>\n",
       "      <td>0.0344</td>\n",
       "      <td>0.0231</td>\n",
       "      <td>0.054333</td>\n",
       "      <td>20.63</td>\n",
       "      <td>13.035</td>\n",
       "      <td>5.180000</td>\n",
       "      <td>...</td>\n",
       "      <td>0.009894</td>\n",
       "      <td>-0.019335</td>\n",
       "      <td>-0.018675</td>\n",
       "      <td>0.021972</td>\n",
       "      <td>-0.022921</td>\n",
       "      <td>-0.011841</td>\n",
       "      <td>0.034400</td>\n",
       "      <td>0.093351</td>\n",
       "      <td>-0.015408</td>\n",
       "      <td>0.992391</td>\n",
       "    </tr>\n",
       "    <tr>\n",
       "      <th>17</th>\n",
       "      <td>1872</td>\n",
       "      <td>6</td>\n",
       "      <td>13.035</td>\n",
       "      <td>5.130000</td>\n",
       "      <td>0.0346</td>\n",
       "      <td>0.0233</td>\n",
       "      <td>0.054517</td>\n",
       "      <td>20.63</td>\n",
       "      <td>12.845</td>\n",
       "      <td>5.142521</td>\n",
       "      <td>...</td>\n",
       "      <td>0.004459</td>\n",
       "      <td>-0.002418</td>\n",
       "      <td>0.003115</td>\n",
       "      <td>0.009894</td>\n",
       "      <td>-0.019335</td>\n",
       "      <td>-0.018675</td>\n",
       "      <td>0.034350</td>\n",
       "      <td>0.093282</td>\n",
       "      <td>-0.032134</td>\n",
       "      <td>0.994522</td>\n",
       "    </tr>\n",
       "    <tr>\n",
       "      <th>...</th>\n",
       "      <td>...</td>\n",
       "      <td>...</td>\n",
       "      <td>...</td>\n",
       "      <td>...</td>\n",
       "      <td>...</td>\n",
       "      <td>...</td>\n",
       "      <td>...</td>\n",
       "      <td>...</td>\n",
       "      <td>...</td>\n",
       "      <td>...</td>\n",
       "      <td>...</td>\n",
       "      <td>...</td>\n",
       "      <td>...</td>\n",
       "      <td>...</td>\n",
       "      <td>...</td>\n",
       "      <td>...</td>\n",
       "      <td>...</td>\n",
       "      <td>...</td>\n",
       "      <td>...</td>\n",
       "      <td>...</td>\n",
       "      <td>...</td>\n",
       "    </tr>\n",
       "    <tr>\n",
       "      <th>1797</th>\n",
       "      <td>2020</td>\n",
       "      <td>10</td>\n",
       "      <td>260.388</td>\n",
       "      <td>3418.701364</td>\n",
       "      <td>7.9173</td>\n",
       "      <td>4.8883</td>\n",
       "      <td>0.007900</td>\n",
       "      <td>1902.53</td>\n",
       "      <td>260.229</td>\n",
       "      <td>3366.913147</td>\n",
       "      <td>...</td>\n",
       "      <td>-0.007659</td>\n",
       "      <td>-0.025551</td>\n",
       "      <td>-0.003741</td>\n",
       "      <td>0.055599</td>\n",
       "      <td>0.067451</td>\n",
       "      <td>-0.005519</td>\n",
       "      <td>7.920585</td>\n",
       "      <td>0.073083</td>\n",
       "      <td>-0.003501</td>\n",
       "      <td>1.153453</td>\n",
       "    </tr>\n",
       "    <tr>\n",
       "      <th>1798</th>\n",
       "      <td>2020</td>\n",
       "      <td>11</td>\n",
       "      <td>260.229</td>\n",
       "      <td>3548.992500</td>\n",
       "      <td>7.7694</td>\n",
       "      <td>4.8724</td>\n",
       "      <td>0.008700</td>\n",
       "      <td>1869.50</td>\n",
       "      <td>260.474</td>\n",
       "      <td>3416.613812</td>\n",
       "      <td>...</td>\n",
       "      <td>0.016833</td>\n",
       "      <td>-0.011302</td>\n",
       "      <td>-0.010401</td>\n",
       "      <td>-0.007659</td>\n",
       "      <td>-0.025551</td>\n",
       "      <td>-0.003741</td>\n",
       "      <td>7.764656</td>\n",
       "      <td>0.073821</td>\n",
       "      <td>-0.003664</td>\n",
       "      <td>1.107284</td>\n",
       "    </tr>\n",
       "    <tr>\n",
       "      <th>1799</th>\n",
       "      <td>2020</td>\n",
       "      <td>12</td>\n",
       "      <td>260.474</td>\n",
       "      <td>3695.310000</td>\n",
       "      <td>7.5617</td>\n",
       "      <td>4.8566</td>\n",
       "      <td>0.009300</td>\n",
       "      <td>1853.80</td>\n",
       "      <td>261.582</td>\n",
       "      <td>3552.333800</td>\n",
       "      <td>...</td>\n",
       "      <td>0.040172</td>\n",
       "      <td>-0.016761</td>\n",
       "      <td>-0.006381</td>\n",
       "      <td>0.016833</td>\n",
       "      <td>-0.011302</td>\n",
       "      <td>-0.010401</td>\n",
       "      <td>7.568819</td>\n",
       "      <td>0.074329</td>\n",
       "      <td>-0.003367</td>\n",
       "      <td>1.073104</td>\n",
       "    </tr>\n",
       "    <tr>\n",
       "      <th>1800</th>\n",
       "      <td>2021</td>\n",
       "      <td>1</td>\n",
       "      <td>261.582</td>\n",
       "      <td>3793.748421</td>\n",
       "      <td>7.3594</td>\n",
       "      <td>4.8408</td>\n",
       "      <td>0.010800</td>\n",
       "      <td>1869.68</td>\n",
       "      <td>262.136</td>\n",
       "      <td>3711.029049</td>\n",
       "      <td>...</td>\n",
       "      <td>0.041616</td>\n",
       "      <td>-0.009331</td>\n",
       "      <td>-0.005928</td>\n",
       "      <td>0.040172</td>\n",
       "      <td>-0.016761</td>\n",
       "      <td>-0.006381</td>\n",
       "      <td>7.390705</td>\n",
       "      <td>0.075184</td>\n",
       "      <td>0.001097</td>\n",
       "      <td>1.06056</td>\n",
       "    </tr>\n",
       "    <tr>\n",
       "      <th>1801</th>\n",
       "      <td>2021</td>\n",
       "      <td>2</td>\n",
       "      <td>262.136</td>\n",
       "      <td>3883.432105</td>\n",
       "      <td>7.1626</td>\n",
       "      <td>4.8250</td>\n",
       "      <td>0.012600</td>\n",
       "      <td>1814.01</td>\n",
       "      <td>NaN</td>\n",
       "      <td>3801.783135</td>\n",
       "      <td>...</td>\n",
       "      <td>0.023595</td>\n",
       "      <td>0.004294</td>\n",
       "      <td>-0.017586</td>\n",
       "      <td>0.041616</td>\n",
       "      <td>-0.009331</td>\n",
       "      <td>-0.005928</td>\n",
       "      <td>7.177770</td>\n",
       "      <td>0.075849</td>\n",
       "      <td>0.001374</td>\n",
       "      <td>1.013659</td>\n",
       "    </tr>\n",
       "  </tbody>\n",
       "</table>\n",
       "<p>1789 rows × 32 columns</p>\n",
       "</div>"
      ],
      "text/plain": [
       "      Year  Month      CPI       S&P500  Earnings  Dividends  10Y treasury  \\\n",
       "13    1872      2   12.654     4.880000    0.0338     0.0222      0.053783   \n",
       "14    1872      3   12.845     5.040000    0.0340     0.0225      0.053967   \n",
       "15    1872      4   13.130     5.180000    0.0342     0.0228      0.054150   \n",
       "16    1872      5   13.130     5.180000    0.0344     0.0231      0.054333   \n",
       "17    1872      6   13.035     5.130000    0.0346     0.0233      0.054517   \n",
       "...    ...    ...      ...          ...       ...        ...           ...   \n",
       "1797  2020     10  260.388  3418.701364    7.9173     4.8883      0.007900   \n",
       "1798  2020     11  260.229  3548.992500    7.7694     4.8724      0.008700   \n",
       "1799  2020     12  260.474  3695.310000    7.5617     4.8566      0.009300   \n",
       "1800  2021      1  261.582  3793.748421    7.3594     4.8408      0.010800   \n",
       "1801  2021      2  262.136  3883.432105    7.1626     4.8250      0.012600   \n",
       "\n",
       "         Gold  CPI_lag  S&P500_infl_adj  ...  S&P500_returns_t-1  \\\n",
       "13      20.80   12.845         4.860000  ...            0.029937   \n",
       "14      20.63   13.130         4.953659  ...            0.008683   \n",
       "15      20.68   13.130         5.151826  ...            0.021972   \n",
       "16      20.63   13.035         5.180000  ...            0.009894   \n",
       "17      20.63   12.845         5.142521  ...            0.004459   \n",
       "...       ...      ...              ...  ...                 ...   \n",
       "1797  1902.53  260.229      3366.913147  ...           -0.007659   \n",
       "1798  1869.50  260.474      3416.613812  ...            0.016833   \n",
       "1799  1853.80  261.582      3552.333800  ...            0.040172   \n",
       "1800  1869.68  262.136      3711.029049  ...            0.041616   \n",
       "1801  1814.01      NaN      3801.783135  ...            0.023595   \n",
       "\n",
       "      Gold_returns_t-1  bond_returns_t-1  S&P500_returns_t-2  \\\n",
       "13            0.015511          0.004211            0.003115   \n",
       "14           -0.007160          0.003065            0.029937   \n",
       "15           -0.022921         -0.011841            0.008683   \n",
       "16           -0.019335         -0.018675            0.021972   \n",
       "17           -0.002418          0.003115            0.009894   \n",
       "...                ...               ...                 ...   \n",
       "1797         -0.025551         -0.003741            0.055599   \n",
       "1798         -0.011302         -0.010401           -0.007659   \n",
       "1799         -0.016761         -0.006381            0.016833   \n",
       "1800         -0.009331         -0.005928            0.040172   \n",
       "1801          0.004294         -0.017586            0.041616   \n",
       "\n",
       "      Gold_returns_t-2  bond_returns_t-2  Earnings_Infl_adj  Val_measure_1  \\\n",
       "13           -0.034688         -0.018417           0.033800       0.092127   \n",
       "14            0.015511          0.004211           0.034513       0.092879   \n",
       "15           -0.007160          0.003065           0.034959       0.093424   \n",
       "16           -0.022921         -0.011841           0.034400       0.093351   \n",
       "17           -0.019335         -0.018675           0.034350       0.093282   \n",
       "...                ...               ...                ...            ...   \n",
       "1797          0.067451         -0.005519           7.920585       0.073083   \n",
       "1798         -0.025551         -0.003741           7.764656       0.073821   \n",
       "1799         -0.011302         -0.010401           7.568819       0.074329   \n",
       "1800         -0.016761         -0.006381           7.390705       0.075184   \n",
       "1801         -0.009331         -0.005928           7.177770       0.075849   \n",
       "\n",
       "      Val_measure_2 Val_measure_3  \n",
       "13         0.068653      0.997211  \n",
       "14         0.083196      0.988285  \n",
       "15         0.031377      0.991976  \n",
       "16        -0.015408      0.992391  \n",
       "17        -0.032134      0.994522  \n",
       "...             ...           ...  \n",
       "1797      -0.003501      1.153453  \n",
       "1798      -0.003664      1.107284  \n",
       "1799      -0.003367      1.073104  \n",
       "1800       0.001097       1.06056  \n",
       "1801       0.001374      1.013659  \n",
       "\n",
       "[1789 rows x 32 columns]"
      ]
     },
     "execution_count": 266,
     "metadata": {},
     "output_type": "execute_result"
    }
   ],
   "source": [
    "df88"
   ]
  },
  {
   "cell_type": "code",
   "execution_count": 267,
   "metadata": {},
   "outputs": [],
   "source": [
    "mask0 = (df88.Year <= 1999)\n",
    "df88 = df88.loc[mask]"
   ]
  },
  {
   "cell_type": "code",
   "execution_count": 268,
   "metadata": {},
   "outputs": [],
   "source": [
    "df88 = df88.apply(pd.to_numeric)"
   ]
  },
  {
   "cell_type": "code",
   "execution_count": 269,
   "metadata": {},
   "outputs": [
    {
     "data": {
      "text/html": [
       "<table class=\"simpletable\">\n",
       "<caption>Generalized Linear Model Regression Results</caption>\n",
       "<tr>\n",
       "  <th>Dep. Variable:</th>    <td>S&P500_returns</td>  <th>  No. Observations:  </th>  <td>  1535</td>  \n",
       "</tr>\n",
       "<tr>\n",
       "  <th>Model:</th>                  <td>GLM</td>       <th>  Df Residuals:      </th>  <td>  1532</td>  \n",
       "</tr>\n",
       "<tr>\n",
       "  <th>Model Family:</th>        <td>Gaussian</td>     <th>  Df Model:          </th>  <td>     2</td>  \n",
       "</tr>\n",
       "<tr>\n",
       "  <th>Link Function:</th>       <td>identity</td>     <th>  Scale:             </th> <td>0.0017075</td>\n",
       "</tr>\n",
       "<tr>\n",
       "  <th>Method:</th>                <td>IRLS</td>       <th>  Log-Likelihood:    </th> <td>  2714.5</td> \n",
       "</tr>\n",
       "<tr>\n",
       "  <th>Date:</th>            <td>Wed, 31 Mar 2021</td> <th>  Deviance:          </th> <td>  2.6158</td> \n",
       "</tr>\n",
       "<tr>\n",
       "  <th>Time:</th>                <td>12:57:41</td>     <th>  Pearson chi2:      </th>  <td>  2.62</td>  \n",
       "</tr>\n",
       "<tr>\n",
       "  <th>No. Iterations:</th>          <td>3</td>        <th>                     </th>     <td> </td>    \n",
       "</tr>\n",
       "<tr>\n",
       "  <th>Covariance Type:</th>     <td>nonrobust</td>    <th>                     </th>     <td> </td>    \n",
       "</tr>\n",
       "</table>\n",
       "<table class=\"simpletable\">\n",
       "<tr>\n",
       "        <td></td>           <th>coef</th>     <th>std err</th>      <th>z</th>      <th>P>|z|</th>  <th>[0.025</th>    <th>0.975]</th>  \n",
       "</tr>\n",
       "<tr>\n",
       "  <th>Val_measure_1</th> <td>    0.0879</td> <td>    0.076</td> <td>    1.157</td> <td> 0.247</td> <td>   -0.061</td> <td>    0.237</td>\n",
       "</tr>\n",
       "<tr>\n",
       "  <th>Val_measure_2</th> <td>    0.0804</td> <td>    0.018</td> <td>    4.367</td> <td> 0.000</td> <td>    0.044</td> <td>    0.117</td>\n",
       "</tr>\n",
       "<tr>\n",
       "  <th>Val_measure_3</th> <td>   -0.0035</td> <td>    0.007</td> <td>   -0.491</td> <td> 0.623</td> <td>   -0.017</td> <td>    0.010</td>\n",
       "</tr>\n",
       "</table>"
      ],
      "text/plain": [
       "<class 'statsmodels.iolib.summary.Summary'>\n",
       "\"\"\"\n",
       "                 Generalized Linear Model Regression Results                  \n",
       "==============================================================================\n",
       "Dep. Variable:         S&P500_returns   No. Observations:                 1535\n",
       "Model:                            GLM   Df Residuals:                     1532\n",
       "Model Family:                Gaussian   Df Model:                            2\n",
       "Link Function:               identity   Scale:                       0.0017075\n",
       "Method:                          IRLS   Log-Likelihood:                 2714.5\n",
       "Date:                Wed, 31 Mar 2021   Deviance:                       2.6158\n",
       "Time:                        12:57:41   Pearson chi2:                     2.62\n",
       "No. Iterations:                     3                                         \n",
       "Covariance Type:            nonrobust                                         \n",
       "=================================================================================\n",
       "                    coef    std err          z      P>|z|      [0.025      0.975]\n",
       "---------------------------------------------------------------------------------\n",
       "Val_measure_1     0.0879      0.076      1.157      0.247      -0.061       0.237\n",
       "Val_measure_2     0.0804      0.018      4.367      0.000       0.044       0.117\n",
       "Val_measure_3    -0.0035      0.007     -0.491      0.623      -0.017       0.010\n",
       "=================================================================================\n",
       "\"\"\""
      ]
     },
     "execution_count": 269,
     "metadata": {},
     "output_type": "execute_result"
    }
   ],
   "source": [
    "X8 = df88[['Val_measure_1', 'Val_measure_2','Val_measure_3']]\n",
    "Y81 = df88['S&P500_returns']\n",
    "model81 = sm.GLM(Y81, X8)\n",
    "res81 = model81.fit()\n",
    "res81.summary()"
   ]
  },
  {
   "cell_type": "code",
   "execution_count": 270,
   "metadata": {},
   "outputs": [
    {
     "data": {
      "text/html": [
       "<table class=\"simpletable\">\n",
       "<caption>Generalized Linear Model Regression Results</caption>\n",
       "<tr>\n",
       "  <th>Dep. Variable:</th>     <td>bond_returns</td>   <th>  No. Observations:  </th>   <td>  1535</td>  \n",
       "</tr>\n",
       "<tr>\n",
       "  <th>Model:</th>                  <td>GLM</td>       <th>  Df Residuals:      </th>   <td>  1532</td>  \n",
       "</tr>\n",
       "<tr>\n",
       "  <th>Model Family:</th>        <td>Gaussian</td>     <th>  Df Model:          </th>   <td>     2</td>  \n",
       "</tr>\n",
       "<tr>\n",
       "  <th>Link Function:</th>       <td>identity</td>     <th>  Scale:             </th> <td>0.00024607</td>\n",
       "</tr>\n",
       "<tr>\n",
       "  <th>Method:</th>                <td>IRLS</td>       <th>  Log-Likelihood:    </th>  <td>  4201.3</td> \n",
       "</tr>\n",
       "<tr>\n",
       "  <th>Date:</th>            <td>Wed, 31 Mar 2021</td> <th>  Deviance:          </th>  <td> 0.37698</td> \n",
       "</tr>\n",
       "<tr>\n",
       "  <th>Time:</th>                <td>12:57:42</td>     <th>  Pearson chi2:      </th>   <td> 0.377</td>  \n",
       "</tr>\n",
       "<tr>\n",
       "  <th>No. Iterations:</th>          <td>3</td>        <th>                     </th>      <td> </td>    \n",
       "</tr>\n",
       "<tr>\n",
       "  <th>Covariance Type:</th>     <td>nonrobust</td>    <th>                     </th>      <td> </td>    \n",
       "</tr>\n",
       "</table>\n",
       "<table class=\"simpletable\">\n",
       "<tr>\n",
       "        <td></td>           <th>coef</th>     <th>std err</th>      <th>z</th>      <th>P>|z|</th>  <th>[0.025</th>    <th>0.975]</th>  \n",
       "</tr>\n",
       "<tr>\n",
       "  <th>Val_measure_1</th> <td>    0.0193</td> <td>    0.029</td> <td>    0.669</td> <td> 0.503</td> <td>   -0.037</td> <td>    0.076</td>\n",
       "</tr>\n",
       "<tr>\n",
       "  <th>Val_measure_2</th> <td>    0.0595</td> <td>    0.007</td> <td>    8.506</td> <td> 0.000</td> <td>    0.046</td> <td>    0.073</td>\n",
       "</tr>\n",
       "<tr>\n",
       "  <th>Val_measure_3</th> <td>   -0.0013</td> <td>    0.003</td> <td>   -0.469</td> <td> 0.639</td> <td>   -0.007</td> <td>    0.004</td>\n",
       "</tr>\n",
       "</table>"
      ],
      "text/plain": [
       "<class 'statsmodels.iolib.summary.Summary'>\n",
       "\"\"\"\n",
       "                 Generalized Linear Model Regression Results                  \n",
       "==============================================================================\n",
       "Dep. Variable:           bond_returns   No. Observations:                 1535\n",
       "Model:                            GLM   Df Residuals:                     1532\n",
       "Model Family:                Gaussian   Df Model:                            2\n",
       "Link Function:               identity   Scale:                      0.00024607\n",
       "Method:                          IRLS   Log-Likelihood:                 4201.3\n",
       "Date:                Wed, 31 Mar 2021   Deviance:                      0.37698\n",
       "Time:                        12:57:42   Pearson chi2:                    0.377\n",
       "No. Iterations:                     3                                         \n",
       "Covariance Type:            nonrobust                                         \n",
       "=================================================================================\n",
       "                    coef    std err          z      P>|z|      [0.025      0.975]\n",
       "---------------------------------------------------------------------------------\n",
       "Val_measure_1     0.0193      0.029      0.669      0.503      -0.037       0.076\n",
       "Val_measure_2     0.0595      0.007      8.506      0.000       0.046       0.073\n",
       "Val_measure_3    -0.0013      0.003     -0.469      0.639      -0.007       0.004\n",
       "=================================================================================\n",
       "\"\"\""
      ]
     },
     "execution_count": 270,
     "metadata": {},
     "output_type": "execute_result"
    }
   ],
   "source": [
    "Y82 = df88['bond_returns']\n",
    "model82 = sm.GLM(Y82, X8)\n",
    "res82 = model82.fit()\n",
    "res82.summary()"
   ]
  },
  {
   "cell_type": "code",
   "execution_count": 271,
   "metadata": {},
   "outputs": [
    {
     "data": {
      "text/html": [
       "<table class=\"simpletable\">\n",
       "<caption>Generalized Linear Model Regression Results</caption>\n",
       "<tr>\n",
       "  <th>Dep. Variable:</th>     <td>Gold_returns</td>   <th>  No. Observations:  </th>  <td>  1535</td>  \n",
       "</tr>\n",
       "<tr>\n",
       "  <th>Model:</th>                  <td>GLM</td>       <th>  Df Residuals:      </th>  <td>  1532</td>  \n",
       "</tr>\n",
       "<tr>\n",
       "  <th>Model Family:</th>        <td>Gaussian</td>     <th>  Df Model:          </th>  <td>     2</td>  \n",
       "</tr>\n",
       "<tr>\n",
       "  <th>Link Function:</th>       <td>identity</td>     <th>  Scale:             </th> <td>0.0010471</td>\n",
       "</tr>\n",
       "<tr>\n",
       "  <th>Method:</th>                <td>IRLS</td>       <th>  Log-Likelihood:    </th> <td>  3089.8</td> \n",
       "</tr>\n",
       "<tr>\n",
       "  <th>Date:</th>            <td>Wed, 31 Mar 2021</td> <th>  Deviance:          </th> <td>  1.6042</td> \n",
       "</tr>\n",
       "<tr>\n",
       "  <th>Time:</th>                <td>12:57:42</td>     <th>  Pearson chi2:      </th>  <td>  1.60</td>  \n",
       "</tr>\n",
       "<tr>\n",
       "  <th>No. Iterations:</th>          <td>3</td>        <th>                     </th>     <td> </td>    \n",
       "</tr>\n",
       "<tr>\n",
       "  <th>Covariance Type:</th>     <td>nonrobust</td>    <th>                     </th>     <td> </td>    \n",
       "</tr>\n",
       "</table>\n",
       "<table class=\"simpletable\">\n",
       "<tr>\n",
       "        <td></td>           <th>coef</th>     <th>std err</th>      <th>z</th>      <th>P>|z|</th>  <th>[0.025</th>    <th>0.975]</th>  \n",
       "</tr>\n",
       "<tr>\n",
       "  <th>Val_measure_1</th> <td>   -0.7912</td> <td>    0.059</td> <td>  -13.309</td> <td> 0.000</td> <td>   -0.908</td> <td>   -0.675</td>\n",
       "</tr>\n",
       "<tr>\n",
       "  <th>Val_measure_2</th> <td>   -0.0050</td> <td>    0.014</td> <td>   -0.345</td> <td> 0.730</td> <td>   -0.033</td> <td>    0.023</td>\n",
       "</tr>\n",
       "<tr>\n",
       "  <th>Val_measure_3</th> <td>    0.0742</td> <td>    0.006</td> <td>   13.409</td> <td> 0.000</td> <td>    0.063</td> <td>    0.085</td>\n",
       "</tr>\n",
       "</table>"
      ],
      "text/plain": [
       "<class 'statsmodels.iolib.summary.Summary'>\n",
       "\"\"\"\n",
       "                 Generalized Linear Model Regression Results                  \n",
       "==============================================================================\n",
       "Dep. Variable:           Gold_returns   No. Observations:                 1535\n",
       "Model:                            GLM   Df Residuals:                     1532\n",
       "Model Family:                Gaussian   Df Model:                            2\n",
       "Link Function:               identity   Scale:                       0.0010471\n",
       "Method:                          IRLS   Log-Likelihood:                 3089.8\n",
       "Date:                Wed, 31 Mar 2021   Deviance:                       1.6042\n",
       "Time:                        12:57:42   Pearson chi2:                     1.60\n",
       "No. Iterations:                     3                                         \n",
       "Covariance Type:            nonrobust                                         \n",
       "=================================================================================\n",
       "                    coef    std err          z      P>|z|      [0.025      0.975]\n",
       "---------------------------------------------------------------------------------\n",
       "Val_measure_1    -0.7912      0.059    -13.309      0.000      -0.908      -0.675\n",
       "Val_measure_2    -0.0050      0.014     -0.345      0.730      -0.033       0.023\n",
       "Val_measure_3     0.0742      0.006     13.409      0.000       0.063       0.085\n",
       "=================================================================================\n",
       "\"\"\""
      ]
     },
     "execution_count": 271,
     "metadata": {},
     "output_type": "execute_result"
    }
   ],
   "source": [
    "Y83 = df88['Gold_returns']\n",
    "model83 = sm.GLM(Y83, X8)\n",
    "res83 = model83.fit()\n",
    "res83.summary()"
   ]
  },
  {
   "cell_type": "code",
   "execution_count": 272,
   "metadata": {},
   "outputs": [],
   "source": [
    "mask8 = (df.Year > 1999)\n",
    "df881 = df.loc[mask8]"
   ]
  },
  {
   "cell_type": "code",
   "execution_count": 273,
   "metadata": {},
   "outputs": [],
   "source": [
    "df881 = df881.apply(pd.to_numeric)"
   ]
  },
  {
   "cell_type": "code",
   "execution_count": 274,
   "metadata": {},
   "outputs": [],
   "source": [
    "X881 = df881[['Val_measure_1', 'Val_measure_2','Val_measure_3']]\n",
    "predicted_sp500_rets = res81.predict(X881)\n",
    "predicted_bond_rets = res82.predict(X881)\n",
    "predicted_gold_rets = res83.predict(X881)"
   ]
  },
  {
   "cell_type": "code",
   "execution_count": 275,
   "metadata": {},
   "outputs": [],
   "source": [
    "df882 = pd.DataFrame(list(zip(predicted_sp500_rets, predicted_bond_rets, predicted_gold_rets)))"
   ]
  },
  {
   "cell_type": "code",
   "execution_count": 276,
   "metadata": {},
   "outputs": [],
   "source": [
    "df882 = df882* 100"
   ]
  },
  {
   "cell_type": "code",
   "execution_count": 277,
   "metadata": {},
   "outputs": [],
   "source": [
    "cov1 = df882.cov()"
   ]
  },
  {
   "cell_type": "code",
   "execution_count": 278,
   "metadata": {},
   "outputs": [],
   "source": [
    "means8 = np.array(df882.mean())"
   ]
  },
  {
   "cell_type": "code",
   "execution_count": 279,
   "metadata": {},
   "outputs": [],
   "source": [
    "sharpe_weights_8 = means8.dot(np.linalg.inv(cov1))"
   ]
  },
  {
   "cell_type": "code",
   "execution_count": 280,
   "metadata": {},
   "outputs": [],
   "source": [
    "sharpe_weights_8 = sharpe_weights_8/sum(sharpe_weights_8)"
   ]
  },
  {
   "cell_type": "code",
   "execution_count": 281,
   "metadata": {},
   "outputs": [
    {
     "data": {
      "text/plain": [
       "array([-5.50977328,  6.95017489, -0.44040161])"
      ]
     },
     "execution_count": 281,
     "metadata": {},
     "output_type": "execute_result"
    }
   ],
   "source": [
    "sharpe_weights_8"
   ]
  },
  {
   "cell_type": "code",
   "execution_count": 283,
   "metadata": {},
   "outputs": [],
   "source": [
    "df882['pf_rets'] = -5.50977328*df882[0] +  6.95017489*df882[1] + -0.44040161*df882[2]"
   ]
  },
  {
   "cell_type": "code",
   "execution_count": 284,
   "metadata": {},
   "outputs": [
    {
     "data": {
      "text/html": [
       "<div>\n",
       "<style scoped>\n",
       "    .dataframe tbody tr th:only-of-type {\n",
       "        vertical-align: middle;\n",
       "    }\n",
       "\n",
       "    .dataframe tbody tr th {\n",
       "        vertical-align: top;\n",
       "    }\n",
       "\n",
       "    .dataframe thead th {\n",
       "        text-align: right;\n",
       "    }\n",
       "</style>\n",
       "<table border=\"1\" class=\"dataframe\">\n",
       "  <thead>\n",
       "    <tr style=\"text-align: right;\">\n",
       "      <th></th>\n",
       "      <th>0</th>\n",
       "      <th>1</th>\n",
       "      <th>2</th>\n",
       "      <th>pf_rets</th>\n",
       "    </tr>\n",
       "  </thead>\n",
       "  <tbody>\n",
       "    <tr>\n",
       "      <th>0</th>\n",
       "      <td>0.929140</td>\n",
       "      <td>0.329763</td>\n",
       "      <td>-0.937749</td>\n",
       "      <td>-2.414455</td>\n",
       "    </tr>\n",
       "    <tr>\n",
       "      <th>1</th>\n",
       "      <td>0.879679</td>\n",
       "      <td>0.302585</td>\n",
       "      <td>-0.465857</td>\n",
       "      <td>-2.538646</td>\n",
       "    </tr>\n",
       "    <tr>\n",
       "      <th>2</th>\n",
       "      <td>0.847649</td>\n",
       "      <td>0.274827</td>\n",
       "      <td>-0.790978</td>\n",
       "      <td>-2.411912</td>\n",
       "    </tr>\n",
       "    <tr>\n",
       "      <th>3</th>\n",
       "      <td>0.811247</td>\n",
       "      <td>0.252839</td>\n",
       "      <td>-0.853583</td>\n",
       "      <td>-2.336590</td>\n",
       "    </tr>\n",
       "    <tr>\n",
       "      <th>4</th>\n",
       "      <td>0.832849</td>\n",
       "      <td>0.274777</td>\n",
       "      <td>-0.845185</td>\n",
       "      <td>-2.306838</td>\n",
       "    </tr>\n",
       "    <tr>\n",
       "      <th>...</th>\n",
       "      <td>...</td>\n",
       "      <td>...</td>\n",
       "      <td>...</td>\n",
       "      <td>...</td>\n",
       "    </tr>\n",
       "    <tr>\n",
       "      <th>249</th>\n",
       "      <td>0.213581</td>\n",
       "      <td>-0.025163</td>\n",
       "      <td>2.782135</td>\n",
       "      <td>-2.576927</td>\n",
       "    </tr>\n",
       "    <tr>\n",
       "      <th>250</th>\n",
       "      <td>0.234789</td>\n",
       "      <td>-0.018891</td>\n",
       "      <td>2.381063</td>\n",
       "      <td>-2.473554</td>\n",
       "    </tr>\n",
       "    <tr>\n",
       "      <th>251</th>\n",
       "      <td>0.253505</td>\n",
       "      <td>-0.011841</td>\n",
       "      <td>2.087001</td>\n",
       "      <td>-2.398170</td>\n",
       "    </tr>\n",
       "    <tr>\n",
       "      <th>252</th>\n",
       "      <td>0.301272</td>\n",
       "      <td>0.017931</td>\n",
       "      <td>1.924025</td>\n",
       "      <td>-2.382657</td>\n",
       "    </tr>\n",
       "    <tr>\n",
       "      <th>253</th>\n",
       "      <td>0.325625</td>\n",
       "      <td>0.026765</td>\n",
       "      <td>1.523055</td>\n",
       "      <td>-2.278851</td>\n",
       "    </tr>\n",
       "  </tbody>\n",
       "</table>\n",
       "<p>254 rows × 4 columns</p>\n",
       "</div>"
      ],
      "text/plain": [
       "            0         1         2   pf_rets\n",
       "0    0.929140  0.329763 -0.937749 -2.414455\n",
       "1    0.879679  0.302585 -0.465857 -2.538646\n",
       "2    0.847649  0.274827 -0.790978 -2.411912\n",
       "3    0.811247  0.252839 -0.853583 -2.336590\n",
       "4    0.832849  0.274777 -0.845185 -2.306838\n",
       "..        ...       ...       ...       ...\n",
       "249  0.213581 -0.025163  2.782135 -2.576927\n",
       "250  0.234789 -0.018891  2.381063 -2.473554\n",
       "251  0.253505 -0.011841  2.087001 -2.398170\n",
       "252  0.301272  0.017931  1.924025 -2.382657\n",
       "253  0.325625  0.026765  1.523055 -2.278851\n",
       "\n",
       "[254 rows x 4 columns]"
      ]
     },
     "execution_count": 284,
     "metadata": {},
     "output_type": "execute_result"
    }
   ],
   "source": [
    "df882"
   ]
  },
  {
   "cell_type": "code",
   "execution_count": 285,
   "metadata": {},
   "outputs": [
    {
     "data": {
      "text/plain": [
       "-10.853335594955889"
      ]
     },
     "execution_count": 285,
     "metadata": {},
     "output_type": "execute_result"
    }
   ],
   "source": [
    "df882.pf_rets.mean()/df882.pf_rets.std()"
   ]
  },
  {
   "cell_type": "markdown",
   "metadata": {},
   "source": [
    "## The results from this model are not that convincing and not accurate and we have sharpe of -10 which is really worse"
   ]
  }
 ],
 "metadata": {
  "kernelspec": {
   "display_name": "Python 3",
   "language": "python",
   "name": "python3"
  },
  "language_info": {
   "codemirror_mode": {
    "name": "ipython",
    "version": 3
   },
   "file_extension": ".py",
   "mimetype": "text/x-python",
   "name": "python",
   "nbconvert_exporter": "python",
   "pygments_lexer": "ipython3",
   "version": "3.7.3"
  }
 },
 "nbformat": 4,
 "nbformat_minor": 2
}
