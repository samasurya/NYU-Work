{
 "cells": [
  {
   "cell_type": "code",
   "execution_count": 75,
   "metadata": {},
   "outputs": [
    {
     "name": "stdout",
     "output_type": "stream",
     "text": [
      "Populating the interactive namespace from numpy and matplotlib\n"
     ]
    },
    {
     "name": "stderr",
     "output_type": "stream",
     "text": [
      "C:\\ProgramData\\Anaconda3\\lib\\site-packages\\IPython\\core\\magics\\pylab.py:160: UserWarning: pylab import has clobbered these variables: ['norm', 'put']\n",
      "`%matplotlib` prevents importing * from pylab and numpy\n",
      "  \"\\n`%matplotlib` prevents importing * from pylab and numpy\"\n"
     ]
    }
   ],
   "source": [
    "import pandas as pd\n",
    "%pylab inline"
   ]
  },
  {
   "cell_type": "code",
   "execution_count": 76,
   "metadata": {},
   "outputs": [],
   "source": [
    "df = pd.read_excel(r'C:\\Users\\samas\\Downloads\\Put_Call_RPFM.xlsx')"
   ]
  },
  {
   "cell_type": "markdown",
   "metadata": {},
   "source": [
    "## Q1)"
   ]
  },
  {
   "cell_type": "code",
   "execution_count": 77,
   "metadata": {},
   "outputs": [],
   "source": [
    "df['futures_price'] = df.Call + df.Strike - df.Put"
   ]
  },
  {
   "cell_type": "code",
   "execution_count": 78,
   "metadata": {},
   "outputs": [
    {
     "data": {
      "text/html": [
       "<div>\n",
       "<style scoped>\n",
       "    .dataframe tbody tr th:only-of-type {\n",
       "        vertical-align: middle;\n",
       "    }\n",
       "\n",
       "    .dataframe tbody tr th {\n",
       "        vertical-align: top;\n",
       "    }\n",
       "\n",
       "    .dataframe thead th {\n",
       "        text-align: right;\n",
       "    }\n",
       "</style>\n",
       "<table border=\"1\" class=\"dataframe\">\n",
       "  <thead>\n",
       "    <tr style=\"text-align: right;\">\n",
       "      <th></th>\n",
       "      <th>Strike</th>\n",
       "      <th>Call</th>\n",
       "      <th>Put</th>\n",
       "      <th>futures_price</th>\n",
       "    </tr>\n",
       "  </thead>\n",
       "  <tbody>\n",
       "    <tr>\n",
       "      <th>0</th>\n",
       "      <td>20.0</td>\n",
       "      <td>38.99</td>\n",
       "      <td>0.01</td>\n",
       "      <td>58.98</td>\n",
       "    </tr>\n",
       "    <tr>\n",
       "      <th>1</th>\n",
       "      <td>22.5</td>\n",
       "      <td>36.52</td>\n",
       "      <td>0.04</td>\n",
       "      <td>58.98</td>\n",
       "    </tr>\n",
       "    <tr>\n",
       "      <th>2</th>\n",
       "      <td>25.0</td>\n",
       "      <td>34.06</td>\n",
       "      <td>0.08</td>\n",
       "      <td>58.98</td>\n",
       "    </tr>\n",
       "    <tr>\n",
       "      <th>3</th>\n",
       "      <td>27.5</td>\n",
       "      <td>31.64</td>\n",
       "      <td>0.16</td>\n",
       "      <td>58.98</td>\n",
       "    </tr>\n",
       "    <tr>\n",
       "      <th>4</th>\n",
       "      <td>30.0</td>\n",
       "      <td>29.28</td>\n",
       "      <td>0.30</td>\n",
       "      <td>58.98</td>\n",
       "    </tr>\n",
       "    <tr>\n",
       "      <th>...</th>\n",
       "      <td>...</td>\n",
       "      <td>...</td>\n",
       "      <td>...</td>\n",
       "      <td>...</td>\n",
       "    </tr>\n",
       "    <tr>\n",
       "      <th>66</th>\n",
       "      <td>82.5</td>\n",
       "      <td>1.16</td>\n",
       "      <td>24.68</td>\n",
       "      <td>58.98</td>\n",
       "    </tr>\n",
       "    <tr>\n",
       "      <th>67</th>\n",
       "      <td>85.0</td>\n",
       "      <td>1.00</td>\n",
       "      <td>27.02</td>\n",
       "      <td>58.98</td>\n",
       "    </tr>\n",
       "    <tr>\n",
       "      <th>68</th>\n",
       "      <td>87.5</td>\n",
       "      <td>0.89</td>\n",
       "      <td>29.41</td>\n",
       "      <td>58.98</td>\n",
       "    </tr>\n",
       "    <tr>\n",
       "      <th>69</th>\n",
       "      <td>90.0</td>\n",
       "      <td>0.79</td>\n",
       "      <td>31.81</td>\n",
       "      <td>58.98</td>\n",
       "    </tr>\n",
       "    <tr>\n",
       "      <th>70</th>\n",
       "      <td>92.5</td>\n",
       "      <td>0.66</td>\n",
       "      <td>34.18</td>\n",
       "      <td>58.98</td>\n",
       "    </tr>\n",
       "  </tbody>\n",
       "</table>\n",
       "<p>71 rows × 4 columns</p>\n",
       "</div>"
      ],
      "text/plain": [
       "    Strike   Call    Put  futures_price\n",
       "0     20.0  38.99   0.01          58.98\n",
       "1     22.5  36.52   0.04          58.98\n",
       "2     25.0  34.06   0.08          58.98\n",
       "3     27.5  31.64   0.16          58.98\n",
       "4     30.0  29.28   0.30          58.98\n",
       "..     ...    ...    ...            ...\n",
       "66    82.5   1.16  24.68          58.98\n",
       "67    85.0   1.00  27.02          58.98\n",
       "68    87.5   0.89  29.41          58.98\n",
       "69    90.0   0.79  31.81          58.98\n",
       "70    92.5   0.66  34.18          58.98\n",
       "\n",
       "[71 rows x 4 columns]"
      ]
     },
     "execution_count": 78,
     "metadata": {},
     "output_type": "execute_result"
    }
   ],
   "source": [
    "df"
   ]
  },
  {
   "cell_type": "markdown",
   "metadata": {},
   "source": [
    "## Q2)"
   ]
  },
  {
   "cell_type": "code",
   "execution_count": 79,
   "metadata": {},
   "outputs": [],
   "source": [
    "from scipy.stats import norm\n"
   ]
  },
  {
   "cell_type": "code",
   "execution_count": 80,
   "metadata": {},
   "outputs": [],
   "source": [
    "def d(sigma, S, K,r,t):\n",
    "    d1 =1/(sigma * sqrt(t))*(log(S/K) + (r + sigma**2/2)* t)\n",
    "    d2 = d1- sigma*sqrt(t)\n",
    "    return d1, d2"
   ]
  },
  {
   "cell_type": "code",
   "execution_count": 81,
   "metadata": {},
   "outputs": [],
   "source": [
    "def call(sigma, S, K, r, t):\n",
    "    d1 =1/(sigma * sqrt(t))*(log(S/K) + (r + sigma**2/2)* t)\n",
    "    d2 = d1- sigma*sqrt(t)\n",
    "    c = norm.cdf(d1) *S - norm.cdf(d2) * K * exp(-r * t)\n",
    "    return c"
   ]
  },
  {
   "cell_type": "code",
   "execution_count": 82,
   "metadata": {},
   "outputs": [],
   "source": [
    "def impl_vol(S,K,r,t,c0):\n",
    "    tol = 1e-3\n",
    "    epsilon = 1\n",
    "    count = 0\n",
    "    max_iter = 1000\n",
    "    vol = 0.5\n",
    "    while  epsilon > tol:\n",
    "        count += 1\n",
    "        if count> max_iter:\n",
    "            break\n",
    "        orig_vol = vol\n",
    "        d1, d2 = d(vol,S,K,r,t)\n",
    "        func = call(vol, S, K, r, t) - c0\n",
    "        vega = S * norm.pdf(d1) *sqrt(t)\n",
    "        vol = -func/vega + vol\n",
    "        epsilon = abs((vol - orig_vol)/orig_vol)\n",
    "    return vol"
   ]
  },
  {
   "cell_type": "code",
   "execution_count": 83,
   "metadata": {},
   "outputs": [],
   "source": [
    "v = []\n",
    "for index, row in df.iterrows():\n",
    "    S = 58.98\n",
    "    K = row['Strike']\n",
    "    r = 0\n",
    "    t = 1\n",
    "    c0 = row['Call']\n",
    "    x = impl_vol(S,K,r,t,c0)\n",
    "    v.append(x)"
   ]
  },
  {
   "cell_type": "code",
   "execution_count": 84,
   "metadata": {},
   "outputs": [],
   "source": [
    "df['implied_vol'] = v"
   ]
  },
  {
   "cell_type": "code",
   "execution_count": 85,
   "metadata": {},
   "outputs": [
    {
     "data": {
      "text/html": [
       "<div>\n",
       "<style scoped>\n",
       "    .dataframe tbody tr th:only-of-type {\n",
       "        vertical-align: middle;\n",
       "    }\n",
       "\n",
       "    .dataframe tbody tr th {\n",
       "        vertical-align: top;\n",
       "    }\n",
       "\n",
       "    .dataframe thead th {\n",
       "        text-align: right;\n",
       "    }\n",
       "</style>\n",
       "<table border=\"1\" class=\"dataframe\">\n",
       "  <thead>\n",
       "    <tr style=\"text-align: right;\">\n",
       "      <th></th>\n",
       "      <th>Strike</th>\n",
       "      <th>Call</th>\n",
       "      <th>Put</th>\n",
       "      <th>futures_price</th>\n",
       "      <th>implied_vol</th>\n",
       "    </tr>\n",
       "  </thead>\n",
       "  <tbody>\n",
       "    <tr>\n",
       "      <th>0</th>\n",
       "      <td>20.0</td>\n",
       "      <td>38.99</td>\n",
       "      <td>0.01</td>\n",
       "      <td>58.98</td>\n",
       "      <td>0.386474</td>\n",
       "    </tr>\n",
       "    <tr>\n",
       "      <th>1</th>\n",
       "      <td>22.5</td>\n",
       "      <td>36.52</td>\n",
       "      <td>0.04</td>\n",
       "      <td>58.98</td>\n",
       "      <td>0.402605</td>\n",
       "    </tr>\n",
       "    <tr>\n",
       "      <th>2</th>\n",
       "      <td>25.0</td>\n",
       "      <td>34.06</td>\n",
       "      <td>0.08</td>\n",
       "      <td>58.98</td>\n",
       "      <td>0.395856</td>\n",
       "    </tr>\n",
       "    <tr>\n",
       "      <th>3</th>\n",
       "      <td>27.5</td>\n",
       "      <td>31.64</td>\n",
       "      <td>0.16</td>\n",
       "      <td>58.98</td>\n",
       "      <td>0.395223</td>\n",
       "    </tr>\n",
       "    <tr>\n",
       "      <th>4</th>\n",
       "      <td>30.0</td>\n",
       "      <td>29.28</td>\n",
       "      <td>0.30</td>\n",
       "      <td>58.98</td>\n",
       "      <td>0.397289</td>\n",
       "    </tr>\n",
       "    <tr>\n",
       "      <th>...</th>\n",
       "      <td>...</td>\n",
       "      <td>...</td>\n",
       "      <td>...</td>\n",
       "      <td>...</td>\n",
       "      <td>...</td>\n",
       "    </tr>\n",
       "    <tr>\n",
       "      <th>66</th>\n",
       "      <td>82.5</td>\n",
       "      <td>1.16</td>\n",
       "      <td>24.68</td>\n",
       "      <td>58.98</td>\n",
       "      <td>0.285016</td>\n",
       "    </tr>\n",
       "    <tr>\n",
       "      <th>67</th>\n",
       "      <td>85.0</td>\n",
       "      <td>1.00</td>\n",
       "      <td>27.02</td>\n",
       "      <td>58.98</td>\n",
       "      <td>0.289244</td>\n",
       "    </tr>\n",
       "    <tr>\n",
       "      <th>68</th>\n",
       "      <td>87.5</td>\n",
       "      <td>0.89</td>\n",
       "      <td>29.41</td>\n",
       "      <td>58.98</td>\n",
       "      <td>0.295475</td>\n",
       "    </tr>\n",
       "    <tr>\n",
       "      <th>69</th>\n",
       "      <td>90.0</td>\n",
       "      <td>0.79</td>\n",
       "      <td>31.81</td>\n",
       "      <td>58.98</td>\n",
       "      <td>0.300938</td>\n",
       "    </tr>\n",
       "    <tr>\n",
       "      <th>70</th>\n",
       "      <td>92.5</td>\n",
       "      <td>0.66</td>\n",
       "      <td>34.18</td>\n",
       "      <td>58.98</td>\n",
       "      <td>0.301672</td>\n",
       "    </tr>\n",
       "  </tbody>\n",
       "</table>\n",
       "<p>71 rows × 5 columns</p>\n",
       "</div>"
      ],
      "text/plain": [
       "    Strike   Call    Put  futures_price  implied_vol\n",
       "0     20.0  38.99   0.01          58.98     0.386474\n",
       "1     22.5  36.52   0.04          58.98     0.402605\n",
       "2     25.0  34.06   0.08          58.98     0.395856\n",
       "3     27.5  31.64   0.16          58.98     0.395223\n",
       "4     30.0  29.28   0.30          58.98     0.397289\n",
       "..     ...    ...    ...            ...          ...\n",
       "66    82.5   1.16  24.68          58.98     0.285016\n",
       "67    85.0   1.00  27.02          58.98     0.289244\n",
       "68    87.5   0.89  29.41          58.98     0.295475\n",
       "69    90.0   0.79  31.81          58.98     0.300938\n",
       "70    92.5   0.66  34.18          58.98     0.301672\n",
       "\n",
       "[71 rows x 5 columns]"
      ]
     },
     "execution_count": 85,
     "metadata": {},
     "output_type": "execute_result"
    }
   ],
   "source": [
    "df"
   ]
  },
  {
   "cell_type": "markdown",
   "metadata": {},
   "source": [
    "## Q3)"
   ]
  },
  {
   "cell_type": "code",
   "execution_count": 86,
   "metadata": {},
   "outputs": [
    {
     "data": {
      "text/plain": [
       "<Figure size 1440x1440 with 0 Axes>"
      ]
     },
     "metadata": {},
     "output_type": "display_data"
    },
    {
     "data": {
      "image/png": "[encoded data removed]",
      "text/plain": [
       "<Figure size 432x288 with 1 Axes>"
      ]
     },
     "metadata": {
      "needs_background": "light"
     },
     "output_type": "display_data"
    }
   ],
   "source": [
    "plt.figure(figsize=(20,20))\n",
    "df.plot(x= 'Strike', y = 'implied_vol')\n",
    "plt.style.use('fivethirtyeight')"
   ]
  },
  {
   "cell_type": "markdown",
   "metadata": {},
   "source": [
    "## Q4)"
   ]
  },
  {
   "cell_type": "code",
   "execution_count": 87,
   "metadata": {},
   "outputs": [],
   "source": [
    "import statsmodels.api as sm"
   ]
  },
  {
   "cell_type": "code",
   "execution_count": 88,
   "metadata": {},
   "outputs": [],
   "source": [
    "df['strike_sq'] = df['Strike']**2"
   ]
  },
  {
   "cell_type": "code",
   "execution_count": 89,
   "metadata": {},
   "outputs": [
    {
     "data": {
      "text/html": [
       "<table class=\"simpletable\">\n",
       "<caption>OLS Regression Results</caption>\n",
       "<tr>\n",
       "  <th>Dep. Variable:</th>       <td>implied_vol</td>   <th>  R-squared:         </th> <td>   0.836</td>\n",
       "</tr>\n",
       "<tr>\n",
       "  <th>Model:</th>                   <td>OLS</td>       <th>  Adj. R-squared:    </th> <td>   0.831</td>\n",
       "</tr>\n",
       "<tr>\n",
       "  <th>Method:</th>             <td>Least Squares</td>  <th>  F-statistic:       </th> <td>   173.4</td>\n",
       "</tr>\n",
       "<tr>\n",
       "  <th>Date:</th>             <td>Wed, 05 May 2021</td> <th>  Prob (F-statistic):</th> <td>2.00e-27</td>\n",
       "</tr>\n",
       "<tr>\n",
       "  <th>Time:</th>                 <td>15:10:26</td>     <th>  Log-Likelihood:    </th> <td>  194.64</td>\n",
       "</tr>\n",
       "<tr>\n",
       "  <th>No. Observations:</th>      <td>    71</td>      <th>  AIC:               </th> <td>  -383.3</td>\n",
       "</tr>\n",
       "<tr>\n",
       "  <th>Df Residuals:</th>          <td>    68</td>      <th>  BIC:               </th> <td>  -376.5</td>\n",
       "</tr>\n",
       "<tr>\n",
       "  <th>Df Model:</th>              <td>     2</td>      <th>                     </th>     <td> </td>   \n",
       "</tr>\n",
       "<tr>\n",
       "  <th>Covariance Type:</th>      <td>nonrobust</td>    <th>                     </th>     <td> </td>   \n",
       "</tr>\n",
       "</table>\n",
       "<table class=\"simpletable\">\n",
       "<tr>\n",
       "      <td></td>         <th>coef</th>     <th>std err</th>      <th>t</th>      <th>P>|t|</th>  <th>[0.025</th>    <th>0.975]</th>  \n",
       "</tr>\n",
       "<tr>\n",
       "  <th>const</th>     <td>    0.5065</td> <td>    0.018</td> <td>   28.495</td> <td> 0.000</td> <td>    0.471</td> <td>    0.542</td>\n",
       "</tr>\n",
       "<tr>\n",
       "  <th>Strike</th>    <td>   -0.0039</td> <td>    0.001</td> <td>   -6.225</td> <td> 0.000</td> <td>   -0.005</td> <td>   -0.003</td>\n",
       "</tr>\n",
       "<tr>\n",
       "  <th>strike_sq</th> <td> 1.465e-05</td> <td> 5.53e-06</td> <td>    2.647</td> <td> 0.010</td> <td> 3.61e-06</td> <td> 2.57e-05</td>\n",
       "</tr>\n",
       "</table>\n",
       "<table class=\"simpletable\">\n",
       "<tr>\n",
       "  <th>Omnibus:</th>       <td> 0.236</td> <th>  Durbin-Watson:     </th> <td>   0.084</td>\n",
       "</tr>\n",
       "<tr>\n",
       "  <th>Prob(Omnibus):</th> <td> 0.889</td> <th>  Jarque-Bera (JB):  </th> <td>   0.218</td>\n",
       "</tr>\n",
       "<tr>\n",
       "  <th>Skew:</th>          <td> 0.124</td> <th>  Prob(JB):          </th> <td>   0.897</td>\n",
       "</tr>\n",
       "<tr>\n",
       "  <th>Kurtosis:</th>      <td> 2.890</td> <th>  Cond. No.          </th> <td>3.63e+04</td>\n",
       "</tr>\n",
       "</table><br/><br/>Notes:<br/>[1] Standard Errors assume that the covariance matrix of the errors is correctly specified.<br/>[2] The condition number is large, 3.63e+04. This might indicate that there are<br/>strong multicollinearity or other numerical problems."
      ],
      "text/plain": [
       "<class 'statsmodels.iolib.summary.Summary'>\n",
       "\"\"\"\n",
       "                            OLS Regression Results                            \n",
       "==============================================================================\n",
       "Dep. Variable:            implied_vol   R-squared:                       0.836\n",
       "Model:                            OLS   Adj. R-squared:                  0.831\n",
       "Method:                 Least Squares   F-statistic:                     173.4\n",
       "Date:                Wed, 05 May 2021   Prob (F-statistic):           2.00e-27\n",
       "Time:                        15:10:26   Log-Likelihood:                 194.64\n",
       "No. Observations:                  71   AIC:                            -383.3\n",
       "Df Residuals:                      68   BIC:                            -376.5\n",
       "Df Model:                           2                                         \n",
       "Covariance Type:            nonrobust                                         \n",
       "==============================================================================\n",
       "                 coef    std err          t      P>|t|      [0.025      0.975]\n",
       "------------------------------------------------------------------------------\n",
       "const          0.5065      0.018     28.495      0.000       0.471       0.542\n",
       "Strike        -0.0039      0.001     -6.225      0.000      -0.005      -0.003\n",
       "strike_sq   1.465e-05   5.53e-06      2.647      0.010    3.61e-06    2.57e-05\n",
       "==============================================================================\n",
       "Omnibus:                        0.236   Durbin-Watson:                   0.084\n",
       "Prob(Omnibus):                  0.889   Jarque-Bera (JB):                0.218\n",
       "Skew:                           0.124   Prob(JB):                        0.897\n",
       "Kurtosis:                       2.890   Cond. No.                     3.63e+04\n",
       "==============================================================================\n",
       "\n",
       "Notes:\n",
       "[1] Standard Errors assume that the covariance matrix of the errors is correctly specified.\n",
       "[2] The condition number is large, 3.63e+04. This might indicate that there are\n",
       "strong multicollinearity or other numerical problems.\n",
       "\"\"\""
      ]
     },
     "execution_count": 89,
     "metadata": {},
     "output_type": "execute_result"
    }
   ],
   "source": [
    "Y = df['implied_vol']\n",
    "X = df[['Strike', 'strike_sq']]\n",
    "X= sm.add_constant(X)\n",
    "model = sm.OLS(Y,X)\n",
    "model.fit().summary()"
   ]
  },
  {
   "cell_type": "markdown",
   "metadata": {},
   "source": [
    "The t-stats for both strike and strike squared are -6.225, 2.647 respectively. This means that both the variables are significant in explaining the variablility of implied volatlity. An R squared of 83.6 is incredible which also says that 83.6% of variability in implied volatility is explained by the strike price, which makes sense."
   ]
  },
  {
   "cell_type": "markdown",
   "metadata": {},
   "source": [
    "## Q5)"
   ]
  },
  {
   "cell_type": "markdown",
   "metadata": {},
   "source": [
    "## The Economic Interpretation of Skew and Smile in the graph is as follows:\n",
    "## The graph is skewed right which implies that as the strike price approaches the future price, the implied volatility is low which reflects that the investors feel less risk for those call options with strike close to future price and thus low volatility, and the smile in the graph occurs when the strike is greater than the future price which reflects the fat tail returns which have very low probability and hence it makes sense that the implied volatility is rising due to the expectation of fat tail returns which have high volatility.\n",
    "## These are consistent with the signs of the coefficients which we got from the regression."
   ]
  },
  {
   "cell_type": "code",
   "execution_count": 90,
   "metadata": {},
   "outputs": [
    {
     "data": {
      "text/plain": [
       "-0.0595160061659016"
      ]
     },
     "execution_count": 90,
     "metadata": {},
     "output_type": "execute_result"
    }
   ],
   "source": [
    "df['Strike'].std() * (-0.0039) "
   ]
  },
  {
   "cell_type": "code",
   "execution_count": 91,
   "metadata": {},
   "outputs": [
    {
     "data": {
      "text/plain": [
       "0.02561776685130981"
      ]
     },
     "execution_count": 91,
     "metadata": {},
     "output_type": "execute_result"
    }
   ],
   "source": [
    "df['strike_sq'].std() * (1.465e-05)"
   ]
  },
  {
   "cell_type": "code",
   "execution_count": 92,
   "metadata": {},
   "outputs": [
    {
     "data": {
      "text/plain": [
       "0.0388075496926272"
      ]
     },
     "execution_count": 92,
     "metadata": {},
     "output_type": "execute_result"
    }
   ],
   "source": [
    "df['implied_vol'].std()"
   ]
  },
  {
   "cell_type": "markdown",
   "metadata": {},
   "source": [
    "## From the above values we can see a greater degree of deviation in implied volatilities is being explained by the Strike price and some degree by strike squared, but the total deviation can be explained by both the variables."
   ]
  },
  {
   "cell_type": "markdown",
   "metadata": {},
   "source": [
    "## Q6)"
   ]
  },
  {
   "cell_type": "code",
   "execution_count": 93,
   "metadata": {},
   "outputs": [],
   "source": [
    "def d(sigma, S, K,r,t):\n",
    "    d1 =1/(sigma * sqrt(t))*(log(S/K) + (r + sigma**2/2)* t)\n",
    "    d2 = d1- sigma*sqrt(t)\n",
    "    nd2 = norm.cdf(d2) \n",
    "    return nd2"
   ]
  },
  {
   "cell_type": "code",
   "execution_count": 94,
   "metadata": {},
   "outputs": [
    {
     "data": {
      "text/plain": [
       "0.41616740360069543"
      ]
     },
     "execution_count": 94,
     "metadata": {},
     "output_type": "execute_result"
    }
   ],
   "source": [
    "d(0.314314,58.98,60,0,1)"
   ]
  },
  {
   "cell_type": "markdown",
   "metadata": {},
   "source": [
    "## From the above cell we get N(d2) as 0.42, If we look at the price differences of 59.5 call and 60.5 call, the value of the risk neutral probability will be 0.51 which is close to 0.42. The logic behind the statement is as follows:\n",
    "## Suppose we write the 59.5 Call and buy the 60.5 Call and assume that if 60 Call is exercised both 59.5 and 60.5 are exercised as well and if not exercised, then both the other calls are not exercised. If we assume the risk neutral probability of exerise as 0.51, The expected value of the portfolio will be: (0.51)(S1-60.5-(S1-59.5)+0.51) + (0.49)(0.51) = 0. where S1-60.5 is the amount we get from 60.5 call if exercised and, S1-59.5 is amount we are obligated to pay if exercised and 0.51 is the price difference we earned while creating this portfolio. If both are not exercised then we will be left with 0.51 with a probability of (1-0.51) which is 0.49.  So assuming the price difference as risk neutral probability, supports the arbitrage free pricing of calls, so it makes sense to assume the price difference as risk neutral probability."
   ]
  },
  {
   "cell_type": "markdown",
   "metadata": {},
   "source": [
    "## Q7)"
   ]
  },
  {
   "cell_type": "markdown",
   "metadata": {},
   "source": [
    "## If implied Volatility is constant, Call prices will be as follows"
   ]
  },
  {
   "cell_type": "code",
   "execution_count": 95,
   "metadata": {},
   "outputs": [
    {
     "data": {
      "text/plain": [
       "0.4167372409447694"
      ]
     },
     "execution_count": 95,
     "metadata": {},
     "output_type": "execute_result"
    }
   ],
   "source": [
    "call(0.31,58.98,59.5,0,1) - call(0.31,58.98,60.5,0,1)"
   ]
  },
  {
   "cell_type": "code",
   "execution_count": 96,
   "metadata": {},
   "outputs": [
    {
     "data": {
      "text/plain": [
       "0.41616740360069543"
      ]
     },
     "execution_count": 96,
     "metadata": {},
     "output_type": "execute_result"
    }
   ],
   "source": [
    "d(0.314314,58.98,60,0,1)"
   ]
  },
  {
   "cell_type": "markdown",
   "metadata": {},
   "source": [
    "## We can see that if the implied volatility is constant at 0.31, then the difference in call prices is closer to N(d2) of 60 call."
   ]
  },
  {
   "cell_type": "markdown",
   "metadata": {},
   "source": [
    "## Q8)    "
   ]
  },
  {
   "cell_type": "code",
   "execution_count": 97,
   "metadata": {},
   "outputs": [
    {
     "data": {
      "text/html": [
       "<div>\n",
       "<style scoped>\n",
       "    .dataframe tbody tr th:only-of-type {\n",
       "        vertical-align: middle;\n",
       "    }\n",
       "\n",
       "    .dataframe tbody tr th {\n",
       "        vertical-align: top;\n",
       "    }\n",
       "\n",
       "    .dataframe thead th {\n",
       "        text-align: right;\n",
       "    }\n",
       "</style>\n",
       "<table border=\"1\" class=\"dataframe\">\n",
       "  <thead>\n",
       "    <tr style=\"text-align: right;\">\n",
       "      <th></th>\n",
       "      <th>Strike</th>\n",
       "      <th>Call</th>\n",
       "      <th>Put</th>\n",
       "      <th>futures_price</th>\n",
       "      <th>implied_vol</th>\n",
       "      <th>strike_sq</th>\n",
       "    </tr>\n",
       "  </thead>\n",
       "  <tbody>\n",
       "    <tr>\n",
       "      <th>0</th>\n",
       "      <td>20.0</td>\n",
       "      <td>38.99</td>\n",
       "      <td>0.01</td>\n",
       "      <td>58.98</td>\n",
       "      <td>0.386474</td>\n",
       "      <td>400.00</td>\n",
       "    </tr>\n",
       "    <tr>\n",
       "      <th>1</th>\n",
       "      <td>22.5</td>\n",
       "      <td>36.52</td>\n",
       "      <td>0.04</td>\n",
       "      <td>58.98</td>\n",
       "      <td>0.402605</td>\n",
       "      <td>506.25</td>\n",
       "    </tr>\n",
       "    <tr>\n",
       "      <th>2</th>\n",
       "      <td>25.0</td>\n",
       "      <td>34.06</td>\n",
       "      <td>0.08</td>\n",
       "      <td>58.98</td>\n",
       "      <td>0.395856</td>\n",
       "      <td>625.00</td>\n",
       "    </tr>\n",
       "    <tr>\n",
       "      <th>3</th>\n",
       "      <td>27.5</td>\n",
       "      <td>31.64</td>\n",
       "      <td>0.16</td>\n",
       "      <td>58.98</td>\n",
       "      <td>0.395223</td>\n",
       "      <td>756.25</td>\n",
       "    </tr>\n",
       "    <tr>\n",
       "      <th>4</th>\n",
       "      <td>30.0</td>\n",
       "      <td>29.28</td>\n",
       "      <td>0.30</td>\n",
       "      <td>58.98</td>\n",
       "      <td>0.397289</td>\n",
       "      <td>900.00</td>\n",
       "    </tr>\n",
       "    <tr>\n",
       "      <th>...</th>\n",
       "      <td>...</td>\n",
       "      <td>...</td>\n",
       "      <td>...</td>\n",
       "      <td>...</td>\n",
       "      <td>...</td>\n",
       "      <td>...</td>\n",
       "    </tr>\n",
       "    <tr>\n",
       "      <th>66</th>\n",
       "      <td>82.5</td>\n",
       "      <td>1.16</td>\n",
       "      <td>24.68</td>\n",
       "      <td>58.98</td>\n",
       "      <td>0.285016</td>\n",
       "      <td>6806.25</td>\n",
       "    </tr>\n",
       "    <tr>\n",
       "      <th>67</th>\n",
       "      <td>85.0</td>\n",
       "      <td>1.00</td>\n",
       "      <td>27.02</td>\n",
       "      <td>58.98</td>\n",
       "      <td>0.289244</td>\n",
       "      <td>7225.00</td>\n",
       "    </tr>\n",
       "    <tr>\n",
       "      <th>68</th>\n",
       "      <td>87.5</td>\n",
       "      <td>0.89</td>\n",
       "      <td>29.41</td>\n",
       "      <td>58.98</td>\n",
       "      <td>0.295475</td>\n",
       "      <td>7656.25</td>\n",
       "    </tr>\n",
       "    <tr>\n",
       "      <th>69</th>\n",
       "      <td>90.0</td>\n",
       "      <td>0.79</td>\n",
       "      <td>31.81</td>\n",
       "      <td>58.98</td>\n",
       "      <td>0.300938</td>\n",
       "      <td>8100.00</td>\n",
       "    </tr>\n",
       "    <tr>\n",
       "      <th>70</th>\n",
       "      <td>92.5</td>\n",
       "      <td>0.66</td>\n",
       "      <td>34.18</td>\n",
       "      <td>58.98</td>\n",
       "      <td>0.301672</td>\n",
       "      <td>8556.25</td>\n",
       "    </tr>\n",
       "  </tbody>\n",
       "</table>\n",
       "<p>71 rows × 6 columns</p>\n",
       "</div>"
      ],
      "text/plain": [
       "    Strike   Call    Put  futures_price  implied_vol  strike_sq\n",
       "0     20.0  38.99   0.01          58.98     0.386474     400.00\n",
       "1     22.5  36.52   0.04          58.98     0.402605     506.25\n",
       "2     25.0  34.06   0.08          58.98     0.395856     625.00\n",
       "3     27.5  31.64   0.16          58.98     0.395223     756.25\n",
       "4     30.0  29.28   0.30          58.98     0.397289     900.00\n",
       "..     ...    ...    ...            ...          ...        ...\n",
       "66    82.5   1.16  24.68          58.98     0.285016    6806.25\n",
       "67    85.0   1.00  27.02          58.98     0.289244    7225.00\n",
       "68    87.5   0.89  29.41          58.98     0.295475    7656.25\n",
       "69    90.0   0.79  31.81          58.98     0.300938    8100.00\n",
       "70    92.5   0.66  34.18          58.98     0.301672    8556.25\n",
       "\n",
       "[71 rows x 6 columns]"
      ]
     },
     "execution_count": 97,
     "metadata": {},
     "output_type": "execute_result"
    }
   ],
   "source": [
    "df"
   ]
  },
  {
   "cell_type": "code",
   "execution_count": 98,
   "metadata": {},
   "outputs": [],
   "source": [
    "nd2 = []\n",
    "for index, row in df.iterrows():\n",
    "    sigma = row['implied_vol']\n",
    "    S = 58.98\n",
    "    K = row['Strike']\n",
    "    r = 0\n",
    "    t =1\n",
    "    p = d(sigma,S,K,r,t)\n",
    "    nd2.append(p)"
   ]
  },
  {
   "cell_type": "code",
   "execution_count": 99,
   "metadata": {},
   "outputs": [],
   "source": [
    "rnp =[]\n",
    "for index, row in df.loc[1:69].iterrows():\n",
    "    a = df['Call'][index - 1]\n",
    "    b = df['Call'][index+1]\n",
    "    c = a - b\n",
    "    rnp.append(c)"
   ]
  },
  {
   "cell_type": "code",
   "execution_count": 100,
   "metadata": {},
   "outputs": [
    {
     "data": {
      "text/plain": [
       "69"
      ]
     },
     "execution_count": 100,
     "metadata": {},
     "output_type": "execute_result"
    }
   ],
   "source": [
    "len(rnp)"
   ]
  },
  {
   "cell_type": "code",
   "execution_count": 101,
   "metadata": {},
   "outputs": [],
   "source": [
    "df1 = df.drop(index=[0,70])"
   ]
  },
  {
   "cell_type": "code",
   "execution_count": 102,
   "metadata": {},
   "outputs": [],
   "source": [
    "df1['risk_neutral_prob'] = rnp"
   ]
  },
  {
   "cell_type": "code",
   "execution_count": 103,
   "metadata": {},
   "outputs": [],
   "source": [
    "nd2 = nd2[1:70]"
   ]
  },
  {
   "cell_type": "code",
   "execution_count": 104,
   "metadata": {},
   "outputs": [],
   "source": [
    "df1['Nd2'] = nd2"
   ]
  },
  {
   "cell_type": "code",
   "execution_count": 105,
   "metadata": {},
   "outputs": [
    {
     "data": {
      "text/plain": [
       "<Figure size 1440x1440 with 0 Axes>"
      ]
     },
     "metadata": {},
     "output_type": "display_data"
    },
    {
     "data": {
      "image/png": "[encoded data removed]",
      "text/plain": [
       "<Figure size 432x288 with 1 Axes>"
      ]
     },
     "metadata": {},
     "output_type": "display_data"
    }
   ],
   "source": [
    "plt.figure(figsize=(20,20))\n",
    "df1.plot(x = 'Strike', y = ['risk_neutral_prob','Nd2'])\n",
    "plt.style.use('fivethirtyeight')"
   ]
  },
  {
   "cell_type": "markdown",
   "metadata": {},
   "source": [
    "## From the plot we can see that the approximation of Nd2 to difference in prices makes sense when the strike price is around the future price of the underlying."
   ]
  },
  {
   "cell_type": "markdown",
   "metadata": {},
   "source": [
    "## Q9)"
   ]
  },
  {
   "cell_type": "code",
   "execution_count": 106,
   "metadata": {},
   "outputs": [],
   "source": [
    "import math"
   ]
  },
  {
   "cell_type": "code",
   "execution_count": 107,
   "metadata": {},
   "outputs": [],
   "source": [
    "def nCr(n, r):\n",
    " \n",
    "    return (math.factorial(n) / (math.factorial(r) * math.factorial(n - r)))"
   ]
  },
  {
   "cell_type": "code",
   "execution_count": 108,
   "metadata": {},
   "outputs": [],
   "source": [
    "def Binom_call(S,K,T,n):\n",
    "    u = 1.1\n",
    "    d = 0.9\n",
    "    p = 0.5\n",
    "    Binom_call = 0\n",
    "    for i in range(0,n+1):\n",
    "            Binom_call = Binom_call + nCr(n, i)*(p**i)*((1 - p)**(n - i)) * max(0, (S*(u**i)*(d**(n - i)))- K)\n",
    "\n",
    "\n",
    "    return Binom_call\n",
    "    "
   ]
  },
  {
   "cell_type": "code",
   "execution_count": 109,
   "metadata": {},
   "outputs": [],
   "source": [
    "binom_4_step_call = []\n",
    "for index, row in df.iterrows():\n",
    "    S = 58.98\n",
    "    K = row['Strike']\n",
    "    T =1\n",
    "    n = 4\n",
    "    call = Binom_call(S,K,T,n)\n",
    "    binom_4_step_call.append(call)"
   ]
  },
  {
   "cell_type": "code",
   "execution_count": 110,
   "metadata": {},
   "outputs": [],
   "source": [
    "df['Binom_4_step_call'] = binom_4_step_call"
   ]
  },
  {
   "cell_type": "code",
   "execution_count": 111,
   "metadata": {},
   "outputs": [
    {
     "data": {
      "text/html": [
       "<div>\n",
       "<style scoped>\n",
       "    .dataframe tbody tr th:only-of-type {\n",
       "        vertical-align: middle;\n",
       "    }\n",
       "\n",
       "    .dataframe tbody tr th {\n",
       "        vertical-align: top;\n",
       "    }\n",
       "\n",
       "    .dataframe thead th {\n",
       "        text-align: right;\n",
       "    }\n",
       "</style>\n",
       "<table border=\"1\" class=\"dataframe\">\n",
       "  <thead>\n",
       "    <tr style=\"text-align: right;\">\n",
       "      <th></th>\n",
       "      <th>Strike</th>\n",
       "      <th>Call</th>\n",
       "      <th>Put</th>\n",
       "      <th>futures_price</th>\n",
       "      <th>implied_vol</th>\n",
       "      <th>strike_sq</th>\n",
       "      <th>Binom_4_step_call</th>\n",
       "    </tr>\n",
       "  </thead>\n",
       "  <tbody>\n",
       "    <tr>\n",
       "      <th>0</th>\n",
       "      <td>20.0</td>\n",
       "      <td>38.99</td>\n",
       "      <td>0.01</td>\n",
       "      <td>58.98</td>\n",
       "      <td>0.386474</td>\n",
       "      <td>400.00</td>\n",
       "      <td>38.980000</td>\n",
       "    </tr>\n",
       "    <tr>\n",
       "      <th>1</th>\n",
       "      <td>22.5</td>\n",
       "      <td>36.52</td>\n",
       "      <td>0.04</td>\n",
       "      <td>58.98</td>\n",
       "      <td>0.402605</td>\n",
       "      <td>506.25</td>\n",
       "      <td>36.480000</td>\n",
       "    </tr>\n",
       "    <tr>\n",
       "      <th>2</th>\n",
       "      <td>25.0</td>\n",
       "      <td>34.06</td>\n",
       "      <td>0.08</td>\n",
       "      <td>58.98</td>\n",
       "      <td>0.395856</td>\n",
       "      <td>625.00</td>\n",
       "      <td>33.980000</td>\n",
       "    </tr>\n",
       "    <tr>\n",
       "      <th>3</th>\n",
       "      <td>27.5</td>\n",
       "      <td>31.64</td>\n",
       "      <td>0.16</td>\n",
       "      <td>58.98</td>\n",
       "      <td>0.395223</td>\n",
       "      <td>756.25</td>\n",
       "      <td>31.480000</td>\n",
       "    </tr>\n",
       "    <tr>\n",
       "      <th>4</th>\n",
       "      <td>30.0</td>\n",
       "      <td>29.28</td>\n",
       "      <td>0.30</td>\n",
       "      <td>58.98</td>\n",
       "      <td>0.397289</td>\n",
       "      <td>900.00</td>\n",
       "      <td>28.980000</td>\n",
       "    </tr>\n",
       "    <tr>\n",
       "      <th>...</th>\n",
       "      <td>...</td>\n",
       "      <td>...</td>\n",
       "      <td>...</td>\n",
       "      <td>...</td>\n",
       "      <td>...</td>\n",
       "      <td>...</td>\n",
       "      <td>...</td>\n",
       "    </tr>\n",
       "    <tr>\n",
       "      <th>66</th>\n",
       "      <td>82.5</td>\n",
       "      <td>1.16</td>\n",
       "      <td>24.68</td>\n",
       "      <td>58.98</td>\n",
       "      <td>0.285016</td>\n",
       "      <td>6806.25</td>\n",
       "      <td>0.240789</td>\n",
       "    </tr>\n",
       "    <tr>\n",
       "      <th>67</th>\n",
       "      <td>85.0</td>\n",
       "      <td>1.00</td>\n",
       "      <td>27.02</td>\n",
       "      <td>58.98</td>\n",
       "      <td>0.289244</td>\n",
       "      <td>7225.00</td>\n",
       "      <td>0.084539</td>\n",
       "    </tr>\n",
       "    <tr>\n",
       "      <th>68</th>\n",
       "      <td>87.5</td>\n",
       "      <td>0.89</td>\n",
       "      <td>29.41</td>\n",
       "      <td>58.98</td>\n",
       "      <td>0.295475</td>\n",
       "      <td>7656.25</td>\n",
       "      <td>0.000000</td>\n",
       "    </tr>\n",
       "    <tr>\n",
       "      <th>69</th>\n",
       "      <td>90.0</td>\n",
       "      <td>0.79</td>\n",
       "      <td>31.81</td>\n",
       "      <td>58.98</td>\n",
       "      <td>0.300938</td>\n",
       "      <td>8100.00</td>\n",
       "      <td>0.000000</td>\n",
       "    </tr>\n",
       "    <tr>\n",
       "      <th>70</th>\n",
       "      <td>92.5</td>\n",
       "      <td>0.66</td>\n",
       "      <td>34.18</td>\n",
       "      <td>58.98</td>\n",
       "      <td>0.301672</td>\n",
       "      <td>8556.25</td>\n",
       "      <td>0.000000</td>\n",
       "    </tr>\n",
       "  </tbody>\n",
       "</table>\n",
       "<p>71 rows × 7 columns</p>\n",
       "</div>"
      ],
      "text/plain": [
       "    Strike   Call    Put  futures_price  implied_vol  strike_sq  \\\n",
       "0     20.0  38.99   0.01          58.98     0.386474     400.00   \n",
       "1     22.5  36.52   0.04          58.98     0.402605     506.25   \n",
       "2     25.0  34.06   0.08          58.98     0.395856     625.00   \n",
       "3     27.5  31.64   0.16          58.98     0.395223     756.25   \n",
       "4     30.0  29.28   0.30          58.98     0.397289     900.00   \n",
       "..     ...    ...    ...            ...          ...        ...   \n",
       "66    82.5   1.16  24.68          58.98     0.285016    6806.25   \n",
       "67    85.0   1.00  27.02          58.98     0.289244    7225.00   \n",
       "68    87.5   0.89  29.41          58.98     0.295475    7656.25   \n",
       "69    90.0   0.79  31.81          58.98     0.300938    8100.00   \n",
       "70    92.5   0.66  34.18          58.98     0.301672    8556.25   \n",
       "\n",
       "    Binom_4_step_call  \n",
       "0           38.980000  \n",
       "1           36.480000  \n",
       "2           33.980000  \n",
       "3           31.480000  \n",
       "4           28.980000  \n",
       "..                ...  \n",
       "66           0.240789  \n",
       "67           0.084539  \n",
       "68           0.000000  \n",
       "69           0.000000  \n",
       "70           0.000000  \n",
       "\n",
       "[71 rows x 7 columns]"
      ]
     },
     "execution_count": 111,
     "metadata": {},
     "output_type": "execute_result"
    }
   ],
   "source": [
    "df"
   ]
  },
  {
   "cell_type": "code",
   "execution_count": 112,
   "metadata": {},
   "outputs": [],
   "source": [
    "def Binom_put(S,K,T,n):\n",
    "    u = 1.1\n",
    "    d = 0.9\n",
    "    p = 0.5\n",
    "    Binom_put = 0\n",
    "    for i in range(0,n+1):\n",
    "            Binom_put = Binom_put + nCr(n, i)*(p**i)*((1 - p)**(n - i)) * max(0, K - (S*(u**i)*(d**(n - i))))\n",
    "\n",
    "\n",
    "    return Binom_put"
   ]
  },
  {
   "cell_type": "code",
   "execution_count": 113,
   "metadata": {},
   "outputs": [],
   "source": [
    "binom_4_step_put = []\n",
    "for index, row in df.iterrows():\n",
    "    S = 58.98\n",
    "    K = row['Strike']\n",
    "    T =1\n",
    "    n = 4\n",
    "    put = Binom_put(S,K,T,n)\n",
    "    binom_4_step_put.append(put)"
   ]
  },
  {
   "cell_type": "code",
   "execution_count": 114,
   "metadata": {},
   "outputs": [],
   "source": [
    "df['Binom_4_step_put'] = binom_4_step_put"
   ]
  },
  {
   "cell_type": "code",
   "execution_count": 118,
   "metadata": {},
   "outputs": [
    {
     "data": {
      "text/html": [
       "<div>\n",
       "<style scoped>\n",
       "    .dataframe tbody tr th:only-of-type {\n",
       "        vertical-align: middle;\n",
       "    }\n",
       "\n",
       "    .dataframe tbody tr th {\n",
       "        vertical-align: top;\n",
       "    }\n",
       "\n",
       "    .dataframe thead th {\n",
       "        text-align: right;\n",
       "    }\n",
       "</style>\n",
       "<table border=\"1\" class=\"dataframe\">\n",
       "  <thead>\n",
       "    <tr style=\"text-align: right;\">\n",
       "      <th></th>\n",
       "      <th>Strike</th>\n",
       "      <th>Call</th>\n",
       "      <th>Put</th>\n",
       "      <th>futures_price</th>\n",
       "      <th>implied_vol</th>\n",
       "      <th>strike_sq</th>\n",
       "      <th>Binom_4_step_call</th>\n",
       "      <th>Binom_4_step_put</th>\n",
       "    </tr>\n",
       "  </thead>\n",
       "  <tbody>\n",
       "    <tr>\n",
       "      <th>0</th>\n",
       "      <td>20.0</td>\n",
       "      <td>38.99</td>\n",
       "      <td>0.01</td>\n",
       "      <td>58.98</td>\n",
       "      <td>0.386474</td>\n",
       "      <td>400.00</td>\n",
       "      <td>38.980000</td>\n",
       "      <td>0.000000</td>\n",
       "    </tr>\n",
       "    <tr>\n",
       "      <th>1</th>\n",
       "      <td>22.5</td>\n",
       "      <td>36.52</td>\n",
       "      <td>0.04</td>\n",
       "      <td>58.98</td>\n",
       "      <td>0.402605</td>\n",
       "      <td>506.25</td>\n",
       "      <td>36.480000</td>\n",
       "      <td>0.000000</td>\n",
       "    </tr>\n",
       "    <tr>\n",
       "      <th>2</th>\n",
       "      <td>25.0</td>\n",
       "      <td>34.06</td>\n",
       "      <td>0.08</td>\n",
       "      <td>58.98</td>\n",
       "      <td>0.395856</td>\n",
       "      <td>625.00</td>\n",
       "      <td>33.980000</td>\n",
       "      <td>0.000000</td>\n",
       "    </tr>\n",
       "    <tr>\n",
       "      <th>3</th>\n",
       "      <td>27.5</td>\n",
       "      <td>31.64</td>\n",
       "      <td>0.16</td>\n",
       "      <td>58.98</td>\n",
       "      <td>0.395223</td>\n",
       "      <td>756.25</td>\n",
       "      <td>31.480000</td>\n",
       "      <td>0.000000</td>\n",
       "    </tr>\n",
       "    <tr>\n",
       "      <th>4</th>\n",
       "      <td>30.0</td>\n",
       "      <td>29.28</td>\n",
       "      <td>0.30</td>\n",
       "      <td>58.98</td>\n",
       "      <td>0.397289</td>\n",
       "      <td>900.00</td>\n",
       "      <td>28.980000</td>\n",
       "      <td>0.000000</td>\n",
       "    </tr>\n",
       "    <tr>\n",
       "      <th>...</th>\n",
       "      <td>...</td>\n",
       "      <td>...</td>\n",
       "      <td>...</td>\n",
       "      <td>...</td>\n",
       "      <td>...</td>\n",
       "      <td>...</td>\n",
       "      <td>...</td>\n",
       "      <td>...</td>\n",
       "    </tr>\n",
       "    <tr>\n",
       "      <th>66</th>\n",
       "      <td>82.5</td>\n",
       "      <td>1.16</td>\n",
       "      <td>24.68</td>\n",
       "      <td>58.98</td>\n",
       "      <td>0.285016</td>\n",
       "      <td>6806.25</td>\n",
       "      <td>0.240789</td>\n",
       "      <td>23.760789</td>\n",
       "    </tr>\n",
       "    <tr>\n",
       "      <th>67</th>\n",
       "      <td>85.0</td>\n",
       "      <td>1.00</td>\n",
       "      <td>27.02</td>\n",
       "      <td>58.98</td>\n",
       "      <td>0.289244</td>\n",
       "      <td>7225.00</td>\n",
       "      <td>0.084539</td>\n",
       "      <td>26.104539</td>\n",
       "    </tr>\n",
       "    <tr>\n",
       "      <th>68</th>\n",
       "      <td>87.5</td>\n",
       "      <td>0.89</td>\n",
       "      <td>29.41</td>\n",
       "      <td>58.98</td>\n",
       "      <td>0.295475</td>\n",
       "      <td>7656.25</td>\n",
       "      <td>0.000000</td>\n",
       "      <td>28.520000</td>\n",
       "    </tr>\n",
       "    <tr>\n",
       "      <th>69</th>\n",
       "      <td>90.0</td>\n",
       "      <td>0.79</td>\n",
       "      <td>31.81</td>\n",
       "      <td>58.98</td>\n",
       "      <td>0.300938</td>\n",
       "      <td>8100.00</td>\n",
       "      <td>0.000000</td>\n",
       "      <td>31.020000</td>\n",
       "    </tr>\n",
       "    <tr>\n",
       "      <th>70</th>\n",
       "      <td>92.5</td>\n",
       "      <td>0.66</td>\n",
       "      <td>34.18</td>\n",
       "      <td>58.98</td>\n",
       "      <td>0.301672</td>\n",
       "      <td>8556.25</td>\n",
       "      <td>0.000000</td>\n",
       "      <td>33.520000</td>\n",
       "    </tr>\n",
       "  </tbody>\n",
       "</table>\n",
       "<p>71 rows × 8 columns</p>\n",
       "</div>"
      ],
      "text/plain": [
       "    Strike   Call    Put  futures_price  implied_vol  strike_sq  \\\n",
       "0     20.0  38.99   0.01          58.98     0.386474     400.00   \n",
       "1     22.5  36.52   0.04          58.98     0.402605     506.25   \n",
       "2     25.0  34.06   0.08          58.98     0.395856     625.00   \n",
       "3     27.5  31.64   0.16          58.98     0.395223     756.25   \n",
       "4     30.0  29.28   0.30          58.98     0.397289     900.00   \n",
       "..     ...    ...    ...            ...          ...        ...   \n",
       "66    82.5   1.16  24.68          58.98     0.285016    6806.25   \n",
       "67    85.0   1.00  27.02          58.98     0.289244    7225.00   \n",
       "68    87.5   0.89  29.41          58.98     0.295475    7656.25   \n",
       "69    90.0   0.79  31.81          58.98     0.300938    8100.00   \n",
       "70    92.5   0.66  34.18          58.98     0.301672    8556.25   \n",
       "\n",
       "    Binom_4_step_call  Binom_4_step_put  \n",
       "0           38.980000          0.000000  \n",
       "1           36.480000          0.000000  \n",
       "2           33.980000          0.000000  \n",
       "3           31.480000          0.000000  \n",
       "4           28.980000          0.000000  \n",
       "..                ...               ...  \n",
       "66           0.240789         23.760789  \n",
       "67           0.084539         26.104539  \n",
       "68           0.000000         28.520000  \n",
       "69           0.000000         31.020000  \n",
       "70           0.000000         33.520000  \n",
       "\n",
       "[71 rows x 8 columns]"
      ]
     },
     "execution_count": 118,
     "metadata": {},
     "output_type": "execute_result"
    }
   ],
   "source": [
    "df[0:71]"
   ]
  },
  {
   "cell_type": "markdown",
   "metadata": {},
   "source": [
    "## Using 4 step binomial pricing model with up of 10%, down of 10% and p =0.5, we get close to approx values for prices."
   ]
  },
  {
   "cell_type": "code",
   "execution_count": null,
   "metadata": {},
   "outputs": [],
   "source": []
  },
  {
   "cell_type": "code",
   "execution_count": null,
   "metadata": {},
   "outputs": [],
   "source": []
  }
 ],
 "metadata": {
  "kernelspec": {
   "display_name": "Python 3",
   "language": "python",
   "name": "python3"
  },
  "language_info": {
   "codemirror_mode": {
    "name": "ipython",
    "version": 3
   },
   "file_extension": ".py",
   "mimetype": "text/x-python",
   "name": "python",
   "nbconvert_exporter": "python",
   "pygments_lexer": "ipython3",
   "version": "3.7.3"
  }
 },
 "nbformat": 4,
 "nbformat_minor": 2
}
