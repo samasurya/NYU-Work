{
 "cells": [
  {
   "cell_type": "code",
   "execution_count": 21,
   "metadata": {
    "collapsed": true
   },
   "outputs": [],
   "source": [
    "import pytesseract\n",
    "from pytesseract import image_to_string\n",
    "from PIL import Image\n",
    "from selenium import webdriver\n",
    "import urllib\n",
    "import time\n",
    "from bs4 import BeautifulSoup\n",
    "import requests\n",
    "import urllib.request\n",
    "import pandas as pd\n",
    "from selenium.webdriver.common.keys import Keys"
   ]
  },
  {
   "cell_type": "code",
   "execution_count": 15,
   "metadata": {},
   "outputs": [
    {
     "name": "stdout",
     "output_type": "stream",
     "text": [
      "Requirement already satisfied: pytesseract in c:\\users\\administrator\\appdata\\roaming\\python\\python37\\site-packages (0.3.2)\n",
      "Requirement already satisfied: Pillow in c:\\users\\administrator\\anaconda3\\lib\\site-packages (from pytesseract) (6.2.0)\n"
     ]
    }
   ],
   "source": [
    "! pip install --user pytesseract"
   ]
  },
  {
   "cell_type": "code",
   "execution_count": 17,
   "metadata": {},
   "outputs": [
    {
     "name": "stdout",
     "output_type": "stream",
     "text": [
      "Requirement already satisfied: xlrd in c:\\users\\administrator\\appdata\\roaming\\python\\python37\\site-packages (0.7.1)\n"
     ]
    }
   ],
   "source": [
    "! pip install --user xlrd"
   ]
  },
  {
   "cell_type": "code",
   "execution_count": 4,
   "metadata": {},
   "outputs": [
    {
     "name": "stdout",
     "output_type": "stream",
     "text": [
      "Collecting selenium\n",
      "  Downloading https://files.pythonhosted.org/packages/80/d6/4294f0b4bce4de0abf13e17190289f9d0613b0a44e5dd6a7f5ca98459853/selenium-3.141.0-py2.py3-none-any.whl (904kB)\n",
      "Requirement already satisfied: urllib3 in c:\\users\\administrator\\anaconda3\\lib\\site-packages (from selenium) (1.24.2)\n",
      "Installing collected packages: selenium\n",
      "Successfully installed selenium-3.141.0\n"
     ]
    }
   ],
   "source": [
    "! pip install --user selenium"
   ]
  },
  {
   "cell_type": "code",
   "execution_count": 6,
   "metadata": {
    "collapsed": true
   },
   "outputs": [],
   "source": [
    "def get_captcha_text(location, size):\n",
    "    driver.get('http://www.mca.gov.in/mcafoportal/showIndexOfCharges.do')\n",
    "    try:\n",
    "        driver.find_element_by_xpath('/html/body/div[1]/div[6]/div[1]/section/div[2]/a').click()\n",
    "        time.sleep(1)\n",
    "        driver.save_screenshot('screenshot.png')\n",
    "        pytesseract.pytesseract.tesseract_cmd = r\"C:\\Users\\Administrator\\Desktop\\Tesseract-OCR\\tesseract\" # specify the path of tesseract.exe\n",
    "        im = Image.open('screenshot.png')  # uses PIL library to open image in memory\n",
    "\n",
    "        left = location['x']\n",
    "        top = location['y']\n",
    "        right = location['x'] + size['width']\n",
    "        bottom = location['y'] + size['height']\n",
    "\n",
    "        im = im.crop((left, top, right, bottom))  # defines crop points\n",
    "        im.save('screenshot1.png')\n",
    "        captcha_text = image_to_string(Image.open('screenshot1.png'), config=\"-c tessedit_char_whitelist=abcdefghijklmnopqrstuvwxyz\")\n",
    "        captcha_text= captcha_text.lower()\n",
    "        return captcha_text\n",
    "    except:\n",
    "        driver.save_screenshot('screenshot.png')\n",
    "        pytesseract.pytesseract.tesseract_cmd = r\"C:\\Users\\Administrator\\Desktop\\Tesseract-OCR\\tesseract\" #specify the path of tesseract.exe\n",
    "\n",
    "        im = Image.open('screenshot.png')  # uses PIL library to open image in memory\n",
    "\n",
    "        left = location['x']\n",
    "        top = location['y']\n",
    "        right = location['x'] + size['width']\n",
    "        bottom = location['y'] + size['height']\n",
    "\n",
    "        im = im.crop((left, top, right, bottom))  # defines crop points\n",
    "        im.save('screenshot1.png')\n",
    "        captcha_text = image_to_string(Image.open('screenshot1.png'), config=\"-c tessedit_char_whitelist=abcdefghijklmnopqrstuvwxyz\")\n",
    "        captcha_text = captcha_text.lower()\n",
    "        return captcha_text\n",
    "\n",
    "\n",
    "def something(cin):\n",
    "    recap = get_captcha_text(location, size)\n",
    "    driver.find_element_by_xpath(\n",
    "        '/html/body/div[1]/div[6]/div[1]/section/form/table/tbody/tr[2]/td[2]/input').send_keys(cin)\n",
    "    driver.find_element_by_xpath(\n",
    "        '/html/body/div[1]/div[6]/div[1]/section/form/table/tbody/tr[4]/td[2]/input').send_keys(recap)\n",
    "    time.sleep(1)\n",
    "    driver.find_element_by_xpath(\n",
    "        '/html/body/div[1]/div[6]/div[1]/section/form/table/tbody/tr[5]/td[2]/input[1]').click()\n",
    "    time.sleep(2)\n",
    "\n",
    "\n",
    "def submit(cin):\n",
    "    try:\n",
    "        something(cin)\n",
    "        while driver.find_element_by_xpath('//*[@id=\"overlayCnt\"]/ul/li').text == 'Enter valid Letters shown.':\n",
    "            something(cin)\n",
    "    except:\n",
    "        pass"
   ]
  },
  {
   "cell_type": "code",
   "execution_count": 58,
   "metadata": {
    "collapsed": true
   },
   "outputs": [],
   "source": [
    "driver = webdriver.Chrome(r\"C:\\Users\\Administrator\\Desktop\\chromedriver_win32\\chromedriver.exe\") # specify the path of chrome driver.\n",
    "driver.get('http://www.mca.gov.in/mcafoportal/showIndexOfCharges.do')\n"
   ]
  },
  {
   "cell_type": "code",
   "execution_count": 59,
   "metadata": {
    "collapsed": true
   },
   "outputs": [],
   "source": [
    "element = driver.find_element_by_xpath('/html/body/div[1]/div[6]/div[1]/section/form/table/tbody/tr[3]/td[2]/img')\n",
    "location = element.location\n",
    "size = element.size\n",
    "data = pd.read_csv('listed_companies.csv') # the list of CINs and to search. specify the path if ithe code is running in a different directory\n",
    "cins = data['mca_cin'].to_list()\n",
    "company_name = data['mca_name'].to_list()\n",
    "df_columns = ['SNo', 'SRN', 'Charge_Id', 'Charge_Holder_Name', 'Date_of_Creation', 'Date_of_Modification', 'Date_of_Satisfaction', 'Amount', 'Address']\n"
   ]
  },
  {
   "cell_type": "code",
   "execution_count": 61,
   "metadata": {},
   "outputs": [
    {
     "name": "stdout",
     "output_type": "stream",
     "text": [
      "'K' STEAMSHIP AGENCIES PVT. LTD.\n",
      "20 MICRONS LTD.\n",
      "20TH CENTURY ENGG. LTD.\n",
      "GREENSTONE INVESTMENTS PVT. LTD.\n",
      "20TH CENTURY FINANCE CORPN. LTD. [MERGED]\n"
     ]
    }
   ],
   "source": [
    "A_data =  pd.DataFrame()\n",
    "idx_noChrg = []\n",
    "for i in range(len(cins)):\n",
    "    try:\n",
    "        print(company_name[i])\n",
    "        submit(cins[i])\n",
    "        driver.find_element_by_xpath('/html/body/div[1]/div[6]/div[1]/section/form/table/tbody/tr[3]/td[2]/a/img').click()\n",
    "        time.sleep(2)\n",
    "        page = driver.find_element_by_xpath('//*[@id=\"charges_info\"]')\n",
    "        num = int(page.text.strip(' entries')[-2:])\n",
    "        q,r = divmod(num ,10)\n",
    "        \n",
    "        for k in range(q+1):\n",
    "            html = driver.page_source\n",
    "            soup = BeautifulSoup(html)\n",
    "\n",
    "            table = soup.findAll('tr', {'class': ['odd','even','table-header']})\n",
    "            df = pd.DataFrame()\n",
    "            for j in range(len(table)-2):\n",
    "                row = table[j+2].text.strip('\\n').split('\\n')\n",
    "                df[j] = row\n",
    "\n",
    "            df = df.transpose()\n",
    "            df.columns = df_columns\n",
    "            df['cin'] = cins[i]\n",
    "            df['company_name'] = company_name[i]\n",
    "\n",
    "            A_data = A_data.append(df)\n",
    "            A_data.to_csv(\"mca_data.csv\")\n",
    "            driver.find_element_by_xpath('//*[@id=\"charges_next\"]').click()\n",
    "\n",
    "    except:\n",
    "        idx_noChrg.append(company_name[i])\n",
    "        pass"
   ]
  },
  {
   "cell_type": "code",
   "execution_count": null,
   "metadata": {
    "collapsed": true
   },
   "outputs": [],
   "source": [
    "DF = pd.DataFrame(idx_noChrg)\n",
    "DF.to_csv(\"not_available.csv\")"
   ]
  }
 ],
 "metadata": {
  "kernelspec": {
   "display_name": "Python 3",
   "language": "python",
   "name": "python3"
  },
  "language_info": {
   "codemirror_mode": {
    "name": "ipython",
    "version": 3
   },
   "file_extension": ".py",
   "mimetype": "text/x-python",
   "name": "python",
   "nbconvert_exporter": "python",
   "pygments_lexer": "ipython3",
   "version": "3.7.3"
  }
 },
 "nbformat": 4,
 "nbformat_minor": 2
}
